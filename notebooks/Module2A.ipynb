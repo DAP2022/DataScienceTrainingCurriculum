{
 "cells": [
  {
   "cell_type": "markdown",
   "id": "4962f969-7f44-49e5-9b58-2f627f1768e5",
   "metadata": {},
   "source": [
    "#  Summary of Module 1 \n",
    "1. Data types and their associated methods\n",
    "    * Strings, float, integer, lists\n",
    "    * format: variable_name.method()\n",
    "    * special tricks such as variable_name.[tab key] will bring up method options for data type of variable_name   \n",
    "2. Special manipulations with strings, ie. slicing, escape characters\n"
   ]
  },
  {
   "cell_type": "markdown",
   "id": "260f7109-cfe1-4edf-aca3-a5af2af6325b",
   "metadata": {},
   "source": [
    "# Summary of this notebook: \n",
    "1. Lists"
   ]
  },
  {
   "cell_type": "markdown",
   "id": "d766b162-e930-4ee6-8cc4-89f5fdc55ecd",
   "metadata": {},
   "source": [
    "We have already used one common debugging strategy: \n",
    "----------------\n",
    "1. print statements\n",
    "2. googling error terms - exceptions that are raised are valuable ways of identifying the problem\n",
    "3. COMMENTING OUR CODE!\n",
    "   \n",
    "We haven't used yet:\n",
    "1. Assertions\n",
    "2. LLM?\n",
    "3. Others?"
   ]
  },
  {
   "cell_type": "markdown",
   "id": "a86d492a-a0ec-407d-aef3-44138894874e",
   "metadata": {},
   "source": [
    "Lists are a bit like strings...but mutable. \n",
    "--------\n",
    "1. Homogeneous data types\n",
    "2. Access individual values\n",
    "    * Remember: counting starts at 0\n",
    "3. POINTERS.\n",
    "\n",
    "#### [Pointers](https://xkcd.com/138)"
   ]
  },
  {
   "cell_type": "code",
   "execution_count": 7,
   "id": "f35a0ac0-fa5f-4a23-be5f-8b0cc0e13c37",
   "metadata": {},
   "outputs": [
    {
     "name": "stdout",
     "output_type": "stream",
     "text": [
      "9\n",
      "HUA\n",
      "CHI\n",
      "A\n",
      "HUAHUA\n",
      "IAA\n",
      "IC\n"
     ]
    }
   ],
   "source": [
    "# very, very short review on slicing\n",
    "myDog=\"CHIHUAHUA\"\n",
    "#function: len()\n",
    "#method: variable_name.method_name()\n",
    "#() versus []\n",
    "print(len(myDog))\n",
    "# [inclusive lower index: exclusive upper index]\n",
    "print(myDog[-3:])\n",
    "print(myDog[:3])\n",
    "print(myDog[-1])\n",
    "print(myDog[3:])\n",
    "# ----------------------------------------\n",
    "#print(list_name[lowerbound:upperbound:increment]\n",
    "# ----------------------------------------\n",
    "# another format: list_name(lower,upper]\n",
    "print(myDog[2::3])\n",
    "print(myDog[2::-2])"
   ]
  },
  {
   "cell_type": "markdown",
   "id": "15afd098-30e3-4668-be0e-826496308b69",
   "metadata": {},
   "source": [
    "# Lists (and loops)\n",
    "\n",
    "Programming is particularly useful for repetitive processing of data sets that have multiple pieces of information (ie. not just one sequence but multiple sequences - an even unknown number of sequences). \n",
    "\n",
    "** WE COUNT FROM 0 **\n",
    "\n",
    "## Lists\n",
    "\n",
    "* Built-in **data type** which hold a *flexible* number of pieces of related information that are *homogenous* - the same type (such as strings or numbers although you can also have lists of lists which would allow you to combine different data types)\n",
    "* Allow us to store **many** elements in a **single variable**\n",
    "        * Similar to strings in how they are indexed \n",
    "            * Start counting at '0'\n",
    "        * Use square brackets: []\n",
    "* Lists do not have to be of a fixed length!\n",
    "* **mutable**\n",
    "    * Lists are objects which share similarities to strings but, unlike strings, lists are mutable (they can be changed after they are created). This is because lists are actually full of pointers to objects (strings point to the actual character)\n",
    "    * they have methods (and this should make you happy since they are supposed to have methods as they are mutable!)\n",
    "    \n",
    "* You will sometimes need to create a list that is initially empty: empty_list=[]\n",
    "* _Assignment_ to lists:\n",
    "        list_name=[item_1,item_2]\n",
    "\n",
    "## Check in with pythontutor.org\n",
    "How are lists stored in comparison to strings and integers? \n",
    "\n",
    "## Loops (Module 3)\n",
    "* Repetition with variation\n",
    "* Allows us to process **lists** or **other iterable objects**  one element at a time "
   ]
  },
  {
   "cell_type": "markdown",
   "id": "5dbc87c9-1b57-4dbc-9e2e-dc343c7c7c08",
   "metadata": {},
   "source": [
    "## More about lists\n",
    "*Access individual values in a list by:*\n",
    "\n",
    "        1. Using [number] \n",
    "            * list_name[0], list_name[1], etc\n",
    "            \n",
    "        2. Using[-1]\n",
    "             * Last element (if you don’t know how long a list is this is very useful)\n",
    "             \n",
    "        3. .index() method\n",
    "            * See next cell for example\n",
    "            * you need to use () instead of [] <-- if you forget this, you will raise an exception (and then you will almost certainly have to google the exception to figure out what went wrong)\n",
    "            \n",
    "        4. Access a portion of a list\n",
    "            * Specify a range of elements from list using the format: [initial inclusive num: exclusive last num]\n",
    "            * This method doesn't overwrite or modify original list!\n",
    "            * examples: \n",
    "                    1. item_list[0:2] <-- access first and second item. NB: if you want to access last item \n",
    "                       ie. in this example, include item at index 2, you need to write it as:\n",
    "                            * item_list[0:n+1]\n",
    "                    2. item_list[3:] <-- access fourth up to the last item\n",
    "                    3. item_list[:5] <-- access the first five items"
   ]
  },
  {
   "cell_type": "code",
   "execution_count": 8,
   "id": "18b4bbbd-c7c2-42f7-b0a3-209c596cb22a",
   "metadata": {},
   "outputs": [],
   "source": [
    "# you could write your sequence as a list, for instance, but strings make more sense\n",
    "# lists can be made up of any data types, not just letters, so they are more flexible than strings. \n",
    "SeqAsList=['A','T','C','G','A','T','C','G','A','T','C','G','A','T','C']\n",
    "# remember the SeqAsList.tab to see methods for list data type\n",
    "#SeqAsList."
   ]
  },
  {
   "cell_type": "code",
   "execution_count": 12,
   "id": "d3b6d1bb-679b-4560-98db-4d81c28a8d52",
   "metadata": {},
   "outputs": [
    {
     "name": "stdout",
     "output_type": "stream",
     "text": [
      "The first Primate is  ['Gorilla gorilla', 'Homo sapiens']\n",
      "The first Primate is ['Gorilla gorilla', 'Homo sapiens']\n",
      "The second Primate is Homo sapiens\n",
      "The third Primate is Pan troglodytes\n",
      "1\n",
      "['Gorilla gorilla', 'Homo sapiens']\n"
     ]
    }
   ],
   "source": [
    "# DON'T RUN THIS CELL YET!\n",
    "# Here is a basic example that we will build on:\n",
    "# List of great apes\n",
    "apes=[\"Gorilla gorilla\", \"Homo sapiens\",\"Pan troglodytes\"]\n",
    "# WHAT DOES THIS CODE DO?\n",
    "print(\"The first Primate is \"+ apes[0])\n",
    "print(\"The second Primate is \"+apes[1])\n",
    "print(\"The third Primate is \"+apes[2])\n",
    "\n",
    "# how to combine string with variable, two ways:\n",
    "#print(\"The first Primate is \",apes[0:2])\n",
    "#print(\"The first Primate is \"+str(apes[0:2]))\n",
    "\n",
    "#if you don’t know which element Homo sapiens is but you know that it is part of the list\n",
    "# Note: we are parking the results into a new variable\n",
    "primate_index=apes.index(\"Homo sapiens\")\n",
    "# What value does primate_index now hold?\n",
    "print(primate_index)\n",
    "\n",
    "#if you want the first two elements\n",
    "first_couple=apes[0:2]\n",
    "print(first_couple)"
   ]
  },
  {
   "cell_type": "markdown",
   "id": "fe98f449-16a4-40b0-b886-99ab888ad549",
   "metadata": {},
   "source": [
    "Why do you need lists?\n",
    "* No fixed length so you can add items to the end of the list with .append()\n",
    "* you can use len() to get the length of the list\n",
    "* concatenate two lists together with + (just like you can do with strings)\n",
    "\n",
    "Unlike strings (which are immutable), you can modify a list: \n",
    " * Once you have a list, you can easily replace one item for another (see next cell)"
   ]
  },
  {
   "cell_type": "code",
   "execution_count": 13,
   "id": "4209e949-c214-4e39-b9af-028490c1eeb5",
   "metadata": {},
   "outputs": [
    {
     "name": "stdout",
     "output_type": "stream",
     "text": [
      "['item_1', 'item_2', 'new_items']\n"
     ]
    }
   ],
   "source": [
    "# Finish the code: Replace item_3 with item_3b in the following list:\n",
    "list_items=[\"item_1\",\"item_2\", \"item_3\"]\n",
    "\n",
    "# remember methods for lists with tab completion:\n",
    "#list_items.\n",
    "# remove item_3\n",
    "\n",
    "# insert item_3b where item_3 was\n",
    "\n",
    "#now I'm going to swap item_3b with item_3c\n",
    "list_items[2]=\"item_3c\"\n",
    "print(list_items)\n"
   ]
  },
  {
   "cell_type": "markdown",
   "id": "e8fb435c-1f65-4bbd-99b5-f5a03697ffc0",
   "metadata": {},
   "source": [
    "__Some Useful list methods for adding to existing lists:__\n",
    "\n",
    "BEWARE: They each do slightly different things even they are ways of adding to a list\n",
    "\n",
    "1. .append(\"new_item\") <-- adds **one** element object to the end of an existing list (the added element could be a list itself) \n",
    "2. .extend()<-- similar to append **but adding a second list to the end of an existing list will mean that you add each element from the second list one at a time**\n",
    "3. \\+ <-- concatenate, similar to extend\n",
    "4. .join()<-- connects strings in a list but you need to use a connector like \",\". Technically, it takes an 'iterable' (iterables can be interated over like strings or lists) and it needs to put string that was just created from a list into a string like so: \n",
    "** this is a tiny bit tricky because you are using NO separator for joining so you  use an empty string indicated by \"\". Note that this is functionally similar to creating an empty list and then filling it up**\n",
    "list_dummy=['D','O','G']\n",
    "print(\"\".join(list_dummy))\n",
    "5. .insert(number, \"new_item\")\n",
    "Warning: it is prudent to determine the length of an existing list before adding to it with the len(list_name) function"
   ]
  },
  {
   "cell_type": "code",
   "execution_count": 5,
   "id": "c8e08af4-3f4b-4cff-b338-a94837b73613",
   "metadata": {},
   "outputs": [
    {
     "name": "stdout",
     "output_type": "stream",
     "text": [
      "['D', 'O', 'G', 'y']\n",
      "D*O*G*y\n",
      "D O G y\n",
      "D-O-G-y\n",
      "4\n",
      "['D', 'O', 'g', 'G', 'y']\n"
     ]
    }
   ],
   "source": [
    "# .join is a bit tricky because it is utilized with a bizarre syntax so here is an example \n",
    "list_dummy=['D','O','G']\n",
    "list_dummy.append('y')\n",
    "print(list_dummy)\n",
    "print(\"*\".join(list_dummy))\n",
    "print(\" \".join(list_dummy))\n",
    "print(\"-\".join(list_dummy))\n",
    "print(len(list_dummy))\n",
    "list_dummy.insert(2,'g')\n",
    "print(list_dummy)"
   ]
  },
  {
   "cell_type": "code",
   "execution_count": 15,
   "id": "9e4f9f74-c271-4242-96ac-ceeaf8a3036a",
   "metadata": {},
   "outputs": [
    {
     "name": "stdout",
     "output_type": "stream",
     "text": [
      "['M', 'O', 'U', 'S', 'E', '8', '9']\n",
      "***********\n",
      "Extend:  [1, 2, 3, 4, 5]\n",
      "Concatenate:  ['M', 'O', 'U', 'S', 'E', '8', '9', 1, 2, 3, 4, 5]\n",
      "append:  [10, 11, 12, [13, 14, 15]]\n",
      "With append, what is the position where the entire list is added:  3\n",
      "~~~~~~~~\n",
      "So all three items are added as ONE element:  [13, 14, 15]\n"
     ]
    }
   ],
   "source": [
    "#Demonstrated are a few ways of adding items to a list and HOW THEY DIFFER: \n",
    "# ------------------------------\n",
    "#concatenate operator\n",
    "L=[\"M\",\"O\",\"U\",\"S\",\"E\"]\n",
    "L=L+[8,9]\n",
    "print(L)\n",
    "L.append([8,9,10])\n",
    "print(L)\n",
    "print(\"***********\")\n",
    "#now we will set up a new list and use .extend method\n",
    "L2=[1,2,3]\n",
    "# ------------------------\n",
    "# Usually I want you to practice good programming hygiene and assign the results of the \n",
    "# method to a new variable. However, important note: \n",
    "#  .extend and .append return the datatype None so, in case you try it: \n",
    "#it is incorrect to assign the results of these methods to a new variable, like so: \n",
    "\n",
    "#L3=L2.extend([4,5])\n",
    "#print(L3)\n",
    "\n",
    "# in fact, you can un-hash the above two lines and see what gets printed out. I'll wait.\n",
    "# --------------------------\n",
    "\n",
    "L2.extend([4,5])\n",
    "print(\"Extend: \",L2)\n",
    "\n",
    "# concatenate\n",
    "L5= L+L2\n",
    "print(\"Concatenate: \",L5)\n",
    "\n",
    "#finally we will compare these two methods with .append method\n",
    "L4=[10,11,12]\n",
    "L4.append([13,14,15])\n",
    "print(\"append: \",L4)\n",
    "print(\"With append, what is the position where the entire list is added: \", L4.index([13,14,15]))\n",
    "print(\"~~~~~~~~\")\n",
    "print(\"So all three items are added as ONE element: \", L4[3])\n"
   ]
  },
  {
   "cell_type": "code",
   "execution_count": 17,
   "id": "1b8a9161-534a-47f5-9cbc-d4401fd72d00",
   "metadata": {},
   "outputs": [
    {
     "name": "stdout",
     "output_type": "stream",
     "text": [
      "The first Primate is: Homo sapiens\n",
      "The second Primate is: Pan troglodytes\n",
      "The third Primate is: Gorilla gorilla\n",
      "0\n",
      "['Papop ursinus', 'Macaca arctoide']\n",
      "['Homo sapiens', 'Pan troglodytes', 'Hylobates agilis', 'Gorilla gorilla', 'Pan paniscus', 'Papop ursinus', 'Macaca arctoide']\n",
      "7\n"
     ]
    }
   ],
   "source": [
    "# GROUP ACTIVITY - 10 minutes\n",
    "apes = [\"Homo sapiens\", \"Pan troglodytes\", \"Gorilla gorilla\"]\n",
    "# finish the following expressions:\n",
    "#print(\"The first Primate is: \")\n",
    "#print(\"The second Primate is: \")\n",
    "#print(\"The third Primate is: \")\n",
    "\n",
    "# Determine which element is Homo sapiens? That is: you know it is part of the list, but you don't know where and want to know\n",
    "# human_index=\n",
    "# print(human_index)\n",
    "\n",
    "# Add Pan paniscus to the end of the list\n",
    "\n",
    "# Add \"Macaca arctoides\" as the third element\n",
    "\n",
    "# Replace the Macaca arctoides with Hylobates agilis\n",
    "\n",
    "# create a monkeys list with Papop ursinus and Macaca arctoides in it \n",
    "\n",
    "# create a new list called primates that are monkeys and apes\n",
    "\n",
    "# print out how many monkeys, apes, and primates are present in the list\n"
   ]
  },
  {
   "cell_type": "markdown",
   "id": "e423446c-624c-4fb2-b550-0d89d054dc2d",
   "metadata": {},
   "source": [
    "__Some Useful list methods for removing items from existing lists:__\n",
    "Once again, some subtle differences between these methods...\n",
    "\n",
    "1. .remove(\"old_item\") <-- removes **first** matching item *if it finds it* \n",
    "2. .pop(index)<-- removes item at index and returns it to you (so you could assign it to a variable, if you wanted to double check that it should be deleted)\n",
    "3. del(list_name[index]) <-- not a method but it removes item at index but does not return it to you. It supports slicing syntax so you can delete everything above a set index in a list\n",
    "4. .clear() <- removes all items from a list"
   ]
  },
  {
   "cell_type": "code",
   "execution_count": 18,
   "id": "5a165e95-ae19-4c9a-a684-d08f272050f8",
   "metadata": {},
   "outputs": [
    {
     "name": "stdout",
     "output_type": "stream",
     "text": [
      "Here's our list:  [1, 3, 5, 7, 7, 9, 11, 13, 15]\n",
      "Let's investigate the standard ways of removing items from lists: \n",
      "First, .pop\n",
      "-----------\n",
      "Does the .pop method return anything? or is it just None? 15\n",
      "3\n",
      "What does the list look like now?\n",
      "[1, 5, 7, 7, 9, 11, 13]\n",
      "*******************************************\n",
      "Okay. Now, use .remove\n",
      "-----------\n",
      "Does the .remove method return anything? or is it just None? None\n",
      "What does the list look like now?\n",
      "[1, 5, 7, 9, 11, 13]\n",
      "Finally, the del function \n",
      "-----------\n",
      "What does the list look like now?\n",
      "[5, 7, 9, 11, 13]\n",
      "What does the list look like now?\n",
      "[5, 7, 9]\n"
     ]
    }
   ],
   "source": [
    "#demonstrates the seemingly subtle differences between the above two methods and one command:\n",
    "n=[1,3,5,7,7,9,11,13,15]\n",
    "\n",
    "print(\"Here's our list: \", n)\n",
    "# OR convert it to a string so we can concatenate it in a print statement\n",
    "# print(\"Here's our list: \" +str(n))\n",
    "print(\"Let's investigate the standard ways of removing items from lists: \")\n",
    "print(\"First, .pop\")\n",
    "print(\"-----------\")\n",
    "#what will this print? Will there be a return variable when using .pop method? \n",
    "remove_pop = n.pop()\n",
    "print(\"Does the .pop method return anything? or is it just None? \"+ str(remove_pop))\n",
    "# Instead of popping off the last element, you can specify the element\n",
    "remove_pop_1 = n.pop(1)\n",
    "print(remove_pop_1)\n",
    "\n",
    "#Now print n\n",
    "print(\"What does the list look like now?\")\n",
    "print(n)\n",
    "print(\"*******************************************\")\n",
    "print(\"Okay. Now, use .remove\")\n",
    "print(\"-----------\")\n",
    "rem_remove =n.remove(7)\n",
    "print(\"Does the .remove method return anything? or is it just None? \"+str(rem_remove))\n",
    "print(\"What does the list look like now?\")\n",
    "# the remove function should remove ONLY THE FIRST 7 THAT IT ENCOUNTERS SO THERE SHOULD STILL BE ONE PRESENT\n",
    "print(n)\n",
    "print(\"Finally, the del function \")\n",
    "print(\"-----------\")\n",
    "del(n[0])\n",
    "print(\"What does the list look like now?\")\n",
    "#What should be printed?\n",
    "print(n)\n",
    "#Slice \n",
    "del(n[3:])\n",
    "print(\"What does the list look like now?\")\n",
    "#What should be printed?\n",
    "print(n)"
   ]
  },
  {
   "cell_type": "markdown",
   "id": "ed9dcd8d-0c04-4fd2-9aca-3fa53a1f102d",
   "metadata": {},
   "source": [
    "Some other useful list methods:\n",
    "https://docs.python.org/3/tutorial/datastructures.html\n",
    "\n",
    "1. .index(element) <- returns the index of an element\n",
    "2. list_name[-1] <- returns the last element of a list\n",
    "3. .reverse()<- reverses list but changes the variable that they are used on\n",
    "4. .sort(key, reverse = True or False) <- sorts list but changes the variable that they are used on\n",
    "5. .count()<- counts how many are present in a list\n",
    "we will also see other useful complex data later (like lists of dictionaries or lists of tuples) but, for now, we can also have a list of lists:\n",
    "\n",
    "[[1,2,3],[4,5,6],[7,8],9]"
   ]
  },
  {
   "cell_type": "code",
   "execution_count": 31,
   "id": "2a90f01b-116f-4b44-af8d-ec97c099b6f7",
   "metadata": {},
   "outputs": [
    {
     "name": "stdout",
     "output_type": "stream",
     "text": [
      "Our initial list is: ['Kingdom', 'Phylum', 'Class', 'order', 'family', 'genus', 'species']\n",
      "~~~~~~~~\n",
      "Let's see what happens when we reverse this list\n",
      "['species', 'genus', 'family', 'order', 'Class', 'Phylum', 'Kingdom']\n",
      "None\n",
      "['Class', 'Kingdom', 'Phylum', 'family', 'genus', 'order', 'species']\n"
     ]
    },
    {
     "data": {
      "text/plain": [
       "['Class', 'Kingdom', 'Phylum', 'family', 'genus', 'order']"
      ]
     },
     "execution_count": 31,
     "metadata": {},
     "output_type": "execute_result"
    }
   ],
   "source": [
    "# STOP: Answer the following Questions\n",
    "hierarchy=[\"Kingdom\",\"Phylum\",\"Class\",\"order\",\"family\",\"genus\",\"species\"]\n",
    "print(\"Our initial list is: \"+str(hierarchy))\n",
    "print(\"~~~~~~~~\")\n",
    "print(\"Let's see what happens when we reverse this list\")\n",
    "# Reverse the list\n",
    "hierarchy.reverse()\n",
    "print(hierarchy)\n",
    "# Did it permanently change the hierarchy list? \n",
    "# sort the list\n",
    "print(hierarchy.sort())\n",
    "# did it permanently change the hierarchy list?\n",
    "print(hierarchy)\n",
    "# Reverse the list with SLICING\n",
    "hierarchy[-1]"
   ]
  },
  {
   "cell_type": "code",
   "execution_count": null,
   "id": "e69a9af0-106f-40aa-aaa3-8c3afd13f816",
   "metadata": {},
   "outputs": [],
   "source": [
    "# Simple example I stole this from codeacademy and cut it down to demonstrate lists\n",
    "#The list of animals is stored in one list variable, zoo_animals.\n",
    "# This makes it easier to keep track of then if all the animals were separate variables\n",
    "\n",
    "zoo_animals = [\"pangolin\", \"cassowary\", \"sloth\",\"platypus\"]\n",
    "print(id(zoo_animals))\n",
    "# Here is a primative loop. We have not yet learned about condition/criteria so don't worry about 'if' yet. \n",
    "if len(zoo_animals) > 3:\n",
    "    print(\"The first animal at the zoo is the \" + zoo_animals[0])\n",
    "    print(id(zoo_animals[0]))\n",
    "    print(\"The second animal at the zoo is the \" + zoo_animals[1])\n",
    "    print(id(zoo_animals[1]))\n",
    "    print(\"The third animal at the zoo is the \" + zoo_animals[2])\n",
    "    print(id(zoo_animals[2]))\n",
    "    print(\"The fourth animal at the zoo is the \" + zoo_animals[3])\n",
    "    print(id(zoo_animals[3]))\n",
    "print(zoo_animals.index(\"cassowary\"))\n",
    "#zoo_animals.append(\"Manatee\")\n",
    "#print(zoo_animals)\n",
    "#print(id(zoo_animals))\n",
    "#zoo_animals.append([\"Manatee\",\"Narwhal\"])\n",
    "#print(zoo_animals)\n",
    "#print(id(zoo_animals))"
   ]
  },
  {
   "cell_type": "markdown",
   "id": "1836b1c4-b9b9-42f5-9f39-cf23f2f2e980",
   "metadata": {},
   "source": [
    "# In Class Questions!\n",
    "1. (3 minutes) Can you make a \"list of lists\"?\n",
    "\n",
    "2. (5 minutes) a. Add a fifth animal to the zoo above. \n",
    "   b. Replace the sloth with a capybara\n",
    "  \n",
    "3. (10 minutes) *Pseudocode question:* There is degeneracy in the universal genetic code. This means that every amino acid has one or more nucleotide codons. https://en.wikipedia.org/wiki/Codon_degeneracy\n",
    "How can a nucleotide string be fed into a program where the codons are translated using a list?"
   ]
  },
  {
   "cell_type": "code",
   "execution_count": null,
   "id": "5d170770-3037-4392-a6c4-939633bf27d6",
   "metadata": {},
   "outputs": [],
   "source": []
  }
 ],
 "metadata": {
  "kernelspec": {
   "display_name": "Python 3 (ipykernel)",
   "language": "python",
   "name": "python3"
  },
  "language_info": {
   "codemirror_mode": {
    "name": "ipython",
    "version": 3
   },
   "file_extension": ".py",
   "mimetype": "text/x-python",
   "name": "python",
   "nbconvert_exporter": "python",
   "pygments_lexer": "ipython3",
   "version": "3.11.5"
  }
 },
 "nbformat": 4,
 "nbformat_minor": 5
}
