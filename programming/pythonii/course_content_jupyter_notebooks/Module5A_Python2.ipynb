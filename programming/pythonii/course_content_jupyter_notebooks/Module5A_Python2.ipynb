{
  "cells": [
    {
      "cell_type": "code",
      "execution_count": 2,
      "metadata": {
        "id": "xsUJjpNIX5z9",
        "outputId": "bfb1ab4d-a038-4432-fbf4-0a60940be8ff",
        "colab": {
          "base_uri": "https://localhost:8080/"
        }
      },
      "outputs": [
        {
          "output_type": "stream",
          "name": "stdout",
          "text": [
            "3.12.11\n"
          ]
        }
      ],
      "source": [
        "# I wanted to ensure that we are using the same version of python -\n",
        "# or at least are close in versions\n",
        "from platform import python_version\n",
        "print(python_version())\n",
        "# This is because I had some issues with pandas and numpy that\n",
        "# needed me to use the command\n",
        "# conda update all\n",
        "# --------------------\n",
        "# --------------------\n",
        "# You will need to add/download the sqlite3 package!\n",
        "# --------------------\n",
        "# --------------------"
      ]
    },
    {
      "cell_type": "markdown",
      "metadata": {
        "id": "izLUQ-uYX5z-"
      },
      "source": [
        "# Introduction to Databases\n",
        "\n",
        "### Background:\n",
        "\n",
        "So far in our python journey, we have relied on ‘flat files’ – easily portable, text file- such as .csv\n",
        "\n",
        "These files get us pretty far….but sometimes we need tools to handle/store HUGE or complex databases. Often in biology, we have 2-d grids where rows are observations (or experimental units or samples) and columns are measurements\n",
        "\n",
        "Ideally, each column should contain the same kind of information and each row should hold ALL the information related to a particular measurement\n",
        "\n",
        "However, Biology offers some exceptions to this rule!\n",
        " * phylogenetic or any nested data isn’t easily coerced into a simple two dimensional grid --> relational databases are perfect for this situation!\n",
        " * Complex studies\n",
        "    * Tracking several different but related elements of a study\n",
        " * Field sites with many specimens per site. If you want to update/change field site information, you would need to change it in many places\n",
        "\n",
        "* What is a database?\n",
        "    * Holds a collection of tables of related information\n",
        "    * You normally need them when you have complex but structured data that is spread out over many tables\n",
        "        * Columns (also called fields) describe data\n",
        "        * Rows (also called records) are experimental units\n",
        "        \n",
        "* Relational database management system is a server program that manages >=1 database\n",
        "    * Database files are not directly accessed by user –only the management system directly interacts with these files\n",
        "    * Complex ‘tricks’ are used behind the scenes to query and process requests optimally\n",
        "    * Reasonably portable between disparate systems since the files themselves are not accessed by the user so they just need to be able to read by the management program\n",
        "    * Interactions are with structured query language\n",
        "    \n",
        "    * **example:**"
      ]
    },
    {
      "cell_type": "markdown",
      "metadata": {
        "id": "jAX6oaqFX5z_"
      },
      "source": [
        "![Anatomy](https://github.com/DAP2022/DataScienceTrainingCurriculum/raw/main/programming/pythonii/course_content_jupyter_notebooks/images/Anatomy_of_RDMS.png)"
      ]
    },
    {
      "cell_type": "markdown",
      "metadata": {
        "id": "o1kKKDRjX5z_"
      },
      "source": [
        "![Database](https://github.com/DAP2022/DataScienceTrainingCurriculum/raw/main/programming/pythonii/course_content_jupyter_notebooks/images/database.jpg)"
      ]
    },
    {
      "cell_type": "markdown",
      "metadata": {
        "id": "Em81DJgBX5z_"
      },
      "source": [
        "* Why use a database?\n",
        "    * Keeps records together\n",
        "    * Keeps records separate from manipulations – so the original dataset is not modified\n",
        "\n",
        "* Why don't we just use excel?\n",
        "    * https://genomebiology.biomedcentral.com/articles/10.1186/s13059-016-1044-7\n",
        "\n",
        "* okay, but why SQLite?\n",
        "    * There are many available relational database management systems that are free, have wide support and are straight forward to learn (just like R and Python)\n",
        "    * SQL is a language which includes commands, functions, variables and it follows a formal syntax\n",
        "    * Since nearly all systems use a variation of SQL, you just need to learn it once and you should find future databases reasonably easy to use\n",
        "    * You can interact with Python and with R (and Matlab, web servers etc) through interfaces available in modules --> this is particularly desirable since then you don’t have to import/export data sets\n",
        "    * Searching (querying) databases WHILE MAINTAINING STRUCTURAL INTEGRITY OF THE DATA\n",
        "    * IBM developed it in the 70’s and called it “Structured English QUEry Language” (SEQUEL) --> changed to SQL but you still hear both names\n",
        "    * SIX basic operations get you quite far in SQL:\n",
        "        * SELECT - Extracts columns(fields) from table or results from other query\n",
        "        * APPEND - Adds calculated fields to the results\n",
        "        * SORT - Orders results by a specified column\n",
        "        * FILTER - Chooses records to include (True/False)\n",
        "        * AGGREGATE (not a command – just the description) - Combines rows ie. SUM, MAX, MIN, AVERAGE\n",
        "        * JOIN - Merges/joins two or more tables together"
      ]
    },
    {
      "cell_type": "markdown",
      "metadata": {
        "id": "pssGAl_4X5z_"
      },
      "source": [
        "![Six_commands_SQL](https://github.com/DAP2022/DataScienceTrainingCurriculum/raw/main/programming/pythonii/course_content_jupyter_notebooks/images/Six_commands_SQL.png)"
      ]
    },
    {
      "cell_type": "markdown",
      "metadata": {
        "id": "V0TxVC69X5z_"
      },
      "source": [
        "### SQLite\n",
        "\n",
        "   * We focus on SQLite (https://en.wikipedia.org/wiki/SQLite)\n",
        "        * It is free! It is Ubiquitous: used for the address books in Android phones\n",
        "        * Simple software for managing, storing and retrieving information\n",
        "        * Quality control is easier because you need to explicitly set the data type\n",
        "        Easier to download and manage than MySQL but similar enough that if you understand SQLite commands, you will understand MySQL commands\n",
        "        * Used primarily for data analysis (and android phones)\n",
        "        * Raw data can be imported from good-old csv files which can then be sliced up to generate a myriad of summary reports. Python comes with SQLite built in and R can download an adapter (so it is compatible with the two other programs you may have learned about so far...)\n",
        "        * The same thing can be done with an enterprise client/server database (ie. MySQL), of course. The advantage of SQLite is that it is easier to install and use and the resulting database is a single file that can be written to a USB memory stick or emailed to a colleague.  \n",
        "        * some things about SQlite:\n",
        "               * SQL is (surprisingly) a case insensitive language (remember that R and Python are both case sensitive)\n",
        "               * However, for readability sake you should follow the convention of writing commands in all CAPITALS"
      ]
    },
    {
      "cell_type": "markdown",
      "metadata": {
        "id": "LN2MiZrfX5z_"
      },
      "source": [
        "Great resource: https://www.sqlitetutorial.net/\n",
        "---------------------------------------------\n",
        "\n",
        "Some terms you will need to know:\n",
        "---------------------------------------------\n",
        "\n",
        "* primary key: a column (or, occasionally multiple columns) that uniquely identify a record. A table can only have ONE primary key. Example: Social Security numbers uniquely identify you!\n",
        "    \n",
        "* foreign key: a column in one table that references the primary key column of a different table. It acts as a connection between tables. There can be more than one foreign key per table."
      ]
    },
    {
      "cell_type": "markdown",
      "metadata": {
        "id": "Fd0tF9xgX50A"
      },
      "source": [
        "![Primary versus Foreign](https://github.com/DAP2022/DataScienceTrainingCurriculum/raw/main/programming/pythonii/course_content_jupyter_notebooks/images/primary_versus_foreign.png)"
      ]
    },
    {
      "cell_type": "markdown",
      "metadata": {
        "id": "BBcCGQx6X50A"
      },
      "source": [
        "### what are we going to do?\n",
        "\n",
        " 1. create a database\n",
        " 2. use an existing database - add a table to it\n",
        " 3. Use common query commands to manipulate the data in the tables\n",
        " 4. We don't need to create 'views' of the data like we do when we use SQLiteStudio IDE since pandas can do that for that (it allows us to export data as a csv file etc).\n"
      ]
    },
    {
      "cell_type": "code",
      "execution_count": null,
      "metadata": {
        "id": "1TOuHmlyX50A"
      },
      "outputs": [],
      "source": [
        "# the sqlite 'stack'. We will see that we often use pandas dataframes\n",
        "# because they are awesome.\n",
        "import pandas as pd\n",
        "import numpy as np\n",
        "import sqlite3 as sql"
      ]
    },
    {
      "cell_type": "markdown",
      "metadata": {
        "id": "SwHz6v5_X50A"
      },
      "source": [
        "1. Create a database\n",
        "---------------------\n",
        "https://docs.python.org/3/library/sqlite3.html\n",
        "\n",
        " 1. create a database object, a 'connection object'\n",
        " 2. create a cursor object from the connection object.\n",
        "    The cursor object has methods\n",
        " 3. use cursor object to manipulate database <-- this is where\n",
        "    we will learn about query commands\n",
        " 4. commit any changes to the connection object\n",
        " 5. close connection object"
      ]
    },
    {
      "cell_type": "code",
      "execution_count": null,
      "metadata": {
        "id": "agpy89R8X50A"
      },
      "outputs": [],
      "source": [
        "# create a database object - this database does not yet exist\n",
        "#--------\n",
        "# Note: Once this database has been created within the Example_1_2024 database, running this command a second time will cause an\n",
        "# exception/error. Therefore, you should hash this cell out the next time you are running this notebook!\n",
        "#--------\n",
        "#------------------------------------------------------------\n",
        "# we are going to create it and fill it in with information\n",
        "# This is a database that has only one table in it.\n",
        "# In fact, you should be able to go the folder where this lecture\n",
        "# is stored and see that- once you have executed the next line -\n",
        "# that this now exists in the same path!\n",
        "#------------------------------------------------------------\n",
        "\n",
        "#conn1 = sql.connect(\"Example_1_2024.db\")\n",
        "\n",
        "#------------------------------------------------------------\n",
        "# create a cursor object. dart is just a similar word as\n",
        "# cursor so as to avoid confusion\n",
        "#------------------------------------------------------------\n",
        "\n",
        "#dart = conn1.cursor()\n",
        "\n",
        "# create a table within this cursor object\n",
        "#note: Primary key\n",
        "#dart.execute('''CREATE TABLE dna(dna_id INTEGER PRIMARY KEY, sequence TEXT, annotation TEXT, GO TEXT, lab TEXT, copies INTEGER)''')\n",
        "\n",
        "# Insert a row of data\n",
        "#dart.execute('''INSERT INTO dna VALUES(1,'ACTCTAGA','This gene is involved in development','Gastrulation','Broad',3)''')\n",
        "# Insert another row of data\n",
        "#dart.execute('''INSERT INTO dna VALUES(2,'GCTAGA','This gene is an oncogene','cancer','JAX',2)''')\n",
        "# Insert a third row of data\n",
        "#dart.execute('''INSERT INTO dna VALUES(3,'TGCA','Pore Protein','transport','JAX',5)''')\n",
        "\n",
        "# Save (commit) the changes to connection object\n",
        "#conn1.commit()\n",
        "\n",
        "# We can also close the connection object  if we are done with it.\n",
        "# Just be sure any changes have been committed or they will be lost.\n",
        "#conn1.close()\n",
        "\n",
        "#------------------------------\n",
        "# I made this mistake myself as I learned to use the SQLite package instead of MySQL so I am going to draw attention to it:\n",
        "# you can't open the database in Jupyter. If you do, it will simply give you an error message about UTF-8.\n",
        "# This happens because you are trying to open a NON-FLAT file so you can't simply open it in a text editor,\n",
        "# like Jupyter since it is a connection OBJECT!\n",
        "#------------------------------"
      ]
    },
    {
      "cell_type": "code",
      "execution_count": null,
      "metadata": {
        "id": "NbqoVQ0_X50A"
      },
      "outputs": [],
      "source": [
        "# You can modify how you create the above database so that you don't\n",
        "# have to hash out everything like so:\n",
        "#DAP=sql.connect(\"Danni_Presgraves.db\")\n",
        "#cursor=DAP.cursor()\n",
        "#cursor.execute('''CREATE TABLE IF NOT EXISTS dna(dna_id INTEGER PRIMARY KEY, sequence TEXT, annotation TEXT, GO TEXT, lab TEXT, copies INTEGER)''')\n",
        "# Insert a row of data\n",
        "#cursor.execute('''INSERT OR IGNORE INTO dna VALUES(1,'ACTCTAGA','This gene is involved in development','Gastrulation','Broad',3)''')\n",
        "# Insert another row of data\n",
        "#cursor.execute('''INSERT OR IGNORE INTO dna VALUES(2,'GCTAGA','This gene is an oncogene','cancer','JAX',2)''')\n",
        "# Insert a third row of data\n",
        "#cursor.execute('''INSERT OR IGNORE INTO dna VALUES(3,'TGCA','Pore Protein','transport','JAX',5)''')\n",
        "\n",
        "#DAP.commit()"
      ]
    },
    {
      "cell_type": "code",
      "execution_count": null,
      "metadata": {
        "id": "XcP-NnwKX50A",
        "outputId": "5ceaa4eb-3e6f-47da-b27d-7469e47b25f8"
      },
      "outputs": [
        {
          "name": "stdout",
          "output_type": "stream",
          "text": [
            "   dna_id  sequence                            annotation            GO  \\\n",
            "0       1  ACTCTAGA  This gene is involved in development  Gastrulation   \n",
            "1       2    GCTAGA              This gene is an oncogene        cancer   \n",
            "2       3      TGCA                          Pore Protein     transport   \n",
            "\n",
            "     lab  copies  \n",
            "0  Broad       3  \n",
            "1    JAX       2  \n",
            "2    JAX       5  \n"
          ]
        }
      ],
      "source": [
        "# you can check to see that this table has been added to this new database, DAP\n",
        "#df_check_dna= pd.read_sql_query(\"SELECT * FROM dna;\",DAP)\n",
        "#print(df_check_dna)"
      ]
    },
    {
      "cell_type": "markdown",
      "metadata": {
        "id": "AoTbSAGXX50A"
      },
      "source": [
        "In SQL/ite, we can query multiple tables that have a relationship to each other by taking advantage of primary and foreign keys:\n",
        "* A primary key is unique to a table\n",
        "* a foreign key\n",
        "    - column that contains the primary key of another table in the database\n",
        "    - doesn't have to be unique and can contain NULL elements\n",
        "* primary and foreign keys are used to link tables together.\n",
        "\n",
        "* AS FAR AS I CAN TELL (maybe this will change as I become more familiar with the pandas library), you get most of the functionality of SQLITE via the merge and concat and join commands in pandas....\n",
        "    - you should still understand primary and foreign keys, though."
      ]
    },
    {
      "cell_type": "markdown",
      "metadata": {
        "id": "hRrcZHPyX50A"
      },
      "source": [
        "## What is a query?\n",
        "* a statement that is a valid command to the database\n",
        "* they have the following syntax:\n",
        "\n",
        "COMMAND table_name(parameters)\n",
        "\n",
        "By convention, the query 'clause' is always in capital letters despite the fact that SQLite itself is a case-insensitive language.\n",
        "\n",
        "Queries allow us to communicate with the database by asking questions and having the resultant set return data relevant to the question.\n",
        "\n",
        "We can use the sqlite3 module OR we can use pandas which will take us pretty far!\n",
        "\n",
        "The major manipulations:\n",
        "1. SELECT column_name FROM table_name ---> extracts columns (fields) from table or results from other query\n",
        "    * we can select one column or multiple columns (separating them via ',')\n",
        "2. APPEND - adds calculated fields to the results (easiest to use Pandas for this)\n",
        "3. SORT - orders results by a specified column\n",
        "4. FILTER - chooses records to include (True/False)\n",
        "5. JOIN - marges/joins two or more tables together ( JOIN and can also use merge and concat methods in Pandas)\n",
        "6. AGGREGATE (not a command, just a description) - combines rows ie. SUM, MAX, MIN, AVERAGE\n",
        "\n",
        "Precedence Rules for SQL syntax:\n",
        "WHERE data can be filtered (columns), GROUP BY data can be joined in groups (used with SELECT), HAVING we can select some of the these data (used with aggregate functions) and finally, SELECT."
      ]
    },
    {
      "cell_type": "code",
      "execution_count": null,
      "metadata": {
        "id": "kkfbO4ErX50B",
        "outputId": "6337c598-c20a-46f5-c91c-de98e18bc552"
      },
      "outputs": [
        {
          "name": "stdout",
          "output_type": "stream",
          "text": [
            "~~~~~~~~~~~~~~\n",
            "   dna_id  sequence                            annotation            GO  \\\n",
            "0       1  ACTCTAGA  This gene is involved in development  Gastrulation   \n",
            "1       2    GCTAGA              This gene is an oncogene        cancer   \n",
            "\n",
            "     lab  copies  \n",
            "0  Broad       3  \n",
            "1    JAX       2  \n",
            "--------------\n",
            "~~~~~~~~~~~~~~\n",
            "   SUM(copies)\n",
            "0           10\n",
            "--------------\n",
            "~~~~~~~~~~~~~~\n",
            "Empty DataFrame\n",
            "Columns: [dna_id, sequence, annotation, GO, lab, copies]\n",
            "Index: []\n",
            "--------------\n",
            "~~~~~~~~~~~~~~\n",
            "   dna_id  sequence                            annotation            GO  \\\n",
            "0       1  ACTCTAGA  This gene is involved in development  Gastrulation   \n",
            "1       3      TGCA                          Pore Protein     transport   \n",
            "\n",
            "     lab  copies  \n",
            "0  Broad       3  \n",
            "1    JAX       5  \n",
            "--------------\n"
          ]
        }
      ],
      "source": [
        "# I will probably ignore this example and prioritize the example underneath\n",
        "#------------------------------\n",
        "# Access the one table in the database that was created above\n",
        "# and retrieve information from it!\n",
        "#------------------------------\n",
        "#database_2024=\"Example_1_2024.db\"\n",
        "# create a connection object to the database\n",
        "#connect_1=sql.connect(database_2024)\n",
        "# I could remove 'limit 2' from this selection statement since\n",
        "# it is such a small table but I put it here just so you know\n",
        "# how to use it!\n",
        "# create strings - you can also just put these directly as an argument\n",
        "# we'll use both ways in the cells of this notebook.\n",
        "# -----------------\n",
        "#query_1='''SELECT * FROM dna LIMIT 2'''\n",
        "# another query\n",
        "#query_2 = '''SELECT SUM(copies) FROM dna'''\n",
        "# yet another query....\n",
        "#query_3 = '''SELECT * FROM dna WHERE lab=\"UR\"'''\n",
        "#query_4= '''SELECT * FROM dna WHERE copies>2 ORDER BY copies'''\n",
        "# let's have a peek, shall we?\n",
        "#-----------------\n",
        "# WE ARE USING PANDAS METHOD HERE!\n",
        "#df_1=pd.read_sql_query(query_1,connect_1)\n",
        "#print(\"~~~~~~~~~~~~~~\")\n",
        "#print(df_1)\n",
        "#print(\"--------------\")\n",
        "#for second query now\n",
        "#df_2=pd.read_sql_query(query_2,connect_1)\n",
        "#print(\"~~~~~~~~~~~~~~\")\n",
        "#print(df_2)\n",
        "#print(\"--------------\")\n",
        "#df_3=pd.read_sql_query(query_3,connect_1)\n",
        "#print(\"~~~~~~~~~~~~~~\")\n",
        "#print(df_3)\n",
        "#print(\"--------------\")\n",
        "#df_4=pd.read_sql_query(query_4,connect_1)\n",
        "#print(\"~~~~~~~~~~~~~~\")\n",
        "#print(df_4)\n",
        "#print(\"--------------\")\n",
        "# remember we can always use pandas head function to peek.\n",
        "#df_4.head()\n",
        "#let's export this 'VIEW' to our mypython files:\n",
        "# Remember that slashes will be opposite for Windows users\n",
        "#export_csv = df_4.to_csv (r'export_dataframe_VIEW_4.csv', index = None, header=True)\n",
        "#connect_1.close()"
      ]
    },
    {
      "cell_type": "markdown",
      "metadata": {
        "id": "iKVDojt5X50B"
      },
      "source": [
        "Now we are going to access a complicated data base called \"JAX2024_Desert_data.db\". The database can be found on Canvas but it is originally from here: http://esapubs.org/archive/ecol/E090/118/\n",
        "\n",
        "This database contains three tables:\n",
        "\n",
        "1. Desert_ecol_info\n",
        "2. plots\n",
        "3. species_info"
      ]
    },
    {
      "cell_type": "code",
      "execution_count": null,
      "metadata": {
        "id": "a69vmG_xX50B"
      },
      "outputs": [],
      "source": [
        "# IGNORE THIS CELL FOR NOW\n",
        "# 2. Basic meta-data access - table and column names, access\n",
        "# an already created database and add a table to it\n",
        "import sqlite3 as db\n",
        "# Here is the database. You can place it wherever you want - but remember to place it\n",
        "# in the folder for this lecture if you don't want to have write out the whole file path.\n",
        "# If you need a reminder about file paths, here you go:\n",
        "connection_desert=db.connect(\"JAX2024_Desert_data.db\")\n",
        "\n",
        "#establish a 'cursor' that allows us to execute SQLite\n",
        "# queries/commands\n",
        "#cursor=connection_desert.cursor()\n",
        "# -----------------------------------------\n",
        "# we can ADD a table to this database. To keep it simple, let's add the same table to this database as the one above\n",
        "# NOTE: YOU CAN'T RUN THIS MORE THAN ONCE, YOU WILL NEED TO HASH IT OUT ONCE IT IS ADDED TO THE DATABASE\n",
        "# -----------------------------------------\n",
        "#cursor.execute('''CREATE TABLE dna(dna_id INTEGER PRIMARY KEY, sequence TEXT, annotation TEXT, GO TEXT, lab TEXT, copies INTEGER)''')\n",
        "# Insert a row of data\n",
        "#cursor.execute('''INSERT INTO dna VALUES(1,'ACTCTAGA','This gene is involved in development','Gastrulation','Broad',3)''')\n",
        "# Insert another row of data\n",
        "#cursor.execute('''INSERT INTO dna VALUES(2,'GCTAGA','This gene is an oncogene','cancer','UR',2)''')\n",
        "# Insert a third row of data\n",
        "#cursor.execute('''INSERT INTO dna VALUES(3,'TGCA','Pore Protein','transport','UR',5)''')\n",
        "# -----------------------------------------\n",
        "#let's peek at the tables to make sure we are correct about their\n",
        "# names:  This simple request caused me to dive into stackoverflow\n",
        "# to figure out a much easier solution. This is the boilerplate\n",
        "# that works and is from two places mushed together:\n",
        "# https://stackoverflow.com/questions/31208860/how-to-display-all-the-tables-created-in-sqlite-database-on-python3\n",
        "# https://likegeeks.com/python-sqlite3-tutorial/#List-tables\n",
        "# Aside: Why are there so many websites that use geeks in the name?\n",
        "# The basic strategy is to use sqlite_master- which is a built\n",
        "# in \"metadata\" table used by the sqlite3 package and then use the\n",
        "# fetchall() function to display the results.\n",
        "# fetchall() returns a list and is slow so you could do a similar\n",
        "# and more efficient thing by iterating over the cursor. However\n",
        "# this example allows us to see fetchall() in action....\n",
        "# -----------------------------------------\n",
        "# First way of getting names of tables:\n",
        "#def sql_fetch(curse):\n",
        "#    curse.execute('SELECT name from sqlite_master where type= \"table\"')\n",
        "#    print(\"In the sql_fetch function, we get a list of table names: \")\n",
        "#    print(\"---------\")\n",
        "    #this will print a list of names of tables included in the database\n",
        "#    print(curse.fetchall())\n",
        "\n",
        "#remember to call the function and pass in the cursor\n",
        "#sql_fetch(cursor)\n",
        "#print(\"************************************************\")\n",
        "\n",
        "#Second way of getting names of tables (not in a neat and tidy list, though):\n",
        "#res = cursor.execute(\"SELECT name FROM sqlite_master WHERE type='table' ORDER BY name;\")\n",
        "\n",
        "#for name in res:\n",
        "#    print(\"Table is called: \")\n",
        "#    print(name[0])\n",
        "#    print(\"-----------------\")\n",
        "\n",
        "# -----------------------------------------\n",
        "# Now, we also want to make sure we can see all the column names so we get a sense of the structure of the tables:\n",
        "# in this case we want to know what is in the species_info table\n",
        "#table_name=\"species_info\"\n",
        "#cursor.execute('PRAGMA TABLE_INFO({})'.format(table_name))\n",
        "# collect names in a list\n",
        "#names = [tup[1] for tup in cursor.fetchall()]\n",
        "#print(names)\n",
        "\n",
        "# -----------------------\n",
        "# you can also get the column information from a particular table via the following\n",
        "# method - Note: I have changed tables here to the plots table:\n",
        "#print(\"plots table has the following columns: \")\n",
        "#print(\"---------------------------------------\")\n",
        "#cursor.execute('SELECT * FROM plots')\n",
        "#print(cursor.description)\n",
        "\n",
        "#print(\"Desert_ecol_info table  has the following columns: \")\n",
        "#print(\"---------------------------------------\")\n",
        "#cursor.execute('select * FROM Desert_ecol_info')\n",
        "#print(cursor.description)\n",
        "\n",
        "# -----------------------------------------\n",
        "# Use the execute command that belongs to a cursor\n",
        "# you are now free to use the same queries using execute() that you used in SQLiteStudio\n",
        "#cursor.execute(\"SELECT species_id FROM Desert_ecol_info WHERE hindfoot_length >= 30;\")\n",
        "#myqueryrecords=cursor.fetchall()\n",
        "#print out the records as a tuple and ask how long the record is that matches this criteria?\n",
        "#print(len(myqueryrecords))\n",
        "#-------------------------------------\n",
        "#Note that you could also the fetchone() which fetches the results\n",
        "# one-at-a-time. You would need to use\n",
        "# a while loop to keep going until the result gave you None.\n",
        "# I don't think that you can run fetchall() and\n",
        "# fetchone() from the same query in the same cell so I have hashed\n",
        "# out the fetchone() loop.\n",
        "#-------------------------------------\n",
        "#record2=cursor.fetchone()\n",
        "#while record2!=None:\n",
        "    #do_something_to(record)\n",
        "#    print(cursor.fetchone())\n",
        "#-------------------------------------\n",
        "\n",
        "#-------------------------------------\n",
        "#you can the do the same stuff via Jupyter that you did in SQLiteStudio. For instance, you can modify databases\n",
        "#by using INSERT INTO or DELETE FROM commands within the execute method\n",
        "# you would need to commit these database changes formally by using the following commit command:\n",
        "#connection_desert.commit()\n",
        "#cursor.close()\n",
        "#connection_desert.close()"
      ]
    },
    {
      "cell_type": "code",
      "execution_count": null,
      "metadata": {
        "id": "VmigrFJ6X50B",
        "outputId": "085d6460-0922-4903-ed1c-cfe646bdd4b2"
      },
      "outputs": [
        {
          "ename": "SyntaxError",
          "evalue": "invalid syntax (1446215391.py, line 12)",
          "output_type": "error",
          "traceback": [
            "\u001b[0;36m  Cell \u001b[0;32mIn[1], line 12\u001b[0;36m\u001b[0m\n\u001b[0;31m    pd.\u001b[0m\n\u001b[0m       ^\u001b[0m\n\u001b[0;31mSyntaxError\u001b[0m\u001b[0;31m:\u001b[0m invalid syntax\n"
          ]
        }
      ],
      "source": [
        "# 3. Manipulating the table and constructing queries!\n",
        "# ------------------------------------\n",
        "#HERE IS SOMETHING SUPER COOL - YOU CAN SIMULTANEOUSLY READ IN SQL\n",
        "# QUERY INTO PANDAS DATAFRAME. THIS IS SOOOOOOO MUCH EASIER TO\n",
        "# HANDLE THAN THE EXECUTE METHOD\n",
        "import pandas as pd\n",
        "\n",
        "# we can see the methods in pd in the usual way, by typing\n",
        "# pd. followed by tab and if\n",
        "# we scroll down, we will see that there are specific sql_ commands: such as .read_sql_query\n",
        "# ------------------------------------\n",
        "pd."
      ]
    },
    {
      "cell_type": "code",
      "execution_count": null,
      "metadata": {
        "id": "-zcX8Sq6X50B"
      },
      "outputs": [],
      "source": [
        "connection_desert=sql.connect(\"JAX2024_Desert_data.db\")"
      ]
    },
    {
      "cell_type": "code",
      "execution_count": null,
      "metadata": {
        "id": "k0uWMLdyX50B",
        "outputId": "108fa029-fcb2-4970-b9f6-1ffac1f62522"
      },
      "outputs": [
        {
          "name": "stdout",
          "output_type": "stream",
          "text": [
            "--------- A (i) Conditions imposed on one column items ----------------\n",
            "      species_id hindfoot_length\n",
            "0             NL              32\n",
            "1             NL              33\n",
            "2             DM              37\n",
            "3             DM              36\n",
            "4             DM              35\n",
            "...          ...             ...\n",
            "20173         US                \n",
            "20174         AH                \n",
            "20175         AH                \n",
            "20176         DO              36\n",
            "20177                           \n",
            "\n",
            "[20178 rows x 2 columns]\n"
          ]
        }
      ],
      "source": [
        "# You still need to remember to create a connection object\n",
        "#connection_desert=db.connect(\"JAX2024_Desert_data.db\")\n",
        "# note that we want to return multiple columns in our return\n",
        "#A: Display species and hindfoot length IF hindfoot length is greater than or equal to 30\n",
        "print(\"--------- A (i) Conditions imposed on one column items ----------------\")\n",
        "dfA = pd.read_sql_query(\"SELECT species_id,hindfoot_length FROM Desert_ecol_info WHERE hindfoot_length >= 30;\", connection_desert)\n",
        "print(dfA)"
      ]
    },
    {
      "cell_type": "code",
      "execution_count": null,
      "metadata": {
        "id": "7-e_KjdaX50C",
        "outputId": "c667d3af-1241-43ac-bde3-685e334ab83d"
      },
      "outputs": [
        {
          "name": "stdout",
          "output_type": "stream",
          "text": [
            "--------- A (ii) use ORDER BY ----------------\n",
            "      species_id hindfoot_length\n",
            "0             DM              30\n",
            "1             DM              30\n",
            "2             PE              30\n",
            "3             NL              30\n",
            "4             NL              30\n",
            "...          ...             ...\n",
            "20173         US                \n",
            "20174         US                \n",
            "20175         AH                \n",
            "20176         AH                \n",
            "20177                           \n",
            "\n",
            "[20178 rows x 2 columns]\n"
          ]
        }
      ],
      "source": [
        "#A: Display species and hindfoot length IF hindfoot\n",
        "# length is greater than or equal to 30 and **ORDER BY** the length\n",
        "print(\"--------- A (ii) use ORDER BY ----------------\")\n",
        "dfA2 = pd.read_sql_query(\"SELECT species_id,hindfoot_length FROM Desert_ecol_info WHERE hindfoot_length >= 30 ORDER BY hindfoot_length;\", connection_desert)\n",
        "print(dfA2)"
      ]
    },
    {
      "cell_type": "code",
      "execution_count": null,
      "metadata": {
        "id": "cdN99x4bX50C",
        "outputId": "fefc515a-8de6-4a2b-ceb3-9422bdbe5ee1"
      },
      "outputs": [
        {
          "name": "stdout",
          "output_type": "stream",
          "text": [
            "---------- B ---------------\n",
            "      species_id\n",
            "0             DM\n",
            "1             DM\n",
            "2             DM\n",
            "3             DM\n",
            "4             DM\n",
            "...          ...\n",
            "10591         DM\n",
            "10592         DM\n",
            "10593         DM\n",
            "10594         DM\n",
            "10595         DM\n",
            "\n",
            "[10596 rows x 1 columns]\n",
            "---------- C build combos of requirements ---------------\n",
            "     record_id  month  day  year  plot_id species_id sex hindfoot_length  \\\n",
            "0        30162      1    8  2000        1         DM   M              36   \n",
            "1        30179      1    8  2000       12         DM   M              36   \n",
            "2        30196      1    8  2000       17         DM   M              37   \n",
            "3        30197      1    8  2000       17         DM   F              34   \n",
            "4        30210      1    8  2000       22         DM   M              38   \n",
            "..         ...    ...  ...   ...      ...        ...  ..             ...   \n",
            "842      35533     12   31  2002       14         DM   F              36   \n",
            "843      35534     12   31  2002       14         DM   M              37   \n",
            "844      35535     12   31  2002       14         DM   M              37   \n",
            "845      35536     12   31  2002       14         DM   F              35   \n",
            "846      35537     12   31  2002       14         DM   F              36   \n",
            "\n",
            "    weight  \n",
            "0       50  \n",
            "1       60  \n",
            "2       52  \n",
            "3       43  \n",
            "4       56  \n",
            "..     ...  \n",
            "842     48  \n",
            "843     56  \n",
            "844     53  \n",
            "845     42  \n",
            "846     46  \n",
            "\n",
            "[847 rows x 9 columns]\n",
            "---------- D We can display only particular columns --------------\n",
            "      weight\n",
            "0           \n",
            "1           \n",
            "2           \n",
            "3           \n",
            "4           \n",
            "...      ...\n",
            "35544       \n",
            "35545       \n",
            "35546     14\n",
            "35547     51\n",
            "35548       \n",
            "\n",
            "[35549 rows x 1 columns]\n",
            "----------- E A CALCULATED COLUMN HAS BEEN ADDED--------------\n",
            "       plot_id species_id sex weight  weight_kg\n",
            "0            2         NL   M             0.000\n",
            "1            3         NL   M             0.000\n",
            "2            2         DM   F             0.000\n",
            "3            7         DM   M             0.000\n",
            "4            3         DM   M             0.000\n",
            "...        ...        ...  ..    ...        ...\n",
            "35544       15         AH                 0.000\n",
            "35545       15         AH                 0.000\n",
            "35546       10         RM   F     14      0.014\n",
            "35547        7         DO   M     51      0.051\n",
            "35548        5                            0.000\n",
            "\n",
            "[35549 rows x 5 columns]\n"
          ]
        }
      ],
      "source": [
        "# B: What if we only want to include Dipodomys merriami - NOTE:YOU MUST USE '' INSTEAD OF \"\" IN THESE QUERIES\n",
        "print(\"---------- B ---------------\")\n",
        "dfB =pd.read_sql_query(\"SELECT species_id FROM Desert_ecol_info WHERE species_id ='DM';\", connection_desert)\n",
        "print(dfB)\n",
        "#C: Combine some requirements: We want Dipodomys merriami collected only after the year 2000 and to show all the columns\n",
        "print(\"---------- C build combos of requirements ---------------\")\n",
        "dfC=pd.read_sql_query(\"SELECT * FROM Desert_ecol_info WHERE (species_id = 'DM') AND (year>=2000);\", connection_desert)\n",
        "print(dfC)\n",
        "#D: We can display a single columns\n",
        "print(\"---------- D We can display only particular columns --------------\")\n",
        "dfD=pd.read_sql_query(\"SELECT weight FROM Desert_ecol_info;\", connection_desert)\n",
        "print(dfD)\n",
        "# E: slightly fancier - as long as your data type allows for it, you can use built in functions on your query\n",
        "# ------------------------------------\n",
        "# AND EVEN ADD A NEW CALCULATED COLUMN!\n",
        "# ------------------------------------\n",
        "# Note: your data will need to be real or decimal type - this won't work with integer data\n",
        "print(\"----------- E A CALCULATED COLUMN HAS BEEN ADDED--------------\")\n",
        "dfE=pd.read_sql_query(\"SELECT plot_id, species_id,sex, weight, ROUND(weight/1000.0,4) AS weight_kg FROM Desert_ecol_info;\", connection_desert)\n",
        "print(dfE)"
      ]
    },
    {
      "cell_type": "markdown",
      "metadata": {
        "id": "vBc02_-AX50C"
      },
      "source": [
        "IS NOT NULL is a command that doesn't work with this data set. You should still know about it because it will work with other data sets but the way this particular data set is coded means that missing data isn't read in as a null value, it is read in as ''(empty). This means that asking for the view to not return any null values should involve the following command:\n",
        "species_id IS NOT \"\" instead of the more common species_id IS NOT NULL."
      ]
    },
    {
      "cell_type": "code",
      "execution_count": null,
      "metadata": {
        "id": "iLpMl4D4X50C",
        "outputId": "562eacd7-8209-4097-e381-137d54df59e1"
      },
      "outputs": [
        {
          "name": "stdout",
          "output_type": "stream",
          "text": [
            "       plot_id species_id sex weight  weight_kg\n",
            "0            2         NL   M             0.000\n",
            "1            3         NL   M             0.000\n",
            "2            2         DM   F             0.000\n",
            "3            7         DM   M             0.000\n",
            "4            3         DM   M             0.000\n",
            "...        ...        ...  ..    ...        ...\n",
            "35544       15         AH                 0.000\n",
            "35545       15         AH                 0.000\n",
            "35546       10         RM   F   14.0      0.014\n",
            "35547        7         DO   M   51.0      0.051\n",
            "35548        5                            0.000\n",
            "\n",
            "[35549 rows x 5 columns]\n",
            "Empty DataFrame\n",
            "Columns: [plot_id, species_id, sex, weight, weight_kg]\n",
            "Index: []\n",
            "       plot_id species_id sex weight\n",
            "0            2         NL   M       \n",
            "1            3         NL   M       \n",
            "2            2         DM   F       \n",
            "3            7         DM   M       \n",
            "4            3         DM   M       \n",
            "...        ...        ...  ..    ...\n",
            "34781       15         US           \n",
            "34782       15         AH           \n",
            "34783       15         AH           \n",
            "34784       10         RM   F   14.0\n",
            "34785        7         DO   M   51.0\n",
            "\n",
            "[34786 rows x 4 columns]\n"
          ]
        }
      ],
      "source": [
        "d_Null_TEST=pd.read_sql_query(\"SELECT plot_id, species_id,sex, weight, ROUND(weight/1000.0,4) AS weight_kg FROM Desert_ecol_info WHERE (species_id IS NOT NULL);\", connection_desert)\n",
        "print(d_Null_TEST)\n",
        "Null_Test_ret = pd.read_sql_query(\"SELECT plot_id, species_id,sex, weight, ROUND(weight/1000.0,4) AS weight_kg FROM Desert_ecol_info WHERE (species_id IS NULL);\", connection_desert)\n",
        "print(Null_Test_ret)\n",
        "d_Empty=pd.read_sql_query(\"SELECT plot_id, species_id,sex, weight FROM Desert_ecol_info WHERE (species_id IS NOT '');\", connection_desert)\n",
        "print(d_Empty)"
      ]
    },
    {
      "cell_type": "code",
      "execution_count": null,
      "metadata": {
        "id": "DVPrnYd6X50C",
        "outputId": "07d01a19-5871-49a3-bdb7-7f4292d0217c"
      },
      "outputs": [
        {
          "name": "stdout",
          "output_type": "stream",
          "text": [
            "----------- F (i) Remove Null items with IS NOT NULL  --------------\n",
            "     plot_id species_id sex  weight  weight_kg\n",
            "0         12         DM   M    18.0      0.018\n",
            "1         17         DM   M    20.0      0.020\n",
            "2         17         DM   F    21.0      0.021\n",
            "3         14         DM   M    21.0      0.021\n",
            "4          9         DM   F    22.0      0.022\n",
            "..       ...        ...  ..     ...        ...\n",
            "821        2         DM   F    60.0      0.060\n",
            "822        4         DM   F    60.0      0.060\n",
            "823        9         DM   F    60.0      0.060\n",
            "824       12         DM   F    60.0      0.060\n",
            "825        9         DM   F    64.0      0.064\n",
            "\n",
            "[826 rows x 5 columns]\n"
          ]
        }
      ],
      "source": [
        "# Note: this is bad practice but I have so many queries to show you on the same data set\n",
        "# that I am breaking them  up over multiple cells inside of closing connections etc\n",
        "# in the same cell!\n",
        "# ------------------------------------\n",
        "# F: We can remove NULL elements but we need to use that as the boolean condition, like this:\n",
        "# THIS is the conventional way to use IS NOT NULL but it doesn't work with this\n",
        "# particular data set.:()\n",
        "print(\"----------- F (i) Remove Null items with IS NOT NULL  --------------\")\n",
        "dfFi=pd.read_sql_query(\"SELECT plot_id, species_id,sex, weight, ROUND(weight/1000.0,4) AS weight_kg FROM Desert_ecol_info WHERE (species_id = 'DM' AND species_id IS NOT NULL) AND (year>=2000) AND (weight_kg > 0.0) ORDER BY weight_kg;\", connection_desert)\n",
        "print(dfFi)"
      ]
    },
    {
      "cell_type": "code",
      "execution_count": null,
      "metadata": {
        "id": "UmTvc-C5X50C",
        "outputId": "39378382-da8c-44bd-c186-6779c3e306c4"
      },
      "outputs": [
        {
          "name": "stdout",
          "output_type": "stream",
          "text": [
            "----------- F (iI) How many items disappeared when Weight >0.000?  --------------\n",
            "     plot_id species_id sex weight  weight_kg\n",
            "0          1         DM   M   50.0      0.050\n",
            "1         12         DM   M   60.0      0.060\n",
            "2         17         DM   M   52.0      0.052\n",
            "3         17         DM   F   43.0      0.043\n",
            "4         22         DM   M   56.0      0.056\n",
            "..       ...        ...  ..    ...        ...\n",
            "842       14         DM   F   48.0      0.048\n",
            "843       14         DM   M   56.0      0.056\n",
            "844       14         DM   M   53.0      0.053\n",
            "845       14         DM   F   42.0      0.042\n",
            "846       14         DM   F   46.0      0.046\n",
            "\n",
            "[847 rows x 5 columns]\n",
            "----------- G  BETWEEN --------------\n",
            "      year  record_id species_id sex hindfoot_length\n",
            "0     1999      29024         DM   F              33\n",
            "1     1999      29025         DM   F              35\n",
            "2     1999      29026         DM   M              35\n",
            "3     1999      29036         DM   M              36\n",
            "4     1999      29037         DM   M              37\n",
            "...    ...        ...        ...  ..             ...\n",
            "1190  2002      35533         DM   F              36\n",
            "1191  2002      35534         DM   M              37\n",
            "1192  2002      35535         DM   M              37\n",
            "1193  2002      35536         DM   F              35\n",
            "1194  2002      35537         DM   F              36\n",
            "\n",
            "[1195 rows x 5 columns]\n",
            "----------- H (i)  Filtering with single character substitute '_' --------------\n",
            "      year  record_id species_id sex hindfoot_length\n",
            "0     1999      29024         DM   F              33\n",
            "1     1999      29025         DM   F              35\n",
            "2     1999      29026         DM   M              35\n",
            "3     1999      29027         DO   M              36\n",
            "4     1999      29028         DO   F              33\n",
            "...    ...        ...        ...  ..             ...\n",
            "1711  2002      35534         DM   M              37\n",
            "1712  2002      35535         DM   M              37\n",
            "1713  2002      35536         DM   F              35\n",
            "1714  2002      35537         DM   F              36\n",
            "1715  2002      35548         DO   M              36\n",
            "\n",
            "[1716 rows x 5 columns]\n",
            "----------- H (ii)  Filtering with '%'which allows for zero of more of the character and BETWEEN --------------\n",
            "      year  record_id species_id sex hindfoot_length\n",
            "0     1999      29024         DM   F              33\n",
            "1     1999      29025         DM   F              35\n",
            "2     1999      29026         DM   M              35\n",
            "3     1999      29036         DM   M              36\n",
            "4     1999      29037         DM   M              37\n",
            "...    ...        ...        ...  ..             ...\n",
            "1190  2002      35533         DM   F              36\n",
            "1191  2002      35534         DM   M              37\n",
            "1192  2002      35535         DM   M              37\n",
            "1193  2002      35536         DM   F              35\n",
            "1194  2002      35537         DM   F              36\n",
            "\n",
            "[1195 rows x 5 columns]\n",
            "----------- H (iii)  Filtering with just LIKE and '%' --------------\n",
            "      year  record_id species_id sex hindfoot_length\n",
            "0     1990      16879         DM   F              37\n",
            "1     1990      16912         DM   M              37\n",
            "2     1990      16914         DM   M                \n",
            "3     1990      16930         DM   M              37\n",
            "4     1990      16935         DM   M              37\n",
            "...    ...        ...        ...  ..             ...\n",
            "4069  1999      30135         DM   M              35\n",
            "4070  1999      30136         DM   M              37\n",
            "4071  1999      30137         DM   M              35\n",
            "4072  1999      30147         DM   M              36\n",
            "4073  1999      30149         DM   M              34\n",
            "\n",
            "[4074 rows x 5 columns]\n",
            "----------- H (iii)  Filtering with just LIKE and '%' --------------\n",
            "      year  record_id species_id sex hindfoot_length\n",
            "0     1990      16879         DM   F              37\n",
            "1     1990      16912         DM   M              37\n",
            "2     1990      16914         DM   M                \n",
            "3     1990      16930         DM   M              37\n",
            "4     1990      16935         DM   M              37\n",
            "...    ...        ...        ...  ..             ...\n",
            "4069  1999      30135         DM   M              35\n",
            "4070  1999      30136         DM   M              37\n",
            "4071  1999      30137         DM   M              35\n",
            "4072  1999      30147         DM   M              36\n",
            "4073  1999      30149         DM   M              34\n",
            "\n",
            "[4074 rows x 5 columns]\n"
          ]
        }
      ],
      "source": [
        "print(\"----------- F (iI) How many items disappeared when Weight >0.000?  --------------\")\n",
        "# how many rows have disappeared when we imposed the non-zero value for weight_kg?\n",
        "dfFii=pd.read_sql_query(\"SELECT plot_id, species_id,sex, weight, ROUND(weight/1000.0,4) AS weight_kg FROM Desert_ecol_info WHERE (species_id = 'DM' AND species_id IS NOT NULL) AND (year>=2000);\", connection_desert)\n",
        "print(dfFii)\n",
        "# Example of filtering with in WHERE clause with BETWEEN lower and upper * note * this only prints\n",
        "# out the first 1000 rows as a default so it may not be apparent that it is still matching criteria\n",
        "print(\"----------- G  BETWEEN --------------\")\n",
        "dfG=pd.read_sql_query(\"SELECT year, record_id,species_id,sex,hindfoot_length FROM Desert_ecol_info WHERE species_id = 'DM' AND year BETWEEN 1999 AND 2002;\", connection_desert)\n",
        "print(dfG)\n",
        "# You can allow some flexibility in your values by using LIKE in the WHERE clause along\n",
        "# with the two WILDCARDS: % and _\n",
        "# '_' can substitute for any single character\n",
        "print(\"----------- H (i)  Filtering with single character substitute '_' --------------\")\n",
        "dfHi=pd.read_sql_query(\"SELECT year, record_id,species_id,sex,hindfoot_length FROM Desert_ecol_info WHERE species_id LIKE 'D_' AND year BETWEEN 1999 AND 2002;\", connection_desert)\n",
        "print(dfHi)\n",
        "# '%' is a bit confusing because it is a string so even when you use it with numbers, you need\n",
        "# the ''. YOU ALSO NEED TO USE LIKE IN A VERY PARTICULAR SYNTAX WHEN USED WITH BETWEEN.\n",
        "# An example is given below:\n",
        "print(\"----------- H (ii)  Filtering with '%'which allows for zero of more of the character and BETWEEN --------------\")\n",
        "dfHii=pd.read_sql_query(\"SELECT year, record_id,species_id,sex,hindfoot_length FROM Desert_ecol_info WHERE species_id LIKE 'DM' AND year BETWEEN 1999 AND '2%';\", connection_desert)\n",
        "print(dfHii)\n",
        "# Here is a second example of the '%' WILDCARD, how it is normally seen:\n",
        "print(\"----------- H (iii)  Filtering with just LIKE and '%' --------------\")\n",
        "dfHiii=pd.read_sql_query(\"SELECT year, record_id,species_id,sex,hindfoot_length FROM Desert_ecol_info WHERE species_id='DM' AND year LIKE '199%' ;\", connection_desert)\n",
        "print(dfHiii)\n",
        "# Here is a second example of the '%' WILDCARD, how it is normally seen:\n",
        "print(\"----------- H (iii)  Filtering with just LIKE and '%' --------------\")\n",
        "dfHiii=pd.read_sql_query(\"SELECT year, record_id,species_id,sex,hindfoot_length FROM Desert_ecol_info WHERE species_id='DM' AND year LIKE '199%' ;\", connection_desert)\n",
        "print(dfHiii)"
      ]
    },
    {
      "cell_type": "code",
      "execution_count": null,
      "metadata": {
        "id": "Lr0Y-WSHX50C",
        "outputId": "81207bcb-809f-4099-e6ba-0a85a2a8fcc1"
      },
      "outputs": [
        {
          "name": "stdout",
          "output_type": "stream",
          "text": [
            "----------- I   ASC means ASCENDING, DESC means DESCENDING order --------------\n",
            "              genus          species species_id\n",
            "0           Zenaida         macroura         ZM\n",
            "1       Zonotrichia       leucophrys         ZL\n",
            "2           Sparrow              sp.         US\n",
            "3            Pipilo              sp.         UP\n",
            "4          Spizella          breweri         SB\n",
            "5            Pipilo           fuscus         PU\n",
            "6         Pooecetes        gramineus         PG\n",
            "7            Pipilo        chlorurus         PC\n",
            "8        Callipepla         squamata         CQ\n",
            "9       Calamospiza      melanocorys         CM\n",
            "10  Campylorhynchus  brunneicapillus         CB\n",
            "11       Ammodramus       savannarum         AS\n",
            "12       Amphispiza        bilineata         AB\n",
            "----------- J  ORDER BY refresher, you can add DESC at the end of the query --------------\n",
            "               genus          species\n",
            "0         Ammodramus       savannarum\n",
            "1   Ammospermophilus          harrisi\n",
            "2         Amphispiza        bilineata\n",
            "3            Baiomys          taylori\n",
            "4        Calamospiza      melanocorys\n",
            "5         Callipepla         squamata\n",
            "6    Campylorhynchus  brunneicapillus\n",
            "7        Chaetodipus          baileyi\n",
            "8        Chaetodipus      intermedius\n",
            "9        Chaetodipus     penicillatus\n",
            "10       Chaetodipus              sp.\n",
            "11     Cnemidophorus           tigris\n",
            "12     Cnemidophorus        uniparens\n",
            "13          Crotalus       scutalatus\n",
            "14          Crotalus          viridis\n",
            "15         Dipodomys         merriami\n",
            "16         Dipodomys            ordii\n",
            "17         Dipodomys      spectabilis\n",
            "18         Dipodomys              sp.\n",
            "19           Eumeces        obsoletus\n",
            "20          Gambelia            silus\n",
            "21            Lizard              sp.\n",
            "22           Neotoma         albigula\n",
            "23           Neotoma              sp.\n",
            "24         Onychomys      leucogaster\n",
            "25         Onychomys         torridus\n",
            "26         Onychomys              sp.\n",
            "27       Perognathus           flavus\n",
            "28       Perognathus         hispidus\n",
            "29        Peromyscus         eremicus\n",
            "30        Peromyscus         leucopus\n",
            "31        Peromyscus      maniculatus\n",
            "32            Pipilo        chlorurus\n",
            "33            Pipilo           fuscus\n",
            "34            Pipilo              sp.\n",
            "35         Pooecetes        gramineus\n",
            "36   Reithrodontomys       fulvescens\n",
            "37   Reithrodontomys        megalotis\n",
            "38   Reithrodontomys         montanus\n",
            "39   Reithrodontomys              sp.\n",
            "40            Rodent              sp.\n",
            "41        Sceloporus           clarki\n",
            "42        Sceloporus        undulatus\n",
            "43          Sigmodon      fulviventer\n",
            "44          Sigmodon         hispidus\n",
            "45          Sigmodon     ochrognathus\n",
            "46          Sigmodon              sp.\n",
            "47           Sparrow              sp.\n",
            "48      Spermophilus        spilosoma\n",
            "49      Spermophilus     tereticaudus\n",
            "50          Spizella          breweri\n",
            "51        Sylvilagus        audubonii\n",
            "52           Zenaida         macroura\n",
            "53       Zonotrichia       leucophrys\n"
          ]
        }
      ],
      "source": [
        "# Onwards to ever-so-slightly more interesting commands.\n",
        "# We are switching to assess and manipulate elements in the species_info table now.\n",
        "#Remember species_info has the following columns: ['species_id', 'genus', 'species', 'taxa']\n",
        "# SORT using ORDER BY - which is saw in the cells above already:\n",
        "print(\"----------- I   ASC means ASCENDING, DESC means DESCENDING order --------------\")\n",
        "dfI=pd.read_sql_query(\"SELECT genus, species, species_id FROM species_info WHERE taxa='Bird' ORDER BY species_id DESC;\", connection_desert)\n",
        "print(dfI)\n",
        "print(\"----------- J  ORDER BY refresher, you can add DESC at the end of the query --------------\")\n",
        "dfJ=pd.read_sql_query(\"SELECT genus,species FROM species_info ORDER BY genus;\", connection_desert)\n",
        "print(dfJ)"
      ]
    },
    {
      "cell_type": "code",
      "execution_count": null,
      "metadata": {
        "id": "NikSwiuGX50C",
        "outputId": "f58b474f-3d8e-4684-9e69-90a4f681df9c"
      },
      "outputs": [
        {
          "name": "stdout",
          "output_type": "stream",
          "text": [
            "We return to the Desert_ecol_info database: \n",
            "----------- K  AGGREGATE FUNCTIONS: MIN, MAX, SUM, AVG  --------------\n",
            "K(i): How many rows are there? \n",
            "   COUNT(record_id)\n",
            "0             35549\n",
            "K(ii): How much do individuals weight? \n",
            "   COUNT(*)  SUM(weight)\n",
            "0     35549    1377594.0\n",
            "K(iii): How many individuals are in each species? \n",
            "   species_id  COUNT(*)  SUM(weight)\n",
            "0                   763          0.0\n",
            "1          AB       303          0.0\n",
            "2          AH       437          0.0\n",
            "3          AS         2          0.0\n",
            "4          BA        46        387.0\n",
            "5          CB        50          0.0\n",
            "6          CM        13          0.0\n",
            "7          CQ        16          0.0\n",
            "8          CS         1          0.0\n",
            "9          CT         1          0.0\n",
            "10         CU         1          0.0\n",
            "11         CV         1          0.0\n",
            "12         DM     10596     442886.0\n",
            "13         DO      3027     141920.0\n",
            "14         DS      2504     281586.0\n",
            "15         DX        40          0.0\n",
            "16         NL      1252     183451.0\n",
            "17         OL      1006      30628.0\n",
            "18         OT      2249      52338.0\n",
            "19         OX        12        126.0\n",
            "20         PB      2891      89178.0\n",
            "21         PC        39          0.0\n",
            "22         PE      1299      27199.0\n",
            "23         PF      1597      12265.0\n",
            "24         PG         8          0.0\n",
            "25         PH        32        963.0\n",
            "26         PI         9        154.0\n",
            "27         PL        36        689.0\n",
            "28         PM       899      18715.0\n",
            "29         PP      3123      51934.0\n",
            "30         PU         5          0.0\n",
            "31         PX         6         38.0\n",
            "32         RF        75       1004.0\n",
            "33         RM      2609      26833.0\n",
            "34         RO         8         82.0\n",
            "35         RX         2         31.0\n",
            "36         SA        75          0.0\n",
            "37         SC         1          0.0\n",
            "38         SF        43       2414.0\n",
            "39         SH       147      10314.0\n",
            "40         SO        43       2272.0\n",
            "41         SS       248        187.0\n",
            "42         ST         1          0.0\n",
            "43         SU         5          0.0\n",
            "44         UL         4          0.0\n",
            "45         UP         8          0.0\n",
            "46         UR        10          0.0\n",
            "47         US         4          0.0\n",
            "48         ZL         2          0.0\n",
            "K(iv): revisit the ROUND() function from earlier\n",
            "   ROUND(SUM(weight)/1000.0,4)\n",
            "0                     1377.594\n",
            "K(v): using keyword like HAVING COUNT\n",
            "   species_id  COUNT(species_id)\n",
            "0          OX                 12\n",
            "1          CM                 13\n",
            "2          CQ                 16\n",
            "3          PH                 32\n",
            "4          PL                 36\n",
            "5          PC                 39\n",
            "6          DX                 40\n",
            "7          SF                 43\n",
            "8          SO                 43\n",
            "9          BA                 46\n",
            "10         CB                 50\n",
            "11         RF                 75\n",
            "12         SA                 75\n",
            "13         SH                147\n",
            "14         SS                248\n",
            "15         AB                303\n",
            "16         AH                437\n",
            "17                           763\n",
            "18         PM                899\n",
            "19         OL               1006\n",
            "20         NL               1252\n",
            "21         PE               1299\n",
            "22         PF               1597\n",
            "23         OT               2249\n",
            "24         DS               2504\n",
            "25         RM               2609\n",
            "26         PB               2891\n",
            "27         DO               3027\n",
            "28         PP               3123\n",
            "29         DM              10596\n"
          ]
        }
      ],
      "source": [
        "print(\"We return to the Desert_ecol_info database: \")\n",
        "print(\"----------- K  AGGREGATE FUNCTIONS: MIN, MAX, SUM, AVG  --------------\")\n",
        "print(\"K(i): How many rows are there? \")\n",
        "dfKi=pd.read_sql_query(\"SELECT COUNT(record_id) FROM Desert_ecol_info;\", connection_desert)\n",
        "print(dfKi)\n",
        "print(\"K(ii): How much do individuals weight? \")\n",
        "dfKii=pd.read_sql_query(\"SELECT COUNT(*),SUM(weight) FROM Desert_ecol_info;\", connection_desert)\n",
        "print(dfKii)\n",
        "print(\"K(iii): How many individuals are in each species? \")\n",
        "dfKiii=pd.read_sql_query(\"SELECT species_id, COUNT(*),SUM(weight) FROM Desert_ecol_info GROUP BY species_id;\", connection_desert)\n",
        "print(dfKiii)\n",
        "print(\"K(iv): revisit the ROUND() function from earlier\")\n",
        "dfKiv=pd.read_sql_query(\"SELECT ROUND(SUM(weight)/1000.0,4) FROM Desert_ecol_info;\", connection_desert)\n",
        "print(dfKiv)\n",
        "print(\"K(v): using keyword like HAVING COUNT\")\n",
        "dfKv=pd.read_sql_query(\"SELECT species_id, COUNT(species_id) FROM Desert_ecol_info GROUP BY species_id HAVING COUNT(species_id)>10 ORDER BY COUNT(species_id);\", connection_desert)\n",
        "print(dfKv)"
      ]
    },
    {
      "cell_type": "markdown",
      "metadata": {
        "id": "-OZu9_FrX50D"
      },
      "source": [
        "# In class question:\n",
        "\n",
        "\n",
        "1.\tUsing sqlite3, add a table to this existing database that includes researcher names (feel free to make some up), and other data     (cell below shows you how to add a table to a database)\n",
        " 2\n",
        "2.\tExtract only the following information to the screen (a print statement is fine): species=\"PE\", sex and where the animal was trapped. Remove any NULL elements. How many individuals meet these criteria3\n",
        "\n",
        "3.\tOnly include the top 40 largest individual rodents. You will need to use the LIMIT command. The data should include species_id, year and weight and the individuals should be sorted in descending order (with any 'ties' broken based on hindfoot_length). Export the results to a file called: \"Rodents_of_Unusual_size_YoueNam44.\n",
        "\n",
        "4.\tWrite a query that results in the mean hindfoot_length for each species represented in the database.  The column for mean hindfoot_length will be called mean_length, have values with only 2 decimal places, there will be no null mean_length values and no 0 mean_length values should be included in the final res55t.\n",
        "\n",
        "5.\tCombine the Desert_ecol_info example table with a column that lists the taxonomy of the species shorthand (this will be in species_info table) and the information about the plot where the individual was sampled (plots table). Ensure that there is only one species_id and plot_id column included in the r66ult.\n",
        "\n",
        "6.\tWrite a query that lists the date that the survey took place (year, month and day). DO NOT INCLUDE DUPLICATE DATES (hint: you will need to use the DISTINCT command which we didn't seein class).\n",
        "troduced groups.\n"
      ]
    },
    {
      "cell_type": "code",
      "execution_count": null,
      "metadata": {
        "id": "Hmp7pzd3X50D",
        "outputId": "c61232fc-72ad-413d-bd50-9ee9f254bd1f"
      },
      "outputs": [
        {
          "name": "stdout",
          "output_type": "stream",
          "text": [
            "JOIN demo\n",
            "       record_id  plot_id species_id             genus    species    taxa\n",
            "0              1        2         NL           Neotoma   albigula  Rodent\n",
            "1              2        3         NL           Neotoma   albigula  Rodent\n",
            "2              3        2         DM         Dipodomys   merriami  Rodent\n",
            "3              4        7         DM         Dipodomys   merriami  Rodent\n",
            "4              5        3         DM         Dipodomys   merriami  Rodent\n",
            "...          ...      ...        ...               ...        ...     ...\n",
            "34781      35544       15         US           Sparrow        sp.    Bird\n",
            "34782      35545       15         AH  Ammospermophilus    harrisi  Rodent\n",
            "34783      35546       15         AH  Ammospermophilus    harrisi  Rodent\n",
            "34784      35547       10         RM   Reithrodontomys  megalotis  Rodent\n",
            "34785      35548        7         DO         Dipodomys      ordii  Rodent\n",
            "\n",
            "[34786 rows x 6 columns]\n"
          ]
        }
      ],
      "source": [
        "# JOIN along with ON knits together the columns of two tables.\n",
        "# ON is a bit like a filtering condition...\n",
        "print(\"JOIN demo\")\n",
        "dfJoin=pd.read_sql_query(\"SELECT Desert_ecol_info.record_id,Desert_ecol_info.plot_id,Desert_ecol_info.species_id,species_info.genus,species_info.species,species_info.taxa FROM Desert_ecol_info JOIN species_info ON Desert_ecol_info.species_id=species_info.species_id;\", connection_desert)\n",
        "print(dfJoin)"
      ]
    },
    {
      "cell_type": "markdown",
      "metadata": {
        "id": "n4G1JTiFX50D"
      },
      "source": [
        "#####  How can we emulate merging on primary keys using pandas functions?\n",
        "Here's a clear manual for merging pandas dataframes using keys.\n",
        "https://chrisalbon.com/python/data_wrangling/pandas_join_merge_dataframe/"
      ]
    },
    {
      "cell_type": "code",
      "execution_count": null,
      "metadata": {
        "id": "kLyu7ax4X50D"
      },
      "outputs": [],
      "source": []
    }
  ],
  "metadata": {
    "kernelspec": {
      "display_name": "Python 3 (ipykernel)",
      "language": "python",
      "name": "python3"
    },
    "language_info": {
      "codemirror_mode": {
        "name": "ipython",
        "version": 3
      },
      "file_extension": ".py",
      "mimetype": "text/x-python",
      "name": "python",
      "nbconvert_exporter": "python",
      "pygments_lexer": "ipython3",
      "version": "3.11.5"
    },
    "colab": {
      "provenance": []
    }
  },
  "nbformat": 4,
  "nbformat_minor": 0
}