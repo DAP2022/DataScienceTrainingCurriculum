{
  "cells": [
    {
      "cell_type": "markdown",
      "id": "9aa7cb88-aa80-42cf-b8e6-aac2843794bb",
      "metadata": {
        "id": "9aa7cb88-aa80-42cf-b8e6-aac2843794bb"
      },
      "source": [
        "# Summary:\n",
        "1. For loops\n",
        "2. Conditions: if elif else\n",
        "3. While loops\n",
        "\n",
        "# Today\n",
        "\n",
        "**FUN**CTIONS\n",
        "\n",
        "\n",
        "### Procedural programming (so does Object Oriented Programming,OOP --> Intro to Python II) has an emphasis on bundling repeatable 'chunks' together in:\n",
        "\n",
        "A. for loops\n",
        "\n",
        "B. Functions\n",
        "\n",
        "    --> When you bundle up functions, you can create Modules and, eventually, when they get too large, external libraries/packages"
      ]
    },
    {
      "cell_type": "markdown",
      "id": "c32b76f9-9800-4a5c-bd1e-2d01b4e7455b",
      "metadata": {
        "id": "c32b76f9-9800-4a5c-bd1e-2d01b4e7455b"
      },
      "source": [
        "# Functions\n",
        "\n",
        "* the important principles of modularization (breaking down into discrete chunks) and repetition in programming (I tend to think of this, generally, as encapsulation but encapsulation has the connotation of OOP which we haven't covered yet).\n",
        "\n",
        "* the inventor of the \"subroutine\" (function): https://en.wikipedia.org/wiki/Kathleen_Antonelli\n",
        "\n",
        "* We've already seen some built in methods that are associated with particular data type.\n",
        "    * ie. .upper(), lower(), len(), str()\n",
        "    \n",
        "* We've also seen built in functions that work more generally and might even work differently depending on the arguments that they are given\n",
        "    *  range()\n",
        "        * range(6) or range(0,6) result in: [0,1,2,3,4,5]\n",
        "        * range(1,6,3) results in: [1,4] since it encompasses the range from 1-6 with steps of size 4\n",
        "    * type() – returns type of data that is input as argument\n",
        "    * float() – converts integer to a float\n",
        "    * round()- rounds floats\n",
        "    * max() – takes any number of arguments and returns the largest one. Hard to use on strings so use of floats and integers\n",
        "    * min() – opposite of max()\n",
        "    * abs() – absolute value but only takes one argument\n",
        "\n",
        "Here is the link to more built in functions:\n",
        "https://docs.python.org/3/library/functions.html\n",
        "\n",
        "## Modules:\n",
        "\n",
        "* Python (and most other languages) have built-in functions that are general use\n",
        "* Modules and libraries (we’ll learn about them later) are a way to address discipline-centric functions\n",
        "    * Sometimes, we will will need to write a particular function for our own specific research needs\n",
        "    \n",
        "* We can import modules (we saw this in an earlier example) that contain functions and variables or we can create our own:\n",
        "\n",
        "<div class=\"alert alert-block alert-warning\">\n",
        "\n",
        "        \n",
        "        import math   \n",
        "#you can also import ALL functions from a module by using the astericks symbol, *\n",
        "\n",
        "        print(math.sqrt(100))\n",
        "        \n",
        " <div class=\"alert alert-block alert-warning\">\n",
        "    \n",
        "    \n",
        "#or, equivalently, we can bring in just one function from a module like so:\n",
        "        \n",
        "\t\tfrom math import sqrt\n",
        "\t\tprint(sqrt(100))"
      ]
    },
    {
      "cell_type": "markdown",
      "id": "3dbeb511-e744-4fcb-b22c-dce94a6128a0",
      "metadata": {
        "id": "3dbeb511-e744-4fcb-b22c-dce94a6128a0"
      },
      "source": [
        "## Creating our OWN FUNCTIONS offers a number of advantages:\n",
        "* Allows us to re-use a block of code many times\n",
        "        * Reusable piece of code; allows for repeatability\n",
        "* If we need to change the code, we only have to do it to the one function (instead of each time it is called in a program)\n",
        "* Encapsulation (an important programming idea) Splitting code into functions, into little chunks that we can work on independently\n",
        "        * benefits of modularization\n",
        "        * Can use the block of code in other programs\n",
        "### Parts of a function:\n",
        "1. Header\n",
        "    * def keyword – there are nomenclature rules\n",
        "    * :\n",
        "    * parameters – name of argument that located between ()\n",
        "          * Variable number of arguments *args\n",
        "                  * Passed into the function,\n",
        "                  * Ex: def hello_world():\n",
        "2. (optional) comment\n",
        "    * explanation of function following #\n",
        "3. Body\n",
        "    * The procedures of the function, indented four spaces\n",
        "\n",
        "**example: **\n",
        "<div class=\"alert alert-block alert-warning\">\n",
        "    \n",
        "    def function_name(argument or nothing at all):\n",
        "           Blah\n",
        "           Blah\n",
        "           Blah\n",
        "           return something\n"
      ]
    },
    {
      "cell_type": "markdown",
      "id": "0efa5f87-06a3-4142-b03e-920039359f97",
      "metadata": {
        "id": "0efa5f87-06a3-4142-b03e-920039359f97"
      },
      "source": [
        "* NB: There is a BIG difference between defining a function and calling it\n",
        "\n",
        "    * After defining a function, you must call it in order for it to be execute\n",
        "    \n",
        "    * **Functions return to where they are called from**\n",
        "    \n",
        "    * return prompts Python to exit the function and  assign any values on the return line to the variable that called the function in the first place. It is easy to forget to give a return line in which case python supplies “None” for you\n",
        "    \n",
        "    * To summarise: **the calling function suspends execution at the point of the call, the body of the function is executed, and control is returned to just after the point where the function was called.**\n",
        "    \n",
        "    * Similar **scoping rules** apply to functions as to loops. That is: variables created within the body of a function cannot be called outside of the function or you will get a NameError"
      ]
    },
    {
      "cell_type": "code",
      "execution_count": null,
      "id": "524492c2-e117-4d51-b073-283cb8b15bde",
      "metadata": {
        "id": "524492c2-e117-4d51-b073-283cb8b15bde",
        "outputId": "3270a295-c855-4457-d74b-34223745cb92"
      },
      "outputs": [
        {
          "name": "stdout",
          "output_type": "stream",
          "text": [
            "10 to the power of 2 is: 100\n",
            "here is the return statement to orient me\n",
            "10 to the power of 2 is: 100\n",
            "here is the return statement to orient me\n",
            "2\n",
            "100\n"
          ]
        }
      ],
      "source": [
        "# here you are defining the function\n",
        "# This function raises a given number to a given power\n",
        "\n",
        "#you are passing in two arguments to the function when you call the function from the main\n",
        "# part of the program\n",
        "def power_to(base,exponent):\n",
        "    res = base**exponent\n",
        "    print(str(base)+ \" to the power of \" + str(exponent)+ \" is: \" +str(res))\n",
        "    print(\"here is the return statement to orient me\")\n",
        "    # The function returns something, but it doesn't HAVE TO (see examples below).\n",
        "    return res\n",
        "\n",
        "#here you are calling the function\n",
        "result_main=2\n",
        "power_to(10,2)\n",
        "result_again=power_to(10,2)\n",
        "# Why does this raise an exception?\n",
        "#print(res)\n",
        "#print(base)\n",
        "# This error should help you with scope.\n",
        "\n",
        "print(result_main)\n",
        "print(result_again)"
      ]
    },
    {
      "cell_type": "markdown",
      "id": "1958d7c7-fcd1-4fba-8362-3f02dfdbe5bf",
      "metadata": {
        "id": "1958d7c7-fcd1-4fba-8362-3f02dfdbe5bf"
      },
      "source": [
        "### Revisiting scope\n",
        "\n",
        "* Scope  - is the region of the program from which a variable can be referenced. It is the hierarchical order in which namespace is searched to find the object. ** L.E.G.B ** is the acronym for how scope officially works: Local, Enclosed, Global and Built-in. Local can only be 'reached' by their local environment (Function), Enclosed is accessed from inside nested function, Global is accessed anywhere in the program and Built-in are reserved names in Python (like keywords such as 'def').\n",
        "\n",
        "* The only way that a function can see a variable from another function (including the main body of the program itself) *is if the variable is passed as an argument/parameter to the function itself*\n",
        "\n",
        "* Local variables (within the function) cease to exist once the function is completed - the local variables are released from memory once the function is finished (so the memory is erased)...\n",
        "\n",
        "* Potential Confusion Warning: We saw the idea of scope when we discussed loops. Keep in mind that variables that are passed into a function don’t change their value outside of the function (ie. in the main body of the program)…usually. This is because most variables that we are interested in using are immutable such as numbers and tuples (python passes them ‘by value’). However, we were also talking about *iterating over lists* and confusingly, lists work a little bit differently than regular variables because they are made up of pointers rather than actual data/variables. Thus, they can be manipulated/changed from within a loop (called 'changed in place') and maintain that difference even once the loop is finished. Mutable data types such as lists CAN HAVE THEIR VALUE CHANGED by a function and passed back to the call where **it will remain changed.** However, this is not true of most variables since most variable are immutable."
      ]
    },
    {
      "cell_type": "code",
      "execution_count": null,
      "id": "baa79e57-527d-489f-bd05-ed2d3721002b",
      "metadata": {
        "id": "baa79e57-527d-489f-bd05-ed2d3721002b",
        "outputId": "03ae3aca-483e-48ec-87d9-811afd62197b"
      },
      "outputs": [
        {
          "name": "stdout",
          "output_type": "stream",
          "text": [
            "Inside the function. The value of num is: \n",
            "14\n",
            "after being sent through the change_by_two function, the value of mynum2 set in the program is: \n",
            "14\n",
            "but the original value of mynum set in the program is still: \n",
            "7\n",
            "--------------\n"
          ]
        }
      ],
      "source": [
        "# functions usually don't change the values of passed parameters however, if you are using lists - which contain pointers rather\n",
        "# than actual values, functions that are called CAN change the value of elements of the list.\n",
        "\n",
        "def change_num_by_two(num):\n",
        "    #num = 2*num\n",
        "    num *= 2\n",
        "    print(\"Inside the function. The value of num is: \")\n",
        "    print(num)\n",
        "    return num\n",
        "\n",
        "mynum = 7\n",
        "mynum2 = change_num_by_two(mynum)\n",
        "\n",
        "print(\"after being sent through the change_by_two function, the value of mynum2 set in the program is: \")\n",
        "print(mynum2)\n",
        "print(\"but the original value of mynum set in the program is still: \")\n",
        "print(mynum)\n",
        "print(\"--------------\")"
      ]
    },
    {
      "cell_type": "code",
      "execution_count": null,
      "id": "a65857eb-fd57-4950-ab0c-64b4d3ff44b1",
      "metadata": {
        "id": "a65857eb-fd57-4950-ab0c-64b4d3ff44b1",
        "outputId": "13b6a098-53c0-4ca6-ef5c-ab2c8048e19f"
      },
      "outputs": [
        {
          "name": "stdout",
          "output_type": "stream",
          "text": [
            "Here is the first element of the list before we call the function: \n",
            "7\n",
            "did I get here?\n",
            "14\n",
            "there is nothing in this list\n",
            "14\n",
            "[14, 6, 5, 4, 3]\n"
          ]
        }
      ],
      "source": [
        "#compare this to passing a list\n",
        "\n",
        "# note: you should put all of your function definitions at the top of your program\n",
        "\n",
        "def change(my_list):\n",
        "    if(len(my_list)>0):\n",
        "        print(\"did I get here?\")\n",
        "        my_list[0]=my_list[0]*2\n",
        "        print(my_list[0])\n",
        "    else:\n",
        "        print(\"there is nothing in this list\")\n",
        "\n",
        "mylist=[7,6,5,4,3]\n",
        "empty_list=[]\n",
        "print(\"Here is the first element of the list before we call the function: \")\n",
        "print(mylist[0])\n",
        "#print(\"Can I call the variable my_list from outside of the function?\")\n",
        "#print(my_list)\n",
        "# Calling the function change on two different lists:\n",
        "change(mylist)\n",
        "change(empty_list)\n",
        "#------------\n",
        "print(mylist[0])\n",
        "print(mylist)\n",
        "# Has the list been changed outside of the function? Is that what you would expect? Why or why not? We can revist pythontutor.org for\n",
        "# a hint on why lists can be modified from within a loop or a function... whereas other variables cannot be."
      ]
    },
    {
      "cell_type": "code",
      "execution_count": null,
      "id": "5c3b02f6-015a-4587-bd51-a130c028a4e3",
      "metadata": {
        "id": "5c3b02f6-015a-4587-bd51-a130c028a4e3",
        "outputId": "31ea6da6-f792-434e-f3f7-ee473ad5c7c5"
      },
      "outputs": [
        {
          "name": "stdout",
          "output_type": "stream",
          "text": [
            "You've just entered the clinic!\n",
            "Do you take the door on the left or the right?\n"
          ]
        },
        {
          "name": "stdin",
          "output_type": "stream",
          "text": [
            "Type left or right and hit 'Enter'. r\n"
          ]
        },
        {
          "name": "stdout",
          "output_type": "stream",
          "text": [
            "Of course this is the Argument Room, I've told you that already!\n",
            "None\n"
          ]
        }
      ],
      "source": [
        "# we saw this example previously:\n",
        "# this example explicitly points out some simple ways to use if/elif/else statements\n",
        "# with user-inputted information to ensure that the user submitted what was expected!\n",
        "# this function does not have a explicitly defined return statement.\n",
        "# Note that it STILL IS returning something -- it is printing to the screen\n",
        "# ----------------\n",
        "def clinic():\n",
        "    print(\"You've just entered the clinic!\")\n",
        "    print(\"Do you take the door on the left or the right?\")\n",
        "    answer = input(\"Type left or right and hit 'Enter'.\").lower()\n",
        "    if answer == \"left\" or answer == \"l\":\n",
        "        print(\"This is the Verbal Abuse Room, you heap of parrot droppings!\")\n",
        "    elif answer == \"right\" or answer == \"r\":\n",
        "        print(\"Of course this is the Argument Room, I've told you that already!\")\n",
        "    else:\n",
        "        print(\"You didn't pick left or right! Try again.\")\n",
        "\n",
        "# Call the clinic function here!\n",
        "# remember that there is a difference between defining a function - as we did above -\n",
        "# and ACTUALLY CALLING IT.\n",
        "clinic()"
      ]
    },
    {
      "cell_type": "code",
      "execution_count": null,
      "id": "dc2a9d3a-ac6c-4616-8ace-7744159d12e8",
      "metadata": {
        "id": "dc2a9d3a-ac6c-4616-8ace-7744159d12e8",
        "outputId": "d0dd8a7e-fe71-465f-cbd0-bae4ef29cb13"
      },
      "outputs": [
        {
          "name": "stdout",
          "output_type": "stream",
          "text": [
            "True\n",
            "False\n",
            "True\n",
            "False\n"
          ]
        }
      ],
      "source": [
        "def is_GandC_rich(dna):\n",
        "    length = len(dna)\n",
        "    g_count = dna.upper().count(\"G\")\n",
        "    c_count = dna.upper().count(\"C\")\n",
        "    # not the same question as the homework since this one is interested in how rich an area is in both G and C independently\n",
        "    gc_count=(g_count + c_count)/length\n",
        "    if gc_count > 0.65:\n",
        "        return True\n",
        "    else:\n",
        "        return False\n",
        "#   return gc_content>0.65\n",
        "\n",
        "print(is_GandC_rich(\"CGCGCGTACG\"))\n",
        "print(is_GandC_rich(\"ATATATATATA\"))\n",
        "# --------------\n",
        "# Another slightly more efficient version of the same code:\n",
        "# The above can be re-written to be more concise\n",
        "def is_GandC_rich(dna):\n",
        "    length = len(dna)\n",
        "    g_count = dna.upper().count(\"G\")\n",
        "    c_count = dna.upper().count(\"C\")\n",
        "    gc_count=(g_count + c_count)/length\n",
        "    return gc_count > 0.65\n",
        "\n",
        "\n",
        "print(is_GandC_rich(\"CGCGCGTACG\"))\n",
        "print(is_GandC_rich(\"ATATATATATA\"))"
      ]
    },
    {
      "cell_type": "code",
      "execution_count": null,
      "id": "6b721e9d-c628-4a51-9cb3-945a2c64ad56",
      "metadata": {
        "id": "6b721e9d-c628-4a51-9cb3-945a2c64ad56",
        "outputId": "174be7a2-de46-4caf-cc8e-44447cdd9744"
      },
      "outputs": [
        {
          "name": "stdout",
          "output_type": "stream",
          "text": [
            "3628800\n"
          ]
        }
      ],
      "source": [
        "#another example of counting down with a while loop\n",
        "def factorial(x):\n",
        "    fac=1\n",
        "    while x!=0:\n",
        "        fac=fac*x\n",
        "        x=x-1\n",
        "    return fac\n",
        "print(factorial(10))"
      ]
    },
    {
      "cell_type": "markdown",
      "id": "c6ea952c-b92d-4daf-9c3a-5ea12ed5c3cc",
      "metadata": {
        "id": "c6ea952c-b92d-4daf-9c3a-5ea12ed5c3cc"
      },
      "source": [
        "## Functions can call *other* functions\n",
        "* In fact, Functions can call *THEMSELVES*. This is called recursion, and it will be used in phylogeny construction.\n",
        "\n",
        "I really want you to work through these examples and make sure you understand where the program is calling/running in the code. PythonTutor will probably help with this visualization.\n",
        "\n",
        "<div class=\"alert alert-block alert-warning\">\n",
        "example:\n",
        "    \n",
        "    def one_good_turn(n):\n",
        "       return n + 1   \n",
        "\n",
        "    def deserves_another(n):\n",
        "       return one_good_turn(n) + 2\n",
        "    \n",
        "    print(deserves_another(10))"
      ]
    },
    {
      "cell_type": "code",
      "execution_count": null,
      "id": "6ab65fe6-56c7-4e9a-9f3d-68654071bbca",
      "metadata": {
        "id": "6ab65fe6-56c7-4e9a-9f3d-68654071bbca"
      },
      "outputs": [],
      "source": [
        "def one_good_turn(n):\n",
        "    return n + 1\n",
        "\n",
        "def deserves_another(n):\n",
        "    #return one_good_turn(n+2)\n",
        "    return one_good_turn(n) + 2\n",
        "\n",
        "#main body of the program\n",
        "print(deserves_another(10)) #calls the function deserves_another"
      ]
    },
    {
      "cell_type": "code",
      "execution_count": null,
      "id": "bb3b312b-46c8-428d-8855-0453ab5920ce",
      "metadata": {
        "id": "bb3b312b-46c8-428d-8855-0453ab5920ce",
        "outputId": "bd0882c4-19fe-4abb-cb22-7200c801d329"
      },
      "outputs": [
        {
          "name": "stdout",
          "output_type": "stream",
          "text": [
            "Call the DAP function which, in turn, calls the ran function\n",
            "1\n",
            "__________\n",
            "y:\n",
            "2\n",
            "z:\n",
            "3\n",
            "3\n",
            "19683\n"
          ]
        }
      ],
      "source": [
        "def ran(x):\n",
        "    x=42\n",
        "    return 2\n",
        "\n",
        "def DAP(x):\n",
        "    # here the second function, ran() is called from the middle of the first function\n",
        "    y=ran(x)\n",
        "    print(x)\n",
        "    print(\"_\"*10)\n",
        "    print(\"y:\")\n",
        "    print(y)\n",
        "    z=x+y\n",
        "    print(\"z:\")\n",
        "    print(z)\n",
        "    return z\n",
        "\n",
        "print(\"Call the DAP function which, in turn, calls the ran function\")\n",
        "print(DAP(1))\n",
        "##### ------------------\n",
        "# Another example just because I enjoy them so much!\n",
        "def cube(number):\n",
        "    return number**3\n",
        "\n",
        "def by_three(number):\n",
        "    if number%3 ==0:\n",
        "        return cube(number)\n",
        "    else:\n",
        "        return False\n",
        "\n",
        "print(by_three(27))"
      ]
    },
    {
      "cell_type": "markdown",
      "id": "ebab9985-1381-42a4-a855-34b4abca8a7a",
      "metadata": {
        "id": "ebab9985-1381-42a4-a855-34b4abca8a7a"
      },
      "source": [
        "## Other Miscellaneous facts about functions\n",
        "* Functions don’t necessarily have to return a value\n",
        "    * If no return, they will return None\n",
        "* Functions don’t need to take arguments\n",
        "* Functions don’t need to take arguments in particular order if you include a key word\n",
        "* Function arguments can have defaults\n",
        "* Functions can use *args, an argument passed into a function that **allows a flexible number of items to be inputted when the function is called**\n",
        "\n",
        "## Calling a function\n",
        "* What return value/type?\n",
        "* What argument type/number?\n",
        "* Sometimes you also need to know the order of the arguments\n",
        "    1. Key word arguments:\n",
        "        * Allows us to call functions with list of variables in whatever order we like\n",
        "    2. Defaults:\n",
        "        * Allows us to specify default values for arguments\n"
      ]
    },
    {
      "cell_type": "code",
      "execution_count": null,
      "id": "4a0b39f9-508c-4dbe-84e7-2679164becc8",
      "metadata": {
        "id": "4a0b39f9-508c-4dbe-84e7-2679164becc8"
      },
      "outputs": [],
      "source": [
        "# In this case, we don't care if the A and the T are neighbours, we just care\n",
        "# about the total percentage of A and T in the sequence since it can be informative about mutation rates:\n",
        "# https://journals.plos.org/plosgenetics/article?id=10.1371/journal.pgen.1001115\n",
        "\n",
        "def get_at_content(dna,sig_dig=2):\n",
        "# notice that we are passing two arguments to this function and\n",
        "# one of them has a default value also sig_dig is a keyword\n",
        "    length=len(dna)\n",
        "    #print(length)\n",
        "    a_count=dna.upper().count(\"A\")\n",
        "    t_count=dna.upper().count(\"T\")\n",
        "    at_content=(a_count+t_count)/length\n",
        "      #built in function round takes argument and number of decimal points\n",
        "      #remember not to mix tabs and spaces, pick either tabs or 4 spaces but not both\n",
        "      #or python will raise an indentation error exception\n",
        "    print(round(at_content,sig_dig))\n",
        "\n",
        "# main part of the program\n",
        "my_at_content=get_at_content(\"ATATATATACGGGGGGGGG\")\n",
        "# no sig dig have been specified so it gives you the default of 2\n",
        "print(str(my_at_content))\n",
        "print(\"_______\")\n",
        "print(get_at_content(\"aactgtagcga\",5))\n",
        "# ------------------------------------------------------------\n",
        "# SAME EXAMPLE AS ABOVE BUT WITH A default for both arguments"
      ]
    },
    {
      "cell_type": "code",
      "execution_count": null,
      "id": "87c4a2b8-527a-4f6b-919a-eb7323a8f3c5",
      "metadata": {
        "id": "87c4a2b8-527a-4f6b-919a-eb7323a8f3c5"
      },
      "outputs": [],
      "source": [
        "def get_at_content(dna=\"ATATATATACGGGGGGGGG\",sig_dig=2):\n",
        "# notice that we are passing two arguments to this function and\n",
        "# one of them has a default value also sig_dig is a keyword\n",
        "    length=len(dna)\n",
        "    print(length)\n",
        "    a_count=dna.upper().count(\"A\")\n",
        "    t_count=dna.upper().count(\"T\")\n",
        "    at_content=(a_count+t_count)/length\n",
        "      #built in function round takes argument and number of decimal points\n",
        "      #remember not to mix tabs and spaces, pick either tabs or 4 spaces but not both\n",
        "      #or python will raise an indentation error exception\n",
        "    print(at_content)\n",
        "    return round(at_content,sig_dig)\n",
        "\n",
        "# Since both arguments have defaults, you don't have to provide an argument\n",
        "my_at_content=get_at_content()\n",
        "# no sig dig have been specified so it gives you the default of 2\n",
        "print(str(my_at_content))\n",
        "print(\"_______\")\n",
        "# IN FACT BY USING KEY WORDS, YOU DON'T EVEN HAVE TO PROVIDE THE ARGUMENTS IN THE SAME ORDER!\n",
        "print(get_at_content(sig_dig=5,dna=\"aactgtagcga\"))"
      ]
    },
    {
      "cell_type": "code",
      "execution_count": null,
      "id": "df4beb06-6c70-49f5-b8fe-ebc18d732899",
      "metadata": {
        "id": "df4beb06-6c70-49f5-b8fe-ebc18d732899",
        "outputId": "afe8aec2-555c-4d16-a32a-8a3c2319eb5e"
      },
      "outputs": [
        {
          "name": "stdout",
          "output_type": "stream",
          "text": [
            "First let's print the whole file: \n",
            "\n",
            "Drosophila melanogaster,atatatatatcgcgtatatatacgactatatgcattaattatagcatatcgatatatatatcgatattatatcgcattatacgcgcgtaattatatcgcgtaattacga,kdy647,264\n",
            "Drosophila melanogaster,actgtgacgtgtactgtacgactatcgatacgtagtactgatcgctactgtaatgcatccatgctgacgtatctaagt,jdg766,185\n",
            "Drosophila simulans,atcgatcatgtcgatcgatgatgcatccgactatcgtcgatcgtgatcgatcgatcgatcatcgatcgatgtcgatcatgtcgatatcgt,kdy533,485\n",
            "Drosophila yakuba,cgcgcgctcgcgcatacggcctaatgcgcgcgctagcgatgc,hdt739,85\n",
            "Drosophila ananassae,ttacgatcgatcgatcgatcgatcgtcgatcgtcgatgctacatcgatcatcatcggattagtcacatcgatcgatcatcgactgatcgtcgatcgtagatgctgacatcgatagca,hdu045,356\n",
            "Drosophila ananassae,gcatcgatcgatcgcggcgcatcgatcgcgatcatcgatcatacgcgtcatatctatacgtcactgccgcgcgtatctacgcgatgactagctagact,teg436,222\n",
            "\n",
            "Now let's rewind this file like a tape. \n",
            "\n",
            "Let's print these three lines: \n",
            "1 Drosophila melanogaster,atatatatatcgcgtatatatacgactatatgcattaattatagcatatcgatatatatatcgatattatatcgcattatacgcgcgtaattatatcgcgtaattacga,kdy647,264\n",
            "\n",
            "2 Drosophila melanogaster,actgtgacgtgtactgtacgactatcgatacgtagtactgatcgctactgtaatgcatccatgctgacgtatctaagt,jdg766,185\n",
            "\n",
            "3 Drosophila simulans,atcgatcatgtcgatcgatgatgcatccgactatcgtcgatcgtgatcgatcgatcgatcatcgatcgatgtcgatcatgtcgatatcgt,kdy533,485\n",
            "\n"
          ]
        }
      ],
      "source": [
        "# this was an attempt to bring together a bunch of ideas that we have seen already.\n",
        "# it is a slightly more complicated program that calls a bunch of functions on a file object\n",
        "# I used it with a file called data.csv which has a couple of lines of sequence data\n",
        "# in it.\n",
        "\n",
        "# we don't need this function for this example but maybe students could figure out how to\n",
        "# appropriately call it and use it?\n",
        "def print_all(f):\n",
        "    print(f.read())\n",
        "\n",
        "def rewind(f):\n",
        "    #What do you think the .seek method of file objects does?\n",
        "    f.seek(0)\n",
        "\n",
        "def print_a_line(line_count,f):\n",
        "    print(line_count,f.readline())\n",
        "\n",
        "# create a file object called current_file:\n",
        "current_file=open('data.csv')\n",
        "\n",
        "print(\"First let's print the whole file: \\n\")\n",
        "print_all(current_file)\n",
        "print(\"Now let's rewind this file like a tape. \\n\")\n",
        "\n",
        "#call the rewind function and use our FILE OBJECT as the argument to the function\n",
        "rewind(current_file)\n",
        "\n",
        "print(\"Let's print these three lines: \")\n",
        "\n",
        "# in the following commands, we COULD BUNDLE THEM MORE EFFICIENTLY AS A LOOP!!\n",
        "current_line=1\n",
        "print_a_line(current_line,current_file)\n",
        "\n",
        "current_line=current_line+1\n",
        "print_a_line(current_line,current_file)\n",
        "\n",
        "current_line=current_line+1\n",
        "print_a_line(current_line,current_file)\n",
        "\n",
        "# ALWAYS CLOSE OUR FILE OBJECT!\n",
        "current_file.close()"
      ]
    },
    {
      "cell_type": "code",
      "execution_count": null,
      "id": "6248b567-ed0c-447b-b40d-be7d00fa947a",
      "metadata": {
        "id": "6248b567-ed0c-447b-b40d-be7d00fa947a"
      },
      "outputs": [],
      "source": [
        "def get_at_content(dna=\"ATCG\",sig_dig=1):\n",
        "    length=len(dna)\n",
        "    print(\"here i am in the function\")\n",
        "    print(length)\n",
        "    a_count=dna.count(\"A\")\n",
        "    t_count=dna.count(\"T\")\n",
        "    c_count=dna.count(\"C\")\n",
        "    g_count=dna.count(\"G\")\n",
        "    at_content=(a_count+t_count)/length\n",
        "    print(\"a and t content\")\n",
        "    print(at_content)\n",
        "    return round(at_content,sig_dig)\n",
        "\n",
        "# main body of program begins here\n",
        "filename=\"dna5.txt\"\n",
        "#creating file object\n",
        "f=open(filename)\n",
        "# interact with file object using methods\n",
        "contents=f.read().rstrip(\"\\n\")\n",
        "print(\"Here we are in the main body of the program\")\n",
        "print(contents)\n",
        "print(get_at_content(contents,4))\n",
        "print(\"~~~~~~~~~~~~~~~~~~~~\")\n",
        "print(\"Default values: \",get_at_content())"
      ]
    },
    {
      "cell_type": "markdown",
      "id": "1fb9d7c3-b421-451e-9b39-53692e483762",
      "metadata": {
        "id": "1fb9d7c3-b421-451e-9b39-53692e483762"
      },
      "source": [
        "# Functions can take lists as input\n",
        "* Functions can take lists as arguments\n",
        "    * You can pass a list to a function the same way you pass any argument\n",
        "    * You will need to use one of the two formats:\n",
        "        function_name(listname) or function_name([list items])\n",
        "\n",
        "<div class=\"alert alert-block alert-warning\">\n",
        "example:\n",
        "   \n",
        "    def fizz_count(x):\n",
        "    #Define a function that counts the number of times \"fizz\" is in the list\n",
        "        count=0\n",
        "        for item in x:\n",
        "            if item==\"fizz\":\n",
        "                count=count+1\n",
        "        return count\n",
        "\n",
        "    fizz_count([\"fizz\",\"cat\",\"fizz\"])"
      ]
    },
    {
      "cell_type": "code",
      "execution_count": null,
      "id": "ca1d9399-18b5-4352-aacf-f60000e3faad",
      "metadata": {
        "id": "ca1d9399-18b5-4352-aacf-f60000e3faad"
      },
      "outputs": [],
      "source": [
        "def fizz_count(x):\n",
        "#Define a function that counts the number of times \"fizz\" is in the list\n",
        "    count=0\n",
        "    for item in x:\n",
        "        if item==\"fizz\":\n",
        "            count=count+1\n",
        "    return count\n",
        "\n",
        "# we can create a list with a name\n",
        "fizzy_list=[\"fizz\",\"cat\",\"fizz\"]\n",
        "# pass list name into the function\n",
        "print(fizz_count(fizzy_list))\n",
        "# or we can directly pass a list into the function\n",
        "print(fizz_count([\"fizz\",\"cat\",\"fizz\"]))"
      ]
    },
    {
      "cell_type": "markdown",
      "id": "f12aa2cd-2809-4524-84b2-c60c055409cf",
      "metadata": {
        "id": "f12aa2cd-2809-4524-84b2-c60c055409cf"
      },
      "source": [
        "# Functions can also take multiple lists as input\n",
        "\n",
        "<div class=\"alert alert-block alert-warning\">\n",
        "example:\n",
        "   \n",
        "    m = [1, 2, 3]\n",
        "    n = [4, 5, 6]\n",
        "\n",
        "    def join_lists(x,y):\n",
        "        return x+y\n",
        "    \n",
        "    print(join_lists(m, n))\n",
        "    # You want this to print [1, 2, 3, 4, 5, 6]\n",
        "    \n",
        "# Functions can also take FLEXIBLE number of arguments.\n",
        "\n",
        "<div class=\"alert alert-block alert-warning\">\n",
        "\n",
        "    Note that the important part of *args name isn't actually arg, it is *. https://realpython.com/python-kwargs-and-args/"
      ]
    },
    {
      "cell_type": "code",
      "execution_count": null,
      "id": "1a11d223-c396-48be-8324-d3835a06271e",
      "metadata": {
        "id": "1a11d223-c396-48be-8324-d3835a06271e",
        "outputId": "ce7ab6b1-96b0-462f-a8ee-e443177f6778"
      },
      "outputs": [
        {
          "name": "stdout",
          "output_type": "stream",
          "text": [
            "[1, 2, 3, 4, 5, 6]\n"
          ]
        }
      ],
      "source": [
        "# Functions can also take multiple lists as input\n",
        "def join_lists(x,y):\n",
        "    return x+y\n",
        "\n",
        "m = [1, 2, 3]\n",
        "n = [4, 5, 6]\n",
        "\n",
        "print(join_lists(m, n))"
      ]
    },
    {
      "cell_type": "code",
      "execution_count": null,
      "id": "48c1609a-647d-4381-940b-157e3050ee77",
      "metadata": {
        "id": "48c1609a-647d-4381-940b-157e3050ee77",
        "outputId": "8263bd85-d6ad-4db7-ec57-656aa6b72fc4"
      },
      "outputs": [
        {
          "name": "stdout",
          "output_type": "stream",
          "text": [
            "How about with FOUR arguments provided: \n",
            "10\n",
            "What about with only two arguments provided: \n",
            "3\n",
            "0\n"
          ]
        }
      ],
      "source": [
        "# *args means it is expecting a range of arguments.\n",
        "def my_sum(*args):\n",
        "    result = 0\n",
        "    # Iterating over the Python args tuple\n",
        "    for x in args:\n",
        "        result += x\n",
        "    return result\n",
        "\n",
        "print(\"How about with FOUR arguments provided: \")\n",
        "print(my_sum(1,2,3,4))\n",
        "print(\"What about with only two arguments provided: \")\n",
        "print(my_sum(1,2))\n",
        "#print(my_sum())"
      ]
    },
    {
      "cell_type": "markdown",
      "metadata": {
        "id": "c5c7cc1e-fb12-4271-8d05-24da6bb1e846"
      },
      "source": [
        "## It is your 'assignment' for your certificate of completion:\n",
        "A DNA string is called an open reading frame (ORF) if it begins with 'ATG', ends with 'TGA', 'TAG', or 'TAA', and has a length that is a multiple of 3. ORFs are interesting because they can encode proteins.\n",
        "1. Write a function called ORFadviser(DNA) that takes a USER PROVIDED string called DNA as input and works as follows:\n",
        "\n",
        "The function returns the string 'This is an ORF.' if the input string satisfies **all three** of the conditions required of ORFs.\n",
        "Otherwise, if the first three symbols are not 'ATG', the function returns the string 'The first three bases are not ATG.'.\n",
        "Otherwise, if the string does not end with 'TGA', 'TAG', or 'TAA', the function returns the string 'The last three bases are not a stop codon.'. Otherwise, the function returns the string 'The string is not of the correct length'.\n",
        "\n",
        "Test case: \"ATGAAATTTTGA\"\n",
        "\n",
        "2. Place this function into a module and call it from the module (not the main body of the code)\n",
        "   \n",
        "3. Use the provided dictionary to translate it into amino acids.\n",
        "\n",
        "* You will hand in the completed solution (we will work on most of the pieces of it during class) as part of module 1 assignment.'\n"
      ],
      "id": "c5c7cc1e-fb12-4271-8d05-24da6bb1e846"
    },
    {
      "cell_type": "markdown",
      "metadata": {
        "id": "2b93471f-2afc-43e7-b297-b00c87a0eb97"
      },
      "source": [
        "### Troubleshooting\n",
        "\n",
        "This is question 3 which you will hand in with some improvements (as you see fit) as your certificate of completion question for module\n",
        "1. During lecture when I taught this course in 2024, this function didn't work as expected -- it was allowing in strings that didn't have end in stop codons. I attempted to keep the same format/logic for line 9 as is present in line 7 and I made it work by getting rid of the pipe, \"|\", and using and OR statement instead. In Python \"|\" is OR but it is only for bitwise evaluation and I was -incorrectly and sloppily - attempting to use it as a logical evaluation. I have given a short example below that illustrates the difference between *or* (line 4) and pipe *\"|\"* (line 5).\n",
        "2. An even worse logical problem is that, as written, the code will evaluate \"TGG\" as a stop codon, even though there are only three stop codons specified by our problem: 'TGA', 'TAG', or 'TAA'. *HOW COULD WE AVOID THIS?* We could preprocess the string by inspecting the ending and seeing if it TGG, but this would sort of defeat the purpose of the function. A more practical solution, would probably be to use another nested if/else statement.\n",
        "\n",
        "** I mention the above because, point 2 in particular, is a prime example of using enough tester cases to ensure that there are wide variety of ways to 'break' your function and ensure that it really is doing what you expect it to be doing.**"
      ],
      "id": "2b93471f-2afc-43e7-b297-b00c87a0eb97"
    },
    {
      "cell_type": "code",
      "execution_count": null,
      "metadata": {
        "id": "56ae5180-6426-40ed-9130-de0b41358377",
        "outputId": "b275fe35-408e-44de-be74-140e470bd5ee"
      },
      "outputs": [
        {
          "name": "stdout",
          "output_type": "stream",
          "text": [
            "True\n",
            "14\n"
          ]
        }
      ],
      "source": [
        "# to illustrate this:\n",
        "a = 14\n",
        "b = 4\n",
        "\n",
        "print(a >10 or b>10)\n",
        "print(a|b)\n",
        "# The two lines above are both technically or, but one of them is logical or and the other is bitwise or."
      ],
      "id": "56ae5180-6426-40ed-9130-de0b41358377"
    },
    {
      "cell_type": "code",
      "execution_count": null,
      "metadata": {
        "id": "509379da-f575-4be9-bd84-03d2358271d7"
      },
      "outputs": [],
      "source": [
        "#Q3a\n"
      ],
      "id": "509379da-f575-4be9-bd84-03d2358271d7"
    },
    {
      "cell_type": "code",
      "execution_count": null,
      "metadata": {
        "id": "d260212f-c876-4f13-bfc1-16d6c2c572e6",
        "outputId": "218a95f3-2826-4159-f1b4-ab36660077f0"
      },
      "outputs": [
        {
          "name": "stdout",
          "output_type": "stream",
          "text": [
            "The DNA sequence is divisible by 3 AND the start codon is here!\n",
            "Hurray - this is a possible ORF\n"
          ]
        }
      ],
      "source": [
        "# we will see this in Module 2B! But here is the format (in advance) to discuss...\n",
        "import ORFFinder\n",
        "# remember to put the module in the correct file path - so that when Python 'looks' for it\n",
        "# it is found at the expected place.\n",
        "ORFFinder.ORFadvisor(\"ATGAAATTTTGA\")"
      ],
      "id": "d260212f-c876-4f13-bfc1-16d6c2c572e6"
    },
    {
      "cell_type": "markdown",
      "metadata": {
        "id": "bbf4b998-4050-4f61-95e7-1f2f3207ee1c"
      },
      "source": [
        "# Use the provided dictionary to translate it into amino acids.\n",
        "1. Break the string into threes (codons)\n",
        "      * for loop\n",
        "      * list\n",
        "2. take each codon and translate it to an amino acid\n",
        "      * use dictionary\n",
        "      * .get()\n",
        "3. amino acids bundled into a protein sequence"
      ],
      "id": "bbf4b998-4050-4f61-95e7-1f2f3207ee1c"
    },
    {
      "cell_type": "code",
      "execution_count": null,
      "metadata": {
        "id": "2e9bea8b-1162-449c-8339-7daa116a0ebf",
        "outputId": "2a16df64-4855-4dac-b294-df79b3a0182c"
      },
      "outputs": [
        {
          "name": "stdout",
          "output_type": "stream",
          "text": [
            "0\n",
            "['ATG']\n",
            "3\n",
            "['ATG', 'AAA']\n",
            "6\n",
            "['ATG', 'AAA', 'TTT']\n",
            "9\n",
            "['ATG', 'AAA', 'TTT', 'TGA']\n",
            "['ATG', 'AAA', 'TTT', 'TGA']\n"
          ]
        }
      ],
      "source": [
        "DNAseq=\"ATGAAATTTTGA\"\n",
        "codons=[]\n",
        "# make sure you really understand what lines 7 and 9 are doing - they are slicing by 3\n",
        "# and adding 3 to the iterator (nuc)on each pass so you don't include nucleotides twice accidentally\n",
        "# into neighboring codons\n",
        "# range(1), range(1,10), range(1,10,2)\n",
        "for nuc in range(0,len(DNAseq),3):\n",
        "    print(nuc)\n",
        "    codons.append(DNAseq[nuc:nuc+3])\n",
        "    print(codons)\n",
        "print(codons)"
      ],
      "id": "2e9bea8b-1162-449c-8339-7daa116a0ebf"
    },
    {
      "cell_type": "code",
      "execution_count": null,
      "metadata": {
        "id": "df173f84-9e21-4c83-bae5-5619f86f45ad"
      },
      "outputs": [],
      "source": [
        "gencode_1 = {\n",
        "    ('ATA','ATC', 'ATT'):'I','ATG':'M',\n",
        "    ('ACA','ACC','ACG','ACT'):'T',\n",
        "    ('AAC','AAT'):'N',('AAA','AAG'):'K',\n",
        "    ('AGC','AGT'):'S',('AGA','AGG'):'R',\n",
        "    ('CTA','CTC','CTG','CTT'):'L',\n",
        "    ('CCA','CCC','CCG','CCT'):'P',\n",
        "    ('CAC','CAT'):'H',('CAA','CAG'):'Q',\n",
        "    ('CGA','CGC','CGG','CGT'):'R',\n",
        "    ('GTA','GTC','GTG','GTT'):'V',\n",
        "    ('GCA','GCC','GCG','GCT'):'A',\n",
        "    ('GAC','GAT'):'D',('GAA','GAG'):'E',\n",
        "    ('GGA','GGC','GGG','GGT'):'G',\n",
        "    ('TCA','TCC','TCG','TCT'):'S',\n",
        "    ('TTC','TTT'):'F', ('TTA','TTG'):'L',\n",
        "    ('TAC','TAT'):'Y', ('TAA','TAG','TGA'):'_',\n",
        "    ('TGC','TGT'):'C','TGG':'W'}"
      ],
      "id": "df173f84-9e21-4c83-bae5-5619f86f45ad"
    },
    {
      "cell_type": "code",
      "source": [],
      "metadata": {
        "id": "lgs-2riq6wN0"
      },
      "id": "lgs-2riq6wN0",
      "execution_count": null,
      "outputs": []
    },
    {
      "cell_type": "markdown",
      "id": "e3a4a700-ca89-438f-8453-24f075382155",
      "metadata": {
        "id": "e3a4a700-ca89-438f-8453-24f075382155"
      },
      "source": [
        "# EXTRA MATERIAL IN CASE YOU ARE INTERESTED\n",
        "An example illustrating a simple function wherein I sneak in some Bayes' theorem because I love Bayes' and also because it harbours a fundamentally important philophy to computing, being able to update a prior probability/expectation based on new information.\n",
        "\n",
        "--------------------------------------\n",
        "\n",
        "#### BAYES IS SUPER IMPORTANT IN COMPUTING (especially with biological data):\n",
        "----------------------------------------\n",
        "* Functionally: it allows you to update your probability when you encounter new information or new evidence.\n",
        "\n",
        "Often we see Bayes' in the context of sensitivity and specificity of tests, like the tests for a certain disease. (https://en.wikipedia.org/wiki/Sensitivity_and_specificity)\n",
        "\n",
        "Example:\n",
        "\n",
        "Let's imagine that you are looking for an early indicator of a type of cancer. This cancer, call it cancer \"A\", is found at 1.5% of a population. Your research group has found a biomarker that is predictive of 80% of sufferers of this cancer.\n",
        "\n",
        "Most people (and, yes, sadly this does include physicians, who have been surveyed about this repeatedly and still mostly get it wrong) would conclude: \"80%?! That's great. That means if there is a positive test for this biomarker, the individual has an 80% chance of having cancer \"A\"\".\n",
        "\n",
        "However, THAT IS DEFINITELY NOT the correct interpretation.\n",
        "\n",
        "Is this surprisingly to you?\n",
        "\n",
        "In order to get to the correct interpretation, we need to know the answer to another question:\n",
        "\n",
        "**How many individual without the disease would get a positive result for this biomarker?**\n",
        "\n",
        "Let's plug in some numbers to illustrate the problem:\n",
        "--------------------------------------------------------------\n",
        "\n",
        "False positive rate = 4%\n",
        "True negative rate = 96%\n",
        "\n",
        "-------------------------\n",
        "\n",
        "True positive rate = 80%\n",
        "False negative rate = 20%\n",
        "\n",
        "-------------------------\n",
        "\n",
        "So, this test will only fail to identify 20 out of 100 sufferers, and it will only misdiagnose 4 out of 100 healthy individuals. Still sounds good, eh?\n",
        "\n",
        "Ah, but no.\n",
        "\n",
        "Let's use round numbers: We have a population of 10,000 individuals. We expect 1.5% of them to suffer from cancer A which means about 150 individuals have cancer A. Of this 150 sufferers, 120 of them will - accurately - get a positive test for the biomarker (based on the 80% true positive rate).\n",
        "\n",
        "But 9850 people in this population don't have cancer \"A\". And, with just a 4% false positive rate (which is quite low), we still expect there be 394 to test positive!\n",
        "\n",
        "If you are patient who has recieved a positive result, you will want to know \"what is the chance that i actually have cancer A?\".\n",
        "\n",
        "You have to **update** your probability. You walked into the clinic with a 1.5% chance of having cancer A, but now - with a positive test result - you have updated your probability to approximately 23%. This percentage comes from the fact that there are 514 positive individuals over all, (120 true positives and 394 false positives).  \n",
        "\n",
        "Notably, this is not 80%, though!\n",
        "\n",
        "(* note: these numbers are for the CA-125 biomarker used to detect ovarian cancer, with a lifetime risk for women of developing ovarian cancer is 1.34% and it has a false positive rate of 4%)"
      ]
    },
    {
      "cell_type": "code",
      "execution_count": null,
      "id": "532d1c51-d882-4b7d-8568-9db0dc52720c",
      "metadata": {
        "id": "532d1c51-d882-4b7d-8568-9db0dc52720c"
      },
      "outputs": [],
      "source": [
        "def biomarker(pDisease, pPosDisease, pPosNoDisease):\n",
        "    pNoDisease =1.0-pDisease\n",
        "    pPos=pPosDisease*pDisease+pPosNoDisease*pNoDisease\n",
        "    return round((pPosDisease*pDisease)/pPos,3)\n",
        "\n",
        "pDisease=0.015\n",
        "pPosDisease=0.8\n",
        "pPosNoDisease=0.04\n",
        "print(\"Probability(disease|positive result)= \", biomarker(pDisease, pPosDisease, pPosNoDisease))"
      ]
    },
    {
      "cell_type": "code",
      "execution_count": null,
      "id": "d468827c-618e-492e-9403-4fab99b32738",
      "metadata": {
        "id": "d468827c-618e-492e-9403-4fab99b32738"
      },
      "outputs": [],
      "source": [
        "# A simple and generalizable Bayesian function with Python String format\n",
        "def bayes(outComeA,outComeB,pB,pAGivenB,pAGivenNotB):\n",
        "    pNotB=1.0-pB\n",
        "    pA=pAGivenB*pB+pAGivenNotB*pNotB\n",
        "    pBGivenA=(pAGivenB*pB)/pA\n",
        "    return 'p (%s|%s) = %.2f' %(outComeB,outComeA,pBGivenA)\n",
        "\n",
        "#main part of program\n",
        "geneName='TP53 Tumor protein p53 [Homo sapiens]'\n",
        "geneID=7157\n",
        "matchProbability=98.64756341\n",
        "#print(\"The gene to be analyzed is: %s\" % geneName)\n",
        "print(\"The gene number is: %d: %s\"%(geneID,geneName))\n",
        "\n",
        "outComeA=\"Positive test result\"\n",
        "outComeB=\"has disease\"\n",
        "pB=0.015\n",
        "pAGivenB=0.8\n",
        "pAGivenNotB=0.04\n",
        "print(bayes(outComeA,outComeB,pB,pAGivenB,pAGivenNotB))"
      ]
    },
    {
      "cell_type": "code",
      "execution_count": null,
      "id": "831efa2d-357d-482a-b490-9c464a8a1f6f",
      "metadata": {
        "id": "831efa2d-357d-482a-b490-9c464a8a1f6f",
        "outputId": "7a06523e-a93f-4d96-a951-a7df79444197"
      },
      "outputs": [
        {
          "name": "stdout",
          "output_type": "stream",
          "text": [
            "Stay = 341\n",
            "Switch =  659\n"
          ]
        }
      ],
      "source": [
        "# The Monty hall problem. I stole this from Rosetta code which is a website that translates popular\n",
        "# programming problems into multiple languages:\n",
        "# https://rosettacode.org/wiki/Monty_Hall_problem#Python_3_version:\n",
        "# we haven't talked about modules and libraries yet, but you can think of them as externally bundles functions.\n",
        "import random\n",
        " #1 represents a car\n",
        " #0 represent a goat\n",
        "\n",
        "stay = 0  #amount won if stay in the same position\n",
        "switch = 0 # amount won if you switch\n",
        "\n",
        "for i in range(1000):\n",
        "    lst = [1,0,0]           # one car and two goats\n",
        "    random.shuffle(lst)     # shuffles the list randomly\n",
        "\n",
        "    ran = random.randrange(3) # gets a random number for the random guess\n",
        "\n",
        "    user = lst[ran] #storing the random guess\n",
        "\n",
        "    del(lst[ran]) # deleting the random guess\n",
        "\n",
        "    huh = 0\n",
        "    for i in lst: # getting a value 0 and deleting it\n",
        "        if i ==0:\n",
        "            del(lst[huh]) # deletes a goat when it finds it\n",
        "            break\n",
        "        huh+=1\n",
        "\n",
        "    if user ==1: # if the original choice is 1 then stay adds 1\n",
        "        stay+=1\n",
        "\n",
        "    if lst[0] == 1: # if the switched value is 1 then switch adds 1\n",
        "        switch+=1\n",
        "\n",
        "print(\"Stay =\",stay)\n",
        "print(\"Switch = \",switch)\n",
        "#Done by Sam Witton 09/04/2014\n"
      ]
    },
    {
      "cell_type": "markdown",
      "id": "c9972031-42c1-4392-8a4a-ec9690788c89",
      "metadata": {
        "id": "c9972031-42c1-4392-8a4a-ec9690788c89"
      },
      "source": [
        "# In Class Questions:\n",
        "_____________________\n",
        "1. PSEUDOCODE: A DNA string is called an open reading frame (ORF) if it begins with 'ATG', ends with 'TGA', 'TAG', or 'TAA', and has a length that is a multiple of 3. ORFs are interesting because they can encode proteins.\n",
        "Write a function called ORFadviser(DNA) that takes a string called DNA as input and works as follows:\n",
        "The function returns the string 'This is an ORF.' if the input string satisfies all three of the conditions required of ORFs.\n",
        "Otherwise, if the first three symbols are not 'ATG', the function returns the string 'The first three bases are not ATG.'.\n",
        "Otherwise, if the string does not end with 'TGA', 'TAG', or 'TAA', the function returns the string 'The last three bases are not a stop codon.'. Otherwise, the function returns the string 'The string is not of the correct length.'\n",
        "\n",
        "2. PSEUDOCODE: Let's assume that we have a long DNA sequence in which each symbol is random and equally likely to be an A, C, T, or G. We'd like to determine the average number of symbols until we see the first occurrence of a start codon \"ATG\".  We'll break this into parts:\n",
        "\n",
        "a. First, write a function in pseudocode called lengthToATG() that takes no input, generates a random letter from \"A\", \"T\", \"C\", or \"G\", and then if the last three letters generated are \"ATG\", it returns the total number of symbols that were generated. Otherwise, it repeats the process by generating a next random letter.\n",
        "\n",
        "b. compute the average time to the ATG by creating another function that takes lengthToATC() as an argument and runs it *n* number of trials to see when an ATG is created (n=10 or 100 or 1000).\n",
        "\n",
        "--------------\n",
        "3. Imagine that we have a list of DNA sequences and we wish to know how many of them are of a specific length. Write a function called countLength(DNAlist, length) that takes a list of DNA strings called DNAlist and a positive integer length as input and returns the number of strings in the list that have the specified length. Use the built-in len function and for loops. Here's an example of the function in action:\n",
        "countLength([\"ATA\", \"ATCG\", \"TTT\", \"A\"], 3)  \n",
        "return: 2 because there are two sequences, ATA and TTT, that are 3 nucleotides lgo4\n",
        "4\n",
        "2. Next, write a function called getLength(DNAlist, length) that is analogous to the countLength(DNAlist, length) but rather than counting the number of strings of the given length, this new function should return a list of the strings of that length. Here's an example of the function in action:\n",
        "getLength([\"ATA\", \"ATCG\", \"TTT\", \"A\"], 3)\n",
        "return: ['ATA', 'TTT']\n"
      ]
    },
    {
      "cell_type": "code",
      "execution_count": null,
      "id": "07ae5e04-2bb8-40f0-ae63-9a40835bfe21",
      "metadata": {
        "id": "07ae5e04-2bb8-40f0-ae63-9a40835bfe21",
        "outputId": "be107a6d-302a-41d9-d9b3-3b1e252dcdb9"
      },
      "outputs": [
        {
          "name": "stdout",
          "output_type": "stream",
          "text": [
            "3 is the length of the nt string we are seeking in this function\n",
            "ATA\n",
            "0\n",
            "loop iteration: element 1 of the passed list is length 3\n",
            "ATCG\n",
            "1\n",
            "messed up -try again\n",
            "TTT\n",
            "1\n",
            "loop iteration: element 2 of the passed list is length 3\n",
            "A\n",
            "2\n",
            "messed up -try again\n",
            "2\n",
            "1 is the length of the nt string we are seeking in this function\n",
            "ATA\n",
            "0\n",
            "messed up -try again\n",
            "ATCG\n",
            "0\n",
            "messed up -try again\n",
            "TTT\n",
            "0\n",
            "messed up -try again\n",
            "A\n",
            "0\n",
            "loop iteration: element 1 of the passed list is length 1\n",
            "1\n",
            "1 is the length of the nt string we are seeking in this function\n",
            "ATA\n",
            "0\n",
            "messed up -try again\n",
            "ATCG\n",
            "0\n",
            "messed up -try again\n",
            "TTT\n",
            "0\n",
            "messed up -try again\n",
            "A\n",
            "0\n",
            "loop iteration: element 1 of the passed list is length 1\n",
            "ATGCGCTA\n",
            "1\n",
            "messed up -try again\n",
            "TT\n",
            "1\n",
            "messed up -try again\n",
            "1 2\n"
          ]
        }
      ],
      "source": [
        "def countLength(DNAlist,nuc_length=1):\n",
        "    counter=0\n",
        "    print(str(nuc_length)+\" is the length of the nt string we are seeking in this function\")\n",
        "    for nuc in DNAlist:\n",
        "        print(nuc)\n",
        "        print(counter)\n",
        "        if len(nuc)==nuc_length:\n",
        "            #print(nuc)\n",
        "            #print(counter)\n",
        "            counter=counter+1\n",
        "            print(\"loop iteration: element \"+str(counter)+ \" of the passed list is length \"+ str(nuc_length))\n",
        "        else:\n",
        "            print(\"messed up -try again\")\n",
        "    return counter\n",
        "\n",
        "print(countLength([\"ATA\", \"ATCG\", \"TTT\", \"A\"], 3))\n",
        "print(countLength([\"ATA\", \"ATCG\", \"TTT\", \"A\"]))\n",
        "print(countLength([\"ATA\", \"ATCG\", \"TTT\", \"A\",\"ATGCGCTA\",\"TT\"]),2)"
      ]
    },
    {
      "cell_type": "code",
      "execution_count": null,
      "id": "87f3928a-7fd4-46bd-8170-c294bf7eca4c",
      "metadata": {
        "id": "87f3928a-7fd4-46bd-8170-c294bf7eca4c"
      },
      "outputs": [],
      "source": []
    }
  ],
  "metadata": {
    "kernelspec": {
      "display_name": "Python 3 (ipykernel)",
      "language": "python",
      "name": "python3"
    },
    "language_info": {
      "codemirror_mode": {
        "name": "ipython",
        "version": 3
      },
      "file_extension": ".py",
      "mimetype": "text/x-python",
      "name": "python",
      "nbconvert_exporter": "python",
      "pygments_lexer": "ipython3",
      "version": "3.11.5"
    },
    "colab": {
      "provenance": []
    }
  },
  "nbformat": 4,
  "nbformat_minor": 5
}