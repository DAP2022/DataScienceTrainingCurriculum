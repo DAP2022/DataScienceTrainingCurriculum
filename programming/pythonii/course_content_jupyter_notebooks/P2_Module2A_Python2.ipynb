{
  "cells": [
    {
      "cell_type": "markdown",
      "metadata": {
        "id": "Lj5skx_62MSE"
      },
      "source": [
        "Functions\n",
        "-----\n",
        "1. particular syntax:\n",
        "\n",
        "        def  functionName(argument1, argument2=0):\n",
        "               Do something\n",
        "               return(something)\n",
        "\n",
        "2. called from the main body of the program\n",
        "\n",
        "       functionName(arg1)\n",
        "   \n",
        "3. arguments can be default, or lists, or strings, etc\n",
        "4. can call other functions\n",
        "\n",
        "        def one_good_turn(n):\n",
        "            return n + 1   \n",
        "\n",
        "        def deserves_another(n):\n",
        "        #return one_good_turn(n+2)\n",
        "            return one_good_turn(n) + 2\n",
        "        #main body of the program    \n",
        "        print(deserves_another(10)) #calls the function deserves_another\n",
        "\n",
        "\n",
        "5. CAN CALL ITSELF!\n",
        "   "
      ]
    },
    {
      "cell_type": "code",
      "execution_count": null,
      "metadata": {
        "id": "PJZO_kZs2MSK",
        "outputId": "92647bb5-5233-41de-d9a2-b9f148297037"
      },
      "outputs": [
        {
          "name": "stdout",
          "output_type": "stream",
          "text": [
            "13\n"
          ]
        }
      ],
      "source": [
        "def one_good_turn(n):\n",
        "    return n + 1\n",
        "\n",
        "def deserves_another(n):\n",
        "#return one_good_turn(n+2)\n",
        "    return one_good_turn(n) + 2\n",
        "\n",
        "#main body of the program\n",
        "print(deserves_another(10)) #calls the function deserves_another"
      ]
    },
    {
      "cell_type": "markdown",
      "metadata": {
        "id": "w6Rl_WO-2MSO"
      },
      "source": [
        "# Module 2A -Recursion is magic!\n",
        "\n",
        "* open 'google' search engine. Type in 'recursion' and press return. What is the result?\n",
        "\n",
        "* To review: functions. They can call other functions. They can also call THEMSELVES.\n",
        "\n",
        "* remember some aspects of functions:\n",
        "  \n",
        "     1. **When a function executes, the only information it has from its calling context are variables passed in from the calling function through its formal parameters.**\n",
        "\n",
        "     2. **The calling function knows nothing about how the function operates- all it gets is the return value.**\n",
        "     \n",
        "* Appreciating the above two properties are going to be helpful when breaking down a recursive function."
      ]
    },
    {
      "cell_type": "markdown",
      "metadata": {
        "id": "lVRnY12J2MSP"
      },
      "source": [
        "![RecursionEscher.png](attachment:7a010775-0eca-4cb5-a175-49abe92126af.png)"
      ]
    },
    {
      "cell_type": "markdown",
      "metadata": {
        "id": "F15nA2ni2MSQ"
      },
      "source": [
        "Of course, xkcd also weighs in on the matter of recursion since it is such an important topic:\n",
        "https://xkcd.com/1739/\n"
      ]
    },
    {
      "cell_type": "markdown",
      "metadata": {
        "id": "rHh1CRSp2MSQ"
      },
      "source": [
        "Pep-talk? Notes? I'm not sure what to call this section:\n",
        "\n",
        "-----------------------------\n",
        "\n",
        "Despite being magical, recursion is a bit challenging. I strongly urge you to use a pencil and paper as you go through some of the simpler functions presented in this module to ensure that you REALLY understand when the rest of the program is pausing and handing off a variable to a function.\n",
        "\n",
        "1. This notebook is FULL of examples. Most of these are for your own interest, and I have indicated that by placing at the end, and I will only cover a small handful of simplified examples. I have included them because I know some individuals want deeper experience with certain key concepts, but don't worry if that is not you at this point! Some programmers swear by recursion whereas many others never touch it beyond their introductory course. Recursion is a useful pedagogical activity to ensure that you REALLY understand functions and how memory is being used before we move on to object oriented programming, which bundles and encapsulates functions.\n",
        "\n",
        "2. One of the things that I will show you to help with understanding of what it is going on with recursion is the spacer example. This allows you to visualize **where** in the function you are at without having to include a bunch of cluttering print statements (although, if that helps you, you should always consider using print statements!). It will help your understanding if you play around with the 'spacer' variable introduced towards the end of this notebook so you can see which recursion loop you are in -indicated by the level of indentation- at any given moment of the program.  \n",
        "\n",
        "3. I am going to start by showing you an example of a Sierpinksi triangle that I found at Github (link given in cell). This is a VERY sophisticated example that we won't reproduce, it is just pretty so we can admire it, and provides us with the opportunity to install our first packages, matplotlib and numpy. How do we do that? It will depend on what you are using. **Colab?** Already has matplotlib and numpy (they are part of a standard DS stack).\n",
        "\n",
        "If you are using miniforge on your own laptop (these commands might be out of date, so double check before proceeding):  \n",
        "    * open your terminal (the same terminal where you type in jupyter notebook to start your notebook)\n",
        "    * type: conda install matplotlib\n",
        "    * type: conda install numpy\n",
        "\n",
        "It will likely ask you to type \"y\" to agree to update other packages with dependencies to matplotlib. Dependencies just means that other already installed packages have particular functions and features that are tied to the functionality of this package and thus may need to be updated. Please do that.\n",
        "\n",
        "You can check to see what packages you have installed by typing: pip list in the terminal.\n",
        "\n",
        "One of the \"extra\" practice (only for those who are particularly interested in recursion!) is the following:\n",
        "-------\n",
        "\n",
        "I have done something a bit simple in this notebook- but effective for illustration - to the generate_kmers_rec function. We saw how to build trinucleotides in Intro to Python 1 (we used one example and refined it throughout the module); generat_kmers_rec simply extends that to creating polynucleotides of any length specified by the user. For the trinucleotide loop, I used the same order in the outer, middle and inner for loops, [\"A\",\"C\",\"G\",\"T\"]. In the kmer function, in order to try to make it easier to see where in the loop you are, I have listed the bases in a different order, as described below:\n",
        "\n",
        "The base case when length ==1, has the bases listed in the order [\"A\",\"C\",\"G\",\"T\"]. I have reversed the order of the bases listed as part of the for loop in the recursion loop, ie. for base in [\"T\",\"G\",\"C\",\"A\"]:. This allows you to see how the kmers are being created (and thus, how the program is pausing the filling up of the results list on the final loop as it creates and fills up the results lists on the earlier loops). It wasn't clear which results list was being created first when the first item appeared as \"AA\" but now the first item will be \"AT\" so it is easier to infer how the loops are being used.\n"
      ]
    },
    {
      "cell_type": "code",
      "execution_count": null,
      "metadata": {
        "id": "q49cDg8M2MSR"
      },
      "outputs": [],
      "source": [
        "# This is a sierpinski triangle to show you how cool recursion - and fractals! - can be:\n",
        "# simple rules, make a recursive triangle that looks like a christmas tree.\n",
        "# Code stolen from here:\n",
        "# https://github.com/IlievskiV/Amusive-Blogging-N-Coding/blob/master/Visualizations/sierpinski_triangle.ipynb\n",
        "\n",
        "# importing modules! We saw how to do this in Intro to Python I. Creating a basic module was part of your last 'assignment'.\n",
        "# this shows the two ways of importing methods from a module and also shows aliases!\n",
        "import random\n",
        "from operator import add\n",
        "import matplotlib.pyplot as plt\n",
        "import matplotlib.animation as animation\n",
        "from matplotlib import rc\n",
        "import numpy as np\n",
        "\n",
        "# we are, as the import statements above show us, importing rc as a method from matplotlib\n",
        "rc('animation', html='jshtml')\n",
        "\n",
        "# ignore warnings <--- Usually this isn't the best idea, but...\n",
        "import warnings\n",
        "warnings.filterwarnings(\"ignore\")\n",
        "\n",
        "def generate_sierpinski_triangle(n: int):\n",
        "  \"\"\"Function to generate the points on the Sierpinski triangle.\n",
        "  Args:\n",
        "    n (int): number of points to generate\n",
        "\n",
        "  Returns:\n",
        "    list: list of tuples representing the points belonging\n",
        "      to the Sierpinski triangle.\n",
        "  \"\"\"\n",
        "# generating the sierpinski triangle:\n",
        "def generate_sierpinski_triangle(n: int):\n",
        "    sierpinski_triangle = []  # final list of points\n",
        "\n",
        "    # initial points\n",
        "    A = (0.0, 0.0)\n",
        "    B = (0.5, 1.0)\n",
        "    C = (1.0, 0.0)\n",
        "    triangle_vertices = [A, B, C]\n",
        "\n",
        "    # starting point\n",
        "    moving_point = random.choice(triangle_vertices)\n",
        "\n",
        "    for i in range(n):\n",
        "        offset_point = random.choice(triangle_vertices)\n",
        "        moving_point = list(map(lambda x: x / 2.0, list(map(add, moving_point, offset_point))))\n",
        "        sierpinski_triangle.append(moving_point.copy())\n",
        "\n",
        "    return sierpinski_triangle\n",
        "\n",
        "def plot(sierpinski_triangle: list):\n",
        "  \"\"\"Make a plot of the points in the Sierpinski triangle.\n",
        "  Args:\n",
        "    sierpinski_triangle (list): list of tuples representing the points belonging\n",
        "      to the Sierpinski triangle.\n",
        "  \"\"\"\n",
        "  num_points = len(sierpinski_triangle)\n",
        "  points_split = list(zip(*sierpinski_triangle))\n",
        "  xx, yy = points_split[0], points_split[1]\n",
        "\n",
        "  fig = plt.figure(figsize=(5, 5))\n",
        "  ax = plt.axes(xlim=(0, 1), ylim=(0, 1))\n",
        "  ax.set_xticks([], [])\n",
        "  ax.set_yticks([], [])\n",
        "  ax.set_axis_off()\n",
        "  ax.scatter(xx, yy, c=np.random.rand(len(xx),3), marker='.')\n",
        "  ax.text(0.01, -0.06, 'by Vladimir Ilievski', fontsize=18)\n",
        "  plt.savefig(f'sierpinski_triangle_{num_points}.png', dpi=300, bbox_inches='tight')\n",
        "\n",
        "def make_animation(sierpinski_triangle: list):\n",
        "  \"\"\"Make an animation of the Sierpinski triangle by zooming in.\n",
        "  Args:\n",
        "    sierpinski_triangle (list): list of tuples representing the points belonging\n",
        "      to the Sierpinski triangle.\n",
        "  \"\"\"\n",
        "  num_points = len(sierpinski_triangle)\n",
        "  points_split = list(zip(*sierpinski_triangle))\n",
        "  xx, yy = points_split[0], points_split[1]\n",
        "  fig = plt.figure(figsize=(10, 10))\n",
        "\n",
        "  def init():\n",
        "    ax = plt.axes(xlim=(0, 1), ylim=(0, 1))\n",
        "    ax.set_xticks([], [])\n",
        "    ax.set_yticks([], [])\n",
        "    ax.set_axis_off()\n",
        "    return ax.plot(xx, yy, \"g.\")\n",
        "\n",
        "  def animate(i):\n",
        "    scale = 1 - i * 0.02  # calculate the new scale\n",
        "    ax = plt.axes(xlim=(0, scale), ylim=(0, scale))\n",
        "    ax.set_xticks([], [])\n",
        "    ax.set_yticks([], [])\n",
        "    ax.set_axis_off()\n",
        "    return ax.plot(xx, yy, \"g.\")\n",
        "\n",
        "  anim = animation.FuncAnimation(fig, animate, init_func=init, frames=50,\n",
        "                                 interval=200, blit=False)\n",
        "  anim.save(f\"sierpinski_{num_points}.gif\", writer=\"pillow\")\n",
        "  plt.show()"
      ]
    },
    {
      "cell_type": "code",
      "execution_count": null,
      "metadata": {
        "id": "tSnXq7nN2MSS"
      },
      "outputs": [],
      "source": [
        "sierpinski_triangle_1 = generate_sierpinski_triangle(20000)\n",
        "sierpinski_triangle_2 = generate_sierpinski_triangle(200)"
      ]
    },
    {
      "cell_type": "code",
      "execution_count": null,
      "metadata": {
        "id": "z_U4XPpD2MST",
        "outputId": "ddff04c5-3372-41f0-8841-578f648ccbe2"
      },
      "outputs": [
        {
          "data": {
            "image/png": "[encoded data removed]",
            "text/plain": [
              "<Figure size 500x500 with 1 Axes>"
            ]
          },
          "metadata": {},
          "output_type": "display_data"
        }
      ],
      "source": [
        "plot(sierpinski_triangle_1)"
      ]
    },
    {
      "cell_type": "markdown",
      "metadata": {
        "id": "eMKg0Hnt2MSV"
      },
      "source": [
        "After that distraction (and sophisticated example), we are back:\n",
        "--------\n",
        "Note to remember (this is particularly important for recursion):\n",
        "\n",
        "the %%time method is a magic command that will calculate the entire execution of the entire cell. It should work regardless of your operating system.\n",
        "\n",
        "I was struggling to get this to work and finally discovered the answer:\n",
        "\n",
        "YOU MUST HAVE NO BLANK LINES (even comments) ABOVE THE %%time command for it to work. For instance, this:\n",
        "\n",
        "----------------------------\n",
        "\n",
        "#here is the time command\n",
        "\n",
        "%%time\n",
        "\n",
        "rest of code written out\n",
        "\n",
        "----------------------------\n",
        "\n",
        "won't work!\n",
        "\n",
        "but this:\n",
        "\n",
        "--------------------------\n",
        "\n",
        "%%time\n",
        "\n",
        "rest of code\n",
        "\n",
        "--------------------------\n",
        "will work just fine.\n",
        "\n",
        "#### Let's begin with a reminder that functions can call other functions:"
      ]
    },
    {
      "cell_type": "code",
      "execution_count": null,
      "metadata": {
        "id": "6FChQWXJ2MSV",
        "outputId": "3e0ce64f-bf40-4478-ff7f-c1f4dea17986"
      },
      "outputs": [
        {
          "name": "stdout",
          "output_type": "stream",
          "text": [
            "19683\n",
            "CPU times: user 555 µs, sys: 952 µs, total: 1.51 ms\n",
            "Wall time: 1.04 ms\n"
          ]
        }
      ],
      "source": [
        "%%time\n",
        "# functions can call other functions\n",
        "def cube(number):\n",
        "    return number**3\n",
        "\n",
        "def by_three(number):\n",
        "    if number%3 ==0:\n",
        "        return cube(number)\n",
        "    else:\n",
        "        return False\n",
        "\n",
        "print(by_three(27))"
      ]
    },
    {
      "cell_type": "markdown",
      "metadata": {
        "id": "Ihxk7MOC2MSW"
      },
      "source": [
        "* We see recursion in other fields like, say, math.\n",
        "* There are TWO main parts of a recursive function: base case and general recursion case.\n",
        "\n",
        "Example: Factorial\n",
        "> **Base rule:** checks to see if we have reached the ultimate state (ie. have we reached the stopping condition and, if so, what should we do?)\n",
        ">>0!\n",
        "\n",
        "> **General rule:** or **Recursive rule** is when the functions calls itself\n",
        ">>n!=n*(n-1)!\n",
        "\n",
        "\n",
        "* It is CRUCIAL to have at least one **'base case rule'** which dictates what happens when you get a certain point and a 'general rule' or 'recursive rule', ie. what happens the rest of the time.\n",
        "\n",
        "Much like in a while loop, if you fail to specify a base case, you can get stuck in an infinite loop (or an infinite recursion).\n",
        "\n",
        "#### Recursion is often the best way to solve a problem that is made up of smaller versions of the same problem repeatedly.\n",
        "\n",
        "* pros:\n",
        "    * efficient way to think about solution\n",
        "        * for some highly specific problems, may be the only way to solve\n",
        "    * it is the kind of method that shows up A LOT on coding interviews\n",
        "    * allows you to expand your thinking about programming\n",
        "\n",
        "* cons:\n",
        "    * really, really memory intensive\n",
        "    * complex\n",
        "\n",
        "Let's start where everyone learning recursion begins, with factorial."
      ]
    },
    {
      "cell_type": "code",
      "execution_count": null,
      "metadata": {
        "id": "QdjldXop2MSY",
        "outputId": "cbbcba86-eeba-45ef-db85-2fbaa379be8d"
      },
      "outputs": [
        {
          "name": "stdout",
          "output_type": "stream",
          "text": [
            "24\n",
            "CPU times: user 519 µs, sys: 208 µs, total: 727 µs\n",
            "Wall time: 711 µs\n"
          ]
        }
      ],
      "source": [
        "%%time\n",
        "# The non-recusive method of determining the factorial using a while loop\n",
        "def factorial(x):\n",
        "    fac=1\n",
        "    while x!=0:\n",
        "        # if x=4, 4*3*2*1\n",
        "        fac=fac*x\n",
        "        x=x-1\n",
        "    return fac\n",
        "\n",
        "print(factorial(4))"
      ]
    },
    {
      "cell_type": "code",
      "execution_count": null,
      "metadata": {
        "id": "KpoO-gyU2MSZ",
        "outputId": "2acdafdb-ed41-49b6-c616-a25f1e3feff6"
      },
      "outputs": [
        {
          "name": "stdout",
          "output_type": "stream",
          "text": [
            "24\n",
            "CPU times: user 244 µs, sys: 164 µs, total: 408 µs\n",
            "Wall time: 414 µs\n"
          ]
        }
      ],
      "source": [
        "%%time\n",
        "# The recursive method of determining the factorial!\n",
        "def factorialrec(x):\n",
        "    #note: This is incredibly important: there must always be a BASE\n",
        "    # case with recursion.\n",
        "    if x==0:\n",
        "        return 1\n",
        "    else:\n",
        "        #print(x)\n",
        "        return x*factorialrec(x-1)\n",
        "\n",
        "print(factorialrec(4))"
      ]
    },
    {
      "cell_type": "markdown",
      "metadata": {
        "id": "y3CapnNU2MSZ"
      },
      "source": [
        "![Screenshot 2024-03-28 at 9.43.08 AM.png](attachment:17d91b02-e689-457d-929d-c596a096b804.png)\n",
        "![Screenshot 2024-03-28 at 9.44.15 AM.png](attachment:f2d16fbd-ca65-43ad-b2e3-966125ff2331.png)"
      ]
    },
    {
      "cell_type": "code",
      "execution_count": null,
      "metadata": {
        "id": "3JfLn3k02MSb",
        "outputId": "55a45131-19f6-4524-964a-56ed84f1d5f0"
      },
      "outputs": [
        {
          "name": "stdout",
          "output_type": "stream",
          "text": [
            "4\n",
            "3\n",
            "2\n",
            "1\n"
          ]
        }
      ],
      "source": [
        "# Another trivial example of recursion. We could modify this to do something more interesting.\n",
        "# Let's say, for instance, we wanted to print off all values from 1-->number.\n",
        "def sub_one(number):\n",
        "# WE ALWAYS NEED A  BASE CASE OR THE RECURSION WILL NEVER STOP.\n",
        "# You could hash out the base case and see for yourself the exception that is raised.\n",
        "    if number==1:\n",
        "        return 1\n",
        "    print(number)\n",
        "    # the function CALLS ITSELF. Is your mind blown yet?\n",
        "    return sub_one(number-1)\n",
        "\n",
        "# call the function from the main body of the program\n",
        "print(sub_one(4))"
      ]
    },
    {
      "cell_type": "markdown",
      "metadata": {
        "id": "qV3IavXC2MSb"
      },
      "source": [
        "Another example of recursion:"
      ]
    },
    {
      "cell_type": "code",
      "execution_count": null,
      "metadata": {
        "id": "3gJNMHZ82MSc",
        "outputId": "7dbd75b5-53a0-45c6-a288-0ac9955b3224"
      },
      "outputs": [
        {
          "name": "stdout",
          "output_type": "stream",
          "text": [
            "I am on round: 3\n",
            "3 \n",
            "\n",
            "I am on round: 2\n",
            "2 \n",
            "\n",
            "I am on round: 1\n",
            "1 \n",
            "\n",
            "I am on round: 0\n",
            "~~~~~~\n",
            "1\n",
            "----------\n",
            "~~~~~~\n",
            "2\n",
            "----------\n",
            "~~~~~~\n",
            "3\n",
            "----------\n"
          ]
        }
      ],
      "source": [
        "#%%time\n",
        "# --------------------------------\n",
        "# In this cell, I am trying to show you that value of 3 is being\n",
        "# evaluated and then pauses to evaluate value 2 which then pauses\n",
        "# to evaluate value 1. which then completes and prints out the ~~~~~\n",
        "# and the other print statements before\n",
        "# returning to value 2 which then prints out the ~~~~~ and the\n",
        "# other print statements before returning to value 3\n",
        "# that's what the print statements are supposed to show you, at least\n",
        "# --------------------------------\n",
        "\n",
        "def printFunc(test):\n",
        "    print(\"I am on round:\", test)\n",
        "    if (test < 1):\n",
        "        #return nothing ie. None is the word supplied to you by Python\n",
        "        return\n",
        "    else:\n",
        "        # This will print out the variable, an integer, followed by a newline\n",
        "        # This chunk of code prints out the variables 3, 2 and 1 and then prints\n",
        "        # them out in reverse 1,2,3 as the recursion line, line 28,  resolves and releases\n",
        "        # the embedded recursions from memory.\n",
        "        # 1st time through this should print 3\n",
        "        print(test,\"\\n\")\n",
        "        # Next: Recursion Magic. the function pauses and calls itself.\n",
        "        # We call the function from within the function with 1 less integer value\n",
        "        #first time through, we are passing the value of 2\n",
        "        #----------------------------------------------------------\n",
        "        printFunc(test-1)\n",
        "        # When the following ~~~~~~ prints out, we know that we have left the recursion\n",
        "        #loop because the BASE CASE -- the if statement -- has returned to the printFunc(0)\n",
        "        # and the other variables - that are still in paused loops- need to be\n",
        "        # resolved now so the program now continues.\n",
        "        print(\"~~~~~~\")\n",
        "        print(test)\n",
        "        print(\"----------\")\n",
        "        #----------------------------------------------------------\n",
        "        #returning nothing because you are printing to the screen.\n",
        "        #return\n",
        "\n",
        "test = 3\n",
        "printFunc(test)\n",
        "#BECAUSE we have nothing specified to return, Python helpfully provides us with None\n",
        "#when print out the results of the printFunc()\n",
        "#print(printFunc(test))"
      ]
    },
    {
      "cell_type": "markdown",
      "metadata": {
        "id": "qvcrgzD52MSe"
      },
      "source": [
        "I'm adding a spacer parameter to the function that will add one tab for every recursion cycle you are in. Let's discuss!"
      ]
    },
    {
      "cell_type": "code",
      "execution_count": null,
      "metadata": {
        "id": "5R1GZSCl2MSe",
        "outputId": "1977c511-b0db-47a4-a37c-2035c6215734"
      },
      "outputs": [
        {
          "name": "stdout",
          "output_type": "stream",
          "text": [
            "I am on round: 3\n",
            "\t 3 \n",
            "\n",
            "I am on round: 2\n",
            "\t\t 2 \n",
            "\n",
            "I am on round: 1\n",
            "\t\t\t 1 \n",
            "\n",
            "I am on round: 0\n",
            "\t\t\t\t We are back at 1\n",
            "~~~~~~\n",
            "1\n",
            "----------\n",
            "~~~~~~\n",
            "2\n",
            "----------\n",
            "~~~~~~\n",
            "3\n",
            "----------\n"
          ]
        }
      ],
      "source": [
        "#%%time\n",
        "# --------------------------------\n",
        "# In this cell, I am trying to show you that value of 3 is being\n",
        "# evaluated and then pauses to evaluate value 2 which then pauses\n",
        "# to evaluate value 1. which then completes and prints out the ~~~~~\n",
        "# and the other print statements before\n",
        "# returning to value 2 which then prints out the ~~~~~ and the\n",
        "# other print statements before returning to value 3\n",
        "# that's what the print statements are supposed to show you, at least\n",
        "# --------------------------------\n",
        "\n",
        "def printFunc(test,depth=1):\n",
        "    #for the spacer, I am using a tab, but you could also use \"   \" <-- white space\n",
        "    spacer=\"\\t\"*depth\n",
        "    print(\"I am on round:\", test)\n",
        "    if (test < 1):\n",
        "        #return nothing ie. None is the word supplied to you by Python\n",
        "        print(spacer,\"We are back at 1\")\n",
        "        return\n",
        "    else:\n",
        "        # This will print out the variable, an integer, followed by a newline\n",
        "        # This chunk of code prints out the variables 3, 2 and 1 and then prints\n",
        "        # them out in reverse 1,2,3 as the recursion line resolves and releases\n",
        "        # the embedded recursions from memory.\n",
        "        #1st time through this should print 3 WITH A SPACER IN FRONT OF IT TO ORIENT YOU.\n",
        "        print(spacer,test,\"\\n\")\n",
        "        # Next: Recursion Magic. the function pauses and calls itself.\n",
        "        # We call the function from within the function with 1 less integer value\n",
        "        #first time through, we are passing the value of 2\n",
        "        #----------------------------------------------------------\n",
        "        depth=depth+1\n",
        "        printFunc(test-1,depth)\n",
        "        # When the following ~~~~~~ prints out, we know that we have left the recursion\n",
        "        #loop because the BASE CASE -- the if statement -- has returned to the printFunc(0)\n",
        "        # and the other variables - that are still in paused loops- need to be\n",
        "        # resolved now so the program now continues.\n",
        "        print(\"~~~~~~\")\n",
        "        print(test)\n",
        "        print(\"----------\")\n",
        "        #----------------------------------------------------------\n",
        "        #returning nothing because you are printing to the screen.\n",
        "        return\n",
        "\n",
        "test = 3\n",
        "printFunc(test,1)\n",
        "#BECAUSE we have nothing specified to return, Python helpfully provides us with None\n",
        "#when print out the results of the printFunc()\n",
        "#print(printFunc(test))"
      ]
    },
    {
      "cell_type": "markdown",
      "metadata": {
        "id": "jqp9p3JJ2MSf"
      },
      "source": [
        "Write a Python program to calculate the sum of a list of numbers using recursion."
      ]
    },
    {
      "cell_type": "code",
      "execution_count": null,
      "metadata": {
        "id": "6WImV3Uf2MSg",
        "outputId": "7910c45e-3ba0-41b7-e63f-3ed368a9d31b"
      },
      "outputs": [
        {
          "name": "stdout",
          "output_type": "stream",
          "text": [
            "24\n"
          ]
        }
      ],
      "source": [
        "# Define a function named list_sum that takes a list of numbers as input\n",
        "def list_sum(num_List):\n",
        "    # Check if the length of the input list is 1\n",
        "    if len(num_List) == 1:\n",
        "        # If the list has only one element, return that element\n",
        "        return num_List[0]\n",
        "    else:\n",
        "        # If the list has more than one element, return the sum of the first element\n",
        "        # and the result of recursively calling the list_sum function on the rest of the list\n",
        "        return num_List[0] + list_sum(num_List[1:])\n",
        "\n",
        "# Print the result of calling the list_sum function with the input [2, 4, 5, 6, 7]\n",
        "print(list_sum([2, 4, 5, 6, 7]))"
      ]
    },
    {
      "cell_type": "markdown",
      "metadata": {
        "id": "I4Z_XH6F2MSh"
      },
      "source": [
        "# Another example: Define a function named power that calculates the result of 'a' raised to the power of 'b'"
      ]
    },
    {
      "cell_type": "code",
      "execution_count": null,
      "metadata": {
        "id": "AVoLc6Hs2MSh",
        "outputId": "eda50808-da05-47e8-a041-e9e3438f82de"
      },
      "outputs": [
        {
          "name": "stdout",
          "output_type": "stream",
          "text": [
            "81\n"
          ]
        }
      ],
      "source": [
        "# Define a function named power that calculates the result of 'a' raised to the power of 'b'\n",
        "def power(a, b):\n",
        "    # Check if 'b' is 0 (base case for power function)\n",
        "    if b == 0:\n",
        "        # If 'b' is 0, return 1 (any number raised to the power of 0 is 1)\n",
        "        return 1\n",
        "    # Check if 'a' is 0 (base case for power function)\n",
        "    elif a == 0:\n",
        "        # If 'a' is 0, return 0 (0 raised to any power is 0)\n",
        "        return 0\n",
        "    # Check if 'b' is 1 (base case for power function)\n",
        "    elif b == 1:\n",
        "        # If 'b' is 1, return 'a' (any number raised to the power of 1 is the number itself)\n",
        "        return a\n",
        "    else:\n",
        "        # If none of the base cases is met, recursively call the power function\n",
        "        # to calculate 'a' multiplied by the result of 'a' raised to the power of 'b-1'\n",
        "        return a * power(a, b - 1)\n",
        "\n",
        "# Print the result of calling the power function with the input values 3 and 4\n",
        "print(power(3, 4))"
      ]
    },
    {
      "cell_type": "markdown",
      "metadata": {
        "id": "ovOQcKHH2MSi"
      },
      "source": [
        "## When to consider using recursion:\n",
        "     * solves a larger problem in terms of a smaller one\n",
        "     * argument must change each time (to avoid an infinite loop)\n",
        "     * the changing argument value must be approaching the **BASE CASE**\n",
        "     * should return the result of the sub function call plus something else\n",
        "     \n",
        "### Basic premise of recursion:\n",
        "    * leverages scoping rules - I can change the argument in middle of the function before passing it back to the function itself because of scoping\n",
        "    * BASE CASE, BASE CASE, BASE CASE!\n",
        "\n",
        "### Okay, sounds complicated. Shouldn't we just stick to nested for loops since they take us pretty far...\n",
        "* Most professional programmers will tell you that outside some very specific (usually mathematical) implementations, it is usually better to use a loop\n",
        "### Recursion is perfect for one particular use in biology that is challenging to solve otherwise....\n",
        "\n",
        "                                        TREE LIKE DATA\n",
        "* Two major types encountered in biology:\n",
        "    1. Child-to-parent (bottom up) -- easiest to use dictionary\n",
        "    2. Parent-to-child (top down)     \n",
        "* Recursion is better than iteration when you have complicated NESTED DATA – which is we often do in biology (phylogenies).\n",
        "    * used in common algorithms such as bubble-sort, binary searches, Artifical intelligence (nested searches, at least), trees (especially important in \"top down\" searches)\n",
        "* If you don’t have much memory (stack overflow) than usually iteration is better since recursion takes up a lot of working memory since the function is active for much longer than in iteration."
      ]
    },
    {
      "cell_type": "markdown",
      "metadata": {
        "id": "047466382MSj"
      },
      "source": [
        "# We will build this together!\n",
        "* Define a function named fibonacci that calculates the nth Fibonacci number. A fibonacci sequence: https://en.wikipedia.org/wiki/Fibonacci_sequence\n",
        "* 1,1,2,3,5,8,13,21"
      ]
    },
    {
      "cell_type": "code",
      "execution_count": null,
      "metadata": {
        "id": "pfDJMVMY2MSj",
        "outputId": "889e4101-5ad4-4b46-8330-502bac536492"
      },
      "outputs": [
        {
          "name": "stdout",
          "output_type": "stream",
          "text": [
            "3\n"
          ]
        }
      ],
      "source": [
        "def fibonacci(n):\n"
      ]
    },
    {
      "cell_type": "markdown",
      "metadata": {
        "id": "nHi8Rn522MSk"
      },
      "source": [
        "# ONLY IF there is time, we will work through the following question:\n",
        "MRCA means “Most Recent Common Ancestor” and provides important information about the time to species splitting. In the example we worked through in lecture 11, the MRCA of Pan troglodytes  and  Tarsius tarsier is Haplorrhini.\n",
        "We will use an abstracted and simplified tree (shown below) and the corresponding dictionary describing its relationships. The tree given below can be summarized in Newick format with the following: ((((C11,C12),B1),((C21,C22),B2)),A\n",
        "\n",
        "tax_dict={\"C11\":\"B1\",\"C12\":\"B1\",\"C21\":\"B2\",\"C22\":\"B2\",\"B1\":\"A\",\"B2\":\"A\"}\n",
        " \tWrite a program that includes a recursion function that takes two arguments, the dictionary describing child -> parent relationships given above and a list of taxa, and returns the MRCA of the inputted taxa.\n",
        "\n",
        "\n",
        "\tOf course, there is more than one way of solving this problem (so feel free to disregard the following suggestions if you have thought up a better way to solve it) but here are a few hints for the way that I solved it. For my solution, I adopted the following strategy of breaking down the problem into multiple functions:\n",
        "•\tOne function that processes the list of taxon that you want to compare so that you are comparing two elements of the list at a time (I found the .pop method useful)\n",
        "•\tA second function that finds the common ancestor of these two elements produced by the first function\n",
        "•\tA third function (in my solution this was the one that used recursion) to find all the ancestors of each of the two taxons. In my solution, this was the same as the code that we went through during lecture.\n",
        "•\tThe above processes need to continue for as long as you have elements in your input list.\n",
        "\n",
        "You will need to write one program that should solve for the most general case (in case your taxon had more members or more internal nodes than currently listed). For instance, if I swapped your library that detailed the relationship pictured above for another library that added a row of “d” elements (d111, d112, d121, d122, d211, d212, d221, d222), your code should still work.\n",
        ")\n"
      ]
    },
    {
      "cell_type": "markdown",
      "metadata": {
        "id": "n77RhS-S2MSm"
      },
      "source": [
        "![Screenshot 2024-04-04 at 1.20.30 PM.png](attachment:8fd1d48c-1680-4835-bcdd-6176ad8720f6.png)"
      ]
    },
    {
      "cell_type": "code",
      "execution_count": null,
      "metadata": {
        "id": "EHh-lCKx2MSn"
      },
      "outputs": [],
      "source": []
    },
    {
      "cell_type": "code",
      "execution_count": null,
      "metadata": {
        "id": "LTDEBaGq2MSn"
      },
      "outputs": [],
      "source": []
    },
    {
      "cell_type": "markdown",
      "metadata": {
        "id": "ntrHGBv62MSn"
      },
      "source": [
        "## Below this line is all extra material. It is entirely optional!\n",
        "\n",
        "In Python I, we generated trinucleotides ('trimers') and their counts. We could have used functions to generate the trinucleotides, as shown in the next cell.\n",
        "\n",
        "_The issue with the code below is that it isn't particularly flexible. What would happen if, for instance, we wanted to generate kmers instead of trimers?_\n"
      ]
    },
    {
      "cell_type": "code",
      "execution_count": null,
      "metadata": {
        "id": "LiyTxUEV2MSv",
        "outputId": "f873b6b6-101f-4c36-ce9b-4c27b8518ffb"
      },
      "outputs": [
        {
          "name": "stdout",
          "output_type": "stream",
          "text": [
            "['AAA', 'AAC', 'AAG', 'AAT', 'ACA', 'ACC', 'ACG', 'ACT', 'AGA', 'AGC', 'AGG', 'AGT', 'ATA', 'ATC', 'ATG', 'ATT', 'CAA', 'CAC', 'CAG', 'CAT', 'CCA', 'CCC', 'CCG', 'CCT', 'CGA', 'CGC', 'CGG', 'CGT', 'CTA', 'CTC', 'CTG', 'CTT', 'GAA', 'GAC', 'GAG', 'GAT', 'GCA', 'GCC', 'GCG', 'GCT', 'GGA', 'GGC', 'GGG', 'GGT', 'GTA', 'GTC', 'GTG', 'GTT', 'TAA', 'TAC', 'TAG', 'TAT', 'TCA', 'TCC', 'TCG', 'TCT', 'TGA', 'TGC', 'TGG', 'TGT', 'TTA', 'TTC', 'TTG', 'TTT']\n",
            "CPU times: user 160 µs, sys: 86 µs, total: 246 µs\n",
            "Wall time: 179 µs\n"
          ]
        }
      ],
      "source": [
        "%%time\n",
        "def generate_trimers():\n",
        "    bases=[\"A\",\"C\",\"G\",\"T\"]\n",
        "    result=[]\n",
        "    #we know that, in this case, that we are creating a trimer\n",
        "    for base1 in bases:\n",
        "        #for A then C followed by G and, finally, T\n",
        "        for base2 in bases:\n",
        "            #for A then C and then G and then T\n",
        "            for base3 in bases:\n",
        "                #for A then C and then G and then T\n",
        "                result.append(base1+base2+base3)\n",
        "    #first time through the loop should create result AAA,AAC,AAG,AAT\n",
        "    #then you are adding ACA,ACC,ACG,ACT and AGA,AGC,AGG,AGT and ATA,ATC,ATG,ATT\n",
        "    return result\n",
        "\n",
        "print(generate_trimers())"
      ]
    },
    {
      "cell_type": "code",
      "execution_count": null,
      "metadata": {
        "scrolled": true,
        "id": "i2lgOfYw2MSw",
        "outputId": "1ceab84f-b891-4948-d70d-784d28744fc7"
      },
      "outputs": [
        {
          "name": "stdout",
          "output_type": "stream",
          "text": [
            "['TTA', 'TTC', 'TTG', 'TTT', 'TCA', 'TCC', 'TCG', 'TCT', 'TGA', 'TGC', 'TGG', 'TGT', 'TAA', 'TAC', 'TAG', 'TAT', 'CTA', 'CTC', 'CTG', 'CTT', 'CCA', 'CCC', 'CCG', 'CCT', 'CGA', 'CGC', 'CGG', 'CGT', 'CAA', 'CAC', 'CAG', 'CAT', 'GTA', 'GTC', 'GTG', 'GTT', 'GCA', 'GCC', 'GCG', 'GCT', 'GGA', 'GGC', 'GGG', 'GGT', 'GAA', 'GAC', 'GAG', 'GAT', 'ATA', 'ATC', 'ATG', 'ATT', 'ACA', 'ACC', 'ACG', 'ACT', 'AGA', 'AGC', 'AGG', 'AGT', 'AAA', 'AAC', 'AAG', 'AAT']\n",
            "CPU times: user 562 µs, sys: 287 µs, total: 849 µs\n",
            "Wall time: 700 µs\n"
          ]
        }
      ],
      "source": [
        "%%time\n",
        "def generate_kmers(length):\n",
        "# ---------------------------------------------\n",
        "# in this script, we don't know how long the kmer should be or, rather, we want\n",
        "# length to be robust and specified as an argument\n",
        "# set the solution to this problem up as a series of for loops, like in the cell\n",
        "# above but since we don't know the final length of -mer, we can't use a set\n",
        "# number of for loops.\n",
        "# How are we going to tackle this problem?\n",
        "# ---------------------------------------------\n",
        "    result=[\"A\",\"C\",\"G\",\"T\"]\n",
        "    #create a list of unimers - the user can't specify length 0 which could make\n",
        "    # the code less robust so we could insist on parameters.\n",
        "    for i in range(0,length-1):\n",
        "    # for loop to decrement by 1 each time through\n",
        "        new_result=[]\n",
        "        #new result that is currently empty - it will hold extended -mres\n",
        "        #for kmer in [\"1\",\"2\",\"3\",\"4\"]: # <-- even easier to see\n",
        "        for kmer in [\"T\",\"C\",\"G\",\"A\"]:\n",
        "        # Purpose of this loop is to add one more nt to the end of a -mer each time through\n",
        "        # You begin with four unimers and after the first time through the loop,\n",
        "        # you end with 4**2 dimers and the third time through, you end up with a list of\n",
        "        # length 4**3 trimers etc\n",
        "            for base in result:\n",
        "                new_result.append(kmer+base)\n",
        "                #first time through kmer = A so the new_result will be a list of dimers\n",
        "                #new_result=[AA,AC,AG,AT] then kmer will be C, G and finally T\n",
        "                #this will result in 16 dimers\n",
        "        result=new_result\n",
        "        #replace unimer result list with dimer list and go to line 8 until length-1...\n",
        "        # so for 4, that is three\n",
        "    return result\n",
        "\n",
        "print(generate_kmers(3))\n",
        "# this is really long:\n",
        "#print(generate_kmers(5))"
      ]
    },
    {
      "cell_type": "markdown",
      "metadata": {
        "id": "HmtR1CHi2MSy"
      },
      "source": [
        "Okay. Great. We have built in some flexibility into the code. Now we begin to concern ourselves with efficiency. The code above is a bit cumbersome.\n",
        "\n",
        "What is happening in the code below?\n",
        "\n",
        "#### I cannot stress this enough -  use a pencil and paper and draw out what is happening with the code below.\n",
        "    * If you understand where you are at any given time in the 'layers' of memory with the result list, you can confidently say that you understand recursion!"
      ]
    },
    {
      "cell_type": "code",
      "execution_count": null,
      "metadata": {
        "id": "V048pK312MSz",
        "outputId": "bf3bcf2f-dc21-4a47-a209-06a330326282"
      },
      "outputs": [
        {
          "name": "stdout",
          "output_type": "stream",
          "text": [
            "what is length-1? This will tell you where you are in the recursion stack: 1\n",
            "['A1']\n",
            "['A1', 'A2']\n",
            "['A1', 'A2', 'A3']\n",
            "['A1', 'A2', 'A3', 'A4']\n",
            "what is length-1? This will tell you where you are in the recursion stack: 1\n",
            "['A1', 'A2', 'A3', 'A4', 'C1']\n",
            "['A1', 'A2', 'A3', 'A4', 'C1', 'C2']\n",
            "['A1', 'A2', 'A3', 'A4', 'C1', 'C2', 'C3']\n",
            "['A1', 'A2', 'A3', 'A4', 'C1', 'C2', 'C3', 'C4']\n",
            "what is length-1? This will tell you where you are in the recursion stack: 1\n",
            "['A1', 'A2', 'A3', 'A4', 'C1', 'C2', 'C3', 'C4', 'G1']\n",
            "['A1', 'A2', 'A3', 'A4', 'C1', 'C2', 'C3', 'C4', 'G1', 'G2']\n",
            "['A1', 'A2', 'A3', 'A4', 'C1', 'C2', 'C3', 'C4', 'G1', 'G2', 'G3']\n",
            "['A1', 'A2', 'A3', 'A4', 'C1', 'C2', 'C3', 'C4', 'G1', 'G2', 'G3', 'G4']\n",
            "what is length-1? This will tell you where you are in the recursion stack: 1\n",
            "['A1', 'A2', 'A3', 'A4', 'C1', 'C2', 'C3', 'C4', 'G1', 'G2', 'G3', 'G4', 'T1']\n",
            "['A1', 'A2', 'A3', 'A4', 'C1', 'C2', 'C3', 'C4', 'G1', 'G2', 'G3', 'G4', 'T1', 'T2']\n",
            "['A1', 'A2', 'A3', 'A4', 'C1', 'C2', 'C3', 'C4', 'G1', 'G2', 'G3', 'G4', 'T1', 'T2', 'T3']\n",
            "['A1', 'A2', 'A3', 'A4', 'C1', 'C2', 'C3', 'C4', 'G1', 'G2', 'G3', 'G4', 'T1', 'T2', 'T3', 'T4']\n",
            "what is length-1? This will tell you where you are in the recursion stack: 2\n",
            "['A11']\n",
            "['A11', 'A12']\n",
            "['A11', 'A12', 'A13']\n",
            "['A11', 'A12', 'A13', 'A14']\n",
            "what is length-1? This will tell you where you are in the recursion stack: 2\n",
            "['A11', 'A12', 'A13', 'A14', 'A21']\n",
            "['A11', 'A12', 'A13', 'A14', 'A21', 'A22']\n",
            "['A11', 'A12', 'A13', 'A14', 'A21', 'A22', 'A23']\n",
            "['A11', 'A12', 'A13', 'A14', 'A21', 'A22', 'A23', 'A24']\n",
            "what is length-1? This will tell you where you are in the recursion stack: 2\n",
            "['A11', 'A12', 'A13', 'A14', 'A21', 'A22', 'A23', 'A24', 'A31']\n",
            "['A11', 'A12', 'A13', 'A14', 'A21', 'A22', 'A23', 'A24', 'A31', 'A32']\n",
            "['A11', 'A12', 'A13', 'A14', 'A21', 'A22', 'A23', 'A24', 'A31', 'A32', 'A33']\n",
            "['A11', 'A12', 'A13', 'A14', 'A21', 'A22', 'A23', 'A24', 'A31', 'A32', 'A33', 'A34']\n",
            "what is length-1? This will tell you where you are in the recursion stack: 2\n",
            "['A11', 'A12', 'A13', 'A14', 'A21', 'A22', 'A23', 'A24', 'A31', 'A32', 'A33', 'A34', 'A41']\n",
            "['A11', 'A12', 'A13', 'A14', 'A21', 'A22', 'A23', 'A24', 'A31', 'A32', 'A33', 'A34', 'A41', 'A42']\n",
            "['A11', 'A12', 'A13', 'A14', 'A21', 'A22', 'A23', 'A24', 'A31', 'A32', 'A33', 'A34', 'A41', 'A42', 'A43']\n",
            "['A11', 'A12', 'A13', 'A14', 'A21', 'A22', 'A23', 'A24', 'A31', 'A32', 'A33', 'A34', 'A41', 'A42', 'A43', 'A44']\n",
            "what is length-1? This will tell you where you are in the recursion stack: 2\n",
            "['A11', 'A12', 'A13', 'A14', 'A21', 'A22', 'A23', 'A24', 'A31', 'A32', 'A33', 'A34', 'A41', 'A42', 'A43', 'A44', 'C11']\n",
            "['A11', 'A12', 'A13', 'A14', 'A21', 'A22', 'A23', 'A24', 'A31', 'A32', 'A33', 'A34', 'A41', 'A42', 'A43', 'A44', 'C11', 'C12']\n",
            "['A11', 'A12', 'A13', 'A14', 'A21', 'A22', 'A23', 'A24', 'A31', 'A32', 'A33', 'A34', 'A41', 'A42', 'A43', 'A44', 'C11', 'C12', 'C13']\n",
            "['A11', 'A12', 'A13', 'A14', 'A21', 'A22', 'A23', 'A24', 'A31', 'A32', 'A33', 'A34', 'A41', 'A42', 'A43', 'A44', 'C11', 'C12', 'C13', 'C14']\n",
            "what is length-1? This will tell you where you are in the recursion stack: 2\n",
            "['A11', 'A12', 'A13', 'A14', 'A21', 'A22', 'A23', 'A24', 'A31', 'A32', 'A33', 'A34', 'A41', 'A42', 'A43', 'A44', 'C11', 'C12', 'C13', 'C14', 'C21']\n",
            "['A11', 'A12', 'A13', 'A14', 'A21', 'A22', 'A23', 'A24', 'A31', 'A32', 'A33', 'A34', 'A41', 'A42', 'A43', 'A44', 'C11', 'C12', 'C13', 'C14', 'C21', 'C22']\n",
            "['A11', 'A12', 'A13', 'A14', 'A21', 'A22', 'A23', 'A24', 'A31', 'A32', 'A33', 'A34', 'A41', 'A42', 'A43', 'A44', 'C11', 'C12', 'C13', 'C14', 'C21', 'C22', 'C23']\n",
            "['A11', 'A12', 'A13', 'A14', 'A21', 'A22', 'A23', 'A24', 'A31', 'A32', 'A33', 'A34', 'A41', 'A42', 'A43', 'A44', 'C11', 'C12', 'C13', 'C14', 'C21', 'C22', 'C23', 'C24']\n",
            "what is length-1? This will tell you where you are in the recursion stack: 2\n",
            "['A11', 'A12', 'A13', 'A14', 'A21', 'A22', 'A23', 'A24', 'A31', 'A32', 'A33', 'A34', 'A41', 'A42', 'A43', 'A44', 'C11', 'C12', 'C13', 'C14', 'C21', 'C22', 'C23', 'C24', 'C31']\n",
            "['A11', 'A12', 'A13', 'A14', 'A21', 'A22', 'A23', 'A24', 'A31', 'A32', 'A33', 'A34', 'A41', 'A42', 'A43', 'A44', 'C11', 'C12', 'C13', 'C14', 'C21', 'C22', 'C23', 'C24', 'C31', 'C32']\n",
            "['A11', 'A12', 'A13', 'A14', 'A21', 'A22', 'A23', 'A24', 'A31', 'A32', 'A33', 'A34', 'A41', 'A42', 'A43', 'A44', 'C11', 'C12', 'C13', 'C14', 'C21', 'C22', 'C23', 'C24', 'C31', 'C32', 'C33']\n",
            "['A11', 'A12', 'A13', 'A14', 'A21', 'A22', 'A23', 'A24', 'A31', 'A32', 'A33', 'A34', 'A41', 'A42', 'A43', 'A44', 'C11', 'C12', 'C13', 'C14', 'C21', 'C22', 'C23', 'C24', 'C31', 'C32', 'C33', 'C34']\n",
            "what is length-1? This will tell you where you are in the recursion stack: 2\n",
            "['A11', 'A12', 'A13', 'A14', 'A21', 'A22', 'A23', 'A24', 'A31', 'A32', 'A33', 'A34', 'A41', 'A42', 'A43', 'A44', 'C11', 'C12', 'C13', 'C14', 'C21', 'C22', 'C23', 'C24', 'C31', 'C32', 'C33', 'C34', 'C41']\n",
            "['A11', 'A12', 'A13', 'A14', 'A21', 'A22', 'A23', 'A24', 'A31', 'A32', 'A33', 'A34', 'A41', 'A42', 'A43', 'A44', 'C11', 'C12', 'C13', 'C14', 'C21', 'C22', 'C23', 'C24', 'C31', 'C32', 'C33', 'C34', 'C41', 'C42']\n",
            "['A11', 'A12', 'A13', 'A14', 'A21', 'A22', 'A23', 'A24', 'A31', 'A32', 'A33', 'A34', 'A41', 'A42', 'A43', 'A44', 'C11', 'C12', 'C13', 'C14', 'C21', 'C22', 'C23', 'C24', 'C31', 'C32', 'C33', 'C34', 'C41', 'C42', 'C43']\n",
            "['A11', 'A12', 'A13', 'A14', 'A21', 'A22', 'A23', 'A24', 'A31', 'A32', 'A33', 'A34', 'A41', 'A42', 'A43', 'A44', 'C11', 'C12', 'C13', 'C14', 'C21', 'C22', 'C23', 'C24', 'C31', 'C32', 'C33', 'C34', 'C41', 'C42', 'C43', 'C44']\n",
            "what is length-1? This will tell you where you are in the recursion stack: 2\n",
            "['A11', 'A12', 'A13', 'A14', 'A21', 'A22', 'A23', 'A24', 'A31', 'A32', 'A33', 'A34', 'A41', 'A42', 'A43', 'A44', 'C11', 'C12', 'C13', 'C14', 'C21', 'C22', 'C23', 'C24', 'C31', 'C32', 'C33', 'C34', 'C41', 'C42', 'C43', 'C44', 'G11']\n",
            "['A11', 'A12', 'A13', 'A14', 'A21', 'A22', 'A23', 'A24', 'A31', 'A32', 'A33', 'A34', 'A41', 'A42', 'A43', 'A44', 'C11', 'C12', 'C13', 'C14', 'C21', 'C22', 'C23', 'C24', 'C31', 'C32', 'C33', 'C34', 'C41', 'C42', 'C43', 'C44', 'G11', 'G12']\n",
            "['A11', 'A12', 'A13', 'A14', 'A21', 'A22', 'A23', 'A24', 'A31', 'A32', 'A33', 'A34', 'A41', 'A42', 'A43', 'A44', 'C11', 'C12', 'C13', 'C14', 'C21', 'C22', 'C23', 'C24', 'C31', 'C32', 'C33', 'C34', 'C41', 'C42', 'C43', 'C44', 'G11', 'G12', 'G13']\n",
            "['A11', 'A12', 'A13', 'A14', 'A21', 'A22', 'A23', 'A24', 'A31', 'A32', 'A33', 'A34', 'A41', 'A42', 'A43', 'A44', 'C11', 'C12', 'C13', 'C14', 'C21', 'C22', 'C23', 'C24', 'C31', 'C32', 'C33', 'C34', 'C41', 'C42', 'C43', 'C44', 'G11', 'G12', 'G13', 'G14']\n",
            "what is length-1? This will tell you where you are in the recursion stack: 2\n",
            "['A11', 'A12', 'A13', 'A14', 'A21', 'A22', 'A23', 'A24', 'A31', 'A32', 'A33', 'A34', 'A41', 'A42', 'A43', 'A44', 'C11', 'C12', 'C13', 'C14', 'C21', 'C22', 'C23', 'C24', 'C31', 'C32', 'C33', 'C34', 'C41', 'C42', 'C43', 'C44', 'G11', 'G12', 'G13', 'G14', 'G21']\n",
            "['A11', 'A12', 'A13', 'A14', 'A21', 'A22', 'A23', 'A24', 'A31', 'A32', 'A33', 'A34', 'A41', 'A42', 'A43', 'A44', 'C11', 'C12', 'C13', 'C14', 'C21', 'C22', 'C23', 'C24', 'C31', 'C32', 'C33', 'C34', 'C41', 'C42', 'C43', 'C44', 'G11', 'G12', 'G13', 'G14', 'G21', 'G22']\n",
            "['A11', 'A12', 'A13', 'A14', 'A21', 'A22', 'A23', 'A24', 'A31', 'A32', 'A33', 'A34', 'A41', 'A42', 'A43', 'A44', 'C11', 'C12', 'C13', 'C14', 'C21', 'C22', 'C23', 'C24', 'C31', 'C32', 'C33', 'C34', 'C41', 'C42', 'C43', 'C44', 'G11', 'G12', 'G13', 'G14', 'G21', 'G22', 'G23']\n",
            "['A11', 'A12', 'A13', 'A14', 'A21', 'A22', 'A23', 'A24', 'A31', 'A32', 'A33', 'A34', 'A41', 'A42', 'A43', 'A44', 'C11', 'C12', 'C13', 'C14', 'C21', 'C22', 'C23', 'C24', 'C31', 'C32', 'C33', 'C34', 'C41', 'C42', 'C43', 'C44', 'G11', 'G12', 'G13', 'G14', 'G21', 'G22', 'G23', 'G24']\n",
            "what is length-1? This will tell you where you are in the recursion stack: 2\n",
            "['A11', 'A12', 'A13', 'A14', 'A21', 'A22', 'A23', 'A24', 'A31', 'A32', 'A33', 'A34', 'A41', 'A42', 'A43', 'A44', 'C11', 'C12', 'C13', 'C14', 'C21', 'C22', 'C23', 'C24', 'C31', 'C32', 'C33', 'C34', 'C41', 'C42', 'C43', 'C44', 'G11', 'G12', 'G13', 'G14', 'G21', 'G22', 'G23', 'G24', 'G31']\n",
            "['A11', 'A12', 'A13', 'A14', 'A21', 'A22', 'A23', 'A24', 'A31', 'A32', 'A33', 'A34', 'A41', 'A42', 'A43', 'A44', 'C11', 'C12', 'C13', 'C14', 'C21', 'C22', 'C23', 'C24', 'C31', 'C32', 'C33', 'C34', 'C41', 'C42', 'C43', 'C44', 'G11', 'G12', 'G13', 'G14', 'G21', 'G22', 'G23', 'G24', 'G31', 'G32']\n",
            "['A11', 'A12', 'A13', 'A14', 'A21', 'A22', 'A23', 'A24', 'A31', 'A32', 'A33', 'A34', 'A41', 'A42', 'A43', 'A44', 'C11', 'C12', 'C13', 'C14', 'C21', 'C22', 'C23', 'C24', 'C31', 'C32', 'C33', 'C34', 'C41', 'C42', 'C43', 'C44', 'G11', 'G12', 'G13', 'G14', 'G21', 'G22', 'G23', 'G24', 'G31', 'G32', 'G33']\n",
            "['A11', 'A12', 'A13', 'A14', 'A21', 'A22', 'A23', 'A24', 'A31', 'A32', 'A33', 'A34', 'A41', 'A42', 'A43', 'A44', 'C11', 'C12', 'C13', 'C14', 'C21', 'C22', 'C23', 'C24', 'C31', 'C32', 'C33', 'C34', 'C41', 'C42', 'C43', 'C44', 'G11', 'G12', 'G13', 'G14', 'G21', 'G22', 'G23', 'G24', 'G31', 'G32', 'G33', 'G34']\n",
            "what is length-1? This will tell you where you are in the recursion stack: 2\n",
            "['A11', 'A12', 'A13', 'A14', 'A21', 'A22', 'A23', 'A24', 'A31', 'A32', 'A33', 'A34', 'A41', 'A42', 'A43', 'A44', 'C11', 'C12', 'C13', 'C14', 'C21', 'C22', 'C23', 'C24', 'C31', 'C32', 'C33', 'C34', 'C41', 'C42', 'C43', 'C44', 'G11', 'G12', 'G13', 'G14', 'G21', 'G22', 'G23', 'G24', 'G31', 'G32', 'G33', 'G34', 'G41']\n",
            "['A11', 'A12', 'A13', 'A14', 'A21', 'A22', 'A23', 'A24', 'A31', 'A32', 'A33', 'A34', 'A41', 'A42', 'A43', 'A44', 'C11', 'C12', 'C13', 'C14', 'C21', 'C22', 'C23', 'C24', 'C31', 'C32', 'C33', 'C34', 'C41', 'C42', 'C43', 'C44', 'G11', 'G12', 'G13', 'G14', 'G21', 'G22', 'G23', 'G24', 'G31', 'G32', 'G33', 'G34', 'G41', 'G42']\n",
            "['A11', 'A12', 'A13', 'A14', 'A21', 'A22', 'A23', 'A24', 'A31', 'A32', 'A33', 'A34', 'A41', 'A42', 'A43', 'A44', 'C11', 'C12', 'C13', 'C14', 'C21', 'C22', 'C23', 'C24', 'C31', 'C32', 'C33', 'C34', 'C41', 'C42', 'C43', 'C44', 'G11', 'G12', 'G13', 'G14', 'G21', 'G22', 'G23', 'G24', 'G31', 'G32', 'G33', 'G34', 'G41', 'G42', 'G43']\n",
            "['A11', 'A12', 'A13', 'A14', 'A21', 'A22', 'A23', 'A24', 'A31', 'A32', 'A33', 'A34', 'A41', 'A42', 'A43', 'A44', 'C11', 'C12', 'C13', 'C14', 'C21', 'C22', 'C23', 'C24', 'C31', 'C32', 'C33', 'C34', 'C41', 'C42', 'C43', 'C44', 'G11', 'G12', 'G13', 'G14', 'G21', 'G22', 'G23', 'G24', 'G31', 'G32', 'G33', 'G34', 'G41', 'G42', 'G43', 'G44']\n",
            "what is length-1? This will tell you where you are in the recursion stack: 2\n",
            "['A11', 'A12', 'A13', 'A14', 'A21', 'A22', 'A23', 'A24', 'A31', 'A32', 'A33', 'A34', 'A41', 'A42', 'A43', 'A44', 'C11', 'C12', 'C13', 'C14', 'C21', 'C22', 'C23', 'C24', 'C31', 'C32', 'C33', 'C34', 'C41', 'C42', 'C43', 'C44', 'G11', 'G12', 'G13', 'G14', 'G21', 'G22', 'G23', 'G24', 'G31', 'G32', 'G33', 'G34', 'G41', 'G42', 'G43', 'G44', 'T11']\n",
            "['A11', 'A12', 'A13', 'A14', 'A21', 'A22', 'A23', 'A24', 'A31', 'A32', 'A33', 'A34', 'A41', 'A42', 'A43', 'A44', 'C11', 'C12', 'C13', 'C14', 'C21', 'C22', 'C23', 'C24', 'C31', 'C32', 'C33', 'C34', 'C41', 'C42', 'C43', 'C44', 'G11', 'G12', 'G13', 'G14', 'G21', 'G22', 'G23', 'G24', 'G31', 'G32', 'G33', 'G34', 'G41', 'G42', 'G43', 'G44', 'T11', 'T12']\n",
            "['A11', 'A12', 'A13', 'A14', 'A21', 'A22', 'A23', 'A24', 'A31', 'A32', 'A33', 'A34', 'A41', 'A42', 'A43', 'A44', 'C11', 'C12', 'C13', 'C14', 'C21', 'C22', 'C23', 'C24', 'C31', 'C32', 'C33', 'C34', 'C41', 'C42', 'C43', 'C44', 'G11', 'G12', 'G13', 'G14', 'G21', 'G22', 'G23', 'G24', 'G31', 'G32', 'G33', 'G34', 'G41', 'G42', 'G43', 'G44', 'T11', 'T12', 'T13']\n",
            "['A11', 'A12', 'A13', 'A14', 'A21', 'A22', 'A23', 'A24', 'A31', 'A32', 'A33', 'A34', 'A41', 'A42', 'A43', 'A44', 'C11', 'C12', 'C13', 'C14', 'C21', 'C22', 'C23', 'C24', 'C31', 'C32', 'C33', 'C34', 'C41', 'C42', 'C43', 'C44', 'G11', 'G12', 'G13', 'G14', 'G21', 'G22', 'G23', 'G24', 'G31', 'G32', 'G33', 'G34', 'G41', 'G42', 'G43', 'G44', 'T11', 'T12', 'T13', 'T14']\n",
            "what is length-1? This will tell you where you are in the recursion stack: 2\n",
            "['A11', 'A12', 'A13', 'A14', 'A21', 'A22', 'A23', 'A24', 'A31', 'A32', 'A33', 'A34', 'A41', 'A42', 'A43', 'A44', 'C11', 'C12', 'C13', 'C14', 'C21', 'C22', 'C23', 'C24', 'C31', 'C32', 'C33', 'C34', 'C41', 'C42', 'C43', 'C44', 'G11', 'G12', 'G13', 'G14', 'G21', 'G22', 'G23', 'G24', 'G31', 'G32', 'G33', 'G34', 'G41', 'G42', 'G43', 'G44', 'T11', 'T12', 'T13', 'T14', 'T21']\n",
            "['A11', 'A12', 'A13', 'A14', 'A21', 'A22', 'A23', 'A24', 'A31', 'A32', 'A33', 'A34', 'A41', 'A42', 'A43', 'A44', 'C11', 'C12', 'C13', 'C14', 'C21', 'C22', 'C23', 'C24', 'C31', 'C32', 'C33', 'C34', 'C41', 'C42', 'C43', 'C44', 'G11', 'G12', 'G13', 'G14', 'G21', 'G22', 'G23', 'G24', 'G31', 'G32', 'G33', 'G34', 'G41', 'G42', 'G43', 'G44', 'T11', 'T12', 'T13', 'T14', 'T21', 'T22']\n",
            "['A11', 'A12', 'A13', 'A14', 'A21', 'A22', 'A23', 'A24', 'A31', 'A32', 'A33', 'A34', 'A41', 'A42', 'A43', 'A44', 'C11', 'C12', 'C13', 'C14', 'C21', 'C22', 'C23', 'C24', 'C31', 'C32', 'C33', 'C34', 'C41', 'C42', 'C43', 'C44', 'G11', 'G12', 'G13', 'G14', 'G21', 'G22', 'G23', 'G24', 'G31', 'G32', 'G33', 'G34', 'G41', 'G42', 'G43', 'G44', 'T11', 'T12', 'T13', 'T14', 'T21', 'T22', 'T23']\n",
            "['A11', 'A12', 'A13', 'A14', 'A21', 'A22', 'A23', 'A24', 'A31', 'A32', 'A33', 'A34', 'A41', 'A42', 'A43', 'A44', 'C11', 'C12', 'C13', 'C14', 'C21', 'C22', 'C23', 'C24', 'C31', 'C32', 'C33', 'C34', 'C41', 'C42', 'C43', 'C44', 'G11', 'G12', 'G13', 'G14', 'G21', 'G22', 'G23', 'G24', 'G31', 'G32', 'G33', 'G34', 'G41', 'G42', 'G43', 'G44', 'T11', 'T12', 'T13', 'T14', 'T21', 'T22', 'T23', 'T24']\n",
            "what is length-1? This will tell you where you are in the recursion stack: 2\n",
            "['A11', 'A12', 'A13', 'A14', 'A21', 'A22', 'A23', 'A24', 'A31', 'A32', 'A33', 'A34', 'A41', 'A42', 'A43', 'A44', 'C11', 'C12', 'C13', 'C14', 'C21', 'C22', 'C23', 'C24', 'C31', 'C32', 'C33', 'C34', 'C41', 'C42', 'C43', 'C44', 'G11', 'G12', 'G13', 'G14', 'G21', 'G22', 'G23', 'G24', 'G31', 'G32', 'G33', 'G34', 'G41', 'G42', 'G43', 'G44', 'T11', 'T12', 'T13', 'T14', 'T21', 'T22', 'T23', 'T24', 'T31']\n",
            "['A11', 'A12', 'A13', 'A14', 'A21', 'A22', 'A23', 'A24', 'A31', 'A32', 'A33', 'A34', 'A41', 'A42', 'A43', 'A44', 'C11', 'C12', 'C13', 'C14', 'C21', 'C22', 'C23', 'C24', 'C31', 'C32', 'C33', 'C34', 'C41', 'C42', 'C43', 'C44', 'G11', 'G12', 'G13', 'G14', 'G21', 'G22', 'G23', 'G24', 'G31', 'G32', 'G33', 'G34', 'G41', 'G42', 'G43', 'G44', 'T11', 'T12', 'T13', 'T14', 'T21', 'T22', 'T23', 'T24', 'T31', 'T32']\n",
            "['A11', 'A12', 'A13', 'A14', 'A21', 'A22', 'A23', 'A24', 'A31', 'A32', 'A33', 'A34', 'A41', 'A42', 'A43', 'A44', 'C11', 'C12', 'C13', 'C14', 'C21', 'C22', 'C23', 'C24', 'C31', 'C32', 'C33', 'C34', 'C41', 'C42', 'C43', 'C44', 'G11', 'G12', 'G13', 'G14', 'G21', 'G22', 'G23', 'G24', 'G31', 'G32', 'G33', 'G34', 'G41', 'G42', 'G43', 'G44', 'T11', 'T12', 'T13', 'T14', 'T21', 'T22', 'T23', 'T24', 'T31', 'T32', 'T33']\n",
            "['A11', 'A12', 'A13', 'A14', 'A21', 'A22', 'A23', 'A24', 'A31', 'A32', 'A33', 'A34', 'A41', 'A42', 'A43', 'A44', 'C11', 'C12', 'C13', 'C14', 'C21', 'C22', 'C23', 'C24', 'C31', 'C32', 'C33', 'C34', 'C41', 'C42', 'C43', 'C44', 'G11', 'G12', 'G13', 'G14', 'G21', 'G22', 'G23', 'G24', 'G31', 'G32', 'G33', 'G34', 'G41', 'G42', 'G43', 'G44', 'T11', 'T12', 'T13', 'T14', 'T21', 'T22', 'T23', 'T24', 'T31', 'T32', 'T33', 'T34']\n",
            "what is length-1? This will tell you where you are in the recursion stack: 2\n",
            "['A11', 'A12', 'A13', 'A14', 'A21', 'A22', 'A23', 'A24', 'A31', 'A32', 'A33', 'A34', 'A41', 'A42', 'A43', 'A44', 'C11', 'C12', 'C13', 'C14', 'C21', 'C22', 'C23', 'C24', 'C31', 'C32', 'C33', 'C34', 'C41', 'C42', 'C43', 'C44', 'G11', 'G12', 'G13', 'G14', 'G21', 'G22', 'G23', 'G24', 'G31', 'G32', 'G33', 'G34', 'G41', 'G42', 'G43', 'G44', 'T11', 'T12', 'T13', 'T14', 'T21', 'T22', 'T23', 'T24', 'T31', 'T32', 'T33', 'T34', 'T41']\n",
            "['A11', 'A12', 'A13', 'A14', 'A21', 'A22', 'A23', 'A24', 'A31', 'A32', 'A33', 'A34', 'A41', 'A42', 'A43', 'A44', 'C11', 'C12', 'C13', 'C14', 'C21', 'C22', 'C23', 'C24', 'C31', 'C32', 'C33', 'C34', 'C41', 'C42', 'C43', 'C44', 'G11', 'G12', 'G13', 'G14', 'G21', 'G22', 'G23', 'G24', 'G31', 'G32', 'G33', 'G34', 'G41', 'G42', 'G43', 'G44', 'T11', 'T12', 'T13', 'T14', 'T21', 'T22', 'T23', 'T24', 'T31', 'T32', 'T33', 'T34', 'T41', 'T42']\n",
            "['A11', 'A12', 'A13', 'A14', 'A21', 'A22', 'A23', 'A24', 'A31', 'A32', 'A33', 'A34', 'A41', 'A42', 'A43', 'A44', 'C11', 'C12', 'C13', 'C14', 'C21', 'C22', 'C23', 'C24', 'C31', 'C32', 'C33', 'C34', 'C41', 'C42', 'C43', 'C44', 'G11', 'G12', 'G13', 'G14', 'G21', 'G22', 'G23', 'G24', 'G31', 'G32', 'G33', 'G34', 'G41', 'G42', 'G43', 'G44', 'T11', 'T12', 'T13', 'T14', 'T21', 'T22', 'T23', 'T24', 'T31', 'T32', 'T33', 'T34', 'T41', 'T42', 'T43']\n",
            "['A11', 'A12', 'A13', 'A14', 'A21', 'A22', 'A23', 'A24', 'A31', 'A32', 'A33', 'A34', 'A41', 'A42', 'A43', 'A44', 'C11', 'C12', 'C13', 'C14', 'C21', 'C22', 'C23', 'C24', 'C31', 'C32', 'C33', 'C34', 'C41', 'C42', 'C43', 'C44', 'G11', 'G12', 'G13', 'G14', 'G21', 'G22', 'G23', 'G24', 'G31', 'G32', 'G33', 'G34', 'G41', 'G42', 'G43', 'G44', 'T11', 'T12', 'T13', 'T14', 'T21', 'T22', 'T23', 'T24', 'T31', 'T32', 'T33', 'T34', 'T41', 'T42', 'T43', 'T44']\n",
            "['A11', 'A12', 'A13', 'A14', 'A21', 'A22', 'A23', 'A24', 'A31', 'A32', 'A33', 'A34', 'A41', 'A42', 'A43', 'A44', 'C11', 'C12', 'C13', 'C14', 'C21', 'C22', 'C23', 'C24', 'C31', 'C32', 'C33', 'C34', 'C41', 'C42', 'C43', 'C44', 'G11', 'G12', 'G13', 'G14', 'G21', 'G22', 'G23', 'G24', 'G31', 'G32', 'G33', 'G34', 'G41', 'G42', 'G43', 'G44', 'T11', 'T12', 'T13', 'T14', 'T21', 'T22', 'T23', 'T24', 'T31', 'T32', 'T33', 'T34', 'T41', 'T42', 'T43', 'T44']\n"
          ]
        }
      ],
      "source": [
        "#%%time\n",
        "#instead of nested for loops, we can do the same thing more efficiently with recursion....\n",
        "# -----------------------------------------------------\n",
        "# warning: recursion is a way of thinking that is counter-intuitive initially and, much\n",
        "# like while loops, should be undertaken with great care so you don't get stuck.\n",
        "# -----------------------------------------------------\n",
        "# the strategy of the following code can be summarized as the following:\n",
        "# * to get a list of all possible kmers of a given length, start by checking the length.\n",
        "#      1. if length is one - base case -  you are all done.\n",
        "#      2. if length if > one, take the list of all possible sequences whose length is one\n",
        "        # less than the length you're looking for and add each of the four possible bases\n",
        "        # to each of it's elements to get the result\n",
        "# -----------------------------------------------------\n",
        "\n",
        "def generate_kmers_rec(length):\n",
        "# -----------------------------------------------------\n",
        "#IMPORTANT WITH RECURSION: ALWAYS establish a base case: if\n",
        "# the length is 1, then simply return a list of unimers\n",
        "# (similar to while loops). This will be the 'outer loop' of the recursion\n",
        "# visited. So you can see in the example below that the letters A C G and T will\n",
        "# be added to the numbers that are added in the else loop.\n",
        "# -----------------------------------------------------\n",
        "    if length==1:\n",
        "        return [\"A\",\"C\",\"G\",\"T\"]\n",
        "    #if length is >1 then\n",
        "    else:\n",
        "    #intialize an empty list.\n",
        "    # key to understanding: this result list will be present in the memory layer for\n",
        "    # length=1, there will be a different result list - even though it has the same variable\n",
        "    # name - for the memory layer that has length=2 and finally a different one will be\n",
        "    # present for the memory layer for length =3.\n",
        "        result=[]\n",
        "# -----------------------------------------------------\n",
        "# ONTO THE MAGIC PART OF THIS SOLUTION!\n",
        "# -----------------------------------------------------\n",
        "        for seq in generate_kmers_rec(length-1):\n",
        "    # for length =2, we call the function itself and it is >1, so we initialize empty\n",
        "    # result list for length 2 BECAUSE OF SCOPING RULES <-- you knew that was gonna come in\n",
        "    # handy. We call the function again but this time, length 1 so it returns and\n",
        "    # function call is over.\n",
        "            print(\"what is length-1? This will remind you where you are in the recursion stack: \" +str(length-1))\n",
        "    #NOTE: IN ORDER TO UNDERSTAND WHAT IS HAPPENING HERE, I have changed\n",
        "    # THIS TO BE for base in [\"1\",\"2\",\"3\",\"4\"] just so you can keep\n",
        "    # track of where you are in the recursion 'stack'. To produce a\n",
        "    # kmer, you should change it back to [\"T\",\"G\",\"C\",\"A\"].\n",
        "            for base in [\"1\",\"2\",\"3\",\"4\"]:\n",
        "    #now it returns to the point in the code where it stopped to call the other function\n",
        "    #so you have result list for 2 which is [A,C,G,T] which you are then appending to\n",
        "                result.append(seq+base)\n",
        "                print(result)\n",
        "        #like the for loop example before, this gives: AA,AC,AG,AT,CA,CC,CG,CT etc.\n",
        "        return result\n",
        "\n",
        "print(generate_kmers_rec(3))"
      ]
    },
    {
      "cell_type": "markdown",
      "metadata": {
        "id": "OM7K1Jkc2MS0"
      },
      "source": [
        "Here's a more biologically relevant example. You will often see recursion used for tree problems, ie. genealogies, phylogenies, networks that eventually end in one node. Keeping with our great ape examples, but complicated, this is a tree that uses a dictionary and recursion."
      ]
    },
    {
      "cell_type": "code",
      "execution_count": null,
      "metadata": {
        "id": "_IRkWr7_2MS1",
        "outputId": "638bc346-4436-41d9-fa53-474a68c7bf5c"
      },
      "outputs": [
        {
          "name": "stdout",
          "output_type": "stream",
          "text": [
            "Taxon is not Primates so it must have at least one ancestor\n",
            "The parent is Lorisiformes \n",
            "Looking up ancestors for Lorisiformes\n",
            "Taxon is not Primates so it must have at least one ancestor\n",
            "The parent is Strepsirrhini \n",
            "Looking up ancestors for Strepsirrhini\n",
            "Taxon is not Primates so it must have at least one ancestor\n",
            "The parent is Primates \n",
            "Looking up ancestors for Primates\n",
            "Taxon is Primates - you are the top of this phylogeny already!\n",
            "parents ancestors are []\n",
            "about to return the result: ['Primates']\n",
            "parents ancestors are ['Primates']\n",
            "about to return the result: ['Strepsirrhini', 'Primates']\n",
            "parents ancestors are ['Strepsirrhini', 'Primates']\n",
            "about to return the result: ['Lorisiformes', 'Strepsirrhini', 'Primates']\n",
            "['Lorisiformes', 'Strepsirrhini', 'Primates']\n"
          ]
        }
      ],
      "source": [
        "def get_ancestors(taxon):\n",
        "    if taxon==\"Primates\":\n",
        "        print (\"Taxon is Primates - you are the top of this phylogeny already!\")\n",
        "        return [] # you are already at the top of the tree\n",
        "    else:\n",
        "        print(\"Taxon is not Primates so it must have at least one ancestor\")\n",
        "        parent=tax_dict.get(taxon)\n",
        "        print(\"The parent is \"+parent+\" \")\n",
        "        print(\"Looking up ancestors for \"+parent)\n",
        "        parent_ancestors=get_ancestors(parent)\n",
        "        print(\"parents ancestors are \"+str(parent_ancestors))\n",
        "        #adding to a result list that you will return\n",
        "        result=[parent]+parent_ancestors\n",
        "        print(\"about to return the result: \"+str(result))\n",
        "        return result\n",
        "\n",
        "\n",
        "tax_dict={\"Pan troglodytes\":\"Hominoidea\",\"Pongo abelii\":\"Hominoidea\",\"Hominoidea\":\"Simiiformes\",\"Simiiformes\":\"Haplorrhini\",\"Tarsius tarsier\":\"Tarsiiformes\",\"Haplorrhini\":\"Primates\",\"Tarsiiformes\":\"Haplorrhini\",\"Loris tardigradus\":\"Lorisidae\",\"Lorisidae\":\"Strepsirrhini\",\"Strepsirrhini\":\"Primates\",\"Allocebus trichotis\":\"Lemuriformes\",\"Lemuriformes\":\"Strepsirrhini\",\"Galago alleni\":\"Lorisiformes\",\"Lorisiformes\":\"Strepsirrhini\",\"Galago moholi\":\"Lorisiformes\"}\n",
        "#print(get_ancestors(\"Pan troglodytes\"))\n",
        "print(get_ancestors(\"Galago alleni\"))"
      ]
    },
    {
      "cell_type": "code",
      "execution_count": null,
      "metadata": {
        "id": "o227xJRz2MS2",
        "outputId": "ad8061df-5cd2-4b7e-9ad5-e651d4a62220"
      },
      "outputs": [
        {
          "name": "stdout",
          "output_type": "stream",
          "text": [
            "      calculating ancestors for Galago alleni\n",
            "      Taxon is not Primates so it must have at least one ancestor\n",
            "      The parent is Lorisiformes \n",
            "      Looking up ancestors for Lorisiformes\n",
            "         calculating ancestors for Lorisiformes\n",
            "         Taxon is not Primates so it must have at least one ancestor\n",
            "         The parent is Strepsirrhini \n",
            "         Looking up ancestors for Strepsirrhini\n",
            "            calculating ancestors for Strepsirrhini\n",
            "            Taxon is not Primates so it must have at least one ancestor\n",
            "            The parent is Primates \n",
            "            Looking up ancestors for Primates\n",
            "               calculating ancestors for Primates\n",
            "               Taxon is Primates - you are the top of this phylogeny already!\n",
            "            parents ancestors are []\n",
            "            about to return the result: ['Primates']\n",
            "         parents ancestors are ['Primates']\n",
            "         about to return the result: ['Strepsirrhini', 'Primates']\n",
            "      parents ancestors are ['Strepsirrhini', 'Primates']\n",
            "      about to return the result: ['Lorisiformes', 'Strepsirrhini', 'Primates']\n",
            "['Lorisiformes', 'Strepsirrhini', 'Primates']\n"
          ]
        }
      ],
      "source": [
        "def get_ancestors(taxon,depth):\n",
        "    spacer=\"   \"*depth\n",
        "    # You can use tabs, instead!\n",
        "    # spacer=\"\\t\"*depth\n",
        "    print(spacer+\"calculating ancestors for \"+taxon)\n",
        "    if taxon==\"Primates\":\n",
        "        print(spacer+\"Taxon is Primates - you are the top of this phylogeny already!\")\n",
        "        return [] # you are already at the top of the tree\n",
        "    else:\n",
        "        print(spacer+\"Taxon is not Primates so it must have at least one ancestor\")\n",
        "        parent=tax_dict.get(taxon)\n",
        "        print(spacer+\"The parent is \"+parent+\" \")\n",
        "        print(spacer+\"Looking up ancestors for \"+parent)\n",
        "        parent_ancestors=get_ancestors(parent,depth+1)\n",
        "        print(spacer+\"parents ancestors are \"+str(parent_ancestors))\n",
        "        result=[parent]+parent_ancestors\n",
        "        print(spacer+\"about to return the result: \"+str(result))\n",
        "        return result\n",
        "\n",
        "\n",
        "tax_dict={\"Pan troglodytes\":\"Hominoidea\",\"Pongo abelii\":\"Hominoidea\",\"Hominoidea\":\"Simiiformes\",\"Simiiformes\":\"Haplorrhini\",\"Tarsius tarsier\":\"Tarsiiformes\",\"Haplorrhini\":\"Primates\",\"Tarsiiformes\":\"Haplorrhini\",\"Loris tardigradus\":\"Lorisidae\",\"Lorisidae\":\"Strepsirrhini\",\"Strepsirrhini\":\"Primates\",\"Allocebus trichotis\":\"Lemuriformes\",\"Lemuriformes\":\"Strepsirrhini\",\"Galago alleni\":\"Lorisiformes\",\"Lorisiformes\":\"Strepsirrhini\",\"Galago moholi\":\"Lorisiformes\"}\n",
        "#print(get_ancestors(\"Pan troglodytes\"))\n",
        "print(get_ancestors(\"Galago alleni\",2))"
      ]
    },
    {
      "cell_type": "markdown",
      "metadata": {
        "id": "a5lfesip2MTE"
      },
      "source": [
        "#### Top Down (Parent-to-child)\n",
        "* Top down relationships are more complicated because __keys__ in dictionaries have to be unique\n",
        "* Example: primates contain two groups – Haplorrhini and Strepsirrhini\n",
        "            * you can’t write them as this:\n",
        "                    dict_prim={“Primates”:”Haplorrhini”,”Primates”:”Strepsirrhini”}\n",
        "            * Because Primates is not a unique key in this example\n",
        "            * What to do?\n",
        "                - Nest lists with children within the dictionary so the keys remain unique\n",
        "               - example:\n",
        "          \n",
        "               tax_dict={“Strepsirrhini”:[“Lorididae”,”Lemuriformes”,”Lorisiformes”]}\n"
      ]
    },
    {
      "cell_type": "code",
      "execution_count": null,
      "metadata": {
        "id": "laSKFTuP2MTE",
        "outputId": "a0c9acfa-e190-498b-802d-2a3d0212007c"
      },
      "outputs": [
        {
          "name": "stdout",
          "output_type": "stream",
          "text": [
            "['Primates', 'Strepsirrhini', 'Lorisiformes', 'Galago moholi', 'Galago alleni', 'Lemuriformes', 'Allocebus trichotis', 'Lorisidae', 'Loris tardigradus', 'Haplorrhini', 'Simiiformes', 'Hominoidea', 'Pan troglodytes', 'Pongo abelii', 'Tarsiiformes', 'Tarsius tarsier']\n"
          ]
        }
      ],
      "source": [
        "def get_children(taxon):\n",
        "    result=[]\n",
        "    stack=[taxon]\n",
        "    while len(stack) !=0:\n",
        "        current_taxon=stack.pop()\n",
        "        current_taxon_children=new_tax_dict.get(current_taxon,[])\n",
        "        stack.extend(current_taxon_children)\n",
        "        result.append(current_taxon)\n",
        "    return result\n",
        "\n",
        "new_tax_dict={\"Primates\":[\"Haplorrhini\",\"Strepsirrhini\"],\"Tarsiiformes\":[\"Tarsius tarsier\"],\"Haplorrhini\":[\"Tarsiiformes\",\"Simiiformes\"],\"Simiiformes\":[\"Hominoidea\"],\"Lorisidae\":[\"Loris tardigradus\"],\"Lemuriformes\":[\"Allocebus trichotis\"],\"Lorisiformes\":[\"Galago alleni\",\"Galago moholi\"],\"Hominoidea\":[\"Pongo abelii\",\"Pan troglodytes\"],\"Strepsirrhini\":[\"Lorisidae\",\"Lemuriformes\",\"Lorisiformes\"]}\n",
        "#print(get_children(\"Tarsiiformes\"))\n",
        "print(get_children(\"Primates\"))"
      ]
    },
    {
      "cell_type": "code",
      "execution_count": null,
      "metadata": {
        "id": "mzSyL0Us2MTG",
        "outputId": "437e81d6-5872-4158-b222-28de0a6bbd21"
      },
      "outputs": [
        {
          "name": "stdout",
          "output_type": "stream",
          "text": [
            "For the Tarsius tarsier the parent taxon is: ['Tarsiiformes']\n",
            "['Tarsiiformes', 'Tarsius tarsier']\n",
            "____________\n",
            "For the Lorisidae the parent taxon is: ['Strepsirrhini']\n",
            "For the Loris tardigradus the parent taxon is: ['Lorisidae']\n",
            "For the Lemuriformes the parent taxon is: ['Strepsirrhini', 'Lorisidae', 'Loris tardigradus']\n",
            "For the Allocebus trichotis the parent taxon is: ['Lemuriformes']\n",
            "For the Lorisiformes the parent taxon is: ['Strepsirrhini', 'Lorisidae', 'Loris tardigradus', 'Lemuriformes', 'Allocebus trichotis']\n",
            "For the Galago alleni the parent taxon is: ['Lorisiformes']\n",
            "For the Galago moholi the parent taxon is: ['Lorisiformes', 'Galago alleni']\n",
            "['Strepsirrhini', 'Lorisidae', 'Loris tardigradus', 'Lemuriformes', 'Allocebus trichotis', 'Lorisiformes', 'Galago alleni', 'Galago moholi']\n"
          ]
        }
      ],
      "source": [
        "# What are we doing in this code?  Create a single result list which initially\n",
        "# contains the taxon that was given\n",
        "# as an argument. Then we look up children for that taxon. Then for each child,\n",
        "# we add its children to the result\n",
        "# using the recursion call. Then we return the list\n",
        "\n",
        "def get_children_rec(taxon):\n",
        "    result=[taxon]\n",
        "    children=new_tax_dict.get(taxon,[])\n",
        "    for child in children:\n",
        "        print(\"For the \"+child+\" the parent taxon is: \"+str(result))\n",
        "        result.extend(get_children_rec(child))\n",
        "    return result\n",
        "\n",
        "new_tax_dict={\"Primates\":[\"Haplorrhini\",\"Strepsirrhini\"],\"Tarsiiformes\":[\"Tarsius tarsier\"],\"Haplorrhini\":[\"Tarsiiformes\",\"Simiiformes\"],\"Simiiformes\":[\"Hominoidea\"],\"Lorisidae\":[\"Loris tardigradus\"],\"Lemuriformes\":[\"Allocebus trichotis\"],\"Lorisiformes\":[\"Galago alleni\",\"Galago moholi\"],\"Hominoidea\":[\"Pongo abelii\",\"Pan troglodytes\"],\"Strepsirrhini\":[\"Lorisidae\",\"Lemuriformes\",\"Lorisiformes\"]}\n",
        "print(get_children_rec(\"Tarsiiformes\"))\n",
        "print(\"____________\")\n",
        "print(get_children_rec(\"Strepsirrhini\"))"
      ]
    },
    {
      "cell_type": "code",
      "execution_count": null,
      "metadata": {
        "id": "DS7vU3wR2MTH"
      },
      "outputs": [],
      "source": []
    }
  ],
  "metadata": {
    "kernelspec": {
      "display_name": "Python 3 (ipykernel)",
      "language": "python",
      "name": "python3"
    },
    "language_info": {
      "codemirror_mode": {
        "name": "ipython",
        "version": 3
      },
      "file_extension": ".py",
      "mimetype": "text/x-python",
      "name": "python",
      "nbconvert_exporter": "python",
      "pygments_lexer": "ipython3",
      "version": "3.11.5"
    },
    "colab": {
      "provenance": []
    }
  },
  "nbformat": 4,
  "nbformat_minor": 0
}