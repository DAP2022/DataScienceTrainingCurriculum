{
  "cells": [
    {
      "cell_type": "markdown",
      "metadata": {
        "id": "yFGPRkNNTo3J"
      },
      "source": [
        "### GCP enviroment setup:\n",
        "only run the following code block if using GCP, if running this notebook Localy files can be downloaded from <https://courses.education.jax.org/courses/894/modules>"
      ]
    },
    {
      "cell_type": "code",
      "execution_count": null,
      "metadata": {
        "id": "1QA--BmPTo3L"
      },
      "outputs": [],
      "source": [
        "!gsutil cp gs://jax-presgraves-edusumner2-courses-code/IntrotoPythonII_2025/Module_4_material/*.csv /content/"
      ]
    },
    {
      "cell_type": "markdown",
      "metadata": {
        "id": "hM_QiXvcTo3M"
      },
      "source": [
        "data sets:\n",
        "-----------------\n",
        "   1. malariaMaize.csv\n",
        "   2. mammals.csv\n",
        "       * find it here: https://zief0002.github.io/bespectacled-antelope/codebooks/mammals.html\n",
        "       * demonstration of how to read it into your notebook is in the cell (almost) below\n",
        "   3. titanic_pandas\n",
        "      * titanic_pandas.csv\n",
        "      * find it here: https://github.com/pandas-dev/pandas/blob/main/doc/data/titanic.csv\n",
        "   4. gapminder\n",
        "      * maternal_mortality_ratio_per_100000_live_births.csv\n",
        "          --> we will work through together to see what we can discover using tools gleaned from our titanic analysis.\n",
        "\n",
        "Resources:\n",
        "------\n",
        "1. Same as pythontutor.com there is..... ta da! **https://pandastutor.com/**\n",
        "2. Ten minutes to pandas (really good!): https://pandas.pydata.org/docs/user_guide/10min.html\n",
        "3. handy, dandy cheat sheet for pandas: http://pandas.pydata.org/Pandas_Cheat_Sheet.pdf\n",
        "4. pandas documentation here: http://pandas.pydata.org/pandas-docs/stable/"
      ]
    },
    {
      "cell_type": "markdown",
      "metadata": {
        "id": "uLr1S1BsTo3M"
      },
      "source": [
        "```\n",
        "\"Good data scientists understand, in a deep way, that the heavy lifting of cleanup and preparation are not something that gets in the way of solving the problem: it IS the problem\" - DJ Patil\n",
        "```\n",
        "\n",
        "Tidy data:\n",
        "1. each variable is in a column\n",
        "2. each observation is a row\n",
        "3. one table for each type of data\n",
        "\n",
        "Clean Data:\n",
        "* data cleaning is the process of detecting and removing data records that are: incomplete, irrelevant, inaccurate, and does not contain duplicates.\n"
      ]
    },
    {
      "cell_type": "code",
      "execution_count": null,
      "metadata": {
        "id": "r3uD5O9QTo3N"
      },
      "outputs": [],
      "source": [
        "# NOTE:\n",
        "# ----------------------------------\n",
        "# if you are using colab, in order to load the datafiles you will need to use the following commands\n",
        "# (note that this is similar to the file.choose() command in R, if you have worked with R before)\n",
        "# this places the data files in the 'content' folder with a path that looks like this: /content/malariaMaize.csv\n",
        "# you will want to load malariaMaize.csv, and maternalMortality.csv, and Titanic_pandas.csv\n",
        "# ---------------------------------- unhash the two lines below:\n",
        "#from google.colab import files\n",
        "#uploaded = files.upload()"
      ]
    },
    {
      "cell_type": "code",
      "execution_count": null,
      "metadata": {
        "id": "cQSTidgMTo3N"
      },
      "outputs": [],
      "source": [
        "import pandas as pd"
      ]
    },
    {
      "cell_type": "code",
      "execution_count": null,
      "metadata": {
        "id": "YnjFoz5bTo3N",
        "outputId": "60345d46-378f-46aa-bf32-50d8b4695397"
      },
      "outputs": [
        {
          "data": {
            "text/html": [
              "<div>\n",
              "<style scoped>\n",
              "    .dataframe tbody tr th:only-of-type {\n",
              "        vertical-align: middle;\n",
              "    }\n",
              "\n",
              "    .dataframe tbody tr th {\n",
              "        vertical-align: top;\n",
              "    }\n",
              "\n",
              "    .dataframe thead th {\n",
              "        text-align: right;\n",
              "    }\n",
              "</style>\n",
              "<table border=\"1\" class=\"dataframe\">\n",
              "  <thead>\n",
              "    <tr style=\"text-align: right;\">\n",
              "      <th></th>\n",
              "      <th>species</th>\n",
              "      <th>body_weight</th>\n",
              "      <th>brain_weight</th>\n",
              "      <th>slow_wave</th>\n",
              "      <th>paradox</th>\n",
              "      <th>total_sleep</th>\n",
              "      <th>lifespan</th>\n",
              "      <th>gestation</th>\n",
              "      <th>predation</th>\n",
              "      <th>exposure</th>\n",
              "      <th>danger</th>\n",
              "    </tr>\n",
              "  </thead>\n",
              "  <tbody>\n",
              "    <tr>\n",
              "      <th>0</th>\n",
              "      <td>African elephant</td>\n",
              "      <td>6654.000</td>\n",
              "      <td>5712.0</td>\n",
              "      <td>NaN</td>\n",
              "      <td>NaN</td>\n",
              "      <td>3.3</td>\n",
              "      <td>38.6</td>\n",
              "      <td>645.0</td>\n",
              "      <td>3</td>\n",
              "      <td>5</td>\n",
              "      <td>3</td>\n",
              "    </tr>\n",
              "    <tr>\n",
              "      <th>1</th>\n",
              "      <td>African giant pouched rat</td>\n",
              "      <td>1.000</td>\n",
              "      <td>6.6</td>\n",
              "      <td>6.3</td>\n",
              "      <td>2.0</td>\n",
              "      <td>8.3</td>\n",
              "      <td>4.5</td>\n",
              "      <td>42.0</td>\n",
              "      <td>3</td>\n",
              "      <td>1</td>\n",
              "      <td>3</td>\n",
              "    </tr>\n",
              "    <tr>\n",
              "      <th>2</th>\n",
              "      <td>Arctic fox</td>\n",
              "      <td>3.385</td>\n",
              "      <td>44.5</td>\n",
              "      <td>NaN</td>\n",
              "      <td>NaN</td>\n",
              "      <td>12.5</td>\n",
              "      <td>14.0</td>\n",
              "      <td>60.0</td>\n",
              "      <td>1</td>\n",
              "      <td>1</td>\n",
              "      <td>1</td>\n",
              "    </tr>\n",
              "    <tr>\n",
              "      <th>3</th>\n",
              "      <td>Arctic ground squirrel</td>\n",
              "      <td>0.920</td>\n",
              "      <td>5.7</td>\n",
              "      <td>NaN</td>\n",
              "      <td>NaN</td>\n",
              "      <td>16.5</td>\n",
              "      <td>NaN</td>\n",
              "      <td>25.0</td>\n",
              "      <td>5</td>\n",
              "      <td>2</td>\n",
              "      <td>3</td>\n",
              "    </tr>\n",
              "    <tr>\n",
              "      <th>4</th>\n",
              "      <td>Asian elephant</td>\n",
              "      <td>2547.000</td>\n",
              "      <td>4603.0</td>\n",
              "      <td>2.1</td>\n",
              "      <td>1.8</td>\n",
              "      <td>3.9</td>\n",
              "      <td>69.0</td>\n",
              "      <td>624.0</td>\n",
              "      <td>3</td>\n",
              "      <td>5</td>\n",
              "      <td>4</td>\n",
              "    </tr>\n",
              "  </tbody>\n",
              "</table>\n",
              "</div>"
            ],
            "text/plain": [
              "                     species  body_weight  brain_weight  slow_wave  paradox  \\\n",
              "0           African elephant     6654.000        5712.0        NaN      NaN   \n",
              "1  African giant pouched rat        1.000           6.6        6.3      2.0   \n",
              "2                 Arctic fox        3.385          44.5        NaN      NaN   \n",
              "3     Arctic ground squirrel        0.920           5.7        NaN      NaN   \n",
              "4             Asian elephant     2547.000        4603.0        2.1      1.8   \n",
              "\n",
              "   total_sleep  lifespan  gestation  predation  exposure  danger  \n",
              "0          3.3      38.6      645.0          3         5       3  \n",
              "1          8.3       4.5       42.0          3         1       3  \n",
              "2         12.5      14.0       60.0          1         1       1  \n",
              "3         16.5       NaN       25.0          5         2       3  \n",
              "4          3.9      69.0      624.0          3         5       4  "
            ]
          },
          "execution_count": 8,
          "metadata": {},
          "output_type": "execute_result"
        }
      ],
      "source": [
        "# in order to also have your online datasets available:\n",
        "url = \"https://raw.githubusercontent.com/zief0002/bespectacled-antelope/main/data/mammals.csv\"\n",
        "\n",
        "mammals= pd.read_csv(url)\n",
        "mammals.head()"
      ]
    },
    {
      "cell_type": "markdown",
      "metadata": {
        "id": "x_cuR3TvTo3O"
      },
      "source": [
        "### PANDAS\n",
        "\n",
        "__Data manipulation and cleaning__\n",
        "\n",
        "* We often want to use data that is **heterogeneous** - a fancy word for data that is of different types. The most familiar type of heterogenous data for most people is an excel spreadsheet. In python, we have already seen tuples which allows for heterogeneous data.\n",
        "\n",
        "* used most often for \"data munging\" which really means creating clean, easily used data sets\n",
        "\n",
        "* two workhorse structures are: __Series__ and __DataFrame__\n",
        "\n",
        "* methods associated with pandas dataframes that make data manipulation much easier than with standard python datatypes\n",
        "\n",
        "* we can run basic plots using pandas methods (but mostly use matplotlib)\n",
        "\n",
        "* Subsetting and grouping are probably the most powerful aspects of PANDAS.\n",
        "\n",
        "__Series__\n",
        "* one-dimensional array-like object that contains a sequence of values and an associated array of data labels (index) - the index means that when you print out a series object, it will display the index on the left and the actual associated values in the series on the right.\n",
        "* you can also think about Series as a fix-length, ordered dictionary. In fact, you can convert dictionaries into Series.  \n",
        "* https://pandas.pydata.org/pandas-docs/stable/generated/pandas.Series.html"
      ]
    },
    {
      "cell_type": "code",
      "execution_count": null,
      "metadata": {
        "id": "8EHpwi-oTo3P"
      },
      "outputs": [],
      "source": [
        "# we often bring in modules in an abbreviated alias format.\n",
        "# this allows us to call functions within that module with a shorter name\n",
        "# i.e. pd.read_csv() instead of pandas.read_csv()\n",
        "import pandas as pd"
      ]
    },
    {
      "cell_type": "code",
      "execution_count": null,
      "metadata": {
        "id": "1S5yYE0VTo3P",
        "outputId": "44e7b725-f625-4432-ca59-b1dbe3c04484"
      },
      "outputs": [
        {
          "name": "stdout",
          "output_type": "stream",
          "text": [
            "Here is a Series with default index: \n",
            "0    4\n",
            "1    7\n",
            "2   -5\n",
            "3    3\n",
            "dtype: int64\n",
            "Here is a series with a user-specified index: \n",
            "a     1\n",
            "b     4\n",
            "c     9\n",
            "d    16\n",
            "e    25\n",
            "f    36\n",
            "dtype: int64\n",
            "you can print out just the index with a method called, unsurprisingly, .index which is an attribute not a method so there are no ()\n",
            "Index(['a', 'b', 'c', 'd', 'e', 'f'], dtype='object')\n",
            "````````````````````````````\n",
            "We can apply Boolean conditions!\n",
            "e    25\n",
            "f    36\n",
            "dtype: int64\n",
            "~~~~~~~~~~~~~~~~~~~~~~~~~~~~\n",
            "We can use broadcasting to apply math to each element\n",
            "a     2\n",
            "b     8\n",
            "c    18\n",
            "d    32\n",
            "e    50\n",
            "f    72\n",
            "dtype: int64\n",
            " We can convert dictionaries to Series: \n",
            "~~~~~~~~~~~~~~~~~~~~~~~~~~~~\n",
            "zebras        2\n",
            "lion          4\n",
            "kookaburra    5\n",
            "dtype: int64\n",
            "Series objects automatically align via index. So if you added obj3 to obj3, the animals would align and the summation would take place over the associated numbers.\n",
            "zebras         4\n",
            "lion           8\n",
            "kookaburra    10\n",
            "dtype: int64\n"
          ]
        }
      ],
      "source": [
        "# series example:\n",
        "# Note: because we didn't provide an index, the default one was automatically given\n",
        "obj1 = pd.Series([4,7,-5,3])\n",
        "print(\"Here is a Series with default index: \")\n",
        "print(obj1)\n",
        "# we could explicitly give an index\n",
        "obj2 = pd.Series([1,4,9,16,25,36],index = ['a','b','c','d','e','f'])\n",
        "print( \"Here is a series with a user-specified index: \")\n",
        "print(obj2)\n",
        "print(\"you can print out just the index with a method called, unsurprisingly, .index which is an attribute not a method so there are no ()\")\n",
        "print(obj2.index)\n",
        "print(\"````````````````````````````\")\n",
        "print(\"We can apply Boolean conditions! Also to dataframes when we learn them next...\")\n",
        "print(obj2[obj2>24])\n",
        "print(\"~~~~~~~~~~~~~~~~~~~~~~~~~~~~\")\n",
        "print(\"We can use broadcasting to apply math to each element\")\n",
        "print(obj2*2)\n",
        "print(\" We can convert dictionaries to Series: \")\n",
        "print(\"~~~~~~~~~~~~~~~~~~~~~~~~~~~~\")\n",
        "dic_example = {'zebras':2, 'lion':4,'kookaburra':5}\n",
        "obj3 = pd.Series(dic_example)\n",
        "print(obj3)\n",
        "print(\"Series objects automatically align via index. So if you added obj3 to obj3, the animals would align and the summation would take place over the associated numbers.\")\n",
        "print(obj3+obj3)"
      ]
    },
    {
      "cell_type": "markdown",
      "metadata": {
        "id": "rJAcyLrKTo3P"
      },
      "source": [
        "__data frames__\n",
        "* DataFrames allow you to store and manipulate tabular data in labeled rows of observations and columns of variables.\n",
        "* Each column contains a pandas Series.\n",
        "* There are associated methods and utilites for working with data.\n",
        "        * especially: .mean(), describe(), median()\n",
        "        * REALLY USEFUL (and similar to what we will see in SQLite package in module 5A):\n",
        "              * we will work through examples of some of them, but don't have time to visit every single one so I encourage you to spend some time playing with them yourself since it will pay off for you later!\n",
        "  \n",
        "| Manipulation   | Description                                                     |\n",
        "|:-------|:------------------------------------------------------------------------|\n",
        "| select  | select which columns to include in dataset via slicing                            |\n",
        "| filter    | filter dataset to include specified rows via booelan conditions, use [] for series and [[]] for dataframes|\n",
        "| mutate | add a new column based on values in other columns (like summing etc). You can use .assign() method |\n",
        "| groupby | group values to apply a function within the specified groups (we'll see this in the titanic dataset in many permutations) |\n",
        "| summarize | calculate specified summary metric of a specified variable |\n",
        "| arrange  | sort rows ascending or descending order of a specified column |\n",
        "| merge | join separate datasets into a single dataset based on a common column |\n",
        "\n",
        "* There are some rules about how to set up data frames that follow Hadley Wickham's conventions (He is an important fellow in the R world - he created ggplot, the tidyverse, and is one of the main innovators behind RStudio/Posit).\n",
        "* https://pandas.pydata.org/pandas-docs/stable/reference/api/pandas.DataFrame.html\n",
        "\n",
        "* There are several ways to create a DataFrame. One way (like the above example with Series) is to use a dictionary.\n",
        "For example:"
      ]
    },
    {
      "cell_type": "code",
      "execution_count": null,
      "metadata": {
        "id": "ocReGo98To3Q",
        "outputId": "2df2376a-4b7e-4573-fb7f-b952fd6becc0"
      },
      "outputs": [
        {
          "name": "stdout",
          "output_type": "stream",
          "text": [
            "        country    capital    area  population\n",
            "0        Brazil   Brasilia   8.516      200.40\n",
            "1        Russia     Moscow  17.100      143.50\n",
            "2         India  New Dehli   3.286     1252.00\n",
            "3         China    Beijing   9.597     1357.00\n",
            "4  South Africa   Pretoria   1.221       52.98\n"
          ]
        }
      ],
      "source": [
        "# create  dictionary using plain PYTHON. This is probably the easiest way to do this.\n",
        "dict = {\"country\": [\"Brazil\", \"Russia\", \"India\", \"China\", \"South Africa\"],\n",
        "       \"capital\": [\"Brasilia\", \"Moscow\", \"New Dehli\", \"Beijing\", \"Pretoria\"],\n",
        "       \"area\": [8.516, 17.10, 3.286, 9.597, 1.221],\n",
        "       \"population\": [200.4, 143.5, 1252, 1357, 52.98] }\n",
        "# -----------------------------\n",
        "# turn this dictionary into a pandas dataframe called\n",
        "# BRICS - Brazil.Russia.India.China.SouthAfrica\n",
        "# -----------------------------\n",
        "# remember the structure: module_name.methodfrommodule(arguments). We used pd as the alias for importing the pandas module. DataFrame is a method.\n",
        "brics = pd.DataFrame(dict)\n",
        "print(brics)\n",
        "#default index is provided."
      ]
    },
    {
      "cell_type": "code",
      "execution_count": null,
      "metadata": {
        "id": "XPjtV3gGTo3Q",
        "outputId": "490a7a75-9602-439b-df51-6d3f20d3d8b0"
      },
      "outputs": [
        {
          "name": "stdout",
          "output_type": "stream",
          "text": [
            "~~~~~~~~~~~~~~~~~~~~~~~~~~~~~~~~~~~~~~~~~~~~~~~~~~~~~~~~~~~~~~~~\n",
            "Change the indexing from the default 0-->4 to BR, RU, IN, CH, SA\n",
            "~~~~~~~~~~~~~~~~~~~~~~~~~~~~~~~~~~~~~~~~~~~~~~~~~~~~~~~~~~~~~~~~\n",
            "         country    capital    area  population\n",
            "BR        Brazil   Brasilia   8.516      200.40\n",
            "RU        Russia     Moscow  17.100      143.50\n",
            "IN         India  New Dehli   3.286     1252.00\n",
            "CH         China    Beijing   9.597     1357.00\n",
            "SA  South Africa   Pretoria   1.221       52.98\n"
          ]
        }
      ],
      "source": [
        "# Set a novel index for brics - that is, this doesn't just represent an existing column, like country\n",
        "brics.index = [\"BR\", \"RU\", \"IN\", \"CH\", \"SA\"]\n",
        "print(\"~~~~~~~~~~~~~~~~~~~~~~~~~~~~~~~~~~~~~~~~~~~~~~~~~~~~~~~~~~~~~~~~\")\n",
        "print(\"Change the indexing from the default 0-->4 to BR, RU, IN, CH, SA\")\n",
        "print(\"~~~~~~~~~~~~~~~~~~~~~~~~~~~~~~~~~~~~~~~~~~~~~~~~~~~~~~~~~~~~~~~~\")\n",
        "# Print out brics with new index values\n",
        "print(brics)\n",
        "\n",
        "# Note: you can also convert a list into a pandas dataframe, too!"
      ]
    },
    {
      "cell_type": "code",
      "execution_count": null,
      "metadata": {
        "id": "MuyDLRWMTo3Q",
        "outputId": "44a5540a-b6a9-4148-a459-d987a60854ec"
      },
      "outputs": [
        {
          "name": "stdout",
          "output_type": "stream",
          "text": [
            "         Maize_yield  mean_elevation_(m)  person-years  \\\n",
            "Villages                                                 \n",
            "Gulim           High                2050         23458   \n",
            "Denbun          High                2050         20630   \n",
            "\n",
            "          Number_of_malaria_cases  IncidenceRate/10000  \n",
            "Villages                                                \n",
            "Gulim                         683                  291  \n",
            "Denbun                         88                   43  \n",
            "              Maize_yield  mean_elevation_(m)  person-years  \\\n",
            "Villages                                                      \n",
            "Shakawa               Low                2200         17441   \n",
            "Agnifereda            Low                2450         17309   \n",
            "Jibgedel              Low                2450         15570   \n",
            "Bokotabo              Low                1770          7319   \n",
            "Gedam Lijamor         Low                1850          8836   \n",
            "\n",
            "               Number_of_malaria_cases  IncidenceRate/10000  \n",
            "Villages                                                     \n",
            "Shakawa                             66                   38  \n",
            "Agnifereda                           5                    3  \n",
            "Jibgedel                            23                   15  \n",
            "Bokotabo                          2359                 3223  \n",
            "Gedam Lijamor                      398                  450  \n",
            "Total elements:  105  \n",
            "Shape of the table:  (21, 5)\n"
          ]
        }
      ],
      "source": [
        "# THIS IS VERY EXCITING - you can import files, .csv are popular, in a manner similar to the one provided by R!\n",
        "# here we import the malaria maize data set\n",
        "#---------------------\n",
        "# Note: your filepath will possibly look different depending on where you placed the\n",
        "# malariaMaize.csv file or if you are using colab and uploading files.\n",
        "#---------------------\n",
        "mal_maize = pd.read_csv(\"malariaMaize.csv\")\n",
        "mal_maize.head()\n",
        "# we could over ride the default index and insist that the index be the Villages column.\n",
        "mal_maize.set_index(\"Villages\",inplace=True)\n",
        "# Print out dataset\n",
        "print(mal_maize.head(2))\n",
        "print(mal_maize.tail())\n",
        "print(\"Total elements: \", mal_maize.size, \" \\nShape of the table: \", mal_maize.shape)"
      ]
    },
    {
      "cell_type": "code",
      "execution_count": null,
      "metadata": {
        "id": "AeZ3yt9sTo3Q",
        "outputId": "ee1406c5-12c2-4d2e-a449-4cead8a6a1af"
      },
      "outputs": [
        {
          "name": "stdout",
          "output_type": "stream",
          "text": [
            "Here it is as a series:\n",
            "0      683\n",
            "1       88\n",
            "2      170\n",
            "3      370\n",
            "4      226\n",
            "5      552\n",
            "6      857\n",
            "7      395\n",
            "8       71\n",
            "9      218\n",
            "10     180\n",
            "11     177\n",
            "12      94\n",
            "13       5\n",
            "14       8\n",
            "15      79\n",
            "16      66\n",
            "17       5\n",
            "18      23\n",
            "19    2359\n",
            "20     398\n",
            "Name: Number_of_malaria_cases, dtype: int64\n",
            "------------------------------\n",
            "Here it is as a DataFrame\n",
            "    Number_of_malaria_cases\n",
            "0                       683\n",
            "1                        88\n",
            "2                       170\n",
            "3                       370\n",
            "4                       226\n",
            "5                       552\n",
            "6                       857\n",
            "7                       395\n",
            "8                        71\n",
            "9                       218\n",
            "10                      180\n",
            "11                      177\n",
            "12                       94\n",
            "13                        5\n",
            "14                        8\n",
            "15                       79\n",
            "16                       66\n",
            "17                        5\n",
            "18                       23\n",
            "19                     2359\n",
            "20                      398\n",
            "------------------------------\n",
            "    Number_of_malaria_cases Maize_yield\n",
            "0                       683        High\n",
            "1                        88        High\n",
            "2                       170        High\n",
            "3                       370        High\n",
            "4                       226        High\n",
            "5                       552        High\n",
            "6                       857        High\n",
            "7                       395        High\n",
            "8                        71      Medium\n",
            "9                       218      Medium\n",
            "10                      180      Medium\n",
            "11                      177      Medium\n",
            "12                       94      Medium\n",
            "13                        5         Low\n",
            "14                        8         Low\n",
            "15                       79         Low\n",
            "16                       66         Low\n",
            "17                        5         Low\n",
            "18                       23         Low\n",
            "19                     2359         Low\n",
            "20                      398         Low\n",
            "malaria cases with conditions. How about only including when case > 500\n",
            "       Villages Maize_yield  mean_elevation_(m)  person-years  \\\n",
            "0         Gulim        High                2050         23458   \n",
            "5   Fetamsantom        High                2050         18333   \n",
            "6   Ziyewshewun        High                2050         18384   \n",
            "19     Bokotabo         Low                1770          7319   \n",
            "\n",
            "    Number_of_malaria_cases  IncidenceRate/10000  \n",
            "0                       683                  291  \n",
            "5                       552                  301  \n",
            "6                       857                  466  \n",
            "19                     2359                 3223  \n",
            "~~~~~~~~~~~~~\n",
            "          Villages Maize_yield  mean_elevation_(m)  person-years  \\\n",
            "0            Gulim        High                2050         23458   \n",
            "1           Denbun        High                2050         20630   \n",
            "2            Wadra        High                2050         12805   \n",
            "3  Zalimashebekuma        High                2050         16857   \n",
            "\n",
            "   Number_of_malaria_cases  IncidenceRate/10000  \n",
            "0                      683                  291  \n",
            "1                       88                   43  \n",
            "2                      170                  133  \n",
            "3                      370                  219  \n",
            "      Villages Maize_yield  mean_elevation_(m)  person-years  \\\n",
            "4   Adel Agata        High                2050         12805   \n",
            "5  Fetamsantom        High                2050         18333   \n",
            "6  Ziyewshewun        High                2050         18384   \n",
            "\n",
            "   Number_of_malaria_cases  IncidenceRate/10000  \n",
            "4                      226                  176  \n",
            "5                      552                  301  \n",
            "6                      857                  466  \n",
            "------------------------------\n",
            "Here is an example of iloc - although just pulling out columns is easier\n",
            "           Villages Maize_yield\n",
            "0             Gulim        High\n",
            "1            Denbun        High\n",
            "2             Wadra        High\n",
            "3   Zalimashebekuma        High\n",
            "4        Adel Agata        High\n",
            "5       Fetamsantom        High\n",
            "6       Ziyewshewun        High\n",
            "7      Fzelsertekez        High\n",
            "8      Woinmaambaye      Medium\n",
            "9          Wangedam      Medium\n",
            "10           Tiatia      Medium\n",
            "11     Bagunakebesi      Medium\n",
            "12        Alefabasi      Medium\n",
            "13     Wehindurbete         Low\n",
            "14           Arbisi         Low\n",
            "15           Wendgi         Low\n",
            "16          Shakawa         Low\n",
            "17       Agnifereda         Low\n",
            "18         Jibgedel         Low\n",
            "19         Bokotabo         Low\n",
            "20    Gedam Lijamor         Low\n",
            "~~~~~~~~~~~~~~~~~~~~~~~~~~~~~~\n",
            "          Villages Maize_yield  mean_elevation_(m)  person-years  \\\n",
            "0            Gulim        High                2050         23458   \n",
            "1           Denbun        High                2050         20630   \n",
            "2            Wadra        High                2050         12805   \n",
            "3  Zalimashebekuma        High                2050         16857   \n",
            "\n",
            "   Number_of_malaria_cases  IncidenceRate/10000  \n",
            "0                      683                  291  \n",
            "1                       88                   43  \n",
            "2                      170                  133  \n",
            "3                      370                  219  \n"
          ]
        }
      ],
      "source": [
        "# select: via SLICING! AKA: indexing\n",
        "mal_maize = pd.read_csv(\"malariaMaize.csv\")\n",
        "# selecting\n",
        "# Print out number of cases column as Pandas Series: SINGLE SQUARE BRACKET\n",
        "print(\"Here it is as a series:\")\n",
        "print(mal_maize['Number_of_malaria_cases'])\n",
        "\n",
        "print(\"------------------------------\")\n",
        "print(\"Here it is as a DataFrame\")\n",
        "# Print out number of cases column as Pandas DataFrame: DOUBLE SQUARE BRACKET\n",
        "print(mal_maize[['Number_of_malaria_cases']])\n",
        "print(\"------------------------------\")\n",
        "# see the difference between Series and Dataframe?\n",
        "# DF includes column names, for one thing.\n",
        "\n",
        "# Print out DataFrame with number of cases and Maize_yield columns\n",
        "print(mal_maize[['Number_of_malaria_cases', 'Maize_yield']])\n",
        "print(\"malaria cases with conditions. How about only including when case > 500\")\n",
        "\n",
        "# filter: boolean filter!\n",
        "print(mal_maize[mal_maize['Number_of_malaria_cases']>500])\n",
        "# print(mal_maize.loc[mal_maize['Number_of_malaria_cases']>500])\n",
        "print(\"~~~~~~~~~~~~~\")\n",
        "# select:\n",
        "# Print out first 4 observations/rows: SLICING\n",
        "print(mal_maize[0:4])\n",
        "\n",
        "# Print out fifth, sixth, and seventh observation/row\n",
        "print(mal_maize[4:7])\n",
        "\n",
        "print(\"------------------------------\")\n",
        "print(\"Here is an example of iloc - although just pulling out columns is easier\")\n",
        "# Print out 3rd observation/row using index (indexing starts at 0 so this should be\n",
        "# for Wadra)\n",
        "print(mal_maize.iloc[:,0:2])\n",
        "print(\"~~~~~~~~~~~~~~~~~~~~~~~~~~~~~~\")\n",
        "# there is a difference between iloc[index position] and loc[name of position] but in this case, since the\n",
        "# index is default, they should be accessed the same way.\n",
        "print(mal_maize.loc[0:3])\n"
      ]
    },
    {
      "cell_type": "markdown",
      "metadata": {
        "id": "F2MwaYX8To3Q"
      },
      "source": [
        "One of the most appropriate comics for this applied programming course:\n",
        "    \n",
        "https://xkcd.com/2054/\n",
        "\n",
        "or.... when my code shouldn't work but does anyway:\n",
        "https://i.imgur.com/0wH2jSc.gifv\n",
        "\n",
        "and...(yeah, I can do this all day):\n",
        "https://www.reddit.com/r/ProgrammerHumor/comments/9u2cx6/updating_your_project_is_such_a_a_pain_sometimes/\n"
      ]
    },
    {
      "cell_type": "markdown",
      "metadata": {
        "id": "mZhyR7gqTo3R"
      },
      "source": [
        "Tangentially: Articles that you may be interested in:\n",
        "\n",
        "Pandas creator, Wes McKinney, and why he created it:\n",
        "https://qz.com/1126615/the-story-of-the-most-important-tool-in-data-science/\n",
        "\n",
        "** If you manage to integrate this into your learning, you will be unstoppable in whatever career you pursue: **storytelling**, that is pulling a clear narrative out of messy data, is one of the most powerful and essential parts of being an effective scientist. We are hardwired to storytell as humans, and data science - and data visualization - is fundamentally about learning tools that help you tease out the 'story' of your data.  Learning to tell stories (note: not lies or anecdotes but powerful cohesive explanations of the patterns in the data that are accessible to your audience) is one of the most important and valued skills you will develop as scientists. It is also one of the hardest. PANDAS STRENGTH IS THAT IT MAKES IT AS EASY AS POSSIBLE FOR YOU TO LEARN THE DIFFICULT SKILL OF TRANSFORMING YOUR DATA INTO A COMPELLING STORY.**\n",
        "\n",
        "How popular is pandas and why?\n",
        "https://stackoverflow.blog/2017/09/14/python-growing-quickly/\n"
      ]
    },
    {
      "cell_type": "markdown",
      "metadata": {
        "id": "H9UwXyqQTo3R"
      },
      "source": [
        "## In lecture example:\n",
        "* Are body mass and brain mass related in mammals?\n",
        "Read in the mammals.csv file (found here: https://raw.githubusercontent.com/zief0002/bespectacled-antelope/main/data/mammals.csv) to investigate this question with plots: Graph body mas versus brain mass. Label the axes. We will use Mathplotlib.pyplot.\n",
        "\n",
        "https://pandas.pydata.org/pandas-docs/version/0.22/generated/pandas.DataFrame.plot.html"
      ]
    },
    {
      "cell_type": "code",
      "execution_count": null,
      "metadata": {
        "id": "J4kjGoCxTo3R"
      },
      "outputs": [],
      "source": [
        "# I showed you how to do this at the top of the notebook, too so this might already be read into memory.\n",
        "url = \"https://raw.githubusercontent.com/zief0002/bespectacled-antelope/main/data/mammals.csv\"\n",
        "mammals=pd.read_csv(url)\n"
      ]
    },
    {
      "cell_type": "markdown",
      "metadata": {
        "id": "B0YDlQFrTo3R"
      },
      "source": [
        "tangent: matplotlib is part of our 'stack'. We will see a couple of examples of it, but it is for plotting data.\n",
        "\n",
        "The cell below is how you would typically read in your entire stack (and you would put it at the top of your notebook).\n",
        "\n",
        "https://matplotlib.org/stable/gallery/index.html\n",
        "\n",
        "https://pandas.pydata.org/pandas-docs/version/0.15.0/visualization.html"
      ]
    },
    {
      "cell_type": "code",
      "execution_count": null,
      "metadata": {
        "id": "zDLXGgYfTo3R"
      },
      "outputs": [],
      "source": [
        "import pandas as pd\n",
        "import matplotlib.pyplot as plt"
      ]
    },
    {
      "cell_type": "code",
      "execution_count": null,
      "metadata": {
        "id": "m63bINLDTo3R",
        "outputId": "ed3cf0c9-a2a9-4be4-97a1-7bed70b527d9"
      },
      "outputs": [
        {
          "data": {
            "image/png": "[encoded data removed]",
            "text/plain": [
              "<Figure size 640x480 with 1 Axes>"
            ]
          },
          "metadata": {},
          "output_type": "display_data"
        }
      ],
      "source": [
        "# the plot function can take a number of different kinds: bar, hist, box,area, scatter, pie etc.\n",
        "# once again: if you have any familiarity with R, this format will be comfortable for you!\n",
        "mammals.plot(kind = 'scatter', x = \"body_weight\", y = \"brain_weight\",title= \"Brain weight versus body weight\",color=\"orange\")\n",
        "plt.yscale(\"log\")\n",
        "plt.xscale(\"log\")\n",
        "plt.show()"
      ]
    },
    {
      "cell_type": "markdown",
      "metadata": {
        "id": "TH3XOoz0To3R"
      },
      "source": [
        "## Moving on...working through examples\n",
        "\n",
        "* We need to save our files in csv (comma separated format) or tsv (tab separated format with the default argument delimiter='\\t'). If using tab separated data, you will need to use the argument in the **pd.read_csv(file_name,delimiter='\\t')**.I have included some publicly available data sets from the famous data visualization website gapminder.org. In case you don't know this was the data visualization project of the late Hans Rosling who gave probably the most effective TED talk of all time (https://www.gapminder.org/videos/hans-rosling-ted-talk-2007-seemingly-impossible-is-possible/). Data visualization is THE MOST EFFECTIVE TOOL THAT YOU HAVE AT YOUR DISPOSAL; use it responsibly, please! You can find the data (download  maternal mortality (under the health tab) and child death located here: https://www.gapminder.org/data/\n",
        "\n",
        "* note that the maternal mortality file has columns that are each year (1800, 1850, 2013 etc).\n",
        "\n",
        "1. We are going to read in the file contents and save files.\n",
        "    * We are going to properly read in the file contents by assigning the file contents to a variable so that we can access them in memory by simply calling the super easy variable name\n",
        "\n",
        "2. We will see some basic tools of data exploration (.head(), .tails(), .info(), shape etc), sort_values(), mean(), median()\n",
        "\n",
        "3. We will subset our data using slicing and loc() versus iloc()\n",
        "    * there is a straightforward explanation (in my opinion) of the difference between loc() and iloc() here - https://stackoverflow.com/questions/31593201/how-are-iloc-and-loc-different\n",
        "\n",
        "4. We will delete columns and rows and learn how to concatenate dataframes\n",
        "\n",
        "5. split-apply-combine methods like groupby and aggregate\n",
        "    "
      ]
    },
    {
      "cell_type": "markdown",
      "metadata": {
        "id": "Ijlkc7MlTo3R"
      },
      "source": [
        "                                    ***THERE IS WHERE WE ENDED ON DAY 4 in 2024 & 2025***"
      ]
    },
    {
      "cell_type": "markdown",
      "metadata": {
        "id": "dn0MFtMRTo3R"
      },
      "source": [
        "### IN LECTURE exercise: Let's take a look at the titanic dataset\n",
        "\n",
        "* if you have already taken Intro to R I, you have already had your fill of the titanic dataset but we are, after all, trying to\n",
        "demonstrate that you can use python tools to get much of the functionality of R so....sorry?\n",
        "\n",
        "1. download titanic\n",
        "\n",
        "titanic_data = pd.read_csv(\"titanic_pandas.csv\")\n",
        "\n",
        "Note: There are varying accounts of the exact numbers of passengers and crew on the Titanic but it is usually approx 2240 with approx 706 surviving. The data set we will use is a much smaller dataset of some passengers (1309) (according to wikipedia there were approximately 1317 passengers).  \n",
        "\n",
        "2. let's be nosy (like all Data Scientists) and do some data peeking\n",
        "\n",
        "a. how many rows and columns?\n",
        "b. can we look into the last 12 rows?\n",
        "I have downloaded this from GitHub:\n",
        "https://github.com/pandas-dev/pandas/blob/main/doc/data/titanic.csv\n"
      ]
    },
    {
      "cell_type": "code",
      "execution_count": null,
      "metadata": {
        "id": "3-HMExqjTo3S",
        "outputId": "b034ac62-3e04-423d-8caf-a3b7964719d1"
      },
      "outputs": [
        {
          "name": "stdout",
          "output_type": "stream",
          "text": [
            "~~~~~~~~~~~~~~~~~~~~\n",
            "Index(['pclass', 'survived', 'name', 'sex', 'age', 'sibsp', 'parch', 'ticket',\n",
            "       'fare', 'cabin', 'embarked', 'boat', 'body', 'home.dest'],\n",
            "      dtype='object')\n",
            "~~~~~~~~~~~~~~~~~~~~\n",
            "      pclass  survived                         name     sex   age  sibsp  \\\n",
            "258      1.0       1.0      Serepeca, Miss. Augusta  female  30.0    0.0   \n",
            "839      3.0       0.0  Gustafsson, Mr. Karl Gideon    male  19.0    0.0   \n",
            "1057     3.0       1.0  Nicola-Yarred, Miss. Jamila  female  14.0    1.0   \n",
            "\n",
            "      parch  ticket     fare cabin embarked boat  body  \\\n",
            "258     0.0  113798  31.0000   NaN        C    4   NaN   \n",
            "839     0.0  347069   7.7750   NaN        S  NaN   NaN   \n",
            "1057    0.0    2651  11.2417   NaN        C    C   NaN   \n",
            "\n",
            "                       home.dest  \n",
            "258                          NaN  \n",
            "839   Myren, Sweden New York, NY  \n",
            "1057                         NaN  \n",
            "-----------\n",
            "            pclass     survived          age        sibsp        parch  \\\n",
            "count  1309.000000  1309.000000  1046.000000  1309.000000  1309.000000   \n",
            "mean      2.294882     0.381971    29.881135     0.498854     0.385027   \n",
            "std       0.837836     0.486055    14.413500     1.041658     0.865560   \n",
            "min       1.000000     0.000000     0.166700     0.000000     0.000000   \n",
            "25%       2.000000     0.000000    21.000000     0.000000     0.000000   \n",
            "50%       3.000000     0.000000    28.000000     0.000000     0.000000   \n",
            "75%       3.000000     1.000000    39.000000     1.000000     0.000000   \n",
            "max       3.000000     1.000000    80.000000     8.000000     9.000000   \n",
            "\n",
            "              fare        body  \n",
            "count  1308.000000  121.000000  \n",
            "mean     33.295479  160.809917  \n",
            "std      51.758668   97.696922  \n",
            "min       0.000000    1.000000  \n",
            "25%       7.895800   72.000000  \n",
            "50%      14.454200  155.000000  \n",
            "75%      31.275000  256.000000  \n",
            "max     512.329200  328.000000  \n",
            "   pclass  survived                            name     sex      age  sibsp  \\\n",
            "0     1.0       1.0   Allen, Miss. Elisabeth Walton  female  29.0000    0.0   \n",
            "1     1.0       1.0  Allison, Master. Hudson Trevor    male   0.9167    1.0   \n",
            "\n",
            "   parch  ticket      fare    cabin embarked boat  body  \\\n",
            "0    0.0   24160  211.3375       B5        S    2   NaN   \n",
            "1    2.0  113781  151.5500  C22 C26        S   11   NaN   \n",
            "\n",
            "                         home.dest  \n",
            "0                     St Louis, MO  \n",
            "1  Montreal, PQ / Chesterville, ON  \n",
            "(1310, 14)\n"
          ]
        }
      ],
      "source": [
        "titanic_pandas = pd.read_csv(\"Titanic_pandas.csv\")\n",
        "#print(titanic_pandas)\n",
        "print(\"~~~~~~~~~~~~~~~~~~~~\")\n",
        "print(titanic_pandas.columns)\n",
        "print(\"~~~~~~~~~~~~~~~~~~~~\")\n",
        "print(titanic_pandas.sample(3))\n",
        "print(\"-----------\")\n",
        "print(titanic_pandas.describe())\n",
        "print(titanic_pandas.head(2))\n",
        "print(titanic_pandas.shape)"
      ]
    },
    {
      "cell_type": "markdown",
      "metadata": {
        "id": "K_X5Ps-yTo3S"
      },
      "source": [
        "### In Lecture Exercise on Titanic\n",
        "1. how to sort the data set by gender\n",
        "2. how about survival? Survival is coded as: 0 (died),1 (survived)"
      ]
    },
    {
      "cell_type": "code",
      "execution_count": null,
      "metadata": {
        "id": "rsa7z6I3To3S",
        "outputId": "30a399c9-1e6b-4b4c-9689-768113521d16"
      },
      "outputs": [
        {
          "name": "stdout",
          "output_type": "stream",
          "text": [
            "pclass\n",
            "1.0    39.159918\n",
            "2.0    29.506705\n",
            "3.0    24.816367\n",
            "Name: age, dtype: float64\n",
            "~~ NOT THE SAME THING AS USING DOUBLE BRACKETS: double brackets is a dataframe, single is a series~~~\n",
            "pclass     2.294882\n",
            "age       29.881135\n",
            "dtype: float64\n",
            "~~~~~~~~~~~~~~~~~~~~~~~~~~~~~~~~~~~~~~~~~~~~~~~~~~\n",
            "pclass\n",
            "3.0    709\n",
            "1.0    323\n",
            "2.0    277\n",
            "Name: count, dtype: int64\n"
          ]
        }
      ],
      "source": [
        "# groupby is AMAZING. It emulates a lot of the functionality of SQL!\n",
        "# .groupby(names of the column to group on)[column(s) on which to perform the method].method()\n",
        "# remember the python tutorial example about dog breeds - they used groupby in that query!\n",
        "print(titanic_pandas.groupby('pclass')['age'].mean())\n",
        "#print(titanic_pandas.groupby('survived')['age'].mean())\n",
        "print(\"~~ NOT THE SAME THING AS USING DOUBLE BRACKETS: double brackets is a dataframe, single is a series~~~\")\n",
        "print(titanic_pandas[['pclass','age']].mean())\n",
        "print(\"~~~~~\"*10)\n",
        "print(titanic_pandas[\"pclass\"].value_counts())\n",
        "# How to sort the data by gender:\n",
        "# fill in below with examples during class!\n",
        "#\n",
        "#\n",
        "#"
      ]
    },
    {
      "cell_type": "code",
      "execution_count": null,
      "metadata": {
        "id": "vB5UmQ30To3S",
        "outputId": "63a9ebae-7a23-4ae3-8022-756bca455d42"
      },
      "outputs": [
        {
          "name": "stdout",
          "output_type": "stream",
          "text": [
            "['S' 'C' nan 'Q']\n",
            "['S' 'C' 'Q']\n",
            "embarked\n",
            "S    914\n",
            "C    270\n",
            "Q    123\n",
            "Name: count, dtype: int64\n"
          ]
        }
      ],
      "source": [
        "# TITANIC data set - introducing some methods\n",
        "# We can see the unique method in use for the titanic data set\n",
        "print(titanic_pandas[\"embarked\"].unique())\n",
        "# We can get rid of the nan strings\n",
        "print(titanic_pandas[\"embarked\"].dropna().unique())\n",
        "print(titanic_pandas[\"embarked\"].value_counts())"
      ]
    },
    {
      "cell_type": "code",
      "execution_count": null,
      "metadata": {
        "id": "5ppifM4eTo3S",
        "outputId": "214ec15a-cd1f-4783-90f1-5e89a425ff9b"
      },
      "outputs": [
        {
          "name": "stdout",
          "output_type": "stream",
          "text": [
            "pclass\n",
            "1.0    39.159918\n",
            "2.0    29.506705\n",
            "3.0    24.816367\n",
            "Name: age, dtype: float64\n",
            "                     age  survived\n",
            "pclass sex                        \n",
            "1.0    female  37.037594  0.965278\n",
            "       male    41.029250  0.340782\n",
            "2.0    female  27.499191  0.886792\n",
            "       male    30.815401  0.146199\n",
            "3.0    female  22.185307  0.490741\n",
            "       male    25.962273  0.152130\n",
            "pclass  sex   \n",
            "1.0     female    133\n",
            "        male      151\n",
            "2.0     female    103\n",
            "        male      158\n",
            "3.0     female    152\n",
            "        male      349\n",
            "Name: age, dtype: int64\n",
            "$$$$$$$$$$\n",
            "pclass  sex   \n",
            "1.0     female    139.0\n",
            "        male       61.0\n",
            "2.0     female     94.0\n",
            "        male       25.0\n",
            "3.0     female    106.0\n",
            "        male       75.0\n",
            "Name: survived, dtype: float64\n",
            "------------aggregate function --------------\n",
            "         pclass  survived                                               name  \\\n",
            "age                                                                            \n",
            "0.1667      3.0       1.0            Dean, Miss. Elizabeth Gladys \"Millvina\"   \n",
            "0.3333      3.0       0.0            Danbom, Master. Gilbert Sigvard Emanuel   \n",
            "0.4167      3.0       1.0                    Thomas, Master. Assad Alexander   \n",
            "0.6667      2.0       1.0                          Hamalainen, Master. Viljo   \n",
            "0.7500      9.0       2.0  Baclini, Miss. EugenieBaclini, Miss. Helene Ba...   \n",
            "...         ...       ...                                                ...   \n",
            "70.5000     3.0       0.0                               Connors, Mr. Patrick   \n",
            "71.0000     2.0       0.0   Artagaveytia, Mr. RamonGoldschmidt, Mr. George B   \n",
            "74.0000     3.0       0.0                                Svensson, Mr. Johan   \n",
            "76.0000     1.0       1.0  Cavendish, Mrs. Tyrell William (Julia Florence...   \n",
            "80.0000     1.0       1.0               Barkworth, Mr. Algernon Henry Wilson   \n",
            "\n",
            "                      sex  sibsp  parch                      ticket     fare  \\\n",
            "age                                                                            \n",
            "0.1667             female    1.0    2.0                   C.A. 2315  20.5750   \n",
            "0.3333               male    0.0    2.0                      347080  14.4000   \n",
            "0.4167               male    0.0    1.0                        2625   8.5167   \n",
            "0.6667               male    1.0    1.0                      250649  14.5000   \n",
            "0.7500   femalefemalemale    5.0    3.0  26662666SOTON/O.Q. 3101315  52.2916   \n",
            "...                   ...    ...    ...                         ...      ...   \n",
            "70.5000              male    0.0    0.0                      370369   7.7500   \n",
            "71.0000          malemale    0.0    0.0            PC 17609PC 17754  84.1584   \n",
            "74.0000              male    0.0    0.0                      347060   7.7750   \n",
            "76.0000            female    1.0    0.0                       19877  78.8500   \n",
            "80.0000              male    0.0    0.0                       27042  30.0000   \n",
            "\n",
            "        cabin embarked boat   body                             home.dest  \n",
            "age                                                                       \n",
            "0.1667      0        S   10    0.0            Devon, England Wichita, KS  \n",
            "0.3333      0        S    0    0.0                           Stanton, IA  \n",
            "0.4167      0        C   16    0.0                                     0  \n",
            "0.6667      0        S    4    0.0                           Detroit, MI  \n",
            "0.7500      0      CCS   CC    0.0  Syria New York, NYSyria New York, NY  \n",
            "...       ...      ...  ...    ...                                   ...  \n",
            "70.5000     0        Q    0  171.0                                     0  \n",
            "71.0000    A5       CC    0   22.0       Montevideo, UruguayNew York, NY  \n",
            "74.0000     0        S    0    0.0                                     0  \n",
            "76.0000   C46        S    6    0.0               Little Onn Hall, Staffs  \n",
            "80.0000   A23        S    B    0.0                         Hessle, Yorks  \n",
            "\n",
            "[98 rows x 13 columns]\n"
          ]
        }
      ],
      "source": [
        "# work through in class\n",
        "# mean age of the classes, 1st, 2nd and 3rd class\n",
        "print(titanic_pandas.groupby('pclass')['age'].mean())\n",
        "#mean age of the classes and gender: we can select for more than one column at a time:\n",
        "#print(titanic_pandas.groupby(FILL IN ))\n",
        "#what about .count method?\n",
        "#print(titanic_pandas.groupby(FILL IN ))\n",
        "# how many survived -let's use .sum()\n",
        "# FILL IN\n",
        "print(\"$$$$$$$$$$\")\n",
        "#print(titanic_pandas.groupby(FILL IN ))\n",
        "print(\"------------aggregate function --------------\")\n",
        "#aggregate function!\n",
        "print(titanic_pandas.groupby('age').aggregate('sum'))"
      ]
    },
    {
      "cell_type": "code",
      "execution_count": null,
      "metadata": {
        "id": "7SQYlokvTo3S",
        "outputId": "ff8cdf6e-efc5-4dc8-dbe2-937a6a6a3c98"
      },
      "outputs": [
        {
          "name": "stdout",
          "output_type": "stream",
          "text": [
            "(0, 14)\n",
            "         pclass   survived                                             name  \\\n",
            "0      1.000000   1.000000                    Allen, Miss. Elisabeth Walton   \n",
            "1      1.000000   1.000000                   Allison, Master. Hudson Trevor   \n",
            "2      1.000000   0.000000                     Allison, Miss. Helen Loraine   \n",
            "3      1.000000   0.000000             Allison, Mr. Hudson Joshua Creighton   \n",
            "4      1.000000   0.000000  Allison, Mrs. Hudson J C (Bessie Waldo Daniels)   \n",
            "...         ...        ...                                              ...   \n",
            "1305   3.000000   0.000000                            Zabour, Miss. Thamine   \n",
            "1306   3.000000   0.000000                        Zakarian, Mr. Mapriededer   \n",
            "1307   3.000000   0.000000                              Zakarian, Mr. Ortin   \n",
            "1308   3.000000   0.000000                               Zimmerman, Mr. Leo   \n",
            "1309  29.881135  29.881135                                        29.881135   \n",
            "\n",
            "            sex        age      sibsp      parch     ticket        fare  \\\n",
            "0        female  29.000000   0.000000   0.000000      24160  211.337500   \n",
            "1          male   0.916700   1.000000   2.000000     113781  151.550000   \n",
            "2        female   2.000000   1.000000   2.000000     113781  151.550000   \n",
            "3          male  30.000000   1.000000   2.000000     113781  151.550000   \n",
            "4        female  25.000000   1.000000   2.000000     113781  151.550000   \n",
            "...         ...        ...        ...        ...        ...         ...   \n",
            "1305     female  29.881135   1.000000   0.000000       2665   14.454200   \n",
            "1306       male  26.500000   0.000000   0.000000       2656    7.225000   \n",
            "1307       male  27.000000   0.000000   0.000000       2670    7.225000   \n",
            "1308       male  29.000000   0.000000   0.000000     315082    7.875000   \n",
            "1309  29.881135  29.881135  29.881135  29.881135  29.881135   29.881135   \n",
            "\n",
            "          cabin   embarked       boat        body  \\\n",
            "0            B5          S          2   29.881135   \n",
            "1       C22 C26          S         11   29.881135   \n",
            "2       C22 C26          S  29.881135   29.881135   \n",
            "3       C22 C26          S  29.881135  135.000000   \n",
            "4       C22 C26          S  29.881135   29.881135   \n",
            "...         ...        ...        ...         ...   \n",
            "1305  29.881135          C  29.881135   29.881135   \n",
            "1306  29.881135          C  29.881135  304.000000   \n",
            "1307  29.881135          C  29.881135   29.881135   \n",
            "1308  29.881135          S  29.881135   29.881135   \n",
            "1309  29.881135  29.881135  29.881135   29.881135   \n",
            "\n",
            "                            home.dest  \n",
            "0                        St Louis, MO  \n",
            "1     Montreal, PQ / Chesterville, ON  \n",
            "2     Montreal, PQ / Chesterville, ON  \n",
            "3     Montreal, PQ / Chesterville, ON  \n",
            "4     Montreal, PQ / Chesterville, ON  \n",
            "...                               ...  \n",
            "1305                        29.881135  \n",
            "1306                        29.881135  \n",
            "1307                        29.881135  \n",
            "1308                        29.881135  \n",
            "1309                        29.881135  \n",
            "\n",
            "[1310 rows x 14 columns]\n"
          ]
        }
      ],
      "source": [
        "# Missing data is a whole can of worms when dealing with data grooming\n",
        "# I would argue that Data cleaning IS the heart of Data science because it exposes you to the limitations of the data and the biases it\n",
        "# holds.\n",
        "# check for missing values -- we know that it has missing values because we saw NA earlier\n",
        "titanic_pandas.isnull()\n",
        "# you can see how many missing values are in each column\n",
        "titanic_pandas.isnull().sum(axis='rows')\n",
        "# how to deal with missing values:\n",
        "#1. you can drop rows with missing values: in this case every row has some pieces of missing information so it is probably not a great strategy\n",
        "no_titanic_missing = titanic_pandas.dropna()\n",
        "print(no_titanic_missing.shape)\n",
        "#2. you could fill in missing values - but that isnt useful in this case. Here is how you could do it if you wanted to fill in missing\n",
        "# values with the mean value for that column.\n",
        "filled_titanic_pandas = titanic_pandas.fillna(titanic_pandas['age'].mean())\n",
        "print(filled_titanic_pandas)\n"
      ]
    },
    {
      "cell_type": "markdown",
      "metadata": {
        "id": "xcXp8UomTo3T"
      },
      "source": [
        "### In-lecture titanic data:\n",
        "1. how many children survived who were 5 or under years old?\n",
        "2. How many children 5 or under were on the titanic in the first place?\n",
        "3. How many children 5 or under survived and print out their class, sex and age\n",
        "\n",
        "you might want to open the titanic_pandas data file (or aggregate the max, min values etc) to determine what the data of the columns. There is an Age column that is in years which is probably where we should start."
      ]
    },
    {
      "cell_type": "code",
      "execution_count": null,
      "metadata": {
        "id": "mhYP1PjCTo3T",
        "outputId": "70947304-111f-4cd0-b16a-b810b68ba54b"
      },
      "outputs": [
        {
          "name": "stdout",
          "output_type": "stream",
          "text": [
            "How many children, 5 and under, were on the titanic?\n",
            "      pclass  survived                                      name     sex  \\\n",
            "1        1.0       1.0            Allison, Master. Hudson Trevor    male   \n",
            "2        1.0       0.0              Allison, Miss. Helen Loraine  female   \n",
            "94       1.0       1.0                 Dodge, Master. Washington    male   \n",
            "339      2.0       1.0                 Becker, Master. Richard F    male   \n",
            "340      2.0       1.0               Becker, Miss. Marion Louise  female   \n",
            "359      2.0       1.0             Caldwell, Master. Alden Gates    male   \n",
            "427      2.0       1.0                 Hamalainen, Master. Viljo    male   \n",
            "478      2.0       1.0                     Laroche, Miss. Louise  female   \n",
            "479      2.0       1.0  Laroche, Miss. Simonne Marie Anne Andree  female   \n",
            "492      2.0       1.0                     Mallet, Master. Andre    male   \n",
            "514      2.0       1.0            Navratil, Master. Edmond Roger    male   \n",
            "515      2.0       1.0                Navratil, Master. Michel M    male   \n",
            "540      2.0       1.0                  Quick, Miss. Phyllis May  female   \n",
            "548      2.0       1.0           Richards, Master. George Sibley    male   \n",
            "549      2.0       1.0            Richards, Master. William Rowe    male   \n",
            "587      2.0       1.0               Wells, Master. Ralph Lester    male   \n",
            "588      2.0       1.0                         Wells, Miss. Joan  female   \n",
            "590      2.0       1.0                     West, Miss. Barbara J  female   \n",
            "591      2.0       1.0              West, Miss. Constance Mirium  female   \n",
            "611      3.0       1.0                 Aks, Master. Philip Frank    male   \n",
            "622      3.0       0.0   Andersson, Master. Sigvard Harald Elias    male   \n",
            "624      3.0       0.0         Andersson, Miss. Ellis Anna Maria  female   \n",
            "639      3.0       0.0               Asplund, Master. Carl Edgar    male   \n",
            "641      3.0       1.0         Asplund, Master. Edvin Rojj Felix    male   \n",
            "643      3.0       1.0            Asplund, Miss. Lillian Gertrud  female   \n",
            "657      3.0       1.0                    Baclini, Miss. Eugenie  female   \n",
            "658      3.0       1.0             Baclini, Miss. Helene Barbara  female   \n",
            "659      3.0       1.0            Baclini, Miss. Marie Catherine  female   \n",
            "734      3.0       1.0    Coutts, Master. William Loch \"William\"    male   \n",
            "747      3.0       0.0   Danbom, Master. Gilbert Sigvard Emanuel    male   \n",
            "762      3.0       1.0                Dean, Master. Bertram Vere    male   \n",
            "763      3.0       1.0   Dean, Miss. Elizabeth Gladys \"Millvina\"  female   \n",
            "794      3.0       1.0             Emanuel, Miss. Virginia Ethel  female   \n",
            "826      3.0       0.0           Goodwin, Master. Sidney Leonard    male   \n",
            "866      3.0       1.0                  Hirvonen, Miss. Hildur E  female   \n",
            "894      3.0       1.0           Johnson, Master. Harold Theodor    male   \n",
            "895      3.0       1.0              Johnson, Miss. Eleanor Ileen  female   \n",
            "916      3.0       1.0                        Karun, Miss. Manca  female   \n",
            "934      3.0       1.0       Kink-Heilmann, Miss. Luise Gretchen  female   \n",
            "937      3.0       0.0              Klasen, Miss. Gertrud Emilia  female   \n",
            "1048     3.0       1.0               Nakid, Miss. Maria (\"Mary\")  female   \n",
            "1096     3.0       0.0            Palsson, Master. Gosta Leonard    male   \n",
            "1098     3.0       0.0                Palsson, Miss. Stina Viola  female   \n",
            "1101     3.0       0.0              Panula, Master. Eino Viljami    male   \n",
            "1103     3.0       0.0              Panula, Master. Urho Abraham    male   \n",
            "1111     3.0       0.0            Peacock, Master. Alfred Edward    male   \n",
            "1112     3.0       0.0                 Peacock, Miss. Treasteall  female   \n",
            "1142     3.0       0.0                      Rice, Master. Arthur    male   \n",
            "1144     3.0       0.0                      Rice, Master. Eugene    male   \n",
            "1156     3.0       0.0               Rosblom, Miss. Salli Helena  female   \n",
            "1187     3.0       1.0           Sandstrom, Miss. Beatrice Irene  female   \n",
            "1189     3.0       1.0           Sandstrom, Miss. Marguerite Rut  female   \n",
            "1206     3.0       0.0                     Skoog, Master. Harald    male   \n",
            "1209     3.0       0.0             Skoog, Miss. Margit Elizabeth  female   \n",
            "1230     3.0       0.0                Strom, Miss. Telma Matilda  female   \n",
            "1240     3.0       1.0           Thomas, Master. Assad Alexander    male   \n",
            "\n",
            "         age  sibsp  parch              ticket      fare    cabin embarked  \\\n",
            "1     0.9167    1.0    2.0              113781  151.5500  C22 C26        S   \n",
            "2     2.0000    1.0    2.0              113781  151.5500  C22 C26        S   \n",
            "94    4.0000    0.0    2.0               33638   81.8583      A34        S   \n",
            "339   1.0000    2.0    1.0              230136   39.0000       F4        S   \n",
            "340   4.0000    2.0    1.0              230136   39.0000       F4        S   \n",
            "359   0.8333    0.0    2.0              248738   29.0000      NaN        S   \n",
            "427   0.6667    1.0    1.0              250649   14.5000      NaN        S   \n",
            "478   1.0000    1.0    2.0       SC/Paris 2123   41.5792      NaN        C   \n",
            "479   3.0000    1.0    2.0       SC/Paris 2123   41.5792      NaN        C   \n",
            "492   1.0000    0.0    2.0     S.C./PARIS 2079   37.0042      NaN        C   \n",
            "514   2.0000    1.0    1.0              230080   26.0000       F2        S   \n",
            "515   3.0000    1.0    1.0              230080   26.0000       F2        S   \n",
            "540   2.0000    1.0    1.0               26360   26.0000      NaN        S   \n",
            "548   0.8333    1.0    1.0               29106   18.7500      NaN        S   \n",
            "549   3.0000    1.0    1.0               29106   18.7500      NaN        S   \n",
            "587   2.0000    1.0    1.0               29103   23.0000      NaN        S   \n",
            "588   4.0000    1.0    1.0               29103   23.0000      NaN        S   \n",
            "590   0.9167    1.0    2.0          C.A. 34651   27.7500      NaN        S   \n",
            "591   5.0000    1.0    2.0          C.A. 34651   27.7500      NaN        S   \n",
            "611   0.8333    0.0    1.0              392091    9.3500      NaN        S   \n",
            "622   4.0000    4.0    2.0              347082   31.2750      NaN        S   \n",
            "624   2.0000    4.0    2.0              347082   31.2750      NaN        S   \n",
            "639   5.0000    4.0    2.0              347077   31.3875      NaN        S   \n",
            "641   3.0000    4.0    2.0              347077   31.3875      NaN        S   \n",
            "643   5.0000    4.0    2.0              347077   31.3875      NaN        S   \n",
            "657   0.7500    2.0    1.0                2666   19.2583      NaN        C   \n",
            "658   0.7500    2.0    1.0                2666   19.2583      NaN        C   \n",
            "659   5.0000    2.0    1.0                2666   19.2583      NaN        C   \n",
            "734   3.0000    1.0    1.0          C.A. 37671   15.9000      NaN        S   \n",
            "747   0.3333    0.0    2.0              347080   14.4000      NaN        S   \n",
            "762   1.0000    1.0    2.0           C.A. 2315   20.5750      NaN        S   \n",
            "763   0.1667    1.0    2.0           C.A. 2315   20.5750      NaN        S   \n",
            "794   5.0000    0.0    0.0              364516   12.4750      NaN        S   \n",
            "826   1.0000    5.0    2.0             CA 2144   46.9000      NaN        S   \n",
            "866   2.0000    0.0    1.0             3101298   12.2875      NaN        S   \n",
            "894   4.0000    1.0    1.0              347742   11.1333      NaN        S   \n",
            "895   1.0000    1.0    1.0              347742   11.1333      NaN        S   \n",
            "916   4.0000    0.0    1.0              349256   13.4167      NaN        C   \n",
            "934   4.0000    0.0    2.0              315153   22.0250      NaN        S   \n",
            "937   1.0000    1.0    1.0              350405   12.1833      NaN        S   \n",
            "1048  1.0000    0.0    2.0                2653   15.7417      NaN        C   \n",
            "1096  2.0000    3.0    1.0              349909   21.0750      NaN        S   \n",
            "1098  3.0000    3.0    1.0              349909   21.0750      NaN        S   \n",
            "1101  1.0000    4.0    1.0             3101295   39.6875      NaN        S   \n",
            "1103  2.0000    4.0    1.0             3101295   39.6875      NaN        S   \n",
            "1111  0.7500    1.0    1.0  SOTON/O.Q. 3101315   13.7750      NaN        S   \n",
            "1112  3.0000    1.0    1.0  SOTON/O.Q. 3101315   13.7750      NaN        S   \n",
            "1142  4.0000    4.0    1.0              382652   29.1250      NaN        Q   \n",
            "1144  2.0000    4.0    1.0              382652   29.1250      NaN        Q   \n",
            "1156  2.0000    1.0    1.0              370129   20.2125      NaN        S   \n",
            "1187  1.0000    1.0    1.0             PP 9549   16.7000       G6        S   \n",
            "1189  4.0000    1.0    1.0             PP 9549   16.7000       G6        S   \n",
            "1206  4.0000    3.0    2.0              347088   27.9000      NaN        S   \n",
            "1209  2.0000    3.0    2.0              347088   27.9000      NaN        S   \n",
            "1230  2.0000    0.0    1.0              347054   10.4625       G6        S   \n",
            "1240  0.4167    0.0    1.0                2625    8.5167      NaN        C   \n",
            "\n",
            "     boat  body                             home.dest  \n",
            "1      11   NaN       Montreal, PQ / Chesterville, ON  \n",
            "2     NaN   NaN       Montreal, PQ / Chesterville, ON  \n",
            "94      5   NaN                     San Francisco, CA  \n",
            "339    11   NaN    Guntur, India / Benton Harbour, MI  \n",
            "340    11   NaN    Guntur, India / Benton Harbour, MI  \n",
            "359    13   NaN     Bangkok, Thailand / Roseville, IL  \n",
            "427     4   NaN                           Detroit, MI  \n",
            "478    14   NaN                         Paris / Haiti  \n",
            "479    14   NaN                         Paris / Haiti  \n",
            "492    10   NaN                  Paris / Montreal, PQ  \n",
            "514     D   NaN                          Nice, France  \n",
            "515     D   NaN                          Nice, France  \n",
            "540    11   NaN         Plymouth, Devon / Detroit, MI  \n",
            "548     4   NaN                  Cornwall / Akron, OH  \n",
            "549     4   NaN                  Cornwall / Akron, OH  \n",
            "587    14   NaN                  Cornwall / Akron, OH  \n",
            "588    14   NaN                  Cornwall / Akron, OH  \n",
            "590    10   NaN                   Bournmouth, England  \n",
            "591    10   NaN                   Bournmouth, England  \n",
            "611    11   NaN           London, England Norfolk, VA  \n",
            "622   NaN   NaN                   Sweden Winnipeg, MN  \n",
            "624   NaN   NaN                   Sweden Winnipeg, MN  \n",
            "639   NaN   NaN                 Sweden  Worcester, MA  \n",
            "641    15   NaN                  Sweden Worcester, MA  \n",
            "643    15   NaN                  Sweden Worcester, MA  \n",
            "657     C   NaN                    Syria New York, NY  \n",
            "658     C   NaN                    Syria New York, NY  \n",
            "659     C   NaN                    Syria New York, NY  \n",
            "734     2   NaN                  England Brooklyn, NY  \n",
            "747   NaN   NaN                           Stanton, IA  \n",
            "762    10   NaN            Devon, England Wichita, KS  \n",
            "763    10   NaN            Devon, England Wichita, KS  \n",
            "794    13   NaN                          New York, NY  \n",
            "826   NaN   NaN  Wiltshire, England Niagara Falls, NY  \n",
            "866    15   NaN                                   NaN  \n",
            "894    15   NaN                                   NaN  \n",
            "895    15   NaN                                   NaN  \n",
            "916    15   NaN                                   NaN  \n",
            "934     2   NaN                                   NaN  \n",
            "937   NaN   NaN                                   NaN  \n",
            "1048    C   NaN                                   NaN  \n",
            "1096  NaN   4.0                                   NaN  \n",
            "1098  NaN   NaN                                   NaN  \n",
            "1101  NaN   NaN                                   NaN  \n",
            "1103  NaN   NaN                                   NaN  \n",
            "1111  NaN   NaN                                   NaN  \n",
            "1112  NaN   NaN                                   NaN  \n",
            "1142  NaN   NaN                                   NaN  \n",
            "1144  NaN   NaN                                   NaN  \n",
            "1156  NaN   NaN                                   NaN  \n",
            "1187   13   NaN                                   NaN  \n",
            "1189   13   NaN                                   NaN  \n",
            "1206  NaN   NaN                                   NaN  \n",
            "1209  NaN   NaN                                   NaN  \n",
            "1230  NaN   NaN                                   NaN  \n",
            "1240   16   NaN                                   NaN  \n",
            "pclass       56\n",
            "survived     56\n",
            "name         56\n",
            "sex          56\n",
            "age          56\n",
            "sibsp        56\n",
            "parch        56\n",
            "ticket       56\n",
            "fare         56\n",
            "cabin        10\n",
            "embarked     56\n",
            "boat         37\n",
            "body          1\n",
            "home.dest    34\n",
            "dtype: int64\n",
            "How many children, 5 and under, survived the sinking of the Titanic?\n",
            "pclass       37\n",
            "survived     37\n",
            "name         37\n",
            "sex          37\n",
            "age          37\n",
            "sibsp        37\n",
            "parch        37\n",
            "ticket       37\n",
            "fare         37\n",
            "cabin         8\n",
            "embarked     37\n",
            "boat         37\n",
            "body          0\n",
            "home.dest    28\n",
            "dtype: int64\n",
            "pclass  sex   \n",
            "1.0     male       2\n",
            "2.0     female     7\n",
            "        male       9\n",
            "3.0     female    13\n",
            "        male       6\n",
            "Name: age, dtype: int64\n"
          ]
        }
      ],
      "source": [
        "print(\"How many children, 5 and under, were on the titanic?\")\n",
        "# FILL IN WITH LOGIC\n",
        "print(\"How many children, 5 and under, survived the sinking of the Titanic?\")\n",
        "# FILL IN WITH LOGIC COMMAND"
      ]
    },
    {
      "cell_type": "code",
      "execution_count": null,
      "metadata": {
        "id": "r99eEQWOTo3T",
        "outputId": "4ef08c75-e41f-41d1-d3ad-6573d2f315c9"
      },
      "outputs": [
        {
          "data": {
            "image/png": "[encoded data removed]",
            "text/plain": [
              "<Figure size 640x480 with 1 Axes>"
            ]
          },
          "metadata": {},
          "output_type": "display_data"
        }
      ],
      "source": [
        "# a few basic plots with Titanic:\n",
        "titanic_scatter=titanic_pandas.plot.scatter('age', 'fare', c = \"blue\", s = 5, xlabel=\"Age (years)\", ylabel=\"Fare (pounds, 1912 prices)\")"
      ]
    },
    {
      "cell_type": "code",
      "execution_count": null,
      "metadata": {
        "id": "A_w-bCzsTo3T",
        "outputId": "81f553d8-c3a4-42be-9c3f-d97d18eff6c1"
      },
      "outputs": [
        {
          "data": {
            "image/png": "[encoded data removed]",
            "text/plain": [
              "<Figure size 640x480 with 1 Axes>"
            ]
          },
          "metadata": {},
          "output_type": "display_data"
        }
      ],
      "source": [
        "titanic_hist = titanic_pandas.fare.plot.hist(bins = 40, color = 'green',xlabel='Fare(pounds, 1912 prices)')"
      ]
    },
    {
      "cell_type": "code",
      "execution_count": null,
      "metadata": {
        "id": "RO28zQlRTo3T",
        "outputId": "f38dfc0c-1e91-4ab6-f31e-89de1cbc90d1"
      },
      "outputs": [
        {
          "data": {
            "text/plain": [
              "(array([0, 1, 2]), [Text(0, 0, '1.0'), Text(1, 0, '2.0'), Text(2, 0, '3.0')])"
            ]
          },
          "execution_count": 77,
          "metadata": {},
          "output_type": "execute_result"
        },
        {
          "data": {
            "image/png": "[encoded data removed]",
            "text/plain": [
              "<Figure size 640x480 with 1 Axes>"
            ]
          },
          "metadata": {},
          "output_type": "display_data"
        }
      ],
      "source": [
        "# bar plot\n",
        "contingency_titanic = titanic_pandas.groupby(['pclass', 'survived']).size().unstack()\n",
        "titanic_barplot = contingency_titanic.plot.bar(stacked=True, xlabel=\"Passenger class\",ylabel=\"Counts\",color = [\"lightblue\", \"darkblue\"])\n",
        "#titanic_barplot = contingency_titanic.plot.bar(color = [\"lightblue\", \"darkblue\"])\n",
        "#plt.ylabel(\"Counts\")\n",
        "#plt.xlabel('Passenger class')\n",
        "plt.xticks(rotation=0)\n",
        "#plt.show(titanic_barplot)"
      ]
    },
    {
      "cell_type": "code",
      "execution_count": null,
      "metadata": {
        "id": "kISMS2I0To3T",
        "outputId": "0c5b2310-5385-4581-f3dc-106ba72b8623"
      },
      "outputs": [
        {
          "data": {
            "image/png": "[encoded data removed]",
            "text/plain": [
              "<Figure size 640x480 with 1 Axes>"
            ]
          },
          "metadata": {},
          "output_type": "display_data"
        }
      ],
      "source": [
        "contingency_titanic = titanic_pandas.groupby(['pclass',\"sex\",\"survived\"]).size().unstack()\n",
        "titanic_barplot = contingency_titanic.plot.bar(stacked=True,\n",
        "                                               color = [\"lightblue\", \"darkblue\"])\n",
        "plt.ylabel(\"Counts\")\n",
        "plt.xlabel('Passenger class')\n",
        "plt.xticks(rotation=0)\n",
        "#---------------------\n",
        "plt.savefig('Titanic_tester.png')\n",
        "plt.show(titanic_barplot)"
      ]
    },
    {
      "cell_type": "markdown",
      "metadata": {
        "id": "wye2X7PITo3T"
      },
      "source": [
        "# Now we will work through the maternalMortality dataset.\n",
        "Work through the same type of analysis that we worked through in lecture with the maternal mortality data set from the gapminder website. Please use groupby to answer at least one of the questions and plot the results, like we did in lecture.\n",
        "a.\tWhat patterns do you see over time and between countries? You will need to plot your data to answer this. Do your data suggest any trends or major changes inmaternald mortality?\n",
        "b.\tWhat is the meamaternalld mortality rate from the most recent year collected between countries?\n",
        "c.\tWhat is the range maternalild mortality (max, min) for the most recent year?\n",
        "d.\tSort the countries from highest to lowmaternalhild mortality rate for the most recent year provide\n",
        "https://matplotlib.org/cheatsheets/_images/cheatsheets-1.png\n",
        "https://matplotlib.org/cheatsheets/_images/cheatsheets-2.png\n"
      ]
    },
    {
      "cell_type": "code",
      "execution_count": null,
      "metadata": {
        "id": "4bLxNAUzTo3T"
      },
      "outputs": [],
      "source": [
        "# 1. import with conventional alias of pd (note: we might want to put the full data analasys library stack here)\n",
        "#import pandas as pd\n",
        "# read in the maternal mortality (per 100,000 women giving birth)\n",
        "# taken from the gapminder site: https://www.gapminder.org/data/\n",
        "# -------------------------------------------------\n",
        "# compare to the mm dataframe which is indexed in the default way\n",
        "mm= pd.read_csv('maternalMortality.csv')\n",
        "mm_country=pd.read_csv('maternalMortality.csv',index_col=\"country\")"
      ]
    },
    {
      "cell_type": "code",
      "execution_count": null,
      "metadata": {
        "id": "tnTFHWnDTo3e",
        "outputId": "6767018c-02f5-4dd6-c216-4e7f4b095e3c"
      },
      "outputs": [
        {
          "name": "stdout",
          "output_type": "stream",
          "text": [
            "             1800  1801  1802  1803  1804  1805  1806  1807  1808  1809  ...  \\\n",
            "country                                                                  ...   \n",
            "Afghanistan   NaN   NaN   NaN   NaN   NaN   NaN   NaN   NaN   NaN   NaN  ...   \n",
            "Angola        NaN   NaN   NaN   NaN   NaN   NaN   NaN   NaN   NaN   NaN  ...   \n",
            "Albania       NaN   NaN   NaN   NaN   NaN   NaN   NaN   NaN   NaN   NaN  ...   \n",
            "Andorra       NaN   NaN   NaN   NaN   NaN   NaN   NaN   NaN   NaN   NaN  ...   \n",
            "\n",
            "             2004   2005  2006  2007  2008  2009   2010  2011  2012   2013  \n",
            "country                                                                     \n",
            "Afghanistan   NaN  730.0   NaN   NaN   NaN   NaN  500.0   NaN   NaN  400.0  \n",
            "Angola        NaN  750.0   NaN   NaN   NaN   NaN  530.0   NaN   NaN  460.0  \n",
            "Albania       NaN   24.0   NaN   NaN   NaN   NaN   21.0   NaN   NaN   21.0  \n",
            "Andorra       NaN    NaN   NaN   NaN   NaN   NaN    NaN   NaN   NaN    NaN  \n",
            "\n",
            "[4 rows x 214 columns]\n",
            "              1800  1801  1802  1803  1804  1805  1806  1807  1808  1809  ...  \\\n",
            "country                                                                   ...   \n",
            "Yemen          NaN   NaN   NaN   NaN   NaN   NaN   NaN   NaN   NaN   NaN  ...   \n",
            "South Africa   NaN   NaN   NaN   NaN   NaN   NaN   NaN   NaN   NaN   NaN  ...   \n",
            "Zambia         NaN   NaN   NaN   NaN   NaN   NaN   NaN   NaN   NaN   NaN  ...   \n",
            "Zimbabwe       NaN   NaN   NaN   NaN   NaN   NaN   NaN   NaN   NaN   NaN  ...   \n",
            "\n",
            "              2004   2005  2006  2007  2008  2009   2010  2011  2012   2013  \n",
            "country                                                                      \n",
            "Yemen          NaN  330.0   NaN   NaN   NaN   NaN  290.0   NaN   NaN  270.0  \n",
            "South Africa   NaN  160.0   NaN   NaN   NaN   NaN  140.0   NaN   NaN  140.0  \n",
            "Zambia         NaN  430.0   NaN   NaN   NaN   NaN  320.0   NaN   NaN  280.0  \n",
            "Zimbabwe       NaN  740.0   NaN   NaN   NaN   NaN  610.0   NaN   NaN  470.0  \n",
            "\n",
            "[4 rows x 214 columns]\n",
            "<class 'pandas.core.frame.DataFrame'>\n",
            "Index: 189 entries, Afghanistan to Zimbabwe\n",
            "Columns: 214 entries, 1800 to 2013\n",
            "dtypes: float64(214)\n",
            "memory usage: 317.5+ KB\n",
            "None\n",
            "             1800        1801        1802        1803        1804       1805  \\\n",
            "count    2.000000    2.000000    2.000000    2.000000    2.000000    2.00000   \n",
            "mean   860.500000  837.500000  855.000000  813.000000  772.000000  755.00000   \n",
            "std     50.204581    3.535534   18.384776    8.485281   24.041631  123.03658   \n",
            "min    825.000000  835.000000  842.000000  807.000000  755.000000  668.00000   \n",
            "25%    842.750000  836.250000  848.500000  810.000000  763.500000  711.50000   \n",
            "50%    860.500000  837.500000  855.000000  813.000000  772.000000  755.00000   \n",
            "75%    878.250000  838.750000  861.500000  816.000000  780.500000  798.50000   \n",
            "max    896.000000  840.000000  868.000000  819.000000  789.000000  842.00000   \n",
            "\n",
            "             1806   1807         1808         1809  ...  2004         2005  \\\n",
            "count    2.000000    1.0     2.000000     2.000000  ...   0.0   183.000000   \n",
            "mean   812.000000  866.0   940.500000  1070.000000  ...   NaN   218.251366   \n",
            "std     76.367532    NaN    98.287843    84.852814  ...   NaN   293.074780   \n",
            "min    758.000000  866.0   871.000000  1010.000000  ...   NaN     2.000000   \n",
            "25%    785.000000  866.0   905.750000  1040.000000  ...   NaN    18.500000   \n",
            "50%    812.000000  866.0   940.500000  1070.000000  ...   NaN    70.000000   \n",
            "75%    839.000000  866.0   975.250000  1100.000000  ...   NaN   325.000000   \n",
            "max    866.000000  866.0  1010.000000  1130.000000  ...   NaN  1600.000000   \n",
            "\n",
            "       2006  2007  2008  2009         2010  2011  2012         2013  \n",
            "count   0.0   0.0   0.0   0.0   183.000000   0.0   0.0   183.000000  \n",
            "mean    NaN   NaN   NaN   NaN   182.551913   NaN   NaN   164.934426  \n",
            "std     NaN   NaN   NaN   NaN   242.171645   NaN   NaN   218.975050  \n",
            "min     NaN   NaN   NaN   NaN     2.000000   NaN   NaN     1.000000  \n",
            "25%     NaN   NaN   NaN   NaN    19.000000   NaN   NaN    15.500000  \n",
            "50%     NaN   NaN   NaN   NaN    71.000000   NaN   NaN    67.000000  \n",
            "75%     NaN   NaN   NaN   NaN   255.000000   NaN   NaN   235.000000  \n",
            "max     NaN   NaN   NaN   NaN  1200.000000   NaN   NaN  1100.000000  \n",
            "\n",
            "[8 rows x 214 columns]\n"
          ]
        }
      ],
      "source": [
        "print(mm_country.head(4))\n",
        "print(mm_country.tail(4))\n",
        "mm_country.shape\n",
        "print(mm_country.info())\n",
        "print(mm_country.describe())"
      ]
    },
    {
      "cell_type": "code",
      "execution_count": null,
      "metadata": {
        "id": "sd_Jm6YtTo3e",
        "outputId": "6ecaa87f-7138-48d1-bdfb-fc2411e2148b"
      },
      "outputs": [
        {
          "name": "stdout",
          "output_type": "stream",
          "text": [
            "                 country   1800   1801   1802   1803   1804   1805   1806  \\\n",
            "20               Belarus    NaN    NaN    NaN    NaN    NaN    NaN    NaN   \n",
            "82                Israel    NaN    NaN    NaN    NaN    NaN    NaN    NaN   \n",
            "135               Poland    NaN    NaN    NaN    NaN    NaN    NaN    NaN   \n",
            "56               Finland  825.0  835.0  868.0  807.0  789.0  842.0  758.0   \n",
            "53                 Spain    NaN    NaN    NaN    NaN    NaN    NaN    NaN   \n",
            "..                   ...    ...    ...    ...    ...    ...    ...    ...   \n",
            "7    Antigua and Barbuda    NaN    NaN    NaN    NaN    NaN    NaN    NaN   \n",
            "46              Dominica    NaN    NaN    NaN    NaN    NaN    NaN    NaN   \n",
            "109     Marshall Islands    NaN    NaN    NaN    NaN    NaN    NaN    NaN   \n",
            "161           Seychelles    NaN    NaN    NaN    NaN    NaN    NaN    NaN   \n",
            "173               Taiwan    NaN    NaN    NaN    NaN    NaN    NaN    NaN   \n",
            "\n",
            "     1807    1808  ...  2004  2005  2006  2007  2008  2009  2010  2011  2012  \\\n",
            "20    NaN     NaN  ...   NaN  21.0   NaN   NaN   NaN   NaN   2.0   NaN   NaN   \n",
            "82    NaN     NaN  ...   NaN   7.0   NaN   NaN   NaN   NaN   5.0   NaN   NaN   \n",
            "135   NaN     NaN  ...   NaN   5.0   NaN   NaN   NaN   NaN   4.0   NaN   NaN   \n",
            "56    NaN  1010.0  ...   NaN   9.0   NaN   NaN   NaN   NaN   6.0   NaN   NaN   \n",
            "53    NaN     NaN  ...   NaN   6.0   NaN   NaN   NaN   NaN   6.0   NaN   NaN   \n",
            "..    ...     ...  ...   ...   ...   ...   ...   ...   ...   ...   ...   ...   \n",
            "7     NaN     NaN  ...   NaN   NaN   NaN   NaN   NaN   NaN   NaN   NaN   NaN   \n",
            "46    NaN     NaN  ...   NaN   NaN   NaN   NaN   NaN   NaN   NaN   NaN   NaN   \n",
            "109   NaN     NaN  ...   NaN   NaN   NaN   NaN   NaN   NaN   NaN   NaN   NaN   \n",
            "161   NaN     NaN  ...   NaN   NaN   NaN   NaN   NaN   NaN   NaN   NaN   NaN   \n",
            "173   NaN     NaN  ...   NaN   NaN   NaN   NaN   NaN   NaN   NaN   NaN   NaN   \n",
            "\n",
            "     2013  \n",
            "20    1.0  \n",
            "82    2.0  \n",
            "135   3.0  \n",
            "56    4.0  \n",
            "53    4.0  \n",
            "..    ...  \n",
            "7     NaN  \n",
            "46    NaN  \n",
            "109   NaN  \n",
            "161   NaN  \n",
            "173   NaN  \n",
            "\n",
            "[189 rows x 215 columns]\n",
            "          country  1940\n",
            "0     Afghanistan   NaN\n",
            "1          Angola   NaN\n",
            "2         Albania   NaN\n",
            "3         Andorra   NaN\n",
            "4             UAE   NaN\n",
            "..            ...   ...\n",
            "184         Samoa   NaN\n",
            "185         Yemen   NaN\n",
            "186  South Africa   NaN\n",
            "187        Zambia   NaN\n",
            "188      Zimbabwe   NaN\n",
            "\n",
            "[189 rows x 2 columns]\n",
            "                   country  1800  1801  1802  1803  1804  1805  1806  1807  \\\n",
            "10              Azerbaijan   NaN   NaN   NaN   NaN   NaN   NaN   NaN   NaN   \n",
            "11                 Burundi   NaN   NaN   NaN   NaN   NaN   NaN   NaN   NaN   \n",
            "12                 Belgium   NaN   NaN   NaN   NaN   NaN   NaN   NaN   NaN   \n",
            "13                   Benin   NaN   NaN   NaN   NaN   NaN   NaN   NaN   NaN   \n",
            "14            Burkina Faso   NaN   NaN   NaN   NaN   NaN   NaN   NaN   NaN   \n",
            "15              Bangladesh   NaN   NaN   NaN   NaN   NaN   NaN   NaN   NaN   \n",
            "16                Bulgaria   NaN   NaN   NaN   NaN   NaN   NaN   NaN   NaN   \n",
            "17                 Bahrain   NaN   NaN   NaN   NaN   NaN   NaN   NaN   NaN   \n",
            "18                 Bahamas   NaN   NaN   NaN   NaN   NaN   NaN   NaN   NaN   \n",
            "19  Bosnia and Herzegovina   NaN   NaN   NaN   NaN   NaN   NaN   NaN   NaN   \n",
            "\n",
            "    1808  ...  2004   2005  2006  2007  2008  2009   2010  2011  2012   2013  \n",
            "10   NaN  ...   NaN   36.0   NaN   NaN   NaN   NaN   27.0   NaN   NaN   26.0  \n",
            "11   NaN  ...   NaN  910.0   NaN   NaN   NaN   NaN  820.0   NaN   NaN  740.0  \n",
            "12   NaN  ...   NaN    7.0   NaN   NaN   NaN   NaN    7.0   NaN   NaN    6.0  \n",
            "13   NaN  ...   NaN  420.0   NaN   NaN   NaN   NaN  370.0   NaN   NaN  340.0  \n",
            "14   NaN  ...   NaN  500.0   NaN   NaN   NaN   NaN  440.0   NaN   NaN  400.0  \n",
            "15   NaN  ...   NaN  260.0   NaN   NaN   NaN   NaN  200.0   NaN   NaN  170.0  \n",
            "16   NaN  ...   NaN   14.0   NaN   NaN   NaN   NaN    8.0   NaN   NaN    5.0  \n",
            "17   NaN  ...   NaN   16.0   NaN   NaN   NaN   NaN   24.0   NaN   NaN   22.0  \n",
            "18   NaN  ...   NaN   40.0   NaN   NaN   NaN   NaN   38.0   NaN   NaN   37.0  \n",
            "19   NaN  ...   NaN   10.0   NaN   NaN   NaN   NaN    9.0   NaN   NaN    8.0  \n",
            "\n",
            "[10 rows x 215 columns]\n"
          ]
        }
      ],
      "source": [
        "sorted_countries_2013=mm.sort_values(by=\"2013\")\n",
        "print(sorted_countries_2013)\n",
        "print(mm[[\"country\",\"1940\"]])\n",
        "print(mm[10:20])"
      ]
    },
    {
      "cell_type": "code",
      "execution_count": null,
      "metadata": {
        "id": "E7W7q4RDTo3f",
        "outputId": "6dfb38e6-fd45-49c8-a7d1-fca091f4824e"
      },
      "outputs": [
        {
          "name": "stdout",
          "output_type": "stream",
          "text": [
            "              1940  1950  1970    1990    2000   2013\n",
            "country                                              \n",
            "Afghanistan    NaN   NaN   NaN  1200.0  1100.0  400.0\n",
            "Angola         NaN   NaN   NaN  1400.0  1100.0  460.0\n",
            "Albania        NaN   NaN   NaN    31.0    28.0   21.0\n",
            "Andorra        NaN   NaN   NaN     6.2     6.3    NaN\n",
            "UAE            NaN   NaN   NaN    16.0    11.0    8.0\n",
            "...            ...   ...   ...     ...     ...    ...\n",
            "Samoa          NaN   NaN   NaN   150.0    89.0   58.0\n",
            "Yemen          NaN   NaN   NaN   460.0   370.0  270.0\n",
            "South Africa   NaN   NaN   NaN   150.0   150.0  140.0\n",
            "Zambia         NaN   NaN   NaN   580.0   610.0  280.0\n",
            "Zimbabwe       NaN   NaN   NaN   520.0   680.0  470.0\n",
            "\n",
            "[189 rows x 6 columns]\n"
          ]
        }
      ],
      "source": [
        "mm2=pd.DataFrame(mm_country,columns=(\"1940\",\"1950\",\"1970\",\"1990\",\"2000\",\"2013\"))\n",
        "print(mm2)"
      ]
    },
    {
      "cell_type": "code",
      "execution_count": null,
      "metadata": {
        "id": "dDKtPKIgTo3f",
        "outputId": "0ba86b3a-9e5e-4eea-e0b5-1ac47a7a7ab0"
      },
      "outputs": [
        {
          "name": "stdout",
          "output_type": "stream",
          "text": [
            "             1920   1935   1945  1975  2000  2013\n",
            "country                                          \n",
            "Canada        NaN    NaN    NaN   NaN   7.0  11.0\n",
            "China         NaN    NaN    NaN   NaN  63.0  32.0\n",
            "USA         799.0  582.0  207.0  13.2  13.0  28.0\n",
            "Kazakhstan    NaN    NaN    NaN   NaN  71.0  26.0\n",
            "Sweden      401.0  256.0  133.0   4.4   5.0   4.0\n",
            "Mexico        NaN    NaN    NaN   NaN  67.0  49.0\n",
            "Ireland     487.0  467.0  237.0  15.2   6.0   9.0\n",
            "France        NaN    NaN    NaN   NaN  10.0  12.0\n",
            "~~~~~~~~~~\n"
          ]
        },
        {
          "data": {
            "text/plain": [
              "<matplotlib.legend.Legend at 0x137860d50>"
            ]
          },
          "execution_count": 22,
          "metadata": {},
          "output_type": "execute_result"
        },
        {
          "data": {
            "image/png": "[encoded data removed]",
            "text/plain": [
              "<Figure size 640x480 with 1 Axes>"
            ]
          },
          "metadata": {},
          "output_type": "display_data"
        }
      ],
      "source": [
        "mm_slice=mm_country.loc[[\"Canada\",\"China\",\"USA\",\"Kazakhstan\", \"Sweden\", \"Mexico\",\"Ireland\",\"France\"],[\"1920\",\"1935\",\"1945\",\"1975\",\"2000\",\"2013\"]]\n",
        "print(mm_slice)\n",
        "print(\"~~~~~~~~~~\")\n",
        "mm_slice.T.plot(ls=\":\",dash_capstyle=\"round\")\n",
        "#remember the matplotlib cheat sheets. For lines in a plot, I found that you can modify the line style, dashed or continguous, though the argument ls=\n",
        "# as per Eva's question about moving the legend, I found this as one way to do it.\n",
        "plt.legend(loc='upper center', bbox_to_anchor=(1.45, 0.8), shadow=True, ncol=1)"
      ]
    },
    {
      "cell_type": "code",
      "execution_count": null,
      "metadata": {
        "id": "0ZuSKByxTo3f"
      },
      "outputs": [],
      "source": []
    }
  ],
  "metadata": {
    "kernelspec": {
      "display_name": "Python 3 (ipykernel)",
      "language": "python",
      "name": "python3"
    },
    "language_info": {
      "codemirror_mode": {
        "name": "ipython",
        "version": 3
      },
      "file_extension": ".py",
      "mimetype": "text/x-python",
      "name": "python",
      "nbconvert_exporter": "python",
      "pygments_lexer": "ipython3",
      "version": "3.11.5"
    },
    "colab": {
      "provenance": []
    }
  },
  "nbformat": 4,
  "nbformat_minor": 0
}