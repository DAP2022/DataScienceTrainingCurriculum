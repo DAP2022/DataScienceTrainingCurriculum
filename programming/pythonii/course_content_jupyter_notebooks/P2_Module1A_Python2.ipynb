{
  "cells": [
    {
      "cell_type": "markdown",
      "id": "53dfac17-8347-402e-a3db-6bb143a525e9",
      "metadata": {
        "id": "53dfac17-8347-402e-a3db-6bb143a525e9"
      },
      "source": [
        "# Hurray! If you are here, it means that you have already mastered accessing the 'cloud'.\n",
        "\n",
        "(or it means that you are using your previously installed version of miniconda. But at least you are here and that is always a cause of celebration. You might want to ensure that you understand how to access the cloud though... it is a useful skill to have and this is time set aside to learn it)."
      ]
    },
    {
      "cell_type": "markdown",
      "id": "20053e9c-a750-4a31-81cd-4ea2f4efd98a",
      "metadata": {
        "id": "20053e9c-a750-4a31-81cd-4ea2f4efd98a"
      },
      "source": [
        "**Python Review:**\n",
        "\n",
        "_Concepts we covered in Introduction to Python I_\n",
        "\n",
        "1. Jupyter notebooks\n",
        "    1. coding chunks\n",
        "    2. markdown language chunks (This is the type of chunk where we are now -- we can't code in it, and we use so-called Markdown Language to make titles and lists and other typographical features in our rendered document. There are many cheatsheets for Markdown, including this one: https://www.interviewbit.com/markdown-cheat-sheet/)\n",
        "    \n",
        "2. Procedural evaluation and execution (one line at a time; top to bottom)\n",
        "\n",
        "3. Everything in Python is an object with dedicated methods (.tab completion will tell you the methods associated with a particular variable and it's type)\n",
        "   \n",
        "4. primitive data types: integer, float, strings, list\n",
        "   \n",
        "5. variables and assignment\n",
        "    \n",
        "6. slicing, and methods for adding to & removing from strings and lists: replace, append, join, pop etc\n",
        "    \n",
        "7. file objects: reading from and writing to files\n",
        "    \n",
        "8. repetition & encapsulation:\n",
        "    1. for loops\n",
        "    2. conditions\n",
        "    3. functions\n",
        "       1. Functions have a particular syntax\n",
        "       2. Functions can call other functions (including themselves!)\n",
        "       3. Pass Functions into other functions as arguments\n",
        "    4. modules\n",
        "    5. while loops\n",
        "       \n",
        "9. more complex data types: dictionaries"
      ]
    },
    {
      "cell_type": "markdown",
      "id": "617afe64-0b7b-477e-ac18-8d983df0779d",
      "metadata": {
        "id": "617afe64-0b7b-477e-ac18-8d983df0779d"
      },
      "source": [
        "# Problems to prompt topic refreshment\n",
        "## Module 1 - Big ideas: Assignment & Everything in Python is an object with methods\n",
        "## Module 2 - Big ideas: lists & I/O\n",
        "## Module 3 - Big ideas: for loops & if/elif/else & while loops\n",
        "## Module 4 - Big ideas: Dictionaries\n",
        "## Module 5 - Big idea: Regular Expressions"
      ]
    },
    {
      "cell_type": "markdown",
      "id": "1d8d8eea-a07d-476c-a511-8ccde0b7b30e",
      "metadata": {
        "id": "1d8d8eea-a07d-476c-a511-8ccde0b7b30e"
      },
      "source": [
        "## Module 1 competencies:\n",
        "* For the variable, protein = \"vlspadktnv\", how do we replace valine-leucine (vl) with tyrosine-alanine(ya)?\n",
        "* For the variable, protein = \"vlspadktnv\", how would we determine how many lsp, v and w are present? ie. Is there a method that can take these as arguments and count them?\n",
        "* Can we determine where the first v occurs?ie. Is there a method that will identify position/location where first instance occurs?\n",
        "* How would we print the items in this amino acid sequence that begin at the item 3 and include the 6th item?"
      ]
    },
    {
      "cell_type": "code",
      "execution_count": null,
      "id": "d9a587a1-4950-48e9-8b85-330248ec8108",
      "metadata": {
        "id": "d9a587a1-4950-48e9-8b85-330248ec8108",
        "outputId": "8da49f74-c02c-4fb4-c2a4-8f74a477ca2c"
      },
      "outputs": [
        {
          "data": {
            "text/plain": [
              "\u001b[0;31mSignature:\u001b[0m \u001b[0mprotein\u001b[0m\u001b[0;34m.\u001b[0m\u001b[0mreplace\u001b[0m\u001b[0;34m(\u001b[0m\u001b[0mold\u001b[0m\u001b[0;34m,\u001b[0m \u001b[0mnew\u001b[0m\u001b[0;34m,\u001b[0m \u001b[0mcount\u001b[0m\u001b[0;34m=\u001b[0m\u001b[0;34m-\u001b[0m\u001b[0;36m1\u001b[0m\u001b[0;34m,\u001b[0m \u001b[0;34m/\u001b[0m\u001b[0;34m)\u001b[0m\u001b[0;34m\u001b[0m\u001b[0;34m\u001b[0m\u001b[0m\n",
              "\u001b[0;31mDocstring:\u001b[0m\n",
              "Return a copy with all occurrences of substring old replaced by new.\n",
              "\n",
              "  count\n",
              "    Maximum number of occurrences to replace.\n",
              "    -1 (the default value) means replace all occurrences.\n",
              "\n",
              "If the optional argument count is given, only the first count occurrences are\n",
              "replaced.\n",
              "\u001b[0;31mType:\u001b[0m      builtin_function_or_method"
            ]
          },
          "metadata": {},
          "output_type": "display_data"
        }
      ],
      "source": [
        "protein = \"vlspadktnv\"\n",
        "#Q1a\n",
        "\n",
        "#Q1b\n",
        "\n",
        "\n",
        "#Q1c\n",
        "\n",
        "\n",
        "#Q1d\n",
        "\n"
      ]
    },
    {
      "cell_type": "markdown",
      "id": "145b8149-7700-43de-b0b3-fbd7153fd214",
      "metadata": {
        "id": "145b8149-7700-43de-b0b3-fbd7153fd214"
      },
      "source": [
        "## This question covers Module 1 and Module 2 competencies:\n",
        "For the sequence given below:\n",
        "\n",
        "** 5’-ATCGATCGATCGATCGACTGACTAGTCATAGCTATGCATGTAGCTACTCGATCGATCGATCGATCGATCGATCGATCGATCGATCATGCTATCATCGATCGATATCGATGCATCGACTACTAT-3**\n",
        "\n",
        "Introns are the noncoding parts of a DNA sequence that are spliced out (removed) from the sequence before it is translated into a chain of amino acids. In the following sequence, there are two exons and one intron. The first exon runs from the start of the sequence to the 63rd character. The second exon runs from the 91st character to the end of the sequence. (hint: in the following sequence of numbers what would the 3rd character: 0 1 2 3 4)\n",
        "\n",
        "1. Write a program that prints out JUST the coding regions of the DNA sequence to the screen (ie. removes the introns)\n",
        "2. Using the results of 1, write a program that will calculate what percentage of the DNA sequence is coding.\n",
        "3. Write a program that will print out the original genomic DNA sequence coding bases in UPPERCASE letters and the intronic (non-coding) bases in lowercase. (Hint: Built-in methods can make solving this problem more straight forward and efficient)\n",
        "4. Write a program that will split the genomic DNA into coding and non-coding parts and write these to two different files (a file for exons/coding and a file for the spliced out introns/non-coding). You should be able to have a flexible program that works with any sequence provided by a user but you can assume that the user knows the positions (locations) where the intron/exons are located.\n"
      ]
    },
    {
      "cell_type": "code",
      "execution_count": null,
      "id": "777781da-86bb-4eef-8ab2-cb7c009304ce",
      "metadata": {
        "id": "777781da-86bb-4eef-8ab2-cb7c009304ce"
      },
      "outputs": [],
      "source": [
        "#Q2a\n",
        "sequence1=\"ATCGATCGATCGATCGACTGACTAGTCATAGCTATGCATGTAGCTACTCGATCGATCGATCGATCGATCGATCGATCGATCGATCATGCTATCATCGATCGATATCGATGCATCGACTACTAT\"\n",
        "\n",
        "#Q2b\n",
        "#Q2c\n",
        "#Q2d"
      ]
    },
    {
      "cell_type": "markdown",
      "source": [
        "# These questions will cover Module 3 (For loops & decisions)\n",
        "A. You have a list of gene expression values from an RNA-seq experiment:\n",
        "\n",
        "variant_scores = [0.02, 0.35, 0.67, 0.89]\n",
        "\n",
        "Write a for loop that prints \"Gene expressed\" if the value is greater than 0 and \"Gene not expressed\" if the value is 0\n",
        "\n",
        "B. Suppose you are analyzing SNPs and have variant impact scores stored in a list:\n",
        "\n",
        "variant_scores = [0.02, 0.35, 0.67, 0.89]\n",
        "\n",
        "Write code that classifies each variant as:\n",
        "\n",
        "- \"Low impact\" if score < 0.3\n",
        "\n",
        "- \"Moderate impact\" if score between 0.3 and 0.7 (inclusive)\n",
        "\n",
        "- \"High impact\" otherwise.\n",
        "\n",
        "C. You are simulating PCR cycles. Each cycle doubles the number of DNA molecules. Start with 1 molecule and run cycles until you exceed 1,000 molecules.\n",
        "\n",
        "Write a while loop that prints the number of molecules after each cycle."
      ],
      "metadata": {
        "id": "RdLz8vsT7MIC"
      },
      "id": "RdLz8vsT7MIC"
    },
    {
      "cell_type": "code",
      "source": [
        "# QA\n",
        "\n",
        "#QB\n",
        "\n",
        "\n",
        "#QC\n",
        "\n"
      ],
      "metadata": {
        "id": "PaF7AtqE-KU5"
      },
      "id": "PaF7AtqE-KU5",
      "execution_count": null,
      "outputs": []
    },
    {
      "cell_type": "markdown",
      "source": [
        "# Module 4- dictionaries\n",
        "\n",
        "You are storing codon-to-amino-acid mappings. For example:\n",
        "\n",
        "codons = {\"AUG\": \"Methionine\", \"UUU\": \"Phenylalanine\", \"UUC\": \"Phenylalanine\"}\n",
        "\n",
        "Write Python code that:\n",
        "\n",
        "Looks up the amino acid for \"UUU\".\n",
        "\n",
        "Adds a new mapping \"UGG\": \"Tryptophan\".\n",
        "\n",
        "Prints all codons and their corresponding amino acids."
      ],
      "metadata": {
        "id": "wuNJYdAA9zj8"
      },
      "id": "wuNJYdAA9zj8"
    },
    {
      "cell_type": "code",
      "source": [
        "# Answer\n"
      ],
      "metadata": {
        "id": "INwKxp5R-Xnc"
      },
      "id": "INwKxp5R-Xnc",
      "execution_count": null,
      "outputs": []
    },
    {
      "cell_type": "markdown",
      "source": [
        "# Module 5 - regular expressions\n",
        "You have FASTA headers that look like this:\n",
        "\n",
        ">gene1|species=Homo_sapiens|length=450\n",
        ">gene2|species=Mus_musculus|length=600\n",
        "\n",
        "Write a regular expression that extracts the species name (e.g., Homo_sapiens, Mus_musculus) from each header."
      ],
      "metadata": {
        "id": "jGgXTnd298pP"
      },
      "id": "jGgXTnd298pP"
    },
    {
      "cell_type": "code",
      "execution_count": null,
      "id": "162c4219-3b11-4f2b-ad20-96b6c1feea2f",
      "metadata": {
        "id": "162c4219-3b11-4f2b-ad20-96b6c1feea2f"
      },
      "outputs": [],
      "source": [
        "# Answer\n",
        "\n"
      ]
    }
  ],
  "metadata": {
    "kernelspec": {
      "display_name": "Python 3 (ipykernel)",
      "language": "python",
      "name": "python3"
    },
    "language_info": {
      "codemirror_mode": {
        "name": "ipython",
        "version": 3
      },
      "file_extension": ".py",
      "mimetype": "text/x-python",
      "name": "python",
      "nbconvert_exporter": "python",
      "pygments_lexer": "ipython3",
      "version": "3.11.5"
    },
    "colab": {
      "provenance": []
    }
  },
  "nbformat": 4,
  "nbformat_minor": 5
}