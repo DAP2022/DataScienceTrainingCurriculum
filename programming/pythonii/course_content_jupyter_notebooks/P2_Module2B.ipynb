{
  "cells": [
    {
      "cell_type": "markdown",
      "id": "ca712d1b-3446-40ef-86a6-dd3e5914c9f9",
      "metadata": {
        "id": "ca712d1b-3446-40ef-86a6-dd3e5914c9f9"
      },
      "source": [
        "# Summary\n",
        "1. functions\n",
        "   1.  syntax - indentation, top of cell\n",
        "   2.  return - if no return, it still returns None type\n",
        "   3.  arguments - ordered, unordered, default values, variable number of arguments (*argv)\n",
        "   5.  calling - in order to be evaluated, you must call them from the body of the program\n",
        "   6.  functions can call other functions and even themselves (recursion)\n",
        "  \n",
        "2. Bundling functions so they can be used by multiple programs"
      ]
    },
    {
      "cell_type": "code",
      "execution_count": null,
      "id": "4255ed60-79b8-4e77-adfc-42fde7e16af4",
      "metadata": {
        "id": "4255ed60-79b8-4e77-adfc-42fde7e16af4"
      },
      "outputs": [],
      "source": [
        "# here is an example that calls a module named random. This is usually standard when you download Python.\n",
        "import random\n",
        "\n",
        "print(\"Lucky numbers! Three numbers will be generated\")\n",
        "print(\"If one of them is 5, you lose.\")\n",
        "\n",
        "count = 0\n",
        "while count <3:\n",
        "    num=random.randint(1,6)\n",
        "    print(num)\n",
        "    if num == 5:\n",
        "        print(\"Sorry, you lose!\")\n",
        "        break # the break means the else loop will be bypassed if the if condition is met\n",
        "    count+=1\n",
        "else:\n",
        "    print(\"you win!\")\n",
        "\n",
        "print(\"See you again.\")"
      ]
    },
    {
      "cell_type": "code",
      "execution_count": null,
      "id": "7142f389-1ff8-4793-810f-e6d0568260b7",
      "metadata": {
        "id": "7142f389-1ff8-4793-810f-e6d0568260b7"
      },
      "outputs": [],
      "source": [
        "# this is a bit fussy, but instead of importing the entire random module, you can import only ONE function from it\n",
        "from random import randint\n",
        "#since you are importing a specific function, randint, you don't need to call it as a method of random like you did above:\n",
        "#  num=random.randint(1,6). You can just call randint(lower number,upper number) directly.\n",
        "# Generates a number from 1 through 10 inclusive\n",
        "random_number = randint(1, 10)\n",
        "\n",
        "guesses_left = 3\n",
        "# Start your game!\n",
        "while guesses_left>0:\n",
        "    #cheating for the purpose of trouble shooting\n",
        "    #print(random_number)\n",
        "    guess=int(input(\"Your guess: \"))\n",
        "    if guess==random_number:\n",
        "        print(\"You win!\")\n",
        "        #the break goes through the loop once and then breaks out of it!\n",
        "        break\n",
        "    guesses_left-=1\n",
        "else:\n",
        "    print(\"You lose\")"
      ]
    },
    {
      "cell_type": "markdown",
      "id": "65fd6aaf-e6bb-498d-96ee-273e6138d33e",
      "metadata": {
        "id": "65fd6aaf-e6bb-498d-96ee-273e6138d33e"
      },
      "source": [
        "## Modularization: Tools when you need them, they don’t automatically load\n",
        "* Collection of specialized functions, data types\n",
        "    * More efficient\n",
        "    * Allows for code re-use\n",
        "    * Acts as documentation for other programmers (or you) who read your program later\n",
        "* Library – a module which contains groups of related functions (we will see this in R)\n",
        "* In Module 5B when we are dealing with regular functions we will see two particular modules that need to be imported (re,os)\n",
        "\n",
        "* We can import modules (we saw this in an earlier example) that contain functions and variables or we can create our own:\n",
        "\n",
        "<div class=\"alert alert-block alert-warning\">\n",
        "        \n",
        "        import math   \n",
        "you can also import ALL functions from a module by using the astericks symbol, *\n",
        "\n",
        "        print(math.sqrt(100))\n",
        "        \n",
        " <div class=\"alert alert-block alert-warning\">\n",
        "    \n",
        "    \n",
        "or, equivalently, we can bring in just one function from a module like so:\n",
        "        \n",
        "\t\tfrom math import sqrt\n",
        "\t\tprint(sqrt(100))"
      ]
    },
    {
      "cell_type": "markdown",
      "id": "be895842-6679-42d2-acf2-393904756863",
      "metadata": {
        "id": "be895842-6679-42d2-acf2-393904756863"
      },
      "source": [
        "# Modules\n",
        "\n",
        "* Python (and most other languages) have built-in functions that are general use\n",
        "* Modules and libraries (we’ll learn about them later) are a way to address discipline-centric functions\n",
        "    * Sometimes, we will will need to write a particular function for our own specific research needs\n",
        "* Come with documentation\n",
        "* The documentation should give you a list of names in the namespace\n",
        "* To get list of names in namespace:\n",
        "\n",
        ">import my_module\n",
        "\n",
        ">print(dir(my_module))\n",
        "\n",
        "* Conventions:\n",
        "* Uppercase names: constants\n",
        "* _names <- are internal use only\n",
        "* _ _ names <- special meaning\n",
        "\n",
        "## Namespace\n",
        "* Scope of the name of the function\n",
        "* Modules have their own namespace (the names of the functions that belong to that particular module)\n",
        "\n",
        ">from my_module import print (<--this imports the print function from my_module instead of using the global print function)\n",
        "\n",
        ">from my_module import * (this means import all functions from my_module)\n",
        "\n",
        "# How to create a module\n",
        "* create new file (easiest if in the same place as your modules, but isn't necessary)\n",
        "* replace .txt with .py\n",
        "* write the functions in the module\n",
        "\n",
        "Here is a simple example (modified from previous module example) that we are going to cut and paste into a module:\n",
        "\n",
        "------------------------------\n",
        "```\n",
        "def AT_amount(dna):\n",
        "    length = len(dna)\n",
        "    A_count = dna.upper().count(\"A\")\n",
        "    T_count = dna.upper().count(\"T\")\n",
        "    AT_count=(A_count + T_count)/length\n",
        "    return AT_count\n",
        "```"
      ]
    },
    {
      "cell_type": "code",
      "execution_count": null,
      "id": "23fe621a-9bd6-46de-a970-776a151974e7",
      "metadata": {
        "id": "23fe621a-9bd6-46de-a970-776a151974e7",
        "outputId": "858d9c60-a84c-4855-c274-b1efa80b5d52"
      },
      "outputs": [
        {
          "name": "stdout",
          "output_type": "stream",
          "text": [
            "['AT_amount', '__builtins__', '__cached__', '__doc__', '__file__', '__loader__', '__name__', '__package__', '__spec__']\n",
            "*******\n",
            "0.857\n"
          ]
        }
      ],
      "source": [
        "# We are going to create a get_at_content function by treating it as a module\n",
        "# We call the function by calling the file name without the “.py “ extension\n",
        "# Module4B.py\n",
        "\n",
        "import Module4B\n",
        "# built in function dir() should give the functions that are in Module4B.py but\n",
        "# only one is available to be called the others are built in constructors - we'll\n",
        "# worry about some of that when we create Objects of our own (in\n",
        "# object oriented programming section)\n",
        "print(dir(Module4B))\n",
        "\n",
        "x=Module4B.AT_amount(\"ATGATTA\")\n",
        "# we could even use the built in round function that we learned about previously.\n",
        "print(\"*******\")\n",
        "print(round(x,3))"
      ]
    },
    {
      "cell_type": "code",
      "execution_count": null,
      "id": "990fe2d3-9558-4c62-8e7e-d682df23b858",
      "metadata": {
        "id": "990fe2d3-9558-4c62-8e7e-d682df23b858"
      },
      "outputs": [],
      "source": [
        "# https://learnpythonthehardway.org/book/ex25.html\n",
        "# We are creating a module with the code in this cell which we will then import into our program below.\n",
        "def break_words(stuff):\n",
        "#This function will break up words for us.\n",
        "#the split method splits on whatever is specified - if nothing is specified, just whitespace\n",
        "    words=stuff.split()\n",
        "    return words\n",
        "\n",
        "def sort_words(words):\n",
        "#sorts the words.\n",
        "#NOTE: SORTED WILL RETURN A LIST THAT IS SORTED BUT IT WON'T MODIFY THE ORIGINAL LIST\n",
        "# WHICH IS WHAT SORT() DOES!\n",
        "    return sorted(words)\n",
        "\n",
        "def print_first_words(words):\n",
        "#Prints the first word after popping it off\n",
        "    word=words.pop(0)\n",
        "    print(word)\n",
        "\n",
        "def print_last_words(words):\n",
        "#Prints the last word after popping it off\n",
        "    word=words.pop(-1)\n",
        "    print(word)\n",
        "\n",
        "def sort_sentence(sentence):\n",
        "#Takes in a full sentence and returns the sorted words.\n",
        "    #a function calling another function\n",
        "    words=break_words(sentence)\n",
        "    print(sort_words(words))\n",
        "\n",
        "def print_first_and_last(sentence):\n",
        "#Prints the first and the last words of a sentence\n",
        "#a function calling another function\n",
        "    words=break_words(sentence)\n",
        "    print_first_word(words)\n",
        "    print_last_word(words)\n",
        "\n",
        "def print_first_and_last_sorted(sentence):\n",
        "#sorts the words and then prints the first and last.\n",
        "#a function calling another function\n",
        "    words=sort_sentence(sentence)\n",
        "    print_first_words(words)\n",
        "    print_last_words(words)\n"
      ]
    },
    {
      "cell_type": "code",
      "execution_count": null,
      "id": "1dee0b57-8387-44bf-9ca0-f37c2c24c3c0",
      "metadata": {
        "id": "1dee0b57-8387-44bf-9ca0-f37c2c24c3c0",
        "outputId": "a013bfdd-60ad-4e32-fcc3-d87840c05231"
      },
      "outputs": [
        {
          "name": "stdout",
          "output_type": "stream",
          "text": [
            "['There', 'is', 'grandeur', 'in', 'this', 'view', 'of', 'life']\n",
            "['There', 'grandeur', 'in', 'is', 'life', 'of', 'this', 'view']\n",
            "There\n",
            "life\n",
            "['There', 'grandeur', 'in', 'is', 'life', 'of', 'this', 'view']\n"
          ]
        }
      ],
      "source": [
        "# We are going to call the program above as a module\n",
        "# in order to do that, we will call it with the name only (no .py ending!)\n",
        "\n",
        "import Module4Be_from_LPTHW\n",
        "\n",
        "sentence = \"There is grandeur in this view of life\"\n",
        "words = (Module4Be_from_LPTHW.break_words(sentence))\n",
        "print(words)\n",
        "sorted_words = Module4Be_from_LPTHW.sort_words(words)\n",
        "print(sorted_words)\n",
        "Module4Be_from_LPTHW.print_first_words(words)\n",
        "Module4Be_from_LPTHW.print_last_words(words)\n",
        "print(sorted_words)\n"
      ]
    },
    {
      "cell_type": "code",
      "execution_count": null,
      "id": "7261f84c-cd1e-4d66-be12-b6b6cb4818f8",
      "metadata": {
        "id": "7261f84c-cd1e-4d66-be12-b6b6cb4818f8",
        "outputId": "f9353e54-6c9b-4292-fdc0-45d80d6147fa"
      },
      "outputs": [
        {
          "name": "stdout",
          "output_type": "stream",
          "text": [
            "['There', 'is', 'grandeur', 'in', 'this', 'view', 'of', 'life']\n"
          ]
        }
      ],
      "source": [
        "# we can also import ONLY specific functions from a module\n",
        "# note the slightly different format\n",
        "from Module4Be_from_LPTHW import break_words\n",
        "\n",
        "sentence = \"There is grandeur in this view of life\"\n",
        "# note you don't need to call the function as Module4Be_from_LPTHW.break_words(), you can just called it as break_words()\n",
        "words = break_words(sentence)\n",
        "print(words)"
      ]
    },
    {
      "cell_type": "markdown",
      "id": "7a2d17a9-511d-4439-bfce-9dc99e6b2140",
      "metadata": {
        "id": "7a2d17a9-511d-4439-bfce-9dc99e6b2140"
      },
      "source": [
        "This is a **simple** simulator of mutation which will clarify the type of large state space that MCMC addresses efficiently. There is a bit more to MCMC than is given in this program but it is a start... We will start with a simple four nucleotide sequence \"CTAG\" (note that you can, of course, start with any four letter nucleotide) and mutate it a specified number of times. We will use an extremely simplified mutation matrix (picture illustrating the model is given below) with a probability model defined as: the transition -0.1, tranversion - each transversion is 0.05- and no mutation -0.8- probabilities are the same for all nucleotides among other simplifying assumptions. To refresh your molecular evolution knowledge: Transversion is when a purine mutates to a pyramidine or vice versa, i.e. A--> C, A-->T or C-->G, transition is when a purine mutates to a different purine (A--> G or G-->A) or a pyramadine mutates to a different pyramidine (T-->C or C---> T).\n",
        "\n",
        "There is a question on one of your problem sets where I ask you to re-write this mess of a simulator in a much more elegant/efficient manner.\n",
        "\n",
        "Here is the breakdown of strategy:\n",
        "1. Start sequence is specified. In this case, we are running the string \"CTAG\" but I should be able to substitute any sequence of *any length*.\n",
        "2. Function that takes the starting sequence and number of times to repeat as an argument and using conditions, mutates the start string n times appropriately. Note that in this model, a mutation event can be a transition, transversion or no mutation at all. In fact, out of 1000000 simulations, you can expect mutations will occur about 200000 times (20%).\n",
        "3. We will want to sample the mutated sequence at different points in our simulator. This will partially be to trouble shoot and de-bug but also because we often want to do this in MCMC to sort of test whether the equilibrium state has been reached (that doesn't really work under this particular model since the nucleotides are considered completely independent but most models are more complex so it is a good habit to incorporate into this kind of code.)\n",
        "\n",
        "Here is the function that lays out one round of where the mutations happen. We can call the function with a specified *nsteps*."
      ]
    },
    {
      "cell_type": "code",
      "execution_count": null,
      "id": "a88aa4c3-a7d6-4b21-bc49-0cda7bb45153",
      "metadata": {
        "id": "a88aa4c3-a7d6-4b21-bc49-0cda7bb45153",
        "outputId": "be5d054e-fa68-4236-ce5a-a477ca24f1bd"
      },
      "outputs": [
        {
          "name": "stdout",
          "output_type": "stream",
          "text": [
            "CPU times: user 3 µs, sys: 0 ns, total: 3 µs\n",
            "Wall time: 5.96 µs\n",
            "['C', 'T', 'A', 'G']\n",
            "10000\n",
            "['A', 'A', 'G', 'A']\n",
            "1000\n",
            "['C', 'T', 'C', 'A']\n",
            "10\n",
            "['T', 'G', 'A', 'A']\n",
            "0.0005913340137340128\n"
          ]
        }
      ],
      "source": [
        "# Check out how you can determine how fast code it with a magic command:\n",
        "%time\n",
        "# Note: that depending on your operating system you may need to use the time module: from timeit import *.\n",
        "# you will see at the bottom of this cell, where I call the function, I have surrounded the call\n",
        "# by a start variable and an end variable. This should produce the same kind of behaviour in both windows and OS.\n",
        "# ---------------------------------------\n",
        "# This is a terrible and inefficient program and I want YOU to do BETTER!\n",
        "# we will import all the functions in the random module and we won't have to use the syntax\n",
        "\n",
        "import timeit\n",
        "# random.randint() if we use this format; we can just use randint() instead.\n",
        "from random import *\n",
        "\n",
        "# This is a poorly written script and it doesn't do what I want it to do. Improve on it!\n",
        "def mutation(current_seq,nsteps):\n",
        "    while(nsteps > 1):\n",
        "        if(nsteps==1 or nsteps==10 or nsteps==1000 or nsteps==10000):\n",
        "            print(current_seq)\n",
        "            print(nsteps)\n",
        "        # one of the loci between site 0 and 3\n",
        "        #print(\"************\")\n",
        "        current_loci = randint(0,3)\n",
        "        #print(current_loci)\n",
        "        # pick a number between 1 and 20 to determine if that site mutates or not\n",
        "        current_mut_event = randint(1,20)\n",
        "        #print(\"~~~~~~~~\")\n",
        "        #print(current_mut_event)\n",
        "    # No MUTATION\n",
        "        if(current_mut_event<=16):\n",
        "            pass\n",
        "    #MUTATION\n",
        "        else:\n",
        "            if(current_mut_event==17 or current_mut_event==18):  #TRANSITION MUTATIONS\n",
        "      #replace the nt with a transition mutation\n",
        "                if(current_seq[current_loci] == \"A\"):\n",
        "                    current_seq[current_loci]= \"G\"\n",
        "\n",
        "                if(current_seq[current_loci] == \"G\"):\n",
        "                    current_seq[current_loci] = \"A\"\n",
        "\n",
        "                if(current_seq[current_loci] == \"T\"):\n",
        "                    current_seq[current_loci] = \"C\"\n",
        "\n",
        "                if(current_seq[current_loci]== \"C\"):\n",
        "                    current_seq[current_loci] = \"T\"\n",
        "\n",
        "            else: #transversions are here\n",
        "                if(current_mut_event==19): #TRANSVERSION 1\n",
        "                    #print(\"What is the current_seq and current_loci? transversion 1\")\n",
        "                    #print(current_seq)\n",
        "                    #print(current_loci)\n",
        "                    if(current_seq[current_loci]==\"A\" or current_seq[current_loci]==\"G\"):\n",
        "                        current_seq[current_loci]= \"T\"\n",
        "                    else:\n",
        "                        current_seq[current_loci] =\"A\"\n",
        "                   # print(\"Am I where I am supposed to be in transversion 1?\")\n",
        "                    #print(current_seq[current_loci])\n",
        "\n",
        "            #TRANSVERSION 2\n",
        "                else:\n",
        "                    #print(\"What is the current_seq and current_loci? transversion 2\")\n",
        "                    #print(current_seq)\n",
        "                    #print(current_loci)\n",
        "                    if(current_seq[current_loci]==\"A\" or current_seq[current_loci]==\"G\"):\n",
        "                        current_seq[current_loci] = \"C\"\n",
        "                    else:\n",
        "                        current_seq[current_loci] = \"G\"\n",
        "        #print(\"there can be only one\")\n",
        "        #print(current_seq)\n",
        "        nsteps = nsteps-1\n",
        "        #print(nsteps)\n",
        "    return current_seq\n",
        "\n",
        "# Now we need to call this inefficient excuse of a function and assign the results to a variable:\n",
        "start=timeit.timeit()\n",
        "test = mutation([\"C\",\"T\",\"A\",\"G\"],10000)\n",
        "end=timeit.timeit()\n",
        "print(test)\n",
        "print(start - end)"
      ]
    },
    {
      "cell_type": "markdown",
      "id": "81b6da74-9fbd-428b-87e3-5f58e547789f",
      "metadata": {
        "id": "81b6da74-9fbd-428b-87e3-5f58e547789f"
      },
      "source": [
        "## Assertions - debugging\n",
        "* So far, in order to debug, we have relied on two general techniques:\n",
        "     1. print statements\n",
        "     2. Error statements (along with liberal use of google)\n",
        "* There are two other, more 'official' ways:\n",
        "        1. try/except\n",
        "        2. Assertions\n",
        "        \n",
        "* Assertions are a way of testing a function to ensure that it results in the expected value (are functions working as intended?)\n",
        "\n",
        "    * Assertions let us test functions… *especially ones that we have modified* (to ensure that we haven’t introduced any new errors)\n",
        "    \n",
        "* If assertion turns out to be false, the program stops and throw AssertionError\n",
        "\n",
        "* Useful also as documentation – by including a collection of assertion tests alongside a function, we can show exactly what output is expected\n",
        "\n",
        "* With the example that we have been using so far, we might run the following short code where we know what the function should give us:\n",
        "\n",
        "> **assert get_at_content(“ATGC”)==0.5**\n",
        "\n",
        "* If the assertion turns out to be false, the program will stop and it will through an AssertionError exception\n",
        "\n",
        "Here is Rear Admiral Dr. Grace Murray Hopper:\n",
        "\n",
        "<div class=\"alert alert-block alert-info\">\n",
        "<img src=\"http://image.slidesharecdn.com/FromAbacustoiPhonetoCrestaTVshare-090220174115-phpapp02/95/from-abacus-to-i-phone-to-cresta-tv-share-40-728.jpg?cb=1235151982\" alt=\"Alt text that describes the graphic\" title=\"Title text\" />\n"
      ]
    },
    {
      "cell_type": "code",
      "execution_count": null,
      "id": "47bb0c8e-1da2-4216-8cd4-ddf569234049",
      "metadata": {
        "id": "47bb0c8e-1da2-4216-8cd4-ddf569234049",
        "outputId": "d7514989-10e5-4b42-8484-332357537f49"
      },
      "outputs": [
        {
          "name": "stdout",
          "output_type": "stream",
          "text": [
            "~~~~~~~~\n",
            "~~~~~~~~\n",
            "~~~~~~~~\n",
            "~~~~~~~~\n"
          ]
        }
      ],
      "source": [
        "# Here is an example of a function that can take a variable number of arguments by using *args\n",
        "def biggest_number(*args):\n",
        "    print(\"~~~~~~~~\")\n",
        "    #print(max(args))\n",
        "    return max(args)\n",
        "\n",
        "# we pass in 5 items\n",
        "big = biggest_number(-10,-5,5,10,100)\n",
        "# we pass in 3 items\n",
        "big2 = biggest_number(1,4,10000)\n",
        "# these should be true\n",
        "assert big ==100\n",
        "assert big2 == 10000\n",
        "# this is not true\n",
        "assert biggest_number(-10,-5,5,10,100)==100\n",
        "# this is true but we won't know that until we fix the assert statement above since the program stops when it encounters the error\n",
        "assert biggest_number(-20,-5,5,10)==10"
      ]
    },
    {
      "cell_type": "markdown",
      "id": "9bd6eba0-c66e-4179-bfaa-ceac1b919843",
      "metadata": {
        "id": "9bd6eba0-c66e-4179-bfaa-ceac1b919843"
      },
      "source": [
        "Class Questions:\n",
        "----------------\n",
        "1. Here is a 20 amino acid long protein sequence:\n",
        "MSRSLLLRFLLFLLLLPPLP\n",
        "\n",
        "a.\tWrite a function that takes two arguments, a protein sequence and an amino acid residue code (one letter that represents the amino acid, if you have no idea what I am talking about than go here: https://en.wikipedia.org/wiki/Amino_acid), and returns the percentage of the protein that the amino acid makes up. The following assertions – which should all be true --  need to be included in your code to test your function:\n",
        "\n",
        "\tassert my_function(“MSRSLLLRFLLFLLLLPPLP”,”M”)==5\n",
        "\tassert my_function(“MSRSLLLRFLLFLLLLPPLP”,”r”)==10\n",
        "\tassert my_function(“msrslllrfllfllllpplp”,”L”)==50\n",
        "\tassert my_function(“MSRSLLLRFLLFLLLLPPLP”,”Y”)==0\n",
        "\n",
        "b.\tModify the function in part a so that it accepts a list of amino acid residues rather than a single one. Your function should pass the following assertions:\n",
        "  \n",
        "\tassert my_function(“MSRSLLLRFLLFLLLLPPLP” [“M”])==5\n",
        "\tassert my_function(“MSRSLLLRFLLFLLLLPPLP”,[“M”,”L”])==55\n",
        "\tassert my_function(“MSRSLLLRFLLFLLLLPPLP”,[“F’,”S”,”L”])==70\n",
        "\tassert my_function(“MSRSLLLRFLLFLLLLPPLP”)==65\n",
        "\n",
        "     \n",
        "Note that you will need to ensure that  there is an argument in order to pass the last assertion (and that value should be [\"F\",\"M\",\"L\"]).\n",
        "\n",
        "2. Write a function that bundles your board game board (we created a board game board previously, but now we want to bundle it into a function to be called).\n",
        "\n"
      ]
    },
    {
      "cell_type": "code",
      "execution_count": null,
      "id": "2a6955c8-a381-4dda-b0cc-b9fe731fb021",
      "metadata": {
        "id": "2a6955c8-a381-4dda-b0cc-b9fe731fb021"
      },
      "outputs": [],
      "source": []
    },
    {
      "cell_type": "code",
      "execution_count": null,
      "id": "cc158861-b744-4df2-9851-4fb58199a5a2",
      "metadata": {
        "id": "cc158861-b744-4df2-9851-4fb58199a5a2"
      },
      "outputs": [],
      "source": []
    }
  ],
  "metadata": {
    "kernelspec": {
      "display_name": "Python 3 (ipykernel)",
      "language": "python",
      "name": "python3"
    },
    "language_info": {
      "codemirror_mode": {
        "name": "ipython",
        "version": 3
      },
      "file_extension": ".py",
      "mimetype": "text/x-python",
      "name": "python",
      "nbconvert_exporter": "python",
      "pygments_lexer": "ipython3",
      "version": "3.11.5"
    },
    "colab": {
      "provenance": []
    }
  },
  "nbformat": 4,
  "nbformat_minor": 5
}