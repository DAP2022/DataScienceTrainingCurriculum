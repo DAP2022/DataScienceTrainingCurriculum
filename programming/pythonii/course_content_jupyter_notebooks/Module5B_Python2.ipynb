{
  "cells": [
    {
      "cell_type": "markdown",
      "metadata": {
        "id": "joNmRkxKYqRZ"
      },
      "source": [
        "# BioPython\n",
        "\n",
        "This is another popular and useful library full of methods that will appeal to a budding genomics/bioinformatics individual!\n",
        "\n",
        "I am not going to exhaustively list all of the features of BioPython. Instead, I am going to pull out a few items from the official BioPython tutorial (http://biopython.org/DIST/docs/tutorial/Tutorial.html) that focus on setting up a Seq object. Seq objects are the fundamental data type of the BioPython package and appreciating their syntax and flexibility will allow you to follow the many tutorials you will find online that apply BioPython Seq objects to solve Bioinformatics problems.  \n",
        "\n",
        "There are a few popular ways to use BioPython:\n",
        "1. Sequence handling and parsing from major databases\n",
        "    * BLAST, NCBI (Entrez), GenBank, FASTA files\n",
        "2. Alignment and basic Population Genetics (GenePop)\n",
        "    * and phylogenetics (ie. a pipeline that feeds directly into ClustalW, MUSCLE etc)\n",
        "    * Linkage disequilibrium, Hardy_weingberg, Fst, migration estimates\n",
        "3. 3D structure (but I don't know much about that field)\n",
        "\n",
        "Some of you will find BioPython to be efficient and maybe even indispensable. I found a tutorial online that I think does a straightfoward job of working through how to use BioPython to retrieve sequence information from NCBI, how to use BLAST via BioPyton and even takes you through a few examples (for instance, there is an example that takes you through diagnosing, genetically, Sickle Cell Anemia). The tutorial is found here:\n",
        "https://krother.gitbooks.io/biopython-tutorial/content/\n",
        "\n",
        "A more advanced tutorial, takes you through population genetics simulations, Cluster analysis, supervised learning etc. Once again: what you find interesting and useful about all of the features of BioPython will be dictated by what you kind of work you do.\n",
        "\n",
        "https://nbviewer.jupyter.org/github/tiagoantao/biopython-notebook/blob/master/notebooks/00%20-%20Tutorial%20-%20Index.ipynb"
      ]
    },
    {
      "cell_type": "markdown",
      "metadata": {
        "id": "UeXpaD90YqRc"
      },
      "source": [
        "BioPython focuses on tools that make bioinformatics and genomics easy.\n",
        "\n",
        "Of particular importance: parsing. Parsing has a particular meaning in computer science but you can generally think of it as taking information that is one format and translating it into the Biopython format so that you can manipulate the data.\n",
        "\n",
        "BioPython works seamlessly with the common formats (FASTA) and the common databases (Genbank, SwissProt, BLAST, Entrez, microarray etc)"
      ]
    },
    {
      "cell_type": "markdown",
      "metadata": {
        "id": "0lpGat4MYqRc"
      },
      "source": [
        "* Seq objects - like strings - are immutable in BioPython to make life easy. You don't normally want to accidentally 'write over' a sequence object:\n",
        "http://biopython.org/DIST/docs/tutorial/Tutorial.html#sec17\n",
        "* there are mutable versions of Seq objects called MutableSeq objects\n",
        "* you can also convert an immutable Seq object to a mutable one by using .tomutable() method (instead of using Seq() when you create the object out of a sequence string, you would use MutableSeq())\n",
        "\n",
        "The website that gives methods and attribute of Seq objects can be found here: https://biopython.org/DIST/docs/api/Bio.Seq.Seq-class.html\n",
        "You will undoubtedly notice that there are methods such as \"complement\", \"reverse_complement\", \"transcribe\", \"translate\", and many other methods that we wrote out as functions in Intro to Python I."
      ]
    },
    {
      "cell_type": "code",
      "execution_count": null,
      "metadata": {
        "id": "DGOEJV_zYqRc",
        "outputId": "e949ed98-2a83-411f-f5d7-fa193f97ce2b"
      },
      "outputs": [
        {
          "name": "stdout",
          "output_type": "stream",
          "text": [
            "ATGCGTTGCC\n",
            "~~~~~~~~~~~~~~~~~~~~\n",
            "AUGGCCAUUGUAAUGGGCCGCUGAAAGGGUGCCCGAUAG\n",
            "********************\n",
            "GGCAACGCAT\n",
            "MAIVMGR*KGAR*\n",
            "GTC\n",
            "10\n"
          ]
        },
        {
          "data": {
            "text/plain": [
              "Seq('ATGNNNNNNNNNNATCCCGNNNNNNNNNNTTGCA')"
            ]
          },
          "execution_count": 2,
          "metadata": {},
          "output_type": "execute_result"
        }
      ],
      "source": [
        "#import Biopython once you have installed it via Anaconda environment\n",
        "# especially the powerful Seq object\n",
        "from Bio.Seq import Seq\n",
        "# you could also import IUPAC which dictates the naming conventions for DNA and RNA\n",
        "from Bio.Alphabet import IUPAC\n",
        "\n",
        "# create a Seq object of DNA:\n",
        "DNA_seq=Seq(\"ATGCGTTGCC\",IUPAC.unambiguous_dna)\n",
        "# try to print out the DNA_seq object:\n",
        "print(DNA_seq)\n",
        "print(\"~\"*20)\n",
        "\n",
        "#create a Seq object of RNA:\n",
        "RNA_seq=Seq(\"AUGGCCAUUGUAAUGGGCCGCUGAAAGGGUGCCCGAUAG\", IUPAC.unambiguous_rna)\n",
        "print(RNA_seq)\n",
        "# create a Seq object of RNA:\n",
        "print(\"*\"*20)\n",
        "\n",
        "# let's try to do the same type of manipulations that we did in earlier problem sets\n",
        "print(DNA_seq.reverse_complement())\n",
        "print(RNA_seq.translate())\n",
        "# SO VERY MUCH EASIER, RIGHT?\n",
        "\n",
        "# you can also treat seq objects like strings in terms of slicing and other methods\n",
        "print(DNA_seq[4:-1:2])\n",
        "print(len(DNA_seq))\n",
        "# and there are methods like join, upper, lower and the usual string methods\n",
        "# here is an example of the join method taken from the biopython tutorial\n",
        "contigs = [Seq(\"ATG\"), Seq(\"ATCCCG\"), Seq(\"TTGCA\")]\n",
        "spacer = Seq(\"N\"*10)\n",
        "spacer.join(contigs)"
      ]
    },
    {
      "cell_type": "markdown",
      "metadata": {
        "id": "IyJ3f7ckYqRe"
      },
      "source": [
        "# In class Question:\n",
        "We want the following to be included in your object: following attributes: species name, gene accession name, and nucleotide sequence. We want to be able to manipulate these objects with the following methods: determine the length of the sequence, translate and print the user-provided DNA into amino acid sequence, print the complement of the DNA sequence, and determine the CG content of the gene. Ensure that there are default values for your object but your marker will input their own sequence data as well and your code will still need to work!\n",
        "Here are the default values that you should use (they will be replaced when specified by the user):\n",
        "*\n",
        "Sequence = \"ACTGATCGTTACGTACGAGTCA\n",
        "  T* \"\n",
        "Species =\"Drosophila melanogast\n",
        "  e* r\"\n",
        "Gene name = “ABC1”\n"
      ]
    },
    {
      "cell_type": "code",
      "execution_count": null,
      "metadata": {
        "id": "B9gI4YnBYqRf"
      },
      "outputs": [],
      "source": []
    }
  ],
  "metadata": {
    "kernelspec": {
      "display_name": "Python 3 (ipykernel)",
      "language": "python",
      "name": "python3"
    },
    "language_info": {
      "codemirror_mode": {
        "name": "ipython",
        "version": 3
      },
      "file_extension": ".py",
      "mimetype": "text/x-python",
      "name": "python",
      "nbconvert_exporter": "python",
      "pygments_lexer": "ipython3",
      "version": "3.11.5"
    },
    "colab": {
      "provenance": []
    }
  },
  "nbformat": 4,
  "nbformat_minor": 0
}