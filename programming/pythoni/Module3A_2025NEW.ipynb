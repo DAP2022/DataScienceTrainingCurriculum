{
  "cells": [
    {
      "cell_type": "markdown",
      "id": "7ac93cf4-ffef-4337-a3f0-d9be0ea1570f",
      "metadata": {
        "id": "7ac93cf4-ffef-4337-a3f0-d9be0ea1570f"
      },
      "source": [
        "## Summary:\n",
        "\n",
        "1. Lists and manipulations:\n",
        "    * What are they and why do we use them?\n",
        "    * How are they stored in memory?\n",
        "    * Methods: Adding items\n",
        "    * Methods: Removing items\n",
        "  \n",
        "# This module: loops and a few more pieces of lists\n"
      ]
    },
    {
      "cell_type": "code",
      "execution_count": null,
      "id": "8fb2fabb-3d9e-4b0a-9cc3-d4a96d8025c5",
      "metadata": {
        "id": "8fb2fabb-3d9e-4b0a-9cc3-d4a96d8025c5"
      },
      "outputs": [],
      "source": [
        "#let's remember how to create a file:\n",
        "f = open(\"data.csv\",\"w+\")\n",
        "# I have created a few files within the jupyter notebooks so that you didn't need to upload additional files.\n",
        "# We can dissect out the list below and discuss the elements:\n",
        "my_list=['Drosophila melanogaster,atatatatatcgcgtatatatacgactatatgcattaattatagcatatcgatatatatatcgatattatatcgcattatacgcgcgtaattatatcgcgtaattacga,kdy647,264\\n', 'Drosophila melanogaster,actgtgacgtgtactgtacgactatcgatacgtagtactgatcgctactgtaatgcatccatgctgacgtatctaagt,jdg766,185\\n', 'Drosophila simulans,atcgatcatgtcgatcgatgatgcatccgactatcgtcgatcgtgatcgatcgatcgatcatcgatcgatgtcgatcatgtcgatatcgt,kdy533,485\\n', 'Drosophila yakuba,cgcgcgctcgcgcatacggcctaatgcgcgcgctagcgatgc,hdt739,85\\n', 'Drosophila ananassae,ttacgatcgatcgatcgatcgatcgtcgatcgtcgatgctacatcgatcatcatcggattagtcacatcgatcgatcatcgactgatcgtcgatcgtagatgctgacatcgatagca,hdu045,356\\n', 'Drosophila ananassae,gcatcgatcgatcgcggcgcatcgatcgcgatcatcgatcatacgcgtcatatctatacgtcactgccgcgcgtatctacgcgatgactagctagact,teg436,222\\n']\n",
        "\n",
        "for item in my_list:\n",
        "    f.write(str(item))\n",
        "f.close()"
      ]
    },
    {
      "cell_type": "markdown",
      "id": "8ec0db46-7d53-49ab-b26b-193696294840",
      "metadata": {
        "id": "8ec0db46-7d53-49ab-b26b-193696294840"
      },
      "source": [
        "# Loops\n",
        "* Repetition with variation\n",
        "* Allows us to process **lists** or **other iterable objects**  (files, for instance, can be iterated) one element at a time\n",
        "\n",
        "## For loops\n",
        "When we need/want to apply the same procedure/manipulation to a bunch of items - for instance, not coincidentally, to a bunch of elements that are in a list!\n",
        "We can iterate over each specified element in a list (we can also apply criteria/conditions to which elements are chosen)when we have a specific number of items to iterate through, we use **for** and we use **if** we don't know how many items (note: we might use while it comes with some baggage...)\n",
        "\n",
        "### Syntax\n",
        "\n",
        "__for number in my_list:__\n",
        "\n",
        "Body of the loop - do something for each element in my_list\n",
        "* The body of the loop must have the same indentation and you can use spaces or tabs but not a combination of both - indentation errors can result!\n",
        "* **STICK TO FOUR SPACES of indentation**\n",
        "\n",
        "We can exit a particular loop with the **break** keyword (note that if you use break on an inner for loop, it will continue looping through any outer for loops; it only 'breaks' out of the for loop in its **scope**)\n",
        "\n",
        "we will probably encounter the **pass** keyword, too. This is used as a place holder for future code and mostly results from Python's use of whitespace.\n",
        "\n",
        "### Scope\n",
        "\n",
        "In the example in a couple of cells, num and i is a variable name that only exists - properly - in the loop; you can't call it outside of the loop and expect it to still be iterable. If you call it outside the loop, it should just give you the last element that was called (because that is what is stored in memory).\n",
        "\n",
        "it automatically iterates through the provided list which means it is set to the next element of the list as it goes through the loop. This is markedly different from some other languages, say Java, which requires you to keep track of each iteration with an increment operator like i++ and explicitly set the initial variable to 0\n",
        "\n",
        "### Indent the action in the loop\n",
        "\n",
        "indentation is functionally the same as curly brackets in other languages - incorrect indentation will lead to indentation errors"
      ]
    },
    {
      "cell_type": "markdown",
      "id": "82cd9a99-08b5-4d6d-9bdf-939f2fe9b20c",
      "metadata": {
        "id": "82cd9a99-08b5-4d6d-9bdf-939f2fe9b20c"
      },
      "source": [
        "![Loops](infiniteloop.png)"
      ]
    },
    {
      "cell_type": "code",
      "execution_count": null,
      "id": "0de29c20-b5fd-4879-8477-8e921e4d61bf",
      "metadata": {
        "id": "0de29c20-b5fd-4879-8477-8e921e4d61bf",
        "outputId": "f127645b-7f17-4efa-ea63-ea859d799fe0"
      },
      "outputs": [
        {
          "name": "stdout",
          "output_type": "stream",
          "text": [
            "[]\n"
          ]
        },
        {
          "name": "stdin",
          "output_type": "stream",
          "text": [
            "What's your hobby?:  reading\n"
          ]
        },
        {
          "name": "stdout",
          "output_type": "stream",
          "text": [
            "~~~~~~~\n",
            "['reading']\n",
            "We are in the 0 iteration\n"
          ]
        },
        {
          "name": "stdin",
          "output_type": "stream",
          "text": [
            "What's your hobby?:  dancing\n"
          ]
        },
        {
          "name": "stdout",
          "output_type": "stream",
          "text": [
            "~~~~~~~\n",
            "['reading', 'dancing']\n",
            "We are in the 1 iteration\n"
          ]
        },
        {
          "name": "stdin",
          "output_type": "stream",
          "text": [
            "What's your hobby?:  traveling\n"
          ]
        },
        {
          "name": "stdout",
          "output_type": "stream",
          "text": [
            "~~~~~~~\n",
            "['reading', 'dancing', 'traveling']\n",
            "We are in the 2 iteration\n",
            "['reading', 'dancing', 'traveling']\n",
            "2\n"
          ]
        }
      ],
      "source": [
        "#stolen from codeacademy which had an easily readable section on for loops, if you are confused!\n",
        "# This is a common approach to filling a list!\n",
        "# empty list:\n",
        "hobbies = []\n",
        "print(hobbies)\n",
        "# in this example, the iterator could be almost anything. In this case, it is 'i'\n",
        "# For loops always start at '0' element unless explicitly told not to by lower bound on range.\n",
        "# range behaves different ways depending on how many arguments are provided to it.\n",
        "# We saw a similiar response with slicing which could behave differently depending on\n",
        "# how many arguments were given: list_name[upper bound] versus list_name[lower bound:upper bound]\n",
        "# list_name[lower:upper:increment]\n",
        "# This behaviour is called \"overloading\" and we will see this is more detail below.\n",
        "# For now, notice that range(3) can also be written as: range(0,3) or range(0,3,1).\n",
        "for i in range(3):\n",
        "    hobby=input(\"What's your hobby?: \")\n",
        "    print(\"~~~~~~~\")\n",
        "    hobbies.append(hobby)\n",
        "    print(hobbies)\n",
        "    print(\"We are in the \"+str(i)+\" iteration\")\n",
        "    #if this was java, we would need to add 1 to the counter for each time through a loop\n",
        "    # But it isn't java so we don't have to! Hurray!\n",
        "print(hobbies)\n",
        "#print(hobby)\n",
        "print(i)"
      ]
    },
    {
      "cell_type": "markdown",
      "id": "e5915902-7dd4-4bbd-b902-c48f90305a47",
      "metadata": {
        "id": "e5915902-7dd4-4bbd-b902-c48f90305a47"
      },
      "source": [
        "## Looping with ranges:\n",
        "* range() is a built in function that generates lists of numbers for us to loop over\n",
        "* behaviour of range() is dependent on how many arguments we give it (overloading):\n",
        "    1. one number: range(n) --> 0 to n-1\n",
        "    2. two numbers: range(lower number, higher number) --> lower number to higher number-1\n",
        "    3. three numbers: range(lower number, higher number,increment size)\n",
        "* inclusive on lower end, exclusive on upper end"
      ]
    },
    {
      "cell_type": "code",
      "execution_count": null,
      "id": "57c45734-841e-4c46-aa40-c46960e5f193",
      "metadata": {
        "id": "57c45734-841e-4c46-aa40-c46960e5f193",
        "outputId": "40161d4f-e975-410b-a31a-640720c91edf"
      },
      "outputs": [
        {
          "name": "stdout",
          "output_type": "stream",
          "text": [
            "0\n",
            "1\n",
            "2\n",
            "3\n",
            "4\n",
            "5\n",
            "-----\n",
            "Hey I am in the range(3,8) loop\n",
            "3\n",
            "Hey I am in the range(3,8) loop\n",
            "4\n",
            "Hey I am in the range(3,8) loop\n",
            "5\n",
            "Hey I am in the range(3,8) loop\n",
            "6\n",
            "Hey I am in the range(3,8) loop\n",
            "7\n",
            "*****\n",
            "2\n",
            "6\n",
            "10\n"
          ]
        }
      ],
      "source": [
        "# REVIEW THIS!\n",
        "#loops with ranges examples:\n",
        "#ranges\n",
        "for number in range(6):\n",
        "    print(number)\n",
        "\n",
        "print(\"-----\")\n",
        "for number in range(3, 8):\n",
        "    #print(\"Hey I am in the range(3,8) loop\")\n",
        "    print(number)\n",
        "\n",
        "print(\"*****\")\n",
        "for number in range(2, 14, 4):\n",
        "    print(number)"
      ]
    },
    {
      "cell_type": "markdown",
      "id": "cda327e3-e1c0-4190-978f-2c682cc484d4",
      "metadata": {
        "id": "cda327e3-e1c0-4190-978f-2c682cc484d4"
      },
      "source": [
        "### You will iterate over a string or a list A LOT\n",
        "* if you write a loop statement with a string where a list would be, the loop will process each character in the string as an element (one character at a time)\n",
        "* even though we don't explicitly have an enumerator in Python (like we do in C++, java etc), we sometimes need one:\n",
        "    * Built in function enumerate() which supplies an index to each element of the list as you go through it so you can count where each item is located"
      ]
    },
    {
      "cell_type": "code",
      "execution_count": null,
      "id": "aef5429c-f4b9-45db-932e-c2bd7b5a4b0b",
      "metadata": {
        "id": "aef5429c-f4b9-45db-932e-c2bd7b5a4b0b",
        "outputId": "6e73a278-1794-4860-b2dd-bd3f36a34bc7"
      },
      "outputs": [
        {
          "name": "stdout",
          "output_type": "stream",
          "text": [
            "s\n",
            "p\n",
            "a\n",
            "m\n",
            "!\n",
            "~~~~~~~\n",
            "e\n",
            "g\n",
            "g\n",
            "s\n",
            "!\n",
            "Your choices are:\n",
            "0 Spam pizza\n",
            "1 Spam & pasta\n",
            "2 Spam & salad\n",
            "3 Spam nachos\n"
          ]
        }
      ],
      "source": [
        "#Iteration over a String\n",
        "thing = \"spam!\"\n",
        "\n",
        "#iterate over each character in this string\n",
        "for c in thing:\n",
        "    print(c)\n",
        "print(\"~~~~~~~\")\n",
        "word = \"eggs!\"\n",
        "for a in word:\n",
        "    print(a)\n",
        "\n",
        "# You could also iterate over a list and use the built in function enumerate to keep track of the index\n",
        "choices = [\"Spam pizza\", \"Spam & pasta\", \"Spam & salad\", \"Spam nachos\"]\n",
        "\n",
        "print(\"Your choices are:\")\n",
        "\n",
        "for index_1, item in enumerate(choices):\n",
        "    print(index_1, item)"
      ]
    },
    {
      "cell_type": "markdown",
      "id": "e9021cda-6aa9-4f3d-8009-d9f714a1bf30",
      "metadata": {
        "id": "e9021cda-6aa9-4f3d-8009-d9f714a1bf30"
      },
      "source": [
        "### Sometimes, we want to iterate over MULTIPLE lists simultaneously\n",
        "*Built in function **zip** which creates pairs (or more) of elements when passed two (or more) lists and will stop at the shorter list"
      ]
    },
    {
      "cell_type": "code",
      "execution_count": null,
      "id": "e291aecb-1869-4922-bb7a-c2ed244c85b8",
      "metadata": {
        "id": "e291aecb-1869-4922-bb7a-c2ed244c85b8",
        "outputId": "245cfbcf-e239-446e-ac2c-230132653597"
      },
      "outputs": [
        {
          "name": "stdout",
          "output_type": "stream",
          "text": [
            "And now for something completely different - multiple lists: \n",
            "3\n",
            "9\n",
            "a and b are equal\n",
            "a and b are equal\n",
            "40\n"
          ]
        }
      ],
      "source": [
        "print(\"And now for something completely different - multiple lists: \")\n",
        "# iterating over multiple lists simultaneously\n",
        "list_a = [3, 9, 17, 15, 40]\n",
        "list_b = [2, 4, 17, 15, 30, 40, 50, 60, 70, 80, 90]\n",
        "\n",
        "for a, b in zip(list_a, list_b):\n",
        "    # we will learn about Boolean logic soon. != means not equal to\n",
        "    if a != b:\n",
        "        if a >b:\n",
        "            print(a)\n",
        "        else:\n",
        "            print(b)\n",
        "    else:\n",
        "        print(\"a and b are equal\")"
      ]
    },
    {
      "cell_type": "markdown",
      "id": "e395000e-cde7-483f-8981-90170d89b450",
      "metadata": {
        "id": "e395000e-cde7-483f-8981-90170d89b450"
      },
      "source": [
        "### We can split a string to make a list!\n",
        "* .split() <--works on strings to produce a list which we can then iterate over!\n",
        "    * takes a single argument, a delimiter, which is the point at which the original string is split"
      ]
    },
    {
      "cell_type": "code",
      "execution_count": null,
      "id": "627fd93a-b91c-424d-b398-8f3b324a1385",
      "metadata": {
        "id": "627fd93a-b91c-424d-b398-8f3b324a1385",
        "outputId": "32781f53-148b-4cbb-9a2b-6ec1b5d4387c"
      },
      "outputs": [
        {
          "name": "stdout",
          "output_type": "stream",
          "text": [
            "This string is now a list: ['melanogaster', ' simulans', ' yakuba', ' ananassae']\n",
            "['GGG', 'GAC', 'TTT', 'CCC', 'CGGA']\n",
            "['', 'GGG', 'GAC', 'TTT', 'CCC', 'CGG', '']\n"
          ]
        }
      ],
      "source": [
        "names=\"melanogaster, simulans, yakuba, ananassae\"\n",
        "# note that the specified argument is what is being used as the split criteria and is not included in the resulting list\n",
        "species=names.split(\",\")\n",
        "print(\"This string is now a list: \"+str(species))\n",
        "# you could substitute 'an' instead of ',' and see what is printed out\n",
        "#species2=names.split(\"an\")\n",
        "#print(\"This string is now a list: \"+str(species2))\n",
        "#---------------------------------\n",
        "# NOTE: plit gives unanticipated behaviour if cut argument is at the very beginning or the very end of string\n",
        "mySeq=\"GGGATGACATTTTATCCCATCGGA\"\n",
        "testlist=mySeq.split(\"AT\")\n",
        "print(testlist)\n",
        "mySeqBeginningorEnd=\"ATGGGATGACATTTTATCCCATCGGAT\"\n",
        "testlist2=mySeqBeginningorEnd.split(\"AT\")\n",
        "print(testlist2)\n",
        "# See? there are now two empty elements, corresponding to the AT at the beginning of the string and at the end"
      ]
    },
    {
      "cell_type": "markdown",
      "id": "9c30cefb-b771-4648-8efa-5d41c8eb618b",
      "metadata": {
        "id": "9c30cefb-b771-4648-8efa-5d41c8eb618b"
      },
      "source": [
        "### We can iterate over a file object\n",
        "* file object can be turned into a list for the purpose of looping (similar to how a string is turned into a list)\n",
        "* When a file object is turned into a list, each line becomes an element that can be iterated over\n",
        "\n",
        "__Warning: When reading data from a file use either read method (Module2B), which stores entire contents in a variable, or use loop method, which deals with each line separately. If you mix them you will get unexpected behaviour!__"
      ]
    },
    {
      "cell_type": "code",
      "execution_count": null,
      "id": "4b3b2061-cdef-43d9-899d-926f0368fe64",
      "metadata": {
        "id": "4b3b2061-cdef-43d9-899d-926f0368fe64",
        "outputId": "e2aeb916-55e7-48c6-802f-8adb3843f310"
      },
      "outputs": [
        {
          "name": "stdout",
          "output_type": "stream",
          "text": [
            "<_io.TextIOWrapper name='data.csv' mode='r' encoding='UTF-8'>\n",
            "********************\n",
            "['Drosophila melanogaster,atatatatatcgcgtatatatacgactatatgcattaattatagcatatcgatatatatatcgatattatatcgcattatacgcgcgtaattatatcgcgtaattacga,kdy647,264\\n', 'Drosophila melanogaster,actgtgacgtgtactgtacgactatcgatacgtagtactgatcgctactgtaatgcatccatgctgacgtatctaagt,jdg766,185\\n', 'Drosophila simulans,atcgatcatgtcgatcgatgatgcatccgactatcgtcgatcgtgatcgatcgatcgatcatcgatcgatgtcgatcatgtcgatatcgt,kdy533,485\\n', 'Drosophila yakuba,cgcgcgctcgcgcatacggcctaatgcgcgcgctagcgatgc,hdt739,85\\n', 'Drosophila ananassae,ttacgatcgatcgatcgatcgatcgtcgatcgtcgatgctacatcgatcatcatcggattagtcacatcgatcgatcatcgactgatcgtcgatcgtagatgctgacatcgatagca,hdu045,356\\n', 'Drosophila ananassae,gcatcgatcgatcgcggcgcatcgatcgcgatcatcgatcatacgcgtcatatctatacgtcactgccgcgcgtatctacgcgatgactagctagact,teg436,222\\n']\n",
            "********************\n",
            "0  and what it contains:  Drosophila melanogaster,atatatatatcgcgtatatatacgactatatgcattaattatagcatatcgatatatatatcgatattatatcgcattatacgcgcgtaattatatcgcgtaattacga,kdy647,264\n",
            "\n",
            "______________________________\n",
            "The length is 145\n",
            "1  and what it contains:  Drosophila melanogaster,actgtgacgtgtactgtacgactatcgatacgtagtactgatcgctactgtaatgcatccatgctgacgtatctaagt,jdg766,185\n",
            "\n",
            "______________________________\n",
            "The length is 114\n",
            "2  and what it contains:  Drosophila simulans,atcgatcatgtcgatcgatgatgcatccgactatcgtcgatcgtgatcgatcgatcgatcatcgatcgatgtcgatcatgtcgatatcgt,kdy533,485\n",
            "\n",
            "______________________________\n",
            "The length is 122\n",
            "3  and what it contains:  Drosophila yakuba,cgcgcgctcgcgcatacggcctaatgcgcgcgctagcgatgc,hdt739,85\n",
            "\n",
            "______________________________\n",
            "The length is 71\n",
            "4  and what it contains:  Drosophila ananassae,ttacgatcgatcgatcgatcgatcgtcgatcgtcgatgctacatcgatcatcatcggattagtcacatcgatcgatcatcgactgatcgtcgatcgtagatgctgacatcgatagca,hdu045,356\n",
            "\n",
            "______________________________\n",
            "The length is 150\n",
            "5  and what it contains:  Drosophila ananassae,gcatcgatcgatcgcggcgcatcgatcgcgatcatcgatcatacgcgtcatatctatacgtcactgccgcgcgtatctacgcgatgactagctagact,teg436,222\n",
            "\n",
            "______________________________\n",
            "The length is 131\n",
            "The first character is D\n",
            "The first character is D\n",
            "The first character is D\n",
            "The first character is D\n",
            "The first character is D\n",
            "The first character is D\n"
          ]
        }
      ],
      "source": [
        "#first store a list of lines in the file which, coincidentally, is what readlines() does!\n",
        "file = open(\"data.csv\")\n",
        "#this will be a pointer to the file object, named 'file'\n",
        "print(file)\n",
        "print(\"*\"*20)\n",
        "all_lines = file.readlines()\n",
        "#all_lines will print out all the content of the file object\n",
        "print(all_lines)\n",
        "# useful to note that there are hidden characters present, \\n\n",
        "print(\"*\"*20)\n",
        "# print the lengths. Let's use the handy enumerate function to list the index of each of the elements\n",
        "for index,line in enumerate(all_lines):\n",
        "    print(index,\" and what it contains: \",line)\n",
        "    print(\"___\"*10)\n",
        "    print(\"The length is \" + str(len(line)))\n",
        "\n",
        "# print the first characters\n",
        "for line in all_lines:\n",
        "    print(\"The first character is \" + line[0])"
      ]
    },
    {
      "cell_type": "markdown",
      "id": "a9532be2-e2fc-42d0-85a7-3c83a1ebe4ef",
      "metadata": {
        "id": "a9532be2-e2fc-42d0-85a7-3c83a1ebe4ef"
      },
      "source": [
        "### Sorting lists\n",
        "*.sort() modifies the original list (strings will be alphabeticized) rather than returning a new list"
      ]
    },
    {
      "cell_type": "code",
      "execution_count": null,
      "id": "e08e7835-d400-43ff-a75a-f23976b23317",
      "metadata": {
        "id": "e08e7835-d400-43ff-a75a-f23976b23317",
        "outputId": "5b1d396f-6360-48a7-f07f-8965127ef625"
      },
      "outputs": [
        {
          "name": "stdout",
          "output_type": "stream",
          "text": [
            "4406070912\n",
            "[25, 9, 1, 4, 16]\n",
            "~~~~~~~~The list created in the loop, has been sorted: ~~~~~~~~~~~\n",
            "[1, 4, 9, 16, 25]\n",
            "~~~~~~~~~~The starting list is: ~~~~~~~~\n",
            "[5, 3, 1, 2, 4]\n",
            "~~~~~~~~~~~Here it is sorted~~~~~~~~\n",
            "[1, 2, 3, 4, 5]\n",
            "4406070912\n",
            "~~~~~~~You can see above that the sort method has changed the original list~~~~~~~~~~~~\n"
          ]
        }
      ],
      "source": [
        "#here is a boring list\n",
        "start_list = [5, 3, 1, 2, 4]\n",
        "#print(id(start_list))\n",
        "# This is a common strategy: instantiate an empty list outside of a loop (due to 'scope')\n",
        "# and then fill it up/manipuate it in a loop\n",
        "square_list = []\n",
        "for number in start_list:\n",
        "    square_list.append(number**2)\n",
        "print(square_list)\n",
        "print(\"~~~~~~~~The list created in the loop, has been sorted: ~~~~~~~~~~~\")\n",
        "square_list.sort()\n",
        "print(square_list)\n",
        "print(\"~~~~~~~~~~The starting list is: ~~~~~~~~\")\n",
        "print(start_list)\n",
        "print(\"~~~~~~~~~~~Here it is sorted~~~~~~~~\")\n",
        "start_list.sort()\n",
        "print(start_list)\n",
        "#print(id(start_list))\n",
        "print(\"~~~~~~~You can see above that the sort method has changed the original list~~~~~~~~~~~~\")"
      ]
    },
    {
      "cell_type": "markdown",
      "id": "d3710283-534b-410c-b7a9-efeaba06860f",
      "metadata": {
        "id": "d3710283-534b-410c-b7a9-efeaba06860f"
      },
      "source": [
        "## List Comprehensions!\n",
        "* AKA: ternary expressions\n",
        "* Generate lists according to rules and using for/in and if key words\n",
        "* __Reduces loops to one line commands__\n",
        "* Syntax is even more important than normal because they can be challenging to understand since they are 'short hand'\n",
        "* Basic format:\n",
        "        \n",
        "            L=[expression for variable in sequence]\n",
        "\n",
        "* the expression in a list comprehension will be evaluated once for every variable in a given sequence"
      ]
    },
    {
      "cell_type": "code",
      "execution_count": null,
      "id": "74f8a7ae-157c-4ad5-b303-b9b48d55e95c",
      "metadata": {
        "id": "74f8a7ae-157c-4ad5-b303-b9b48d55e95c",
        "outputId": "dfd96f27-00eb-4da5-c05c-08a1e3b23191"
      },
      "outputs": [
        {
          "name": "stdout",
          "output_type": "stream",
          "text": [
            "[0, 2, 4, 6, 8, 10, 12, 14, 16, 18, 20, 22, 24, 26, 28, 30, 32, 34, 36, 38, 40, 42, 44, 46, 48, 50]\n",
            "[1, 4, 9, 16, 25, 36, 49, 64, 81, 100]\n",
            "[9, 25, 49, 81]\n",
            "List in reverse now:\n",
            "[81, 49, 25, 9]\n",
            "[6]\n",
            "[4, 16, 36, 64, 100]\n"
          ]
        }
      ],
      "source": [
        "#1. list comprehension that creates a list of even numbers up to and including 50\n",
        "evens_to_50=[i for i in range(51) if i%2==0]\n",
        "print(evens_to_50)\n",
        "\n",
        "#2. We can revisit slicing within a list comprehension:\n",
        "l = [i ** 2 for i in range(1, 11)]\n",
        "#this is an example of slicing a list - we are only printing out a subset\n",
        "\n",
        "print(l)\n",
        "print(l[2:9:2])\n",
        "# *****************************************\n",
        "# I realized that I had not emphasized this useful point before so.....\n",
        "# As an additional point, you can slice in reverse by using -increment like so:\n",
        "print(\"List in reverse now:\")\n",
        "print(l[8:1:-2])\n",
        "# *****************************************\n",
        "#3. prints out a listof numbers that are divisible by 3 when they are doubled from 2-10. So it should result in 6.\n",
        "\n",
        "doubles_by_3 = [x*2 for x in range(1,6) if (x*2) % 3 == 0]\n",
        "print(doubles_by_3)\n",
        "\n",
        "#4. Another example: This should only print out the power of 2 for even numbers so the result will be: 4,16,36,64,100\n",
        "\n",
        "even_squares = [x**2 for x in range(1,11) if x%2 ==0]\n",
        "\n",
        "print(even_squares)"
      ]
    },
    {
      "cell_type": "code",
      "execution_count": null,
      "id": "db05e251-b42d-42df-acad-39d0d5296148",
      "metadata": {
        "id": "db05e251-b42d-42df-acad-39d0d5296148"
      },
      "outputs": [],
      "source": [
        "#Expanded code that explains what the above 4 list comprehensions do\n",
        "#1. The larger script that is equivalent to the first list comprehension is:\n",
        "#initializing an empty list that you are going to fill using the for loop\n",
        "# evens_to_50=[i for i in range(51) if i%2==0]\n",
        "# print(evens_to_50)\n",
        "evens_to_50=[]\n",
        "# I decided to make another list that contains the odd numbers\n",
        "#odds_to_50=[]\n",
        "for i in range(51):\n",
        "    if i%2==0:\n",
        "        evens_to_50.append(i)\n",
        "    #else:\n",
        "     #   odds_to_50.append(i)\n",
        "print(evens_to_50)\n",
        "#print(odds_to_50)\n",
        "\n",
        "#2.\n",
        "l=[]\n",
        "for i in range(1,11):\n",
        "    l.append(i**2)\n",
        "print(l[2:9:2])\n",
        "\n",
        "#3\n",
        "doubles_by_3 = []\n",
        "for x in range(1,6):\n",
        "    if (x*2)%3 == 0:\n",
        "        doubles_by_3.append(x*2)\n",
        "#print(\"what do I expect: 6. What do I get:  \")\n",
        "print(doubles_by_3)\n",
        "\n",
        "#4\n",
        "even_squares = []\n",
        "for x in range(1,11):\n",
        "    if x%2 ==0:\n",
        "        even_squares.append(x**2)\n",
        "\n",
        "print(even_squares)"
      ]
    },
    {
      "cell_type": "markdown",
      "id": "88a1d631-410f-4fea-8996-cc9b2106f24b",
      "metadata": {
        "id": "88a1d631-410f-4fea-8996-cc9b2106f24b"
      },
      "source": [
        "# Group Questions:  \n",
        "_________________________________\n",
        "1. (5 min) Pseudocode is sufficient! Let's see if we can combine our knowledge of lists and loops to create a string of random A,G,T,C values that is 25 nucleotides long. How about *n* nucleotides long? <-- we can use the same type of set empty list, fill it from within a loop strategy, but use empty string instead!\n",
        "\n",
        "2. (10 min) Using a for loop turn the following sequence (it can be hard-coded into your cell) into a list of codons:  **5’- ATCGATCGATCGATCGACTGACTAATCATAGCTATGCATGCTACTCGATCGATCGATCGATCGATCGATCGATCGATCGATCATGCTAACATCGATCGATATCGATGCATCGACTAGTACTAT-3'**. You should end up with a list that prints [\"ATC\",\"GAT\", etc].\n",
        "\n",
        "4. (15 min) The following contains 5 DNA sequences, one per line. You will need to copy and paste these sequences into one plain text file in the same directory as your Jupyter notebooks so that you can open the file in your Jupyter notebook.\n",
        "   \n",
        "\n",
        "ATTCGATTATAAGCTCGATCGATCGATCGATCGATCGATCGATCGATCGATCGATC\n",
        "ATTCGATTATAAGCACTGATCGATCGATCGATCGATCGATGCTATCGTCGT\n",
        "ATTCGATTATAAGCATCGATCACGATCTATCGTACGTATGCATATCGATATCGATCGTAGTC\n",
        "ATTCGATTATAAGCACTATCGATGATCTAGCTACGATCGTAGCTGTA\n",
        "ATTCGATTATAAGCACTAGCTAGTCTCGATGCATGATCAGCTTAGCTGATGATGCTCA\n",
        "\n",
        "Each sequence starts with the same 14 base pair fragment (ATTCGAT at is a sequencing adapter that needs to be removed. Write a program to do two things:\n",
        "\n",
        "1.\tTrim this adapter and using a 'for loop'  write all five of the cleaned sequences to one new file, one cleaned sequence. te file).\n",
        "2.\tPrint the length of the trimmed sequences to the screen.e screen.\n"
      ]
    },
    {
      "cell_type": "markdown",
      "id": "20155d7d-663f-44e2-8c86-19f2dce4f21b",
      "metadata": {
        "id": "20155d7d-663f-44e2-8c86-19f2dce4f21b"
      },
      "source": [
        "#1\n",
        "* I would use an empty string and fill it from within a loop\n",
        "\n",
        "DNA=\"\"\n",
        "\n",
        "NT=[\"A\",\"C\",\"T\",\"G\"]\n",
        "\n",
        "for nt in range(0,24):\n",
        "   \n",
        "    for nuc in NT:\n",
        "    \n",
        "        DNA=DNA+somewayofrandomlypickinganelementfromtheNTlist\n",
        "\n",
        "print(DNA)"
      ]
    },
    {
      "cell_type": "code",
      "execution_count": null,
      "id": "ef60724e-9bbd-4bb6-a7cf-9b5a58066333",
      "metadata": {
        "id": "ef60724e-9bbd-4bb6-a7cf-9b5a58066333",
        "outputId": "20a06075-6f91-4c45-8e85-9bfae6164300"
      },
      "outputs": [
        {
          "name": "stdout",
          "output_type": "stream",
          "text": [
            "9\n",
            "Here is the loop\n",
            "0\n",
            "********\n",
            "[]\n",
            "A\n",
            "['AAA']\n",
            "3\n",
            "********\n",
            "['AAA']\n",
            "T\n",
            "['AAA', 'TTT']\n",
            "6\n",
            "********\n",
            "['AAA', 'TTT']\n",
            "G\n",
            "['AAA', 'TTT', 'GGG']\n",
            "['AAA', 'TTT', 'GGG']\n"
          ]
        }
      ],
      "source": [
        "#2\n",
        "#hard coded sequence\n",
        "my_seq=\"AAATTTGGG\"\n",
        "#initialize an empty list\n",
        "codon_list=[]\n",
        "#I am using a lot of gratuitious print statements because\n",
        "# I was trying to track down what I was doing wrong. You should use print statements everywhere\n",
        "# while you are troubleshooting!\n",
        "print(len(my_seq))\n",
        "print(\"Here is the loop\")\n",
        "#Did something a tiny bit tricky here! :)\n",
        "# I set the list to go by threes - as a codon does!\n",
        "for nuc in range(0,len(my_seq),3):\n",
        "    #I have put a print statement after every line to ensure that your code is actually\n",
        "    # doing what you *think* - or intended it to do- it is doing.\n",
        "    print(nuc)\n",
        "    print(\"********\")\n",
        "    print(codon_list)\n",
        "    #where are we in the given sequence?\n",
        "    print(my_seq[nuc])\n",
        "    # fill up the empty list by appending the nuc through nuc+3 items here\n",
        "    codon_list.append(my_seq[nuc:nuc+3])\n",
        "    print(codon_list)\n",
        "print(codon_list)"
      ]
    },
    {
      "cell_type": "markdown",
      "id": "92a75dc9-9966-42f5-a813-2d7118974886",
      "metadata": {
        "id": "92a75dc9-9966-42f5-a813-2d7118974886"
      },
      "source": [
        "# Question 3 - assignment question.\n",
        "Pseudocode \"hints\"\n",
        "1. all of five sequences have the same adapter that you need to remove and it is 14 nucleotides long.\n",
        "2. You can read the file using readlines which will place each line as an element of a list -- which is iterable!\n",
        "3. You can then send all five sequences through a for loop and slice off the first 14 nucleotides\n",
        "4. Print them to the screen or send them to a new file etc.!"
      ]
    },
    {
      "cell_type": "code",
      "execution_count": null,
      "id": "faa0513f-1ed9-4b5d-8f8e-cf7e64609ff2",
      "metadata": {
        "id": "faa0513f-1ed9-4b5d-8f8e-cf7e64609ff2",
        "outputId": "54554dc9-0897-41f6-f736-4cea0a38f26a"
      },
      "outputs": [
        {
          "name": "stdout",
          "output_type": "stream",
          "text": [
            "42 TCGATCGATCGATCGATCGATCGATCGATCGATCGATCGATC\n",
            "37 ACTGATCGATCGATCGATCGATCGATGCTATCGTCGT\n",
            "48 ATCGATCACGATCTATCGTACGTATGCATATCGATATCGATCGTAGTC\n",
            "33 ACTATCGATGATCTAGCTACGATCGTAGCTGTA\n",
            "44 ACTAGCTAGTCTCGATGCATGATCAGCTTAGCTGATGATGCTCA\n"
          ]
        }
      ],
      "source": [
        "#3 This is one answer, but it doesn't give me the \"correct\" answer which is 42 for the first line. The last\n",
        "# item has the correct length of 44.\n",
        "# Why isn't this working the way that I expect it to?\n",
        "# so far, I have investigated the rstrip method as a possible suspect, but this will need to invest a bit more troubleshooting effort.\n",
        "# Update: rstrip returns an updated list. It works when I move it up to occur before taking the len(). I still don't fully understand\n",
        "# this, but I think it is because of how rstrip returns the list.\n",
        "# This is an excellent lesson for reasons why you should be suspicious and double check that your code produces the correct\n",
        "# answer even when it runs!\n",
        "InputFile=open(\"untrimmedFile.txt\")\n",
        "OutputFile=open(\"trimmedFile1.txt\",\"w+\")\n",
        "\n",
        "# the readlines file object method takes the contents of a file and puts them into a list where where each element of the list\n",
        "# corresponds to one line of the text file. You can then iterate over it!\n",
        "for dna in InputFile.readlines():\n",
        "    trimmed_dna=dna[14:].rstrip()\n",
        "    print(len(trimmed_dna),trimmed_dna)\n",
        "    OutputFile.write(trimmed_dna)\n",
        "\n",
        "InputFile.close()\n",
        "OutputFile.close()"
      ]
    },
    {
      "cell_type": "code",
      "execution_count": null,
      "id": "35f58a20-b0a2-4437-80cd-e10c9d102322",
      "metadata": {
        "id": "35f58a20-b0a2-4437-80cd-e10c9d102322",
        "outputId": "3fb0dff8-567e-4224-e710-676fc40205f0"
      },
      "outputs": [
        {
          "name": "stdout",
          "output_type": "stream",
          "text": [
            "['ATTCGATTATAAGCTCGATCGATCGATCGATCGATCGATCGATCGATCGATCGATC \\n', 'ATTCGATTATAAGCACTGATCGATCGATCGATCGATCGATGCTATCGTCGT \\n', 'ATTCGATTATAAGCATCGATCACGATCTATCGTACGTATGCATATCGATATCGATCGTAGTC \\n', 'ATTCGATTATAAGCACTATCGATGATCTAGCTACGATCGTAGCTGTA \\n', 'ATTCGATTATAAGCACTAGCTAGTCTCGATGCATGATCAGCTTAGCTGATGATGCTCA']\n",
            "1 42\n",
            "2 37\n",
            "3 48\n",
            "4 33\n",
            "5 44\n"
          ]
        }
      ],
      "source": [
        "# Here is a slightly different way, although the same problem persists - we have a length of two extra characters\n",
        "# except for the last line.\n",
        "# NOTICE HOW I AM COMMENTING THE CODE? Commenting your code will help you!\n",
        "# We are opening the txt file where we stored the strings (one on each of five lines)\n",
        "InputFile=open(\"UntrimmedFile.txt\")\n",
        "# we are creating a new file where the five sequences will go after they have each had their first 14 characters removed.\n",
        "OutputFile=open(\"TrimmedFile.txt\",\"w+\")\n",
        "# readlines method reads in every line from the line and places each one as an element of a list so this is equivalent to iterating over a list\n",
        "lines=InputFile.readlines()\n",
        "print(lines)\n",
        "\n",
        "#I unnecessarily used the enumerate function - remember that from class?- in this loop so we could keep track of which\n",
        "# sequence we were processing. This is especially useful for troubleshooting.\n",
        "for index,dna in enumerate(lines):\n",
        "    trimmed_dna=dna[14:].rstrip()\n",
        "    trimmed_length=len(trimmed_dna)\n",
        "    print(index+1,len(trimmed_dna))\n",
        "    OutputFile.write(trimmed_dna)\n",
        "\n",
        "InputFile.close()\n",
        "OutputFile.close()"
      ]
    },
    {
      "cell_type": "code",
      "execution_count": null,
      "id": "ba4092ca-dda4-4d64-bce5-2b3aa2d50e24",
      "metadata": {
        "id": "ba4092ca-dda4-4d64-bce5-2b3aa2d50e24",
        "outputId": "5f6e0f4f-a507-4d68-ce2c-62da51d6e46f"
      },
      "outputs": [
        {
          "name": "stdout",
          "output_type": "stream",
          "text": [
            "Item 4 to be processed is sequence TCGATCGATCGATCGATCGATCGATCGATCGATCGATCGATC \n",
            " has length 42\n",
            "Item 4 to be processed is sequence ACTGATCGATCGATCGATCGATCGATGCTATCGTCGT \n",
            " has length 37\n",
            "Item 4 to be processed is sequence ATCGATCACGATCTATCGTACGTATGCATATCGATATCGATCGTAGTC \n",
            " has length 48\n",
            "Item 4 to be processed is sequence ACTATCGATGATCTAGCTACGATCGTAGCTGTA \n",
            " has length 33\n",
            "Item 4 to be processed is sequence ACTAGCTAGTCTCGATGCATGATCAGCTTAGCTGATGATGCTCA has length 44\n"
          ]
        }
      ],
      "source": [
        "# One thing to note: this text file should have the cursor at the end\n",
        "# of the file located on a new line.\n",
        "file = open(\"untrimmedFile.txt\")\n",
        "\n",
        "# open the output file. If you opened the output file with an a+, then you will need to delete the output file\n",
        "# every time you run it or you will end up with a very large file with the five sequences repeated each time you run the loop\n",
        "output = open(\"trimmed.txt\", \"w+\")\n",
        "\n",
        "# readlines method reads in every line from the line and places each one as an element of a list so this is equivalent to iterating over a list\n",
        "for dna in file.readlines():\n",
        "\n",
        "    # get the substring from the 15th character to the end\n",
        "    trimmed_dna = dna[14:]\n",
        "\n",
        "    # get the length of the trimmed sequence. You could do this the following simple way:\n",
        "    #trimmed_length = len(trimmed_dna) - 1\n",
        "    # you could also do this with the .rstrip(\"\\n) method which is better programming!\n",
        "    trimmed_length=len(trimmed_dna.rstrip())\n",
        "\n",
        "    # print out the trimmed sequence each time you go through loop\n",
        "    # By the way: what happens if you hash this line out? You should get a blank file when you open \"trimmed.txt\"\n",
        "    output.write(trimmed_dna)\n",
        "\n",
        "    # print out the length and the sequence to the screen so that you know which line you are working on.\n",
        "    print(\"Item \"+str(index)+\" to be processed is sequence \"+trimmed_dna+\" has length \" + str(trimmed_length))\n",
        "\n",
        "file.close()\n",
        "output.close()"
      ]
    },
    {
      "cell_type": "code",
      "execution_count": null,
      "id": "02f0dd7e-b399-42a6-a82b-5a6cca82beef",
      "metadata": {
        "id": "02f0dd7e-b399-42a6-a82b-5a6cca82beef",
        "outputId": "225f54d4-9d1b-4617-f2e3-0fcd3f160bc4"
      },
      "outputs": [
        {
          "name": "stdout",
          "output_type": "stream",
          "text": [
            "<_io.TextIOWrapper name='untrimmedFile.txt' mode='r' encoding='UTF-8'>\n",
            "ATTCGATTATAAGCTCGATCGATCGATCGATCGATCGATCGATCGATCGATCGATC \n",
            "\n",
            "ATTCGATTATAAGCACTGATCGATCGATCGATCGATCGATGCTATCGTCGT \n",
            "\n",
            "ATTCGATTATAAGCATCGATCACGATCTATCGTACGTATGCATATCGATATCGATCGTAGTC \n",
            "\n",
            "ATTCGATTATAAGCACTATCGATGATCTAGCTACGATCGTAGCTGTA \n",
            "\n",
            "ATTCGATTATAAGCACTAGCTAGTCTCGATGCATGATCAGCTTAGCTGATGATGCTCA\n"
          ]
        }
      ],
      "source": [
        "# you can iterate over a file object, but not in the way that some individuals were trying to do.\n",
        "file=open(\"untrimmedFile.txt\")\n",
        "print(file)\n",
        "for item in file:\n",
        "    print(item)"
      ]
    },
    {
      "cell_type": "code",
      "execution_count": null,
      "id": "dbed127a-af20-4777-96da-33f416159b7a",
      "metadata": {
        "id": "dbed127a-af20-4777-96da-33f416159b7a",
        "outputId": "415dc0f3-ff51-485c-b68c-a9d51c0f3ea0"
      },
      "outputs": [
        {
          "name": "stdout",
          "output_type": "stream",
          "text": [
            "42\n",
            "37\n",
            "48\n",
            "33\n",
            "44\n"
          ]
        }
      ],
      "source": [
        "outputFile=open(\"trimmed1.txt\",\"w+\")\n",
        "# this is great idea that I took and modified from a peer:\n",
        "# if you are struggling with reading from the file, you can always create a test case\n",
        "# in your jupyter cell of a list and then see if your loop is working. This helps narrow down where the issue\n",
        "# in your code is happening in a systematic way.\n",
        "DNA=[\"ATTCGATTATAAGCTCGATCGATCGATCGATCGATCGATCGATCGATCGATCGATC\\n\",\"ATTCGATTATAAGCACTGATCGATCGATCGATCGATCGATGCTATCGTCGT\",\"ATTCGATTATAAGCATCGATCACGATCTATCGTACGTATGCATATCGATATCGATCGTAGTC\",\"ATTCGATTATAAGCACTATCGATGATCTAGCTACGATCGTAGCTGTA\",\"ATTCGATTATAAGCACTAGCTAGTCTCGATGCATGATCAGCTTAGCTGATGATGCTCA\"]\n",
        "\n",
        "for index,DNA in enumerate(DNA):\n",
        "    # note I used replace here instead of rstrip()\n",
        "    trimmed=(DNA[14:]).replace(\"\\n\",\"\")\n",
        "    trimmed_length=len(trimmed)\n",
        "    print(len(trimmed))\n",
        "    outputFile.write(trimmed)\n",
        "\n",
        "outputFile.close()"
      ]
    },
    {
      "cell_type": "code",
      "execution_count": null,
      "id": "c9ef0c2a-0c53-4d54-a544-795765fcc2e1",
      "metadata": {
        "id": "c9ef0c2a-0c53-4d54-a544-795765fcc2e1"
      },
      "outputs": [],
      "source": []
    }
  ],
  "metadata": {
    "kernelspec": {
      "display_name": "Python 3 (ipykernel)",
      "language": "python",
      "name": "python3"
    },
    "language_info": {
      "codemirror_mode": {
        "name": "ipython",
        "version": 3
      },
      "file_extension": ".py",
      "mimetype": "text/x-python",
      "name": "python",
      "nbconvert_exporter": "python",
      "pygments_lexer": "ipython3",
      "version": "3.11.5"
    },
    "colab": {
      "provenance": []
    }
  },
  "nbformat": 4,
  "nbformat_minor": 5
}