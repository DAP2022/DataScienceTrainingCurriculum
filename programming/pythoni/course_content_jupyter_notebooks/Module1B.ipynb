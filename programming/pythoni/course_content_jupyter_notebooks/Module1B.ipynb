{
 "cells": [
  {
   "cell_type": "markdown",
   "id": "f7173bf1-0556-449a-a2ab-627de019c1d3",
   "metadata": {},
   "source": [
    "## Summary: \n",
    "* Python has objects, including variables. EVERYTHING IS AN OBJECT IN PYTHON.\n",
    "* Currently, we are treating Python as a procedural language - it is evaluated __top to bottom.__ \n",
    "* Module1A, we saw that there are some built in datatypes and we investigated how variables are stored in memory with Python Tutor.\n",
    "* Python has built-in data types. These include:\n",
    "\n",
    "   * __Numeric__: integers, float, complex\n",
    "   * Text: str\n",
    "   * Sequence: list, tuple, range\n",
    "   * Mapping: dict\n",
    "   * Nonetype\n",
    "   * Boolean\n",
    "    \n",
    "* Each of these data types has associated **methods** that can be used to manipute that particular type of data (also: **attributes**, but we'll worry about those much later)\n",
    "\n",
    "## In Module 1B: \n",
    "* Strings as a text data type\n",
    "* Methods associated with data types\n",
    "  * why you should be outraged that strings and integers have methods, but you will also accept it. \n",
    "* poke into lists a bit just to demonstrate a comparison"
   ]
  },
  {
   "cell_type": "markdown",
   "id": "314c0898-095a-403b-b8d0-79fa3e97e994",
   "metadata": {},
   "source": [
    "## Variables:\n",
    "* Variables -- where we store a value. A good analogy is a label for your value.\n",
    "* variables have types: numeric, floating point, string\n",
    "     - it is considered a 'strongly typed' language so if you type the following into a cell, it won't convert the string (some languages like C would implicitly convert it); it will give you an error instead:\n",
    "       \n",
    "     ``` python\n",
    "        '5'+5\n",
    "        # putting 5 in quotes, '5' tells python that it is a string so it will produce unexpected output\n",
    "        ```"
   ]
  },
  {
   "cell_type": "code",
   "execution_count": 1,
   "id": "60f63e6b-5f4c-418c-9c26-0a8fe49b66ca",
   "metadata": {},
   "outputs": [
    {
     "name": "stdout",
     "output_type": "stream",
     "text": [
      "10\n"
     ]
    }
   ],
   "source": [
    "m=\"5\"\n",
    "n='5'\n",
    "print(m+n)\n",
    "\n",
    "# Can we fix the above error? How? "
   ]
  },
  {
   "cell_type": "code",
   "execution_count": 12,
   "id": "01179edf-9d37-4468-ba56-31c57a9eaddc",
   "metadata": {},
   "outputs": [
    {
     "name": "stdout",
     "output_type": "stream",
     "text": [
      "4350079288\n",
      "4350077688\n",
      "4570319600\n",
      "-------------\n",
      "[1, 2, 3]\n",
      "4608625984\n",
      "4608625984\n",
      "[1, 2, 3, 4]\n",
      "********\n",
      "[1, 2, 3, 4]\n",
      "4608625984\n",
      "4608625984\n"
     ]
    }
   ],
   "source": [
    "# And now a more challenging example that will introduce a crucial future concept, lists (2A). This is advanced but, \n",
    "# if it confuses you, remember that you can return it when we learn about lists. I want you to compare where\n",
    "# lists are placed in memory versus how an an integer is placed in memory.\n",
    "# Pull up https://pythontutor.com/python-compiler.html#mode=edit\n",
    "# -------------------------------------------------\n",
    "# start with the same example from earlier. We will set the variable p to be equal to 100\n",
    "p=100\n",
    "print(id(p))\n",
    "# now let's change the value associated with the value p\n",
    "p=50\n",
    "print(id(p))\n",
    "# Now let's investigate how a string works....\n",
    "demoString=\"Dog\"\n",
    "print(id(demoString))\n",
    "demostring=\"Cat\"\n",
    "# create a list. It has square brackets with elements separated by commas. \n",
    "a=[1,2,3]\n",
    "# NOTICE WHERE WE BEGIN COUNTING IN PYTHON?\n",
    "#assign that same list to variable b\n",
    "b=a\n",
    "print(\"-------------\")\n",
    "print(b)\n",
    "print(id(a))\n",
    "print(id(b))\n",
    "# ----------- LOOK AT THIS Beautiful METHOD! ---------------\n",
    "#now we will change the code at variable a by adding a 4 to the end of the list. Here is a method associated with strings!\n",
    "a.append(4)\n",
    "#call a to ensure that it is changed\n",
    "print(a)\n",
    "#now call b.\n",
    "print(\"********\")\n",
    "print(b)\n",
    "#If the list is changed there as well, it shows us that 'b' is really a reference to an underlying object that we have changed via 'a'.\n",
    "# THIS IS DIFFERENT THAN WHAT WE SAW BEFORE. When we changed the value of p, n continued to be equal to 100. That is because lists\n",
    "# are stored differently than other data types. Each data type has their own repetoire of methods! \n",
    "print(id(a))\n",
    "print(id(b))"
   ]
  },
  {
   "cell_type": "code",
   "execution_count": 13,
   "id": "5778bdc3-5022-4043-9504-6e021e3e50b2",
   "metadata": {},
   "outputs": [
    {
     "name": "stdout",
     "output_type": "stream",
     "text": [
      "None\n"
     ]
    }
   ],
   "source": [
    "# what about introspection? Putting ? directly before or after a variable or a command will\n",
    "# pop up summary information about that variable. \n",
    "#?a\n",
    "# or the other format: \n",
    "#print?\n",
    "# you can un-hash the a.and press the tab key to see the methods associated with that data type. \n",
    "#a.\n",
    "#print(len(a))\n",
    "#print(a)\n",
    "# this is the typical format of a method for a particular datatype\n",
    "#a.method_name()"
   ]
  },
  {
   "cell_type": "markdown",
   "id": "3be97ba1-3592-4e55-adcb-3263b9e50971",
   "metadata": {},
   "source": [
    "## Text variables\n",
    "* there are two types of text: \n",
    "    1. comments to your future self/fellow programmer\n",
    "        * for comments we have hashtags or \"\"\" or print statements\n",
    "        * Since we are going to talk about text and strings, this is a friendly reminder: COMMENT YOUR CODE (even if you are in a hurry)\n",
    "        * You MUST comment your code because you will **not** remember what the program you wrote last week actually does even [though you will be tempted to lie to yourself about what your future self will remember.](http://i.imgur.com/MuvRR6B.jpg)\n",
    "        * [How you will probably begin when you comment your code:] (https://i.redd.it/fqq6ummu09431.png)\n",
    "        * one of the *underappreciated* reasons that we comment our code is because, even if we have a README file associated with our program, commenting the code within the code means that the commentary and the code CANNOT ACCIDENTALLY EVER BE SEPERATED. Additionally, it can be updated when you change the code.\n",
    "          \n",
    "    2. text that is **actual** data\n",
    "        * the data type is called strings and needs quotes, '' or \"\". You can use either option, but they need to match (ie. you can't start a string with a single quote and end it with a double quote). I recommend \"\" since you can include 's without raising an exception. \n",
    "        * we sometimes need to __escape characters__ and the letter 'r' before a string\n",
    "            * examples of escape characters include: \\n, \\t,\\r, \\ <-- this tells python to ignore the next character (useful if you are trying to use internal quotes in a string) - we'll see this in the last example cell of this notebook.      "
   ]
  },
  {
   "cell_type": "code",
   "execution_count": 8,
   "id": "896233cc-d6ff-4320-a327-33a57a32785e",
   "metadata": {},
   "outputs": [
    {
     "name": "stdout",
     "output_type": "stream",
     "text": [
      "..........\n",
      "Mon Tues Wed Thurs Fri Happy Days\n",
      "Jan\n",
      "Feb\n",
      "March\n",
      "Apr\n",
      "\n",
      "I am 5'4.5\" tall \n",
      "Yes – the 4.5\" is important to announce\n"
     ]
    }
   ],
   "source": [
    "#special characters - escape with the backslash character\n",
    "#DEBUGGING WITH PRINT STATEMENTS - an important skill!\n",
    "\n",
    "# DON'T RUN THIS CODE YET - WHAT DO YOU THINK IT WILL DO?\n",
    "print(\".\"*10)\n",
    "days= \"Mon Tues Wed Thurs Fri Happy Days\"\n",
    "Months=\"Jan\\nFeb\\nMarch\\nApr\\n\"\n",
    "\n",
    "print(days)\n",
    "print(Months)\n",
    "# If we had used single quotes, when it encountered 5'4.5, it would be confused. We could get around that by using \\ of course, like \n",
    "# we did with the \".\n",
    "print(\"I am 5'4.5\\\" tall \")\n",
    "print(\"Yes – the 4.5\\\" is important to announce\")"
   ]
  },
  {
   "cell_type": "markdown",
   "id": "2a7ca250-b8ae-4f5e-a414-08bcafc4a8e6",
   "metadata": {},
   "source": [
    "# Strings!\n",
    "## Facts about strings (data type)\n",
    "\n",
    "* We care a lot about strings in Biology because we care a lot about _**sequence data**_ like this:\n",
    "\n",
    "**5’-ATGCAGTACCTTA-3**\n",
    "\n",
    "* Strings are **immutable**. What do you think that means? \n",
    "\n",
    "* Like most computer programming languages (except weirdo languageslike R and Matlab), we begin counting at 0 (not 1). This is true for\n",
    "strings as well so if we wanted to know what letter was at position X, we could find that out (see example in next cell).\n",
    "    * slicing relies on counting elements. Lower bound included, upper bound excluded. "
   ]
  },
  {
   "cell_type": "code",
   "execution_count": 19,
   "id": "3e781272-0b84-4d87-aeab-bc1a905b0759",
   "metadata": {},
   "outputs": [
    {
     "name": "stdout",
     "output_type": "stream",
     "text": [
      "ATGCTGA\n",
      "*********\n",
      "G\n",
      "___________\n",
      "C\n",
      "ATG\n"
     ]
    }
   ],
   "source": [
    "# DON'T RUN THIS CODE YET - FIRST PREDICT WHAT YOU THINK IT WILL DO\n",
    "\n",
    "# assignment operator works like this (oh, and look! I am commenting my code - even if it is a bit lame, it is a comment): \n",
    "\n",
    "my_DNA='ATGCTGA'\n",
    "\n",
    "# the string ATGCGTA is now stored in memory as the variable my_DNA and can be accessed by typing my_DNA like so:\n",
    "\n",
    "print(my_DNA)\n",
    "print(\"*********\")\n",
    "\n",
    "#note that what we did above was use a built-in function called **print()** and provided it with an **argument** called my_DNA\n",
    "\n",
    "# we can ask about individual elements in the string. There is another string slicing example at the end of this notebook.\n",
    "\n",
    "# what do we expect to be printed out by the following? \n",
    "\n",
    "print(my_DNA[5])\n",
    "print(\"___________\")\n",
    "print(my_DNA[3])\n",
    "\n",
    "# what does immutable mean? It is a bit tricky. \n",
    "# The following is allowed:\n",
    "# we can change the value of the variable my_DNA that we assigned above like so:\n",
    "\n",
    "my_DNA ='ATG'\n",
    "\n",
    "#the following will cause an exception to be raised - which is why I have hashed it out. Unhash it and run the program to confirm. \n",
    "# Why does it raise an exception? \n",
    "#my_DNA[2]=\"T\"\n",
    "#my_DNA=\"ATT\"\n",
    "#my_DNA=my_DNA.replace('G','T')\n",
    "print(my_DNA)"
   ]
  },
  {
   "cell_type": "code",
   "execution_count": 12,
   "id": "16dd33ae-18c5-4958-8ffe-2fe9f6eecbb2",
   "metadata": {},
   "outputs": [
    {
     "name": "stdout",
     "output_type": "stream",
     "text": [
      "recognize\n",
      "4455513200\n",
      "*****\n",
      "recognise\n",
      "4438897648\n"
     ]
    }
   ],
   "source": [
    "# Here is another illustration of immutability:\n",
    "# Think about why this works whereas my_DNA[2]=\"T\" in the above cell does not?\n",
    "# Hint: does the AlternativeSpelling variable have the same location in memory at the beginning of the program and the end? \n",
    "AlternativeSpelling='recognize'\n",
    "print(AlternativeSpelling)\n",
    "print(id(AlternativeSpelling))\n",
    "print(\"*\"*5)\n",
    "AlternativeSpelling=AlternativeSpelling.replace('z','s')\n",
    "print(AlternativeSpelling)\n",
    "print(id(AlternativeSpelling)) "
   ]
  },
  {
   "cell_type": "markdown",
   "id": "f1841c54-a1b9-4f5e-84ae-eec094931733",
   "metadata": {},
   "source": [
    "## Concatenation. \n",
    "What happens for the following: \n",
    "1. 5+5\n",
    "2. 5.0+5\n",
    "3. int(5.0)+5\n",
    "4. \"5\"+\"5\"\n",
    "\n",
    "This is overriding, a fancy term for the fact that Python treats different data types differently when they are passed as arguments to the same operator (in this case +)"
   ]
  },
  {
   "cell_type": "code",
   "execution_count": 20,
   "id": "51a290d6-c7a1-42f4-91e9-0ab125396549",
   "metadata": {},
   "outputs": [
    {
     "name": "stdout",
     "output_type": "stream",
     "text": [
      "5.0+5 = 10.0\n",
      "five+five = 55\n",
      "5+5= 10\n",
      "ATGATGATGATGATG\n",
      "ATGATG\n"
     ]
    }
   ],
   "source": [
    "print(\"5.0+5 =\",5.0+5)\n",
    "print(\"five+five =\",\"5\"+str(5))\n",
    "print('5+5=',int(\"5\")+5)\n",
    "# the chant: Everything in Python is an object!\n",
    "print(my_DNA*5)\n",
    "print(my_DNA+my_DNA)"
   ]
  },
  {
   "cell_type": "markdown",
   "id": "35286b9a-0b78-47f6-81eb-1a0a3329c315",
   "metadata": {},
   "source": [
    " ## Methods\n",
    "There are **methods** and **attributes** that are associated with strings. (Aside: in fact, there are methods associated with \n",
    "EVERYTHING in Python because EVERYTHING in Python IS AN OBJECT.) \n",
    "\n",
    "You can only use methods (functions) with the data type that they are associated with. String methods manipulate the string data type(there will be methods for the different data types that we will see in this cours). You can find the list of string methods [here \n",
    "(specifically in section 4.7.1):](https://docs.python.org/3.6/library/stdtypes.html#string-formatting)\n",
    "\n",
    "Or, even more straightforward, you can use the tab after the '.' to discover the methods associated with a type of data.\n",
    "Particularly useful methods include: **find, lower, upper, replace, rstrip, strip, find, count**\n",
    "\n",
    "** tangentially, we can TURN OTHER DATA TYPES INTO STRINGS by using the str() function. This is a feature that we will use really really often and usually in the circumstance of wanting to print a concatenated version of output.\n",
    "\n",
    "The fact that STRINGS (and NUM) ARE IMMUTABLE BUT YET THEY HAVE METHODS will make you feel uncomfortable. Just remember that they are parked somewhere else in memory and can only be changed at once (you can't change a single character of a string, you have to change the whole thing in order to change the character. The new modified variable is placed somewhere else in memory).  "
   ]
  },
  {
   "cell_type": "code",
   "execution_count": 21,
   "id": "421d8387-06ea-4a59-bf86-ed4dbbc6b48d",
   "metadata": {},
   "outputs": [
    {
     "name": "stdout",
     "output_type": "stream",
     "text": [
      "4609136048\n",
      "4427795120\n",
      "attgca\n",
      "~~~~~~~~~~\n",
      "4609133680\n",
      "attgca\n",
      "-----------\n",
      "4350097552\n",
      "4349853336\n",
      "a\n"
     ]
    }
   ],
   "source": [
    "#here's an quick example\n",
    "myDNA=\"ATTGCA\"\n",
    "print(id(myDNA))\n",
    "myDNA2=myDNA.lower()\n",
    "print(id(myDNA2))\n",
    "print(myDNA2)\n",
    "print(\"~~~~~~~~~~\")\n",
    "# so the above .lower() method did not permanently change the variable. \n",
    "# We could 'park' it in a different variable, though to have the change be permanent for the new variable: \n",
    "lowMyDNA=myDNA.lower()\n",
    "print(id(lowMyDNA))\n",
    "print(lowMyDNA)\n",
    "print(\"-----------\")\n",
    "# Here is an illustration of a common strategy. You can set up an empty string and fill it up with concatenation\n",
    "myNullDNA=\"\"\n",
    "print(id(myNullDNA))\n",
    "# with strings, every time you modify it, it is placed into a new variable with the same name and placed elsewhere\n",
    "# in memory\n",
    "myNullDNA=myNullDNA+\"a\"\n",
    "print(id(myNullDNA))\n",
    "print(myNullDNA)"
   ]
  },
  {
   "cell_type": "markdown",
   "id": "4a3ff1b4-eafa-40df-aab3-37262b27a510",
   "metadata": {},
   "source": [
    "# In Class Question 1:(10 min) \n",
    "Here is a sequence of DNA: ATGCAGTCCAGCG\n",
    "1. How can we determine length of the sequence? \n",
    "2. How can we determine how many As or CG or GC are in the sequence?\n",
    "3. What is the location of the first T in the sequence?\n",
    "4. What if we had two strings (second string: GTCCAGCTTTCGTT) and we wanted to concatenate them except omit the first char of each (think: pig latin). The strings will be at least of length 1 (so no strings of length 0)."
   ]
  },
  {
   "cell_type": "code",
   "execution_count": 42,
   "id": "7218fc40-5e90-4794-88f5-676abf5dfbb5",
   "metadata": {},
   "outputs": [
    {
     "name": "stdout",
     "output_type": "stream",
     "text": [
      "1\n",
      "TGCAG\n",
      "A\n"
     ]
    }
   ],
   "source": [
    "#Write answers here:\n"
   ]
  },
  {
   "attachments": {},
   "cell_type": "markdown",
   "id": "f7941dd7-f9b1-4856-bccd-21afed07fdd0",
   "metadata": {},
   "source": [
    "# In class Question 2: \n",
    "For the following sequence(from 1A): \n",
    "** 5’-ATCGATCGATCGATCGACTGACTAGTCATAGCTATGCATGTAGCTACTCGATCGATCGATCGATCGATCGATCGATCGATCGATCATGCTATCATCGATCGATATCGATGCATCGACTACTAT-3'**\n",
    "\n",
    "1. (10 min)\tGuanine-Cytosine content is an important predictor of promoter regions of genes (approx. the location where genes start) and an important, due to methylation, component of epigenetics. Consequently, \"GC\" content is used to help in the annotation of genes. ** Write a program that will print out the percentage of \"GC\" or \"CG\" content (Guanine and Cytosine must be located directly adjacent to each other to be predictive of methylation patterns).** \n",
    "    Hint: you will want to review string methods to find built in functions that can be leveraged when you break the problem down.\n",
    "\n",
    "2. (10 min) Write a program that will print out the complement of this DNA sequence (the top strand, which is given, is 5’-3’ but we are missing the 3’-5’ strand. This question is asking you for the sequence of the 3’-5’ strand.\n",
    "    Hint: There is usually >1 way to solve a particular problem but I suggest using an intermediate value) \n",
    "\n",
    "## This is an additional question (if there is time)\n",
    "3. The sequence contains a recognition site for the EcoRI restriction enzyme which cuts at the motif G*AATTC (the position of the cut if indicate by the * which means that G stays attached to the preceding sequence and AATTC stays attached to the rest of the sequence). **Write a program that calculates the length of the two sequence fragment produced by the restriction enzyme.**\n",
    "    Hint: you may want to create a short string and play around with it using the len() function on it to see if what you get is the same as what you expected to get.   \r\n",
    "\n"
   ]
  },
  {
   "cell_type": "code",
   "execution_count": 34,
   "id": "695480f9-03e9-4e70-862f-bb91515455ed",
   "metadata": {},
   "outputs": [
    {
     "name": "stdout",
     "output_type": "stream",
     "text": [
      "123\n",
      "GC/CG content is:  0.36\n"
     ]
    }
   ],
   "source": [
    "# Question 2.1 code: \n"
   ]
  },
  {
   "cell_type": "code",
   "execution_count": 41,
   "id": "a866a84f-4e9c-482a-ba60-328e26a5cec2",
   "metadata": {},
   "outputs": [
    {
     "name": "stdout",
     "output_type": "stream",
     "text": [
      "tTCGtTCGtTCGtTCGtCTGtCTtGTCtTtGCTtTGCtTGTtGCTtCTCGtTCGtTCGtTCGtTCGtTCGtTCGtTCGtTCGtTCtTGCTtTCtTCGtTCGtTtTCGtTGCtTCGtCTtCTtT\n",
      "taCGtaCGtaCGtaCGtCaGtCatGaCtatGCataGCtaGatGCatCaCGtaCGtaCGtaCGtaCGtaCGtaCGtaCGtaCGtaCtaGCataCtaCGtaCGtataCGtaGCtaCGtCatCata\n",
      "~~~~~~~~~~\n",
      "tagctagctagctagctgactgatcagtatcgatacgtacatcgatgagctagctagctagctagctagctagctagctagctagtacgatagtagctagctatagctacgtagctgatgata\n",
      "TAGCTAGCTAGCTAGCTGACTGATCAGTATCGATACGTACATCGATGAGCTAGCTAGCTAGCTAGCTAGCTAGCTAGCTAGCTAGTACGATAGTAGCTAGCTATAGCTACGTAGCTGATGATA\n"
     ]
    }
   ],
   "source": [
    "# Question 2.2 code:\n"
   ]
  },
  {
   "cell_type": "code",
   "execution_count": null,
   "id": "53683e93-0d4c-4671-9318-8d011e203e0d",
   "metadata": {},
   "outputs": [],
   "source": [
    "# Question 2.3 code: "
   ]
  },
  {
   "cell_type": "markdown",
   "id": "bc06354a-ec9e-4850-94ee-b2f859bcd861",
   "metadata": {},
   "source": [
    "# SLICING strings\n",
    "* to extract a part of a string, we use []\n",
    "* _remember that we start counting at 0 (not 1)_\n",
    "* The arguments in the slice give you control over how the variable is sliced.\n",
    "* [l:u:increment], [l:], [:u], [l] \n",
    "* [lower bound, inclusive:upper bound, exclusive]\n",
    "* important methods include: .count(), .find()<-- takes single string as argument and then returns the location, the index, where it first occurs. "
   ]
  },
  {
   "cell_type": "markdown",
   "id": "b883c109-4d9b-4d22-825d-9bc8f7ccd245",
   "metadata": {},
   "source": [
    "# In Class Question 3: \n",
    "-----------------------------------------\n",
    "10 min in total\n",
    "1. (2 min) For the variable,  protein  =  \"vlspadktnv\", how do we replace valine-leucine (vl) with tyrosine-alanine(ya)? \n",
    "2. (3 min) For the variable,  protein  =  \"vlspadktnv\", how would we determine how many lsp, v and w are present? ie. Is there a method that can take these as arguments and count them?\n",
    "3. (2 min) Can we determine where the first v occurs?ie. Is there a method that will identify position/location where first instance occurs? \n",
    "4. (3) How would we print the items in this amino acid sequence that begin at the item 3 and include the 6th item? "
   ]
  },
  {
   "cell_type": "code",
   "execution_count": null,
   "id": "67ff5797-2ee9-4ab3-8d8e-29f34f392934",
   "metadata": {},
   "outputs": [],
   "source": [
    "# Question 3.1-3.4 Answer here: "
   ]
  },
  {
   "attachments": {},
   "cell_type": "markdown",
   "id": "f469e0db-5c17-4a6c-915b-5a5b1db86d75",
   "metadata": {},
   "source": [
    "# In Class ASSIGNMENT QUESTION PLEASE SUBMIT FOR YOUR DAY 1 Completion activity: \n",
    "\n",
    "__For the sequence given below:__\n",
    "\n",
    " **5’-ATCGATCGATCGATCGACTGACTAGTCATAGCTATGCATGTAGCTACTCGATCGATCGATCGATCGATCGATCGATCGATCGATCATGCTATCATCGATCGATATCGATGCATCGACTACTAT-3'**\n",
    "\n",
    "Introns are the noncoding parts of a DNA sequence that are spliced out (removed) from the sequence before it is translated into a chain of amino acids. In the following sequence, there are **two exons** and **one intron**. The first exon runs from the start of the sequence to the **63rd** character. The second exon runs from the **91st** character to the end of the sequence. (hint: in the following sequence of numbers what would the 3rd character: 0 1 2 3 4)\n",
    "\n",
    "1. Write a program that prints out JUST the coding regions of the DNA sequence to the screen (ie. removes the introns)\n",
    "2. Using the results of 1, write a program that will calculate what percentage of the DNA sequence that is coding.\n",
    "3. Write a program that will print out the original genomic DNA sequence coding bases in UPPERCASE letters and the intronic (non-coding) bases in lowercase.  (Hint: Built-in methods can make solving this problem more straight forward and efficient)\n",
    "4. Write a program that will split the genomic DNA into coding and non-coding  parts.\r\n"
   ]
  },
  {
   "cell_type": "code",
   "execution_count": null,
   "id": "1136ec96-fc4a-415f-88a8-9bc088fefac3",
   "metadata": {},
   "outputs": [],
   "source": []
  }
 ],
 "metadata": {
  "kernelspec": {
   "display_name": "Python 3 (ipykernel)",
   "language": "python",
   "name": "python3"
  },
  "language_info": {
   "codemirror_mode": {
    "name": "ipython",
    "version": 3
   },
   "file_extension": ".py",
   "mimetype": "text/x-python",
   "name": "python",
   "nbconvert_exporter": "python",
   "pygments_lexer": "ipython3",
   "version": "3.11.5"
  }
 },
 "nbformat": 4,
 "nbformat_minor": 5
}
