{
 "cells": [
  {
   "cell_type": "markdown",
   "id": "37950fae-477f-4b7a-9756-f6169c9d1044",
   "metadata": {},
   "source": [
    "# Summary: \n",
    "1. lists\n",
    "2. loops: for (we briefly saw if previously and we'll discuss that more below)\n",
    "3. (list comprehensions)\n",
    "\n",
    "Now, we will demonstrate Boolean logic and control statements   "
   ]
  },
  {
   "cell_type": "markdown",
   "id": "89a1c3c5-8fd3-4d79-8bbc-560580fbdf1f",
   "metadata": {},
   "source": [
    "## Control Statements\n",
    "As a reminder that everyone always needs at this point in the course: Comment your code! [Here is an excellent illustration of commenting your code](https://xkcd.com/2200/)\n",
    "\n",
    "We sometimes want our code to ‘make decisions’ based on user input etc.\n",
    "\n",
    "We can use Conditional Statements!\n",
    "\n",
    "__If/elif/else__\n",
    "Boolean operators!\n",
    "\n",
    "__Not, And, Or__\n",
    "Comparators!\n",
    "\n",
    "True or False (Boolean)\n",
    "==, !=, <, >, <=, >=\n"
   ]
  },
  {
   "cell_type": "markdown",
   "id": "a13f7e4c-8e30-484f-82ae-917b1a785739",
   "metadata": {},
   "source": [
    "## Breaking down a problem using comparators  \n",
    "* Programs need to make decisions\n",
    "* Conditions to evaluate which path to follow\n",
    "    * Statements that are True or False\n",
    "    * Examples: ==,>, <,>=, <=, !=\n",
    "* Note difference between assignment and evaluation\n",
    "    * remember that == is a comparator NOT an assignment (which is just one =)\n",
    "* Capitalization of T and F in True and False (special reserved words)\n",
    "* Aside on good programming practices: if you find yourself using more than 3 levels of indentation (so more than 3 nested conditional statements), you may need to encapsulate code into a function"
   ]
  },
  {
   "cell_type": "code",
   "execution_count": 5,
   "id": "5fc80e82-622c-49ed-b749-536b1bc7bb6a",
   "metadata": {},
   "outputs": [
    {
     "name": "stdout",
     "output_type": "stream",
     "text": [
      "False\n",
      "False\n",
      "True\n",
      "False\n",
      "True\n",
      "True\n",
      "False\n",
      "True\n",
      "False\n"
     ]
    }
   ],
   "source": [
    "#comparators\n",
    "print(3==5)\n",
    "print(3>5)\n",
    "print(3 <=5)\n",
    "print(len(\"ATGC\")>5)\n",
    "print(\"GAATTC\".count(\"T\")>1)\n",
    "print(\"ATGCTT\".startswith(\"ATG\"))\n",
    "print(\"ATGCTT\".endswith(\"TTT\"))\n",
    "print(\"V\" in [\"L\",\"V\",\"W\"])\n",
    "print(\"V\" in [\"L\",\"X\",\"W\"])"
   ]
  },
  {
   "cell_type": "markdown",
   "id": "cc2fb49e-89b3-4e6e-9298-25ad304e1a06",
   "metadata": {},
   "source": [
    "## Boolean: True or False\n",
    "* Boolean operators compare statements and result in Boolean values. There are three operators:\n",
    "  \n",
    "    - __not__  - opposite of statement. This is the most challenging for individuals to use.\n",
    "\n",
    "    - __and__ – only if BOTH statements are true\n",
    "\n",
    "    - __or__ – if AT LEAST one statement is true\n",
    "     \n",
    "* Precedence: __NOT__ > __AND__ > __OR__\n",
    "* We will see that we can build up complex conditions combining boolean operators \n",
    "\n",
    "<div class=\"alert alert-block alert-warning\">\n",
    "Example:  Fill in the equation to make the variable equal to a true or a false boolean\n",
    "    \n",
    "    #### Make me true!\n",
    "    bool_one = 3 < 5\n",
    "    \n",
    "    #### Make me false!\n",
    "    bool_two = 10 < 4\n",
    "\n",
    "    #### Make me true!\n",
    "    bool_three = 10**3 == 1000\n",
    "\n",
    "    #### Make me false!\n",
    "    bool_four = -6 > -4\n",
    "\n",
    "    #### Make me true!\n",
    "    bool_five = 9 == 3**2\n"
   ]
  },
  {
   "cell_type": "markdown",
   "id": "5aedac52-5cc7-45ac-abcf-99acd1ed7798",
   "metadata": {},
   "source": [
    "## Conditional Statements: \n",
    "* If condition evaluates to True: \n",
    "    \n",
    "    * expression will be printed\n",
    "    * if __option a__ is True\n",
    "    \n",
    "* Elif True: \n",
    "\n",
    "    * expression will be printed\n",
    "    * optional, allows for more than 1 alternative\n",
    "    * if __option a__ is False; __option b__ is True\n",
    "\n",
    "* Else:\n",
    "\n",
    "    * not covered by if or elif\n",
    "    * optional\n",
    "    * if __option a__ is False; __option b__ is False\n",
    "   \n"
   ]
  },
  {
   "cell_type": "code",
   "execution_count": 2,
   "id": "322b5a02-dec2-46fb-9759-2b06cb27d857",
   "metadata": {},
   "outputs": [
    {
     "name": "stdin",
     "output_type": "stream",
     "text": [
      "Type an integer:  42\n"
     ]
    },
    {
     "name": "stdout",
     "output_type": "stream",
     "text": [
      "Secret to all happiness!\n"
     ]
    }
   ],
   "source": [
    "# if/elif/else and they can be nested!\n",
    "x=int(input(\"Type an integer: \"))\n",
    "if x < 42:\n",
    "    # remember modulo?\n",
    "    if x % 2 == 0:\n",
    "        print(\"Silly small even number\")\n",
    "    else:\n",
    "        print(\"Silly small odd number\")\n",
    "elif x == 42:\n",
    "    print(\"Secret to all happiness!\")\n",
    "else:\n",
    "    if x % 2 == 0:\n",
    "        print(\"Big & even\")\n",
    "    else:\n",
    "        print(\"Big & odd\")"
   ]
  },
  {
   "cell_type": "code",
   "execution_count": 10,
   "id": "43a64cf3-26fc-4755-92a0-6fa634d41abd",
   "metadata": {},
   "outputs": [
    {
     "name": "stdout",
     "output_type": "stream",
     "text": [
      "You've just entered the clinic!\n",
      "Do you take the door on the left or the right?\n"
     ]
    },
    {
     "name": "stdin",
     "output_type": "stream",
     "text": [
      "Type left or right and hit 'Enter'. right\n"
     ]
    },
    {
     "name": "stdout",
     "output_type": "stream",
     "text": [
      "Of course this is the Argument Room, I've told you that already!\n"
     ]
    }
   ],
   "source": [
    "# Another modified Code academy example:\n",
    "# this example explicitly points out some simple ways to use if/elif/else statements\n",
    "# with user-inputted information to ensure that the user submitted what was expected!\n",
    "def clinic():\n",
    "    print(\"You've just entered the clinic!\")\n",
    "    print(\"Do you take the door on the left or the right?\")\n",
    "    answer = input(\"Type left or right and hit 'Enter'.\").lower()\n",
    "    if answer == \"left\" or answer == \"l\":\n",
    "        print(\"This is the Verbal Abuse Room, you heap of parrot droppings!\")\n",
    "    elif answer == \"right\" or answer == \"r\":\n",
    "        print(\"Of course this is the Argument Room, I've told you that already!\")\n",
    "    else:\n",
    "        print(\"You didn't pick left or right! Try again.\")\n",
    "              \n",
    "# Call the clinic function here!\n",
    "# remember that there is a difference between defining a function - as we did above -and ACTUALLY CALLING IT.\n",
    "clinic()"
   ]
  },
  {
   "cell_type": "markdown",
   "id": "9936a6fc-8c3e-463f-87e5-572a25e57aac",
   "metadata": {},
   "source": [
    "## If/Else\n",
    "* If is a conditional statement that **executes a specified code after determining that the expression is True** \n",
    "* Remember/notice the indentation formatting and the \":\"\n",
    "\n",
    "__Example:__ \n",
    ">answer = \"Left\"\n",
    "\n",
    ">if answer == \"Left\":\n",
    "\n",
    ">>print( ”Something interesting to the screen”)\n",
    "\n",
    "\n",
    "\n",
    "<div class=\"alert alert-block alert-warning\">\n",
    "Example:  \n",
    "    # if means that the expression is only evaluated if it is determined to be True \n",
    "    \t\n",
    "        if expression_level >100:\n",
    "        \n",
    "\t\t\t\tblah blah\n",
    "                \n",
    "    #else is for an either/or situation\n",
    "    \n",
    "        if conditional statement: <- is false then you evaluate else\n",
    "        \n",
    "                blah blah\n",
    "                \n",
    "        else:\t<- no conditions are specified\n",
    "        \n",
    "                blah\n",
    "                \n",
    "    #Notice that else and if have the same indentation level\n"
   ]
  },
  {
   "cell_type": "markdown",
   "id": "65e981cf-9c57-4c7f-a9b1-ae5c097029a1",
   "metadata": {},
   "source": [
    "## Else\n",
    "An alternative branch if the paired if statement does not evaluate to true\n",
    "\n",
    "<div class=\"alert alert-block alert-warning\">\n",
    "Example:  \n",
    "    \n",
    "    if False:\n",
    "        print(“This will never get printed!”)\n",
    "    else:\n",
    "        print(“I get printed!”)\n"
   ]
  },
  {
   "cell_type": "markdown",
   "id": "b0dc1af6-aedc-4a87-a5b7-e2305ef006ed",
   "metadata": {},
   "source": [
    "### For loops are useful for flow control when they are combined with conditional statements"
   ]
  },
  {
   "cell_type": "code",
   "execution_count": 5,
   "id": "fc18eb49-e64b-4750-a27d-b8246ce8a4eb",
   "metadata": {},
   "outputs": [
    {
     "name": "stdout",
     "output_type": "stream",
     "text": [
      "13\n",
      "~~~~~~\n",
      "13\n",
      "13 is not an even number\n",
      "12\n",
      "~~~~~~\n",
      "12\n",
      "12\n",
      "11\n",
      "~~~~~~\n",
      "11\n",
      "11 is not an even number\n",
      "10\n",
      "~~~~~~\n",
      "10\n",
      "10\n",
      "9\n",
      "~~~~~~\n",
      "9\n",
      "9 is not an even number\n",
      "8\n",
      "~~~~~~\n",
      "8\n",
      "8\n",
      "7\n",
      "~~~~~~\n",
      "7\n",
      "7 is not an even number\n",
      "6\n",
      "~~~~~~\n",
      "6\n",
      "6\n",
      "5\n",
      "~~~~~~\n",
      "5\n",
      "5 is not an even number\n",
      "4\n",
      "~~~~~~\n",
      "4\n",
      "4\n",
      "3\n",
      "~~~~~~\n",
      "3\n",
      "3 is not an even number\n",
      "2\n",
      "~~~~~~\n",
      "2\n",
      "2\n",
      "1\n",
      "~~~~~~\n",
      "1\n",
      "1 is not an even number\n",
      "0\n",
      "~~~~~~\n",
      "0\n",
      "0\n"
     ]
    }
   ],
   "source": [
    "a = [13,12,11,10,9,8,7,6,5,4,3,2,1,0]\n",
    "\n",
    "for index,num in enumerate(a): \n",
    "# if the element in list a is even - that is, it can be divided by 2 with no remainder:\n",
    "    print(num)\n",
    "    # num takes the value that is in the list at the index position --- the count through the for loop\n",
    "    print(\"~~~~~~\")\n",
    "    print(a[index])\n",
    "    if a[index]%2==0:\n",
    "        print(a[index])\n",
    "    else:\n",
    "        print(str(a[index])+\" is not an even number\")"
   ]
  },
  {
   "cell_type": "code",
   "execution_count": 6,
   "id": "c86fe032-f698-47b8-b61c-95ea60a54c82",
   "metadata": {},
   "outputs": [
    {
     "name": "stdout",
     "output_type": "stream",
     "text": [
      "ab56\n",
      "bh84\n",
      "hv76\n",
      "ay93\n",
      "ap97\n",
      "bd72\n"
     ]
    }
   ],
   "source": [
    "#this program takes a list of accession numbers and splits them up into two files\n",
    "#based on particular criteria. The two *output* files look like this: \n",
    "#one.txt    two.txt \n",
    "#-------      -------\n",
    "#ab56        bh84\n",
    "#ay93        hv76\n",
    "#ap97        bd72\n",
    "#---------------------\n",
    "\n",
    "# remember the difference between w and w+\n",
    "# WE ARE CREATING THE TWO FILES \n",
    "file1=open(\"one.txt\",\"w\")\n",
    "file2=open(\"two.txt\",\"w\")\n",
    "\n",
    "\n",
    "# here is the list of strings\n",
    "accs=[\"ab56\",\"bh84\",\"hv76\",\"ay93\",\"ap97\",\"bd72\"]\n",
    "for accession in accs:\n",
    "    print(accession)\n",
    "    if accession.startswith(\"a\"):\n",
    "        file1.write(accession+\"\\n\")\n",
    "    else:\n",
    "        file2.write(accession+\"\\n\")\n",
    "\n",
    "file1.close()\n",
    "file2.close()"
   ]
  },
  {
   "cell_type": "markdown",
   "id": "9a62bd9b-7567-4293-8d32-4ef2bf3edd90",
   "metadata": {},
   "source": [
    "## Elif\n",
    "* An alternative branch if the paired if statement does not evaluate to true but a second condition might evaluate to true\n",
    "\n",
    "<div class=\"alert alert-block alert-warning\">\n",
    "Example:  \n",
    "    \n",
    "    if False:\n",
    "        print(“Nothing since if statement is false”)\n",
    "    elif True:\n",
    "        print(“Oh, you bet I get printed!”)\n",
    "    else:\n",
    "        print(“I also don’t get printed since elif was executed”)  \n"
   ]
  },
  {
   "cell_type": "code",
   "execution_count": 7,
   "id": "9752d060-a405-4459-a50c-38993b86d11f",
   "metadata": {},
   "outputs": [],
   "source": [
    "#this program takes a list of accession numbers and splits them up into three files based on particular criteria\n",
    "# You could write this as a series of nested for loops but the elif makes it tidier and more clearly reflects what we are trying to do\n",
    "file1=open(\"one.txt\",\"w\")\n",
    "file2=open(\"two.txt\",\"w\")\n",
    "#creating a new file three.txt that will be in same directory as your notebook.\n",
    "file3=open(\"three.txt\",\"w\")\n",
    "accs=[\"ab56\",\"bh84\",\"hv76\",\"ay93\",\"ap97\",\"bd72\"]\n",
    "for accession in accs:\n",
    "    if accession.startswith(\"a\"):\n",
    "        file1.write(accession+\"\\n\")\n",
    "    elif accession.startswith(\"b\"):\n",
    "        file3.write(accession+\"\\n\")\n",
    "    else:\n",
    "        file2.write(accession+\"\\n\")\n",
    "# Remember what happens when we don't close our file? I have hashed the following out. What will happen\n",
    "# when I un-hash them? \n",
    "file1.close()\n",
    "file2.close()\n",
    "file3.close()"
   ]
  },
  {
   "cell_type": "markdown",
   "id": "14e74ce5-f20e-4749-9748-0189c2552039",
   "metadata": {},
   "source": [
    "## Complex conditions\n",
    "\n",
    "* __and, or, not__ can be combined \n",
    "* __and__: joins conditions (both must be true)\n",
    "* __or__: if either condition is true\n",
    "* __not__: not true\n",
    "  \n",
    "* Rules about priority:\n",
    "    * Order in which they are evaluated: __NOT  >  AND  >  OR__\n",
    "\n",
    "    * We can include parentheses to avoid ambiguity about which condition is met\n",
    "\n",
    "<div class=\"alert alert-block alert-warning\">\n",
    "THE RULES of Boolean Operator Combinations:  \n",
    "    \n",
    "    True and True is True\n",
    "    True and False is False\n",
    "    False and True is False\n",
    "    False and False is False\n",
    "\n",
    "    True or True is True\n",
    "    True or False is True\n",
    "    False or True is True\n",
    "    False or False is False\n",
    "\n",
    "    Not True is False\n",
    "    Not False is True\n",
    "  \n",
    "\n",
    "Example: What does the following return? \n",
    "\n",
    "    True or not False and False\n",
    "\n"
   ]
  },
  {
   "cell_type": "markdown",
   "id": "569e282d-4991-43ac-9fb9-971b913c31ec",
   "metadata": {},
   "source": [
    "### AND\n",
    "<div class=\"alert alert-block alert-warning\">\n",
    "    Make False and False\n",
    "    bool_one = (-2>-1) AND (False)\n",
    "\n",
    "    MakeTrue and False\n",
    "    bool_two = \n",
    "\n",
    "    Make True and False\n",
    "    bool_three =\n",
    "\n",
    "    Make True and False\n",
    "    bool_four =\n",
    "\n",
    "    Make True and True\n",
    "    bool_five =\n",
    "\n",
    "### OR \n",
    "<div class=\"alert alert-block alert-warning\">\n",
    "    Make False or False\n",
    "    bool_one =\n",
    "\n",
    "    MakeTrue or False\n",
    "    bool_two = \n",
    "\n",
    "    Make True or  False\n",
    "    bool_three =\n",
    "\n",
    "    Make True or False\n",
    "    bool_four =\n",
    "\n",
    "    Make True or True\n",
    "    bool_five =\n",
    "\n",
    "### NOT\n",
    "### OR \n",
    "<div class=\"alert alert-block alert-warning\">\n",
    "    Make False:\n",
    "    bool_one =\n",
    "\n",
    "    Make True: \n",
    "    bool_two = \n",
    "\n",
    "    Make False:\n",
    "    bool_three =\n",
    "\n",
    "    Make True: \n",
    "    bool_four =\n",
    "\n",
    "    Make False:\n",
    "    bool_five =\n",
    "\n"
   ]
  },
  {
   "cell_type": "markdown",
   "id": "923b13e6-23dd-4dd4-aba6-db4c6d6e5f5c",
   "metadata": {},
   "source": [
    "For the example a few cells up, we can impose additional criteria:\n",
    "\n",
    "accs=[\"ab56\",\"bh84\",\"hv76\",\"ay93\",\"ap97\",\"bd72\"]\n",
    "\n",
    "for accession in accs:\n",
    "\n",
    "    if accession.startswith(“a”):                                      \n",
    "    \n",
    "        if accession.endswith(‘3’):\n",
    "     \n",
    "            print(accession)\n",
    "        \n",
    "-----------------------------------------------------------\n",
    "A more elegant way of writing the above is to combine conditional statements on one line:\n",
    "\n",
    "accs=[\"ab56\",\"bh84\",\"hv76\",\"ay93\",\"ap97\",\"bd72\"]\n",
    "\n",
    "for accession in accs:\n",
    "\n",
    "    if accession.startswith(“a”) and accession.endswith(‘3’):\n",
    "        \n",
    "        print(accession)\n",
    "\n",
    "What does this print out?\n",
    "\n",
    "----------------------------------------------------------\n",
    "accs=[\"ab56\",\"bh84\",\"hv76\",\"ay93\",\"ap97\",\"bd72\"]\n",
    "\n",
    "for accession in accs:\n",
    "\n",
    "    if accession.startswith(“a”) and not accession.endswith(‘6’):\n",
    "    \n",
    "        print(accession)\n",
    "\n",
    "when you do a google search, google automatically adds 'and' between words\n",
    "\n",
    "Biology Python -snake is really Biology AND Python NOT snake"
   ]
  },
  {
   "cell_type": "markdown",
   "id": "2235b0c6-1c0a-4794-a6dc-1ce28413d340",
   "metadata": {},
   "source": [
    "## Break\n",
    "* A one-line statement that results in the current loop being exited\n",
    "* Can be used with any logic loop (if, for etc) but most often with while loops since they so easily become infinite loops\n",
    "* ### Breaks force the loop to run at least once whereas other types of loop conditions will not run even once unless the initial condition is true\n",
    "* For loops may have an else associated with them\n",
    "    * The else statement is executed after the for but ONLY if the for ends normally (not with a break – ending a for loop with a break forces a bypass of the associated else statement)\n",
    "\n",
    "*example:*\n",
    "    \n",
    "    fruits = ['banana', 'apple', 'orange', 'tomato', 'pear', 'grape’]\n",
    "    print('You have...’)\n",
    "    for f in fruits:\n",
    "        if f == 'tomato':\n",
    "            print('A tomato is not a fruit!’) # (It actually is.)\n",
    "            break\n",
    "            print('A', f)\n",
    "    else:\n",
    "        print('A fine selection of fruits!’)\n",
    "  \n",
    "* since there is a tomato in the given list, the if loop will be initiated and a break will happen so the else loop will not be executed (so “A fine selection of fruits!” will not be printed. If you removed the break command, it would print the final sentence)\n",
    "\n",
    "\n"
   ]
  },
  {
   "cell_type": "code",
   "execution_count": 10,
   "id": "16b9e7b8-57e0-4c8a-8081-48be0fbad687",
   "metadata": {},
   "outputs": [
    {
     "name": "stdout",
     "output_type": "stream",
     "text": [
      "You have...\n",
      "A fine selection of fruits!\n",
      "A fine selection of fruits!\n",
      "A fine selection of fruits!\n",
      "A tomato is not a fruit!\n",
      "______FIN_____\n"
     ]
    }
   ],
   "source": [
    "# We can demonstrate that the break will force the loop to run at least once by hashing out the list\n",
    "# that has tomato first and also hashing out the break statement to see what gets printed out when it isn't there\n",
    "fruits = [\"banana\", \"apple\", \"orange\",\"tomato\",\"pear\",\"grapes\"]\n",
    "#fruits = [\"tomato\",\"banana\", \"apple\", \"orange\",\"pear\",\"grapes\"]\n",
    "#fruits = [\"pineapple\",\"banana\", \"apple\", \"orange\",\"pear\",\"grapes\"]   \n",
    "print(\"You have...\")\n",
    "\n",
    "for f in fruits:\n",
    "    if f == \"tomato\":\n",
    "        print(\"A tomato is not a fruit!\") # (It actually is.)\n",
    "        # try hashing out the break below and predict what will happen with each of the two fruits list above\n",
    "        break\n",
    "        print(\"A\", f)#you will never see this line since break is before it\n",
    "    else:\n",
    "        print(\"A fine selection of fruits!\")\n",
    "\n",
    "print(\"______FIN_____\")"
   ]
  },
  {
   "cell_type": "markdown",
   "id": "cd8c396c-3a8a-425d-a196-d5b42c54bcaa",
   "metadata": {},
   "source": [
    "## while loops <-- the most dangerous loop of all....\n",
    "* Similar to an if statement – __it executes code as long as condition is true__\n",
    "* Can be dangerous since it is possible to (accidentally) create a loop that is always true--> leading to an infinite loop (a loop that will never exit either because the loop condition itself is never false or what happens in the loop prevents the condition from ever being false)\n",
    "\n",
    "* syntax: \n",
    "\n",
    "loop_condition = True\n",
    "    \n",
    "    while loop_condition:\n",
    "        print(\"I am a loop”)\n",
    "        loop_condition = False\n",
    "        \n",
    "* often used to *check that user input is appropriate* \n",
    "\n",
    "* you want a user to input only either a ‘y’ or a ‘n’ and nothing else:\n",
    "    \n",
    "    choice = input('Enjoying the course? (y/n)')\n",
    "\n",
    "    while choice !='y' and choice !='n':  \n",
    "   \n",
    "        choice = input(\"Sorry, I didn't catch that. Enter again: \")\n",
    "    \n",
    "* break is often used in conjuction with while loops so that they don't become infinite loops. "
   ]
  },
  {
   "cell_type": "code",
   "execution_count": 1,
   "id": "149dbdfa-8763-4309-8633-32d2d82c41ef",
   "metadata": {},
   "outputs": [
    {
     "name": "stdout",
     "output_type": "stream",
     "text": [
      "0\n",
      "**********\n",
      "1\n",
      "**********\n",
      "2\n",
      "**********\n",
      "3\n",
      "**********\n",
      "4\n",
      "**********\n",
      "5\n",
      "**********\n",
      "6\n",
      "**********\n",
      "7\n",
      "**********\n",
      "8\n",
      "**********\n",
      "9\n",
      "**********\n",
      "10\n",
      "~~~~~~~~~~~~\n",
      "10\n",
      "I am just before the break\n",
      "11\n"
     ]
    }
   ],
   "source": [
    "count=0\n",
    "while count<10:\n",
    "    print(count)\n",
    "    print(\"*\"*10)\n",
    "    count=count+1\n",
    "print(count)\n",
    "print(\"~~~~~~~~~~~~\")\n",
    "while count>=10:\n",
    "    print(count)\n",
    "    count+=1\n",
    "    print(\"I am just before the break\")\n",
    "    print(count)\n",
    "    #break will go through the while loop once and it will break out. \n",
    "    #WHAT WOULD HAPPEN IF THIS BREAK WASNT THERE?\n",
    "    break\n",
    "    print(\"-----------------\")"
   ]
  },
  {
   "cell_type": "markdown",
   "id": "fa258ce2-0154-4be4-8977-e0940a2a7af1",
   "metadata": {},
   "source": [
    "#### EXTRA: Another way of de-bugging: Try/Except\n",
    "\n",
    "* allows you to create your own meaningful (ie. specific) error term rather than the general error terms\n",
    "* https://docs.python.org/3/tutorial/errors.html\n",
    "\n",
    "1. often used with while loops\n",
    "2. Often used to confirm user input\n",
    "3. You can also use an else statement with it (although it is called Try/Except)\n",
    "4. You can also use finally statement with it"
   ]
  },
  {
   "cell_type": "code",
   "execution_count": 9,
   "id": "af4219de-f456-4c15-953c-1a18177c840c",
   "metadata": {},
   "outputs": [
    {
     "name": "stdout",
     "output_type": "stream",
     "text": [
      " Enter integer value that is greater than 0 from the console.\n"
     ]
    },
    {
     "name": "stdin",
     "output_type": "stream",
     "text": [
      " 3\n"
     ]
    },
    {
     "name": "stdout",
     "output_type": "stream",
     "text": [
      "Pass case\n",
      "okay, we are back regardless of the value the user inputted. \n"
     ]
    }
   ],
   "source": [
    "print(\" Enter integer value that is greater than 0 from the console.\")\n",
    "x = int(input())\n",
    "\n",
    "# try this code: Divide 1 by x to test error cases\n",
    "# in a try clause, all statements are executed until exception is raised \n",
    "try:\n",
    "    result = 1/x\n",
    "\n",
    "# Execute this code if there is an exception \n",
    "# if user has inputted a 0, we can't use it as a denominator \n",
    "# you could have multiple except statements, where each one corresponded to a particular exception condition\n",
    "except:\n",
    "    print(\"Error case\")\n",
    "     \n",
    "# we have now created a pass case to get back to the body of the program and continue\n",
    "# IF NO EXCEPTIONS ARE ENCOUNTERED\n",
    "else:\n",
    "    print(\"Pass case\")\n",
    "    pass\n",
    "    \n",
    "# finally will ALWAYS run, even if an exception was encountered. \n",
    "finally: \n",
    "    print(\"okay, we are back regardless of the value the user inputted. \")"
   ]
  },
  {
   "attachments": {},
   "cell_type": "markdown",
   "id": "95a985f9-2b84-4ba0-bbf6-b1bb37d1fae5",
   "metadata": {},
   "source": [
    "# In class questions:\n",
    "-----------------------------\n",
    "1.  (15 min) An \"Open Reading Frame\" provides a heuristic for a potential gene. Here is a definition on wikipedia: https://en.wikipedia.org/wiki/Open_reading_frame\n",
    "We will use our sequence and use conditional statements to apply general rules to the sequence to identify any open reading frames. Remember that this sequence has known introns so you will want to remove those as well (we did this as part of Module 1B):\n",
    "\n",
    "**5’- ATCGATCGATCGATCGACTGACTAATCATAGCTATGCATGCTACTCGATCGATCGATCGATCGATCGATCGATCGATCGATCATGCTAACATCGATCGATATCGATGCATCGACTAGTACTAT-3'**\n",
    "\n",
    "    A. Is there a start codon which is the sequence \"ATG\"?\n",
    "\n",
    "    B. Is there a stop codon (any of the following: \"TGA\", \"TAA\", TAG\") present\n",
    "    \n",
    "    C. Is the number of nucleotides between any start and any stop codon divisible by 3? \n",
    "\n",
    "If these conditions are met, print out \"there is a possible ORF in this sequence\". If the conditions are not met, print out \"There is no possible reading frame in this sequence\". __You can start with a much smaller sequence to test your code under different conditions: the smallest sequence that has an open reading frame under the given conditions could look something like: \"ATGCCCTAG\", for instance__\n",
    "\n",
    "2. (20 min) We created the “data.csv” in Module3A that should be in your files. Hint: remember that the .split () method can use “,” as the criteria for splitting. The file contains four columns corresponding to species name, nucleotide sequence, gene name and expression level of gene.  There are 6 rows with four different species of Melanogaster indicated. You will want to make this program work for any file that has the same type of structure as data.csv (that is the first column is species, the second column is sequence, the third columns is name and the fourth column is expression) that it is given so you will likely need if conditions imposed.  \n",
    "    \n",
    "a.\tPrint out all the gene names for all genes belong to Drosophila melanogaster OR Drosophila simulans to two different external files (one for melanogaster and one for simulans). You can name them melanogaster and simulans.\r",
    "    \r\n",
    "b.\tPrint out all the gene names for genes between 90 and 110 bases long (inclusive at both ends so, for example, a gene that was 89 bases long wouldn't be included but that is 90 base pairs lngn would be includde .\r\n",
    "\r\n",
    "c.\tPrint out all the gene names for the genes whose AT content is less t 0.30. .) \r\n",
    "\r\n",
    "d.\tPrint out the gene names for all genes whose name begins with “k” or “h” EXCEPT those belg to onginDrosophila Melanogaster. ste.\tFor each gene, print out a message giving the gene name and saying whether its AT content is high (greater than 0.65), low (less than 0.45) or medium (between 0.45 and 0.65). To a separate file, print the genes whose AT content is greater than 200. For each gene that meets this criteria, include a line in the file that gives the gene name and the percentage AT, and the total legth.'"
   ]
  },
  {
   "cell_type": "code",
   "execution_count": null,
   "id": "82102c74-3be4-4573-b2a5-45bd515c909c",
   "metadata": {},
   "outputs": [],
   "source": [
    "# We will work through elements of this together"
   ]
  },
  {
   "cell_type": "markdown",
   "id": "6f347896-1c27-4abe-b950-089d43f7747b",
   "metadata": {},
   "source": [
    "Using a for loop turn the following sequence (it can be hard-coded into your cell) into a list of codons"
   ]
  },
  {
   "cell_type": "markdown",
   "id": "d827b4fe-76aa-4b68-9465-5e277277ccfd",
   "metadata": {},
   "source": [
    "The following contains 5 DNA sequences, one per line. You will need to copy and paste these sequences into one plain text file in the same directory as your Jupyter notebooks so that you can open the file in your Jupyter notebook.\n",
    "   \n",
    "\n",
    "ATTCGATTATAAGCTCGATCGATCGATCGATCGATCGATCGATCGATCGATCGATC\n",
    "ATTCGATTATAAGCACTGATCGATCGATCGATCGATCGATGCTATCGTCGT\n",
    "ATTCGATTATAAGCATCGATCACGATCTATCGTACGTATGCATATCGATATCGATCGTAGTC\n",
    "ATTCGATTATAAGCACTATCGATGATCTAGCTACGATCGTAGCTGTA\n",
    "ATTCGATTATAAGCACTAGCTAGTCTCGATGCATGATCAGCTTAGCTGATGATGCTCA\n",
    "\n",
    "Each sequence starts with the same 14 base pair fragment (ATTCGAT at is a sequencing adapter that needs to be removed. Write a program to do two things: \n",
    "\n",
    "1.    Trim this adapter and using a 'for loop'  write all five of the cleaned sequences to one new file, one cleaned sequence per line.\n",
    "2.    Print the length of the trimmed sequences to the screen"
   ]
  },
  {
   "cell_type": "code",
   "execution_count": 16,
   "id": "5699c32a-bade-4982-93d4-47202a3bf647",
   "metadata": {},
   "outputs": [
    {
     "name": "stdout",
     "output_type": "stream",
     "text": [
      "TCGATCGATCGATCGATCGATCGATCGATCGATCGATCGATC\n",
      "42\n",
      "ACTGATCGATCGATCGATCGATCGATGCTATCGTCGT\n",
      "37\n",
      "ATCGATCACGATCTATCGTACGTATGCATATCGATATCGATCGTAGTC\n",
      "48\n",
      "ACTATCGATGATCTAGCTACGATCGTAGCTGTA\n",
      "33\n",
      "ACTAGCTAGTCTCGATGCATGATCAGCTTAGCTGATGATGCTCA\n",
      "44\n"
     ]
    }
   ],
   "source": [
    "seq1=\"ATTCGATTATAAGCTCGATCGATCGATCGATCGATCGATCGATCGATCGATCGATC\"\n",
    "seq2=\"ATTCGATTATAAGCACTGATCGATCGATCGATCGATCGATGCTATCGTCGT\"\n",
    "seq3=\"ATTCGATTATAAGCATCGATCACGATCTATCGTACGTATGCATATCGATATCGATCGTAGTC\"\n",
    "seq4=\"ATTCGATTATAAGCACTATCGATGATCTAGCTACGATCGTAGCTGTA\"\n",
    "seq5=\"ATTCGATTATAAGCACTAGCTAGTCTCGATGCATGATCAGCTTAGCTGATGATGCTCA\"\n",
    "\n",
    "# fill rest in"
   ]
  },
  {
   "cell_type": "code",
   "execution_count": null,
   "id": "aaa2ccc3-f153-4a63-9a18-0dc3d81ad1df",
   "metadata": {},
   "outputs": [],
   "source": []
  }
 ],
 "metadata": {
  "kernelspec": {
   "display_name": "Python 3 (ipykernel)",
   "language": "python",
   "name": "python3"
  },
  "language_info": {
   "codemirror_mode": {
    "name": "ipython",
    "version": 3
   },
   "file_extension": ".py",
   "mimetype": "text/x-python",
   "name": "python",
   "nbconvert_exporter": "python",
   "pygments_lexer": "ipython3",
   "version": "3.11.5"
  }
 },
 "nbformat": 4,
 "nbformat_minor": 5
}
