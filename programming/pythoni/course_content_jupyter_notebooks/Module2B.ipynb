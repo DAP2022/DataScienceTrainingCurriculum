{
 "cells": [
  {
   "cell_type": "markdown",
   "id": "ac5888e0-188e-4160-abb2-531c0de81b4a",
   "metadata": {},
   "source": [
    "### GCP enviroment setup:\n",
    "only run the following code block if using GCP, if running this notebook locally, you can download files from Canvas. \n",
    "* we will quickly discuss the elements of this and file management in GCP"
   ]
  },
  {
   "cell_type": "code",
   "execution_count": null,
   "id": "f01135ef-5127-40ba-82d3-5a15816bb7a6",
   "metadata": {},
   "outputs": [],
   "source": [
    "#!gsutil cp gs://jax-presgraves-edusumner2-courses-code/Intro_to_Python_1_2025/Module_2/*.csv /content/"
   ]
  },
  {
   "cell_type": "markdown",
   "id": "765798b1-027d-49a6-a9be-915c5517844e",
   "metadata": {},
   "source": [
    "# Summary\n",
    "1. Everything in Python is an object\n",
    "2. We are going to introduce a **file object**\n",
    "   * allows us to use, access, manipulate files\n",
    "   * like all objects, has associated methods: open() and others\n",
    "\n",
    "# Overview of this module\n",
    "1. I/O Data\n",
    "2. Rules of reading, writing, overwriting, appending to files\n",
    "3. Paths - where are the files we create placed?\n",
    "4. Creating plain text files\n",
    "5. USER Input\n",
    "    * how to validate?  "
   ]
  },
  {
   "cell_type": "markdown",
   "id": "5b89e863-5f10-4f5b-a96f-b068d8004b6e",
   "metadata": {},
   "source": [
    "# I/O\n",
    "\n",
    "A useful program will usually require data input to manipulate and will spit out the results of this manipulation. We have learned a tiny bit of some manipulations with strings. \n",
    "\n",
    "In today's lecture, we will learn how to open, read and write files - sometimes even multiple files at multiple locations. \n",
    "\n",
    "We will use \"flat files\" (ie. no structured relationship like there is in databases, for instance). This means mostly text files (.txt) or comma-separated files (.csv). \n",
    "\n",
    "### What happens if we want to read in a file and then write to a different file?  \n",
    "\n",
    "* Go back to your \"Home\" tab and you should see that there are no files there.\n",
    "\n",
    "What does the following program do? "
   ]
  },
  {
   "cell_type": "code",
   "execution_count": 1,
   "id": "d7f8bcfb-2520-45e2-896f-95820b0bf122",
   "metadata": {},
   "outputs": [
    {
     "name": "stdout",
     "output_type": "stream",
     "text": [
      "[1, 4, 9, 16, 25, 36, 49, 64, 81, 100]\n"
     ]
    }
   ],
   "source": [
    "# The following is called a \"List Comprehension\" and it is a way of efficiently filling a list from a loop\n",
    "# we will discuss loops next, this is just a glimpse of ways to built on simple techniques.\n",
    "# -------------------------------\n",
    "my_list = [i**2 for i in range(1,11)]\n",
    "print(my_list)\n",
    "\n",
    "f = open(\"output1.txt\",\"w+\")\n",
    "\n",
    "for item in my_list:\n",
    "    f.write(str(item) + \"\\n\")\n",
    "f.close()"
   ]
  },
  {
   "cell_type": "code",
   "execution_count": 6,
   "id": "def36889-1de3-48e7-b530-6ac6a6e7b901",
   "metadata": {},
   "outputs": [],
   "source": [
    "my_list2=[\"AT\",\"CG\",\"cg\"]\n",
    "# what happens if you use this line, where \"w\" isn't specified? Try it will w, r, a and see which one allows you to create a new file etc\n",
    "#f = open(\"output_test_1.txt\") \n",
    "\n",
    "#Does this provide a hint about what \"w\" is doing?\n",
    "f= open(\"output_3.txt\",\"w+\")\n",
    "# ---------------------\n",
    "# CHECK YOUR FOLDER AND SEE IF THERE IS A NEWLY CREATED FILE CALLED output_2.txt\n",
    "# ---------------------\n",
    "for item in my_list2:\n",
    "    f.write(item + \"\\n\")\n",
    "#f.close()"
   ]
  },
  {
   "cell_type": "markdown",
   "id": "1ca66a4f-cd75-4ba9-8605-30997b1c60a2",
   "metadata": {},
   "source": [
    "## Reading Text from files\n",
    "\n",
    "We will need to read information from a file such as a FASTA file (https://en.wikipedia.org/wiki/FASTA_format\n",
    "):\n",
    "\n",
    "\\>seq0\n",
    "\n",
    "FQTWEEFSRAAEKLYLADPMKVRVVLKYRHVDGNLCIKVTDDLVCLVYRTDQAQDVKKIEKF\n",
    "\n",
    "\\>seq1\n",
    "\n",
    "KYRTWEEFTRAAEKLYQADPMKVRVVLKYRHCDGNLCIKVTDDVVCLLYRTDQAQDVKKIEKFHSQLMRLMELKVTDNKECLKFKTDQAQEAKKMEKLNNIFFTLM\n",
    "\n",
    "\\>seq2\n",
    "\n",
    "EEYQTWEEFARAAEKLYLTDPMKVRVVLKYRHCDGNLCMKVTDDAVCLQYKTDQAQDVKKVEKLHGK\n",
    "\n",
    "Or we want to write information to a file such as the results from a BLAST search.\n",
    "\n",
    "How do we accomplish such tasks? \n",
    "\n",
    "**The _major_ tasks that we want to be able to do when manipulating text files include:**\n",
    "\n",
    "1. Ensure that the file exists manually *and that it is in the correct path*\n",
    "2. Open the file <- Right now, we have to rely on raising an IOexception when we try to open a file that doesn’t exist, python will give us [Errno 2]: no such file or directory, we saw this in the cell above when we didn't give permissions to the file that we wanted to create. I'll briefly mention that there are tools to ensure that a file exists: Try/except system. This will be similar to the if/elif/else decision loops. We won't cover Try/Except in this course.\n",
    "3. Read file (or write to the file, or a different file, or read and write to the file)<-method for file object\n",
    "4. Close file <- method for file object\n",
    "\n",
    "### Procedure for _reading_ a file: \n",
    "1. Check file exists\n",
    "2. Open file\n",
    "3. Read file\n",
    "4. Close file\n",
    "\n",
    "### Procedure for _writing to_ an _existing_ file: \n",
    "1. Check file exists\n",
    "2. Open file\n",
    "3. _Append_ text to file\n",
    "4. Close file\n",
    "\n",
    "### Procedure for _overwriting_ or _creating_ a _NEW_ file: \n",
    "1. Open (or create) file\n",
    "2. Write to file\n",
    "3. Close file\n",
    "\n"
   ]
  },
  {
   "cell_type": "markdown",
   "id": "39fe81f8-bf41-4968-a71e-721884f2ea71",
   "metadata": {},
   "source": [
    "### A file object allow us to access and manipulate data. \n",
    "* open(file_address, access_mode) is a file object method that includes two arguments: file_address, access_mode\n",
    "* access mode (sometimes called \"file permissions\"):\n",
    "    1. r/r+  - cursor is at the beginning of the file; read only/read and write\n",
    "    2. w/w+  - cursor is at the beginning of the file; write only/read and write\n",
    "    3. a/a+  - cursor is the end of the file (for appending); append only/read and append\n",
    "* other methods (not exhaustive, there are other methods associated with files):\n",
    "  * file_object_name.read(size); if size argument is omitted, it reads until EOF\n",
    "  * file_object_name.readline(size); returns string of first line (until newline or EOF is encountered)\n",
    "  * file_object_name.readlines(size); returns list\n",
    "  * file_object_name.write(); writes strings to a file\n",
    "  * file_object_name.close(); a file cannot be read from or written to until it is opened again"
   ]
  },
  {
   "cell_type": "code",
   "execution_count": 10,
   "id": "c247d161-c50f-4d3e-90b5-db812dadddec",
   "metadata": {},
   "outputs": [
    {
     "name": "stdout",
     "output_type": "stream",
     "text": [
      "\n"
     ]
    }
   ],
   "source": [
    "# How do we open a file?\n",
    "#-------------------------------\n",
    "# the format that we use is:\n",
    "# variable_name = open(path_if_necessary_and_file_name,mode)\n",
    "# where mode = append, read, write\n",
    "# ---------------------------\n",
    "\n",
    "f = open(\"output.txt\", \"w\")\n",
    "\n",
    "#the command above *created* a textfile called 'output.txt' in 'w' mode. However, in the cell above, we \n",
    "# created an output.txt file, too. What happened?\n",
    "# You can check that there is now a file called output.txt\n",
    "# the new file **object** is stored as the f file object which now has **attributes and methods **\n",
    "# instead of a filename,\"output.txt\", you can insert a path name - although we won't worry about that so far\n",
    "# in this course\n",
    "\n",
    "f.write(\"Hello JAX!\"+\"\\n\")\n",
    "f.close()"
   ]
  },
  {
   "cell_type": "markdown",
   "id": "0132b7bb-def0-4bf2-bce4-09f2e95d2e6d",
   "metadata": {},
   "source": [
    "# How can we incorporate list (comprehensions) into I/O? \n",
    "(I'm so glad that you asked!)"
   ]
  },
  {
   "cell_type": "code",
   "execution_count": 11,
   "id": "05a6ab20-7ed9-4104-8457-c2b34f61a76c",
   "metadata": {},
   "outputs": [],
   "source": [
    "my_list = [i**2 for i in range(1,11)]\n",
    "# recreate the original output.txt file: \n",
    "# ---------------------------------\n",
    "f = open(\"output.txt\",\"w+\")\n",
    "for item in my_list:\n",
    "    # convert each number to string since write takes string objects. \n",
    "    f.write(str(item) + \"\\n\")\n",
    "f.close()\n",
    "# ---------------------------------\n",
    "# let's use the permission a+. What does this do to our output? Run it and check the output.txt file\n",
    "# After you have checked the file, change the a+ to r+ and see how that changes the output.txt file\n",
    "\n",
    "my_file=open(\"output.txt\",\"a+\")\n",
    "my_file.write(\"Hello JAX!\"+\"\\n\")\n",
    "# as an example, what do you expect the following to give you? Why?\n",
    "#print(my_file)\n",
    "my_file.close()"
   ]
  },
  {
   "cell_type": "markdown",
   "id": "5ae068c4-19d5-4f97-afb6-cbef4731de42",
   "metadata": {},
   "source": [
    "The subtle differences between file name, file object and file contents:\n",
    "-----------------------\n",
    "\n",
    "**File object** <--Represents the file itself. You use methods like .read on file objects and ONLY on file objects (you will get an attribute error term if you attempt to use .read method on something that isn't a file object)\n",
    "\n",
    "**File name** <--String with the name of the file\n",
    "\n",
    "**File content** <--String that stores text of the file itself; .read()"
   ]
  },
  {
   "cell_type": "code",
   "execution_count": 20,
   "id": "c7cdd9a8-359a-47cb-863c-8e1041263ba4",
   "metadata": {},
   "outputs": [
    {
     "name": "stdout",
     "output_type": "stream",
     "text": [
      "/Users/presgd/MyPythonFiles/dna1.csv\n",
      "-----------\n",
      "<_io.TextIOWrapper name='/Users/presgd/MyPythonFiles/dna1.csv' mode='w+' encoding='UTF-8'>\n",
      "~~~~~~~~~~~~~~~\n",
      "\n",
      "*******\n"
     ]
    }
   ],
   "source": [
    "# my suggestion is that if are using a file to put it in the same directory/folder as the jupyter notebook that\n",
    "# is accessing it.\n",
    "# If not, you can always type the full path to the file, it is just a bit more complicated on the first step. \n",
    "# Note the file path will look different if you are on a PC (the forward slashes will be replaced with backward slashes etc).\n",
    "# ------------------------------------\n",
    "# The file path below is for my LOCAL mac os. REMEMBER THAT THIS PATH WILL BE DIFFERENT ON COLAB! \n",
    "my_file_test = \"/Users/presgd/MyPythonFiles/dna.csv\"\n",
    "# the same file path for local windows users would look something like this: \n",
    "#my_file_test = “C:\\\\Users\\\\daniellepresgraves\\\\mypython\\\\dna.csv”\n",
    "\n",
    "print(my_file_test)\n",
    "print(\"-----------\")\n",
    "# we are creating the file object my_file_test_pointer\n",
    "my_file_test_pointer = open(my_file_test,\"w+\")\n",
    "print(my_file_test_pointer)\n",
    "print(\"~\"*15)\n",
    "# the unimaginably named my_file_test_contents should regurgitate what is \n",
    "# actually in your file\n",
    "my_file_test_contents = my_file_test_pointer.read()\n",
    "print(my_file_test_contents)\n",
    "print(\"*******\")"
   ]
  },
  {
   "cell_type": "code",
   "execution_count": 16,
   "id": "11aa9fdc-bf9e-4842-a1e7-bebf77ff7f94",
   "metadata": {},
   "outputs": [
    {
     "name": "stdout",
     "output_type": "stream",
     "text": [
      "/Users/presgd/MyPythonFiles/JAXIntroPython1_PRIMM\n"
     ]
    }
   ],
   "source": [
    "#import os\n",
    "#print(os.getcwd())\n",
    "#\"/Users/presgd/MyPythonFiles/output_4.csv\""
   ]
  },
  {
   "cell_type": "code",
   "execution_count": 22,
   "id": "6535b124-8190-41bf-9b78-363cc5d771e2",
   "metadata": {},
   "outputs": [
    {
     "name": "stdout",
     "output_type": "stream",
     "text": [
      "dna.txt\n",
      "<_io.TextIOWrapper name='dna.txt' mode='r+' encoding='UTF-8'>\n",
      "ATTGTCCCGTu\n",
      "\n"
     ]
    }
   ],
   "source": [
    "# we are going to create the file dna.txt NOT dna.csv. dna.txt will be located in the same folder as your Module2B \n",
    "f = open(\"dna.txt\", \"w\")\n",
    "#the command above created a textfile called 'dna.txt' in 'w' mode. \n",
    "# you should be able to check that there is now a file called dna.txt\n",
    "# -------------------\n",
    "# since we used \"w\" and not \"w+\" as the access mode, we should get an exceptionIO raised if we attempt to\n",
    "# read the contents of the file as we do in the next line - currently hashed out. \n",
    "# If we changed the w to w+, we could read the contents of the file to the screen.\n",
    "# -------------------\n",
    "#f.read()\n",
    "f.write(\"ATTGTCCCGTu\"+\"\\n\")\n",
    "f.close()\n",
    "# ---------------------------------------\n",
    "my_file_name = \"dna.txt\"\n",
    "# Note: you can just create a PLAIN TEXT FILE with a random sequence in it or you can create the file using the technique above\n",
    "print(my_file_name)\n",
    "#my_file_pointer is the pointer\n",
    "my_file_pointer = open(my_file_name,\"r+\")\n",
    "print(my_file_pointer)\n",
    "#read my file contents\n",
    "my_file_contents = my_file_pointer.read()\n",
    "print(my_file_contents)\n",
    "my_file_pointer.close()"
   ]
  },
  {
   "cell_type": "markdown",
   "id": "cdfad561-a81a-40a5-bc80-120d9903121b",
   "metadata": {},
   "source": [
    "# .rstrip() method\n",
    "\n",
    "Opening files can sometimes require something _extra_.\n",
    "\n",
    "For instance, files can contain **hidden** characters such as \\n (which means start a newline) which need to be removed. A straightforward way to do this is to use the string method: **_.rstrip(“\\n”)_**\n",
    "\n",
    "There is also a separate method for removing hidden characters from the left side of the string called **_.lstrip()_**. However, that generally isn't relevant for I/O so I mention it merely for completeness."
   ]
  },
  {
   "cell_type": "code",
   "execution_count": 24,
   "id": "62cef973-6d0b-486d-98ea-1cc3b59ee643",
   "metadata": {},
   "outputs": [
    {
     "name": "stdout",
     "output_type": "stream",
     "text": [
      "Sequence is ATTGTCCCGTu and the length is 11 bp\n"
     ]
    }
   ],
   "source": [
    "#open the file that we created above. Notice: when we originally created dna.txt, we gave it access 'w', but\n",
    "# when we open the file again, we can specify different access. Here we have not given any access mode so \n",
    "# the default of Python is to assume \"r\" as access mode\n",
    "# -----------------------\n",
    "my_file=open(\"dna.txt\")\n",
    "\n",
    "#read contents - you could do this in two lines:\n",
    "# 1. read in files contents\n",
    "my_file_contents= my_file.read()\n",
    "# 2. put file contents into variable WITHOUT the .rstrip(), see what happens: \n",
    "#my_DNA=my_file_contents\n",
    "\n",
    "# or 2. put file contents into variable WITH the .rstrip(), see what happens:\n",
    "my_DNA=my_file_contents.rstrip(\"\\n\")\n",
    "\n",
    "# -----------------------------\n",
    "#notice that you can BE MORE EFFICIENT AND append the .rstrip method to the read method.\n",
    "# --------------------------\n",
    "#my_DNA = my_file.read().rstrip(\"\\n\")\n",
    "#calculate length by using built in function len(). We will see this method A LOT. \n",
    "dna_length=len(my_DNA)\n",
    "#print output\n",
    "print(\"Sequence is \"+my_DNA+\" and the length is \"+str(dna_length) +\" bp\")\n",
    "my_file.close()"
   ]
  },
  {
   "cell_type": "markdown",
   "id": "2b2eefe3-9f7a-476b-bae4-68c687c28b0d",
   "metadata": {},
   "source": [
    "## Writing to an output file\n",
    "The steps involved in writing to a file: \n",
    "\n",
    "1. Open/create file and specify access (or Python will assume r and you won't be able to write to it)\n",
    "2. Write to file:  .write()\n",
    "3. Close file: .close() – ensures that output to a file is flushed"
   ]
  },
  {
   "cell_type": "code",
   "execution_count": 36,
   "id": "58cfaa42-a1b9-43af-b986-997cc4c717d0",
   "metadata": {},
   "outputs": [],
   "source": [
    "#remember the first example we gave and we asked what it did?\n",
    "# Here it is again but this time you know what it does!\n",
    "my_list = [i**2 for i in range(1,11)]\n",
    "\n",
    "my_file = open(\"output.txt\", \"w\")\n",
    "\n",
    "for each in my_list:\n",
    "    my_file.write(str(each)+\"\\n\")\n",
    "\n",
    "# After running this cell, you could try running it again with the following line hashed out. \n",
    "# When you open output.txt, what happens when the .close() is hashed out? \n",
    "my_file.close()"
   ]
  },
  {
   "cell_type": "markdown",
   "id": "3e01a066-9aaa-4b63-8f30-6c3733b5cd36",
   "metadata": {},
   "source": [
    "## Reading from a file\n",
    "1. open file \n",
    "2. read file \n",
    "\n",
    "   a. read one line at a time from file. First time it is called, it reads first line, second time it is called, it reads second line etc. \n",
    "\n",
    "            .readline()\n",
    "\n",
    "   b. read entire file contents\n",
    "\n",
    "            .readlines()\n",
    "  \n",
    "4. close file"
   ]
  },
  {
   "cell_type": "code",
   "execution_count": 42,
   "id": "144fe239-d3df-4ce2-af23-aa625c7ea908",
   "metadata": {},
   "outputs": [
    {
     "name": "stdout",
     "output_type": "stream",
     "text": [
      "1\n",
      "4\n",
      "9\n",
      "------------\n",
      "['1\\n', '4\\n', '9\\n', '16\\n', '25\\n', '36\\n', '49\\n', '64\\n', '81\\n', '100\\n']\n"
     ]
    }
   ],
   "source": [
    "#All contents of file are read at once\n",
    "my_file=open(\"output.txt\",\"r\")\n",
    "# you could print off only the first 5 characters -- including the \\n\n",
    "print(my_file.read(5))\n",
    "my_file.close()\n",
    "print(\"------------\")\n",
    "#one line at a time of the file contents are read\n",
    "# the difference between readlines() and readline() methods.\n",
    "my_file=open(\"output.txt\",\"r\")\n",
    "print(my_file.readlines())\n",
    "#print(my_file.readline().rstrip(\"\\n\"))\n",
    "#print(my_file.readline().rstrip(\"\\n\"))\n",
    "#print(my_file.readline().rstrip(\"\\n\"))\n",
    "my_file.close()"
   ]
  },
  {
   "cell_type": "markdown",
   "id": "3a47ca9b-c209-4b7d-a3e0-c7c25dff9962",
   "metadata": {},
   "source": [
    "## Aside: Why do we need to *__close__* our files? \n",
    "Data is buffered during the I/O process which means it is held in a temporary location before being written to the file. \n",
    "\n",
    "Python doesn’t flush the buffer (write the buffer to the file) until it is sure that you are done writing so you must close the file or the data won’t be transferred to the correct file.\n",
    "\n",
    "Digression for when you want to use Python in the wild: \n",
    "* Python can automatically close your files for you by using context managers: the two built in methods: __enter__(); __exit__()\n",
    "* We won't discuss them in this course (we might see them again in Python II when Object oriented programming is used) \n"
   ]
  },
  {
   "cell_type": "code",
   "execution_count": 59,
   "id": "5b6f1c02-471f-44f9-a2d5-001171374452",
   "metadata": {},
   "outputs": [],
   "source": [
    "# create a file and open the file for writing\n",
    "write_file = open(\"dummy.txt\", \"w\")\n",
    "# Write to the file\n",
    "write_file.write(\"Not closing files is VERY BAD.\")\n",
    "# if we hash out the next line, the buffer won't know to read the line into our dummy.txt file\n",
    "write_file.close()"
   ]
  },
  {
   "attachments": {},
   "cell_type": "markdown",
   "id": "9e176ce9-48e0-4a2e-8c14-8cd9547571a2",
   "metadata": {},
   "source": [
    "# In Class Questions: \n",
    "1. (5 minutes) open the Module2_Example.txt file, remove the first line of the FASTA file and then write the sequence to a different file.(This can be 'pseudocode' for now but it will be useful to think about it for your assignment.)\n",
    "   \n",
    "2. (10 minutes) Take the FASTA file below and send each of three sequences to different files named seq0, seq1, seq2\n",
    "\n",
    ">seq0\n",
    "\n",
    "FQTWEEFSRAAEKLYLADPMKVRVVLKYRHVDGNLCIKVTDDLVCLVYRTDQAQDVKKIEKF\n",
    "\n",
    ">seq1\n",
    "\n",
    "KYRTWEEFTRAAEKLYQADPMKVRVVLKYRHCDGNLCIKVTDDVVCLLYRTDQAQDVKKIEKFHSQLMRLMELKVTDNKECLKFKTDQAQEAKKMEKLNNIFFTLM\n",
    "\n",
    ">seq2\n",
    "\n",
    "EEYQTWEEFARAAEKLYLTDPMKVRVVLKYRHCDGNLCMKVTDDAVCLQYKTDQAQDVKKVEKLHGK\n",
    "\n",
    "---------------------------------\n",
    "3. (20 minutes) This question combines what we have learned over the last two days.\n",
    "\n",
    "For the sequence given below: \r",
    " **5’- ATCGATCGATCGATCGACTGACTAATCATAGCTATGCATGCTACTCGATCGATCGATCGATCGATCGATCGATCGATCGATCATGCTAACATCGATCGATATCGATGCATCGACTAGTACTAT-3'**’\n",
    "\r",
    " Introns are the noncoding parts of a DNA sequence that are spliced out (removed) from the sequence before it is translated into a chain of amino acids. In the following sequence, there are two exons and one intron. The first exon runs from the start of the sequence to the 63rd character. The second exon runs from the 91st character to the end of the sequence. (hint: in the following sequence of numbers what would the 3rd character:  1 2 3 4)\n",
    "\n",
    "\tWrite a program that will split the genomic DNA into coding and non-coding (intron) parts and write these to* two different file*s (a file for exons/coding and a file for the spliced out introns/non-cod** ing). You should be able to have a flexible program that works with any sequence provided by a user but you can assume that the user knows the positions (locations) where the intron/exons are lo*ated.ed. \r\n"
   ]
  },
  {
   "cell_type": "markdown",
   "id": "48e4cf70-a1a5-4a5f-98dc-6e55a2a54ff7",
   "metadata": {},
   "source": [
    "### Now back to the basics...\n",
    "## User input\n",
    "We are not always going to want to use a ‘hard coded’ path to a file; our program will be more flexible if we can ask a user for the input file\n",
    "\n",
    "This can lead to a problem, for instance, a file that doesn’t exist (perhaps because it has been mistyped)\n",
    "\n",
    "There are two main steps when seeking user input: \n",
    "\n",
    "        * User input\n",
    "        * User validation\n",
    "\n",
    "The **input()** function returns a string. This means that depending on what you are trying to enter you may need to convert it to an str(). "
   ]
  },
  {
   "cell_type": "code",
   "execution_count": 25,
   "id": "7cb4ded6-6b73-4eb7-b6bd-e6b90c4c0d54",
   "metadata": {},
   "outputs": [
    {
     "name": "stdout",
     "output_type": "stream",
     "text": [
      "Are you in your first, second, third, fourth or more year of university?: \n"
     ]
    },
    {
     "name": "stdin",
     "output_type": "stream",
     "text": [
      " infinity\n"
     ]
    },
    {
     "name": "stdout",
     "output_type": "stream",
     "text": [
      "What is your major?\n"
     ]
    },
    {
     "name": "stdin",
     "output_type": "stream",
     "text": [
      " dogs\n"
     ]
    },
    {
     "name": "stdout",
     "output_type": "stream",
     "text": [
      "DOGS\n",
      "What is your favorite class so far?\n"
     ]
    },
    {
     "name": "stdin",
     "output_type": "stream",
     "text": [
      " canine studies\n"
     ]
    },
    {
     "name": "stdout",
     "output_type": "stream",
     "text": [
      "To summarize, you're in your 'infinity' year of university, are pursuing a 'dogs' major and you love 'canine studies'\n",
      "Now onto inputting integers\n"
     ]
    },
    {
     "name": "stdin",
     "output_type": "stream",
     "text": [
      " 6\n",
      " 3\n"
     ]
    },
    {
     "name": "stdout",
     "output_type": "stream",
     "text": [
      "63\n",
      "We didn't mean to concatenate them, did we?\n",
      "Your total of the two numbers is: 9\n"
     ]
    }
   ],
   "source": [
    "print(\"Are you in your first, second, third, fourth or more year of university?: \")\n",
    "year = input()\n",
    "print(\"What is your major?\")\n",
    "major = input()\n",
    "print(major.upper())\n",
    "print(\"What is your favorite class so far?\")\n",
    "fav = input()\n",
    "print(\"To summarize, you're in your %r year of university, are pursuing a %r major and you love %r\"%(year, major, fav))\n",
    "\n",
    "#to demonstrate the sometimes necessary conversion to integers: \n",
    "print(\"Now onto inputting integers\")\n",
    "A = input()\n",
    "B = input()\n",
    "print(A+B)\n",
    "# this means that input() brings in user provided variables/info as a string\n",
    "print(\"We didn't mean to concatenate them, did we?\")\n",
    "total=int(A)+int(B)\n",
    "print(\"Your total of the two numbers is: \"+str(total))"
   ]
  },
  {
   "cell_type": "code",
   "execution_count": 32,
   "id": "07ee4ad1-b0eb-4c56-a092-44daef7084e9",
   "metadata": {},
   "outputs": [
    {
     "name": "stdin",
     "output_type": "stream",
     "text": [
      "Enter the accession name: klj\n"
     ]
    },
    {
     "name": "stdout",
     "output_type": "stream",
     "text": [
      "Here is the name: klj\n"
     ]
    },
    {
     "name": "stdin",
     "output_type": "stream",
     "text": [
      "Enter filename:  lkj\n"
     ]
    },
    {
     "name": "stdout",
     "output_type": "stream",
     "text": [
      "False\n",
      "Here is your file name: 'lkj'\n",
      "Here is the pointer to your file object: <_io.TextIOWrapper name='lkj' mode='a+' encoding='UTF-8'>\n",
      "We can see that we are at the end of the text file. We are here: 0\n",
      "Here are the file contents: \n",
      "---------------------------\n",
      "\n",
      "**********\n"
     ]
    }
   ],
   "source": [
    "# sophisticated example -- What does it do? \n",
    "import os.path\n",
    "# I/O - a ever-so-slightly more sophisticated example\n",
    "accession = input(\"Enter the accession name:\")\n",
    "print(\"Here is the name: \" + accession)\n",
    "\n",
    "# you can enter a filename by input. We need to wait for a response. This should be a file\n",
    "# that exists so let's use dna.txt or dummy.txt since they are both in our pathway\n",
    "filename = input(\"Enter filename: \")\n",
    "\n",
    "# open filename that user inputted - argv holds strings so you don't need quotes around\n",
    "# the filename open() creates a file object named txt\n",
    "#let's you check to see if the file your user inputted actually exists \n",
    "# does the file or folder exist - if it does, it should return True\n",
    "print(os.path.isfile(filename))\n",
    "\n",
    "txt = open(filename, \"a+\")\n",
    "# see what happens when you don't add the \"a+\" permission by unhashing out the next line .....\n",
    "#txt=open(filename,\"w+\")\n",
    "print(\"Here is your file name: %r\" % filename)\n",
    "# txt is a file object, print it out to remind yourself of the difference between file name and file object\n",
    "print(\"Here is the pointer to your file object: \" + str(txt))\n",
    "# read the text file object, txt, with the .read() method and print it to the screen\n",
    "file_contents = txt.read()\n",
    "\n",
    "# There is something strange that happens when you are in a+ permissions - the pointer position is after \n",
    "# the last character that is already in the file - so you can append to it instead of overwriting it! This means\n",
    "# that if we ask it to print the file contents, it will print nothing since the pointer is at the current end.\n",
    "# We can check where the pointer position with the method, .tell()\n",
    "print(\"We can see that we are at the end of the text file. We are here: \"+str(txt.tell()))\n",
    "# we can then reposition the pointer to be at 0 if we wanted to do so - obviously this is a little dangerous\n",
    "# and for the most part unnecessary. the Method is the .seek() method. \n",
    "print(\"Here are the file contents: \")\n",
    "print(\"---------------------------\")\n",
    "# this should print nothing since we are at the end of our text file - the pointer is at the end of the text file -\n",
    "# and we haven't added anything to it yet. \n",
    "print(file_contents)\n",
    "print(\"*\" * 10)\n",
    "txt.write(\"AAAAAAAAAAAAAAAAAAAAAAAAAAAAAAA_______\")\n",
    "# if you open up the dummy.txt file you should now see that the A's have been appended\n",
    "txt.close()\n",
    "# you need to close to flush the file"
   ]
  },
  {
   "cell_type": "code",
   "execution_count": null,
   "id": "d1097683-ac70-4a2a-979b-068513dccc7f",
   "metadata": {},
   "outputs": [],
   "source": []
  }
 ],
 "metadata": {
  "kernelspec": {
   "display_name": "Python 3 (ipykernel)",
   "language": "python",
   "name": "python3"
  },
  "language_info": {
   "codemirror_mode": {
    "name": "ipython",
    "version": 3
   },
   "file_extension": ".py",
   "mimetype": "text/x-python",
   "name": "python",
   "nbconvert_exporter": "python",
   "pygments_lexer": "ipython3",
   "version": "3.11.5"
  }
 },
 "nbformat": 4,
 "nbformat_minor": 5
}
