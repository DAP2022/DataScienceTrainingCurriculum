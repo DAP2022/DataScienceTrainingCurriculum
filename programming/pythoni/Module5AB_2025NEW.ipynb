{
  "cells": [
    {
      "cell_type": "markdown",
      "metadata": {
        "id": "L2kX3KJmx8WM"
      },
      "source": [
        "# Regular Expressions (AKA: Regex)\n",
        "* Much of what we do in biology can be describes as searching for patterns in strings\n",
        "* Regular Expressions are the \"old magic\" (invented in 1951 when efficiency was important for computing) so they have particular\n",
        "syntax that you simply have to learn (or look up on Google).\n",
        "\n",
        "Examples:\n",
        "\n",
        "    * Sequence data, Protein domains, DNA transcription factor binding motifs, degenerate PCR binding sites, Read mapping locations, BLAST\n",
        "\n",
        "* Features of regular expressions allow us to find patterns and variations in patterns that we are searching for\n",
        "\n",
        "    * If you have any familiarity with linux, you will probably know about the **grep** function: http://www.gnu.org/software/grep/manual/grep.html\n",
        "\n",
        "* Basically REGEX are a bunch of 'rules' that you just sort of need to memorize (or know where to look when you need to remember them)\n",
        "\n",
        "*  When would a regular expression be inadequate? When regular expressions are not sufficient (not flexible enough for the 'poor spelling' of DNA or protein sequences), you will find the next level of searching: Hidden Markov Models. However, we don't cover them in this course. For example:\n",
        "    * regular expression would probably find differentiating \"color\" from \"colour\" hard\n",
        "    * fuzzy data - when there are mistakes in sequencing\n",
        "    * proteins with the same function can be spelled differently in different organisms\n",
        "          * ie. ribosome binding/splice sites\n",
        "\n",
        "* Many other programming languages use regular expressions. Other common regular expression terms exist (that we aren’t going to discuss in depth in this course but that exist in case you encounter them in your studies). You can find descriptions in the usual place (https://docs.python.org/3/library/re.html)\n",
        "\n",
        "        * Greedy quantifiers: *, + and ? match as much text as possible so they are 'greedy'\n",
        "        * Minimal quantifiers: as few characters as possible are matched\n",
        "        * Back references\n",
        "        * Lookahead assertions/lookbehind assertions\n",
        "        * Built-in character classes\n",
        "\n",
        "Here is an example:\n",
        "\n",
        "    * Using a regex: [AT][CG][AC][ACTG]*A[TG][CG] would not differentiate between the following two sequences:\n",
        "    \n",
        "                            1. TGCTAGG\n",
        "                            2. ACACATC\n",
        "    \n",
        "    * This is fine except in cases where you know that one of these two sequences is far more common (2 is the consensus sequence) than the other (1 is an exceptionally rare sequence) --> codon bias might mean that you need a more sophisticated tool than regex\n",
        "    \n",
        "## Modularization:\n",
        "\n",
        "* Tools when you need them, they don’t automatically load\n",
        "* Collection of specialized functions, data types\n",
        "* More efficient\n",
        "* There is a module for regular expressions: **import re**\n",
        "        * re.search identifies pattern occurring anywhere in the string (usually what we want to do)\n",
        "        * re.match only identifies a pattern if it matches entire string (Not usually what we want since it is more limited than re.search).\n",
        "\n",
        "----------------------------\n",
        "\n",
        "Example:\n",
        "        \n",
        "        re.search(arg1, arg2) #arg1 = pattern; arg2= string\n",
        "* Gives a True/False answer to whether specified pattern is present in the given string\n",
        "* Returns a \"match object\" which has useful methods like .group. We'll see that in the last two lines of the cell below.\n",
        "\n",
        "\n",
        "Revisiting \"hidden characters\":\n",
        "\n",
        "* Sometimes you will be searching for patterns in strings but you will encounter hidden special characters that will mess up your search (carriage return, eof, tab). In order to avoid that, you can place the letter r (stands for \"raw\") directly in front of the string and it will ignore special characters.\n",
        "\n",
        "----------------------------    \n",
        "Example:\n",
        "\n",
        "        print(r”\\t\\n”)\n",
        "    \n",
        "        Output: \\t\\n\n",
        "\n",
        "In the next coding cell, we are going to search for restriction enzyme motifs!"
      ],
      "id": "L2kX3KJmx8WM"
    },
    {
      "cell_type": "markdown",
      "metadata": {
        "id": "op9htVcwx8WN"
      },
      "source": [
        "* we will demonstrate how to efficiently search for particular expressions in the data\n",
        "  \n",
        "* We will then improve the efficiency of regex by introducing a small set of rules:\n",
        "  -----------------------------\n",
        "\n",
        "    * __ALTERNATION__\n",
        "        * | or character. Keep in mind that | is low precedence so it is usually a good idea to put your query into brackets (to impose order of operation on them)\n",
        "        \n",
        "    * __CHARACTER GROUPS__\n",
        "        * NOT: ^\n",
        "        * ANY:.\n",
        "        * Encasement (imposing order of operations): []                \n",
        "            * ^ means that XYZ are characters that we don’t want to match when they are in a []\n",
        "            * ^ can also mean at the exact beginning of a string but then the search pattern isn’t encased in []\n",
        "            \n",
        "    * __Quantifiers__: allows us to describe variation in the number of times a section of a pattern is repeated\n",
        "        1. __?__\n",
        "            * Example:\n",
        "                    GAT?C <-- means that T can be present in the pattern **0 or 1 times** (the pattern can be GAC or GATC) and you can use () to group ex. GA(TT)?AA which will match what?\n",
        "        2. __+__\n",
        "            * character or group **MUST be present at least once** but can be repeated ‘n’ times\n",
        "            * Example:\n",
        "                    GGGA+TTT will match: GGGATTT or GGGAATTT or GGGAAATTT but it will NOT match GGGTTT\n",
        "        3. __*__\n",
        "            * '*' – character (or group) is optional but, if it is present, it can be present ‘n’ times\n",
        "            * Example:\n",
        "                GG(AAA)*TT  will match: GGTT or GGAAATT or......or GGAAAAAAAAAAAAAAATT\n",
        "\t\t4. __{}__\n",
        "            * curly brackets denote specific number of repeats or range\n",
        "            * Example:\n",
        "                * GGAAA{4}TT  will match ONLY: GGAAAAAATT\n",
        "                * You can also specify a range: GGAAA{1,5}TT  will match the following:\n",
        "                            GGAAATT\n",
        "                            GGAAAATT\n",
        "\t\t\t\t\t\t\tGGAAAAATT\n",
        "\t\t\t\t\t\t\tGGAAAAAATT\n",
        "\t\t\t\t\t\t\tGGAAAAAAATT\n",
        "            \n",
        "    * __Positions__:\n",
        "\n",
        "          * Regular expression tools can also involve positions (rather than characters) in an input string\n",
        "                    * ^ - caret matches beginning of string\n",
        "                    * $ - matches end of string\n",
        "                    * Example:\n",
        "                           * ^AAA will match: AAATT but not GGAAATT\n",
        "                           * GGG$ will match: AAAGGG but not AAAGGGTT\n",
        "\n",
        "* You can combine all of the above search tools to specify flexible patterns efficiently\n",
        "\n",
        "\n",
        "Example: What does this mean?  \n",
        "      \n",
        "        Identifying full-length eukaryotic messenger RNA sequence:\n",
        "        \n",
        "        ^ATG[ATGC]{30,1000}A{5,10}$"
      ],
      "id": "op9htVcwx8WN"
    },
    {
      "cell_type": "code",
      "execution_count": null,
      "metadata": {
        "id": "uX1LfRRsx8WP",
        "outputId": "676db460-8ed0-4de2-d93f-484584aa6994"
      },
      "outputs": [
        {
          "name": "stdout",
          "output_type": "stream",
          "text": [
            "Demonstrating difference between raw and not raw\n",
            "\n",
            "\n",
            "\\n\n",
            "restriction fragment found!\n",
            "restriction fragment found! with OR statement\n",
            "restriction fragment found! with | statement\n",
            "restriction fragment found with caret statement\n",
            "restriction fragment GG.CC found with . matching to any alphabet character!\n",
            "GACGTAC\n"
          ]
        }
      ],
      "source": [
        "# Begin each program by importing the re module\n",
        "import re\n",
        "dna=\"ATGACGTACGTACGACTG\"\n",
        "# instead of hard wiring the dna sequence into our code, we could ask the user to input\n",
        "# the sequence or we could read it in from a file like so (you will need to make up your own file here):\n",
        "#----------------------------------------\n",
        "#f=open(\"Module1BPython2_opening_sequence_from_file.txt\")\n",
        "#dna=f.read()\n",
        "#f.close()\n",
        "#print(dna)\n",
        "#----------------------------------------\n",
        "\n",
        "#----------------------------------------\n",
        "# demonstrates the difference between r in front of a string and no r in front of a string\n",
        "#----------------------------------------\n",
        "print(\"Demonstrating difference between raw and not raw\")\n",
        "print(\"\\n\")\n",
        "print(r\"\\n\")\n",
        "#----------------------------------------\n",
        "# a straight up search with no necessary modifications - plain ol' re module with search method\n",
        "#----------------------------------------\n",
        "if re.search(r\"GACGT\",dna):\n",
        "    print(\"restriction fragment found!\")\n",
        "#we want to expand our search a bit and find either of these two patterns in our data\n",
        "\n",
        "#----------------------------------------\n",
        "# ALTERNATION: What if you want to test two patterns within the string? You could use a BOOLEAN OPERATOR\n",
        "#----------------------------------------\n",
        "\n",
        "if re.search(r\"GACT\",dna) or re.search(r\"GACG\",dna):\n",
        "    print(\"restriction fragment found! with OR statement\")\n",
        "#----------------------------------------\n",
        "#more efficiently writing this with the PIPE CHARACTER\n",
        "#----------------------------------------\n",
        "if re.search(r\"GAC(T|G)\",dna):\n",
        "    print(\"restriction fragment found! with | statement\")\n",
        "#----------------------------------------\n",
        "# Instead of just using a pipe if you want to search for >2 possibilities at a position\n",
        "#slightly lame example of caret usage. We are matching a RE that has the pattern\n",
        "# GANG here where the N is NOT X, Y or Z\n",
        "#----------------------------------------\n",
        "if re.search(r\"GA[^XYZ]G\",dna):\n",
        "    print(\"restriction fragment found with caret statement\")\n",
        "# using . will match to any character\n",
        "if re.search(r\"GT.CG\",dna):\n",
        "    print(\"restriction fragment GG.CC found with . matching to any alphabet character!\")\n",
        "\n",
        "#----------------------------------------\n",
        "#store the match object in the variable m\n",
        "#----------------------------------------\n",
        "m=re.search(r\"GA[ATGC]{3}AC\",dna)#GANNNAC\n",
        "print(m.group())"
      ],
      "id": "uX1LfRRsx8WP"
    },
    {
      "cell_type": "markdown",
      "metadata": {
        "id": "PHdppPsCx8WQ"
      },
      "source": [
        "## String extraction\n",
        "* Answers the question which part of the string matched?\n",
        "* Stores the part of the string that matched\n",
        "\n",
        "* .group() on match object (we have seen file objects previously but we will see objects formally later – an object has its own methods, like a file object has .close etc) which evaluates to True or False and is stored as a result from re.search\n",
        "* the very last two lines of the code cell above demonstrates this feature\n",
        "\n",
        "## Capturing\n",
        "* What happens when we want to extract more than one bit of the pattern?\n",
        "* For instance,\n",
        "        GA[ATGC]{3}AC[ATGC]{2}AC\n",
        "* What does the above mean?\n",
        "* We want to capture __*two*__ parts of this pattern: GA__*[ATGC]{3}*__AC__*[ATGC]{2}*__AC\n",
        "* We enclose the patterns that we want to extract with brackets\n",
        "GA__*([ATGC]{3}*)__AC__*([ATGC]{2})*__AC\n",
        "* A useful method of match objects is .group()\n",
        "* Example:\n",
        "       * .group(1) <-return piece of string matched by the section of the pattern in the first set of parentheses\n",
        "       * .group(2) <-return piece specified in second parentheses\n",
        "\n",
        "## Position of the match\n",
        "* A match object contains information about the contents of the match and also the position of the match\n",
        "    * .start() <- first position of the match (starting at 0)\n",
        "    * .end() <- last position of the match\n",
        "\n",
        "## Splitting a string\n",
        "* Use regular expressions as the delimiter when you want to split a string\n",
        "* There is a general method called split that won’t do this; you must use the .split(where to split, string) that is part of the re module\n",
        "\n",
        "## Finding Multiple matches\n",
        "* Finding every place in a data file where a pattern occurs in a string\n",
        "    * re.findall <-returns strings (not objects) so you can’t determine position of matches, you can just extract the strings\n",
        "    * re.finditer <-returns a sequence of match objects so you need to use return value in loop\n"
      ],
      "id": "PHdppPsCx8WQ"
    },
    {
      "cell_type": "code",
      "execution_count": null,
      "metadata": {
        "id": "cIr2zdKGx8WQ",
        "outputId": "b972ca69-3a5a-417d-facb-d0ebde1dad68"
      },
      "outputs": [
        {
          "name": "stdout",
          "output_type": "stream",
          "text": [
            "Entire match: GACGTACGTAC\n",
            "First match: CGT\n",
            "Second match: GT\n",
            "GACGTACGTAC\n"
          ]
        }
      ],
      "source": [
        "import re\n",
        "#a more complicated example than the previous one\n",
        "dna=\"ATGACGTACGTACGACTG\"\n",
        "#----------------------------------------\n",
        "#groups!\n",
        "#store the match object in the variable m\n",
        "#we are searching for the pattern: GANNNACNNAC\n",
        "#----------------------------------------\n",
        "m=re.search(r\"GA([ATGC]{3})AC([ATCG]{2})AC\",dna)\n",
        "#----------------------------------------\n",
        "#this allows you to specify groups that you can then individually call\n",
        "#----------------------------------------\n",
        "print(\"Entire match: \" + m.group())\n",
        "print(\"First match: \"+ m.group(1))\n",
        "print(\"Second match: \" + m.group(2))\n",
        "#in this case this shouldn't give a different answer to the search\n",
        "#because our data set doesn't contain any letter that aren't\n",
        "# A,C,G,or T but the search result isn't clustered in groups anymore (although it could be in you used brackets)\n",
        "#----------------------------------------\n",
        "n=re.search(r\"GA...AC..AC\",dna)\n",
        "print(n.group())"
      ],
      "id": "cIr2zdKGx8WQ"
    },
    {
      "cell_type": "code",
      "execution_count": null,
      "metadata": {
        "id": "IJljQgLex8WR",
        "outputId": "19a859ef-989f-4834-eacd-4609b9d5a114"
      },
      "outputs": [
        {
          "name": "stdout",
          "output_type": "stream",
          "text": [
            "Start: 2\n",
            "End: 13\n",
            "The first group starts at: 4\n",
            "The first group ends at: 7\n",
            "The second group starts at: 9\n",
            "The second group ends at: 11\n"
          ]
        }
      ],
      "source": [
        "# Slightly expanded version\n",
        "import re\n",
        "dna=\"ATGACGTACGTACGACTG\"\n",
        "#store the match object in the variable m\n",
        "m=re.search(r\"GA([ATGC]{3})AC([ATCG]{2})AC\",dna)\n",
        "print(\"Start: \"+ str(m.start()))\n",
        "print(\"End: \"+ str(m.end()))\n",
        "\n",
        "#----------------------------------------\n",
        "#We can get the start and end positions of individual groups by supplying a number:\n",
        "#----------------------------------------\n",
        "print(\"The first group starts at: \"+ str(m.start(1)))\n",
        "print(\"The first group ends at: \"+ str(m.end(1)))\n",
        "print(\"The second group starts at: \"+ str(m.start(2)))\n",
        "print(\"The second group ends at: \"+ str(m.end(2)))"
      ],
      "id": "IJljQgLex8WR"
    },
    {
      "cell_type": "code",
      "execution_count": null,
      "metadata": {
        "id": "lDrs5zsxx8WR",
        "outputId": "d9a881ae-9dbf-4b2a-ce35-3fdd65d156e5"
      },
      "outputs": [
        {
          "name": "stdout",
          "output_type": "stream",
          "text": [
            "['ACT', 'GCAT', 'GCTACGT', 'ACGAT', 'CGA', 'TCG']\n"
          ]
        }
      ],
      "source": [
        "# simple example with split\n",
        "import re\n",
        "dna1=\"ACTNGCATRGCTACGTYACGATSCGAWTCG\"\n",
        "#what is this going to produce/print?\n",
        "runs=re.split(r\"[^ATGC]\",dna1)\n",
        "print(runs)"
      ],
      "id": "lDrs5zsxx8WR"
    },
    {
      "cell_type": "code",
      "execution_count": null,
      "metadata": {
        "id": "Ez5Hiuypx8WS",
        "outputId": "adbb86c6-2411-4b16-c357-7cc35de237d3"
      },
      "outputs": [
        {
          "name": "stdout",
          "output_type": "stream",
          "text": [
            "['ATTATAT', 'AAATTATA']\n"
          ]
        }
      ],
      "source": [
        "# simple example with findall\n",
        "import re\n",
        "dna3=\"ACTGCATTATATCGTACGAAATTATACGCGCG\"\n",
        "#store the match object in the variable m\n",
        "runs=re.findall(r\"[AT]{6,10}\",dna3)\n",
        "print(runs)"
      ],
      "id": "Ez5Hiuypx8WS"
    },
    {
      "cell_type": "code",
      "execution_count": null,
      "metadata": {
        "id": "qwzTfIRox8WT",
        "outputId": "4fb43355-df5d-4e91-9e03-0588a5716274"
      },
      "outputs": [
        {
          "name": "stdout",
          "output_type": "stream",
          "text": [
            "AT rich region from 5 to 12\n",
            "AT rich region from 18 to 26\n"
          ]
        }
      ],
      "source": [
        "# the more sophisticated finditer - positions too!\n",
        "import re\n",
        "dna3=\"ACTGCATTATATCGTACGAAATTATACGCGCG\"\n",
        "#store the match object in the variable runs\n",
        "runs=re.finditer(r\"[AT]{6,10}\",dna3)\n",
        "#print(runs)\n",
        "for match in runs:\n",
        "    run_start=match.start()\n",
        "    run_end=match.end()\n",
        "    print(\"AT rich region from \" + str(run_start) +\" to \" +str(run_end))"
      ],
      "id": "qwzTfIRox8WT"
    },
    {
      "cell_type": "code",
      "execution_count": null,
      "metadata": {
        "id": "3yV_rGCfx8WU",
        "outputId": "853e4091-f6b1-4724-916c-2de5b27a5a6a"
      },
      "outputs": [
        {
          "name": "stdout",
          "output_type": "stream",
          "text": [
            "['T', 'C']\n"
          ]
        }
      ],
      "source": [
        "import re\n",
        "dna3=\"ACTGCATTATATCGTACCAAATTATACGCGCG\"\n",
        "runs=re.findall(r\"AC(T|C)\",dna3)\n",
        "print(runs)"
      ],
      "id": "3yV_rGCfx8WU"
    },
    {
      "cell_type": "code",
      "execution_count": null,
      "metadata": {
        "id": "7Fa65HUOx8WU",
        "outputId": "d1ee67af-8c8d-4b67-9938-cb09a3964857"
      },
      "outputs": [
        {
          "data": {
            "text/plain": [
              "\u001b[0;31mDocstring:\u001b[0m\n",
              "S.find(sub[, start[, end]]) -> int\n",
              "\n",
              "Return the lowest index in S where substring sub is found,\n",
              "such that sub is contained within S[start:end].  Optional\n",
              "arguments start and end are interpreted as in slice notation.\n",
              "\n",
              "Return -1 on failure.\n",
              "\u001b[0;31mType:\u001b[0m      method_descriptor"
            ]
          },
          "metadata": {},
          "output_type": "display_data"
        }
      ],
      "source": [
        "?str.find\n",
        "#?str.count"
      ],
      "id": "7Fa65HUOx8WU"
    },
    {
      "cell_type": "code",
      "execution_count": null,
      "metadata": {
        "id": "HMWovtAHx8WU",
        "outputId": "4b249aa4-a29a-45d7-d7a8-1a55f95a5b9e"
      },
      "outputs": [
        {
          "data": {
            "text/plain": [
              "'spacious mountains'"
            ]
          },
          "execution_count": 9,
          "metadata": {},
          "output_type": "execute_result"
        }
      ],
      "source": [
        "'   spacious    mountains  '.strip().replace(\"    \",\" \")"
      ],
      "id": "HMWovtAHx8WU"
    },
    {
      "cell_type": "markdown",
      "metadata": {
        "id": "AcF3EdZNx8WV"
      },
      "source": [
        "# In class Question:\n",
        "Here are some accession names:\n",
        "\n",
        "\tXkn59438, yhdck2, eihd39d9, chdsye847, hedle3455, xjhd53e, 45da, de37d\n",
        "\n",
        "* Contain the number 5\n",
        "* Contain the letter d or e\n",
        "* Contain the letters d and e in that order specifically but not necessarily contiguously\n",
        "* Contain the letters d and e with a single letter between them\n",
        "\n",
        "## these remaining questions will serve as one of your assignment for your certificate of completion.\n",
        "* Contain both d and e in any order\n",
        "* Start with x or y\n",
        "* Start with x or y and end with e\n",
        "* Contain three or more numbers in a row\n"
      ],
      "id": "AcF3EdZNx8WV"
    },
    {
      "cell_type": "code",
      "execution_count": null,
      "metadata": {
        "id": "QLfdn_HPx8WW",
        "outputId": "e594bfb5-2eab-457b-9d99-282d829f9828"
      },
      "outputs": [
        {
          "name": "stdout",
          "output_type": "stream",
          "text": [
            "question A:  Xkn59438\n",
            "question A:  hedle3455\n",
            "question A:  xjhd53e\n",
            "question A:  45da\n",
            "-------------\n",
            "question B:  yhdck2\n",
            "question B:  eihd39d9\n",
            "question B:  chdsye847\n",
            "question B:  hedle3455\n",
            "question B:  xjhd53e\n",
            "question B:  45da\n",
            "question B:  de37d\n",
            "question B:  eld23\n",
            "-------------\n",
            "question C:  chdsye847\n",
            "question C:  hedle3455\n",
            "question C:  xjhd53e\n",
            "question C:  de37d\n",
            "-------------\n",
            "question D:  hedle3455\n",
            "question D:  eld23\n"
          ]
        }
      ],
      "source": [
        "# fill in question 1-4 below. 5-8 will be for the CoC question.\n",
        "import re\n",
        "accs=[\"Xkn59438\", \"yhdck2\", \"eihd39d9\", \"chdsye847\", \"hedle3455\", \"xjhd53e\", \"45da\", \"de37d\",\"eld23\"]\n"
      ],
      "id": "QLfdn_HPx8WW"
    }
  ],
  "metadata": {
    "kernelspec": {
      "display_name": "Python 3 (ipykernel)",
      "language": "python",
      "name": "python3"
    },
    "language_info": {
      "codemirror_mode": {
        "name": "ipython",
        "version": 3
      },
      "file_extension": ".py",
      "mimetype": "text/x-python",
      "name": "python",
      "nbconvert_exporter": "python",
      "pygments_lexer": "ipython3",
      "version": "3.11.5"
    },
    "colab": {
      "provenance": []
    }
  },
  "nbformat": 4,
  "nbformat_minor": 5
}