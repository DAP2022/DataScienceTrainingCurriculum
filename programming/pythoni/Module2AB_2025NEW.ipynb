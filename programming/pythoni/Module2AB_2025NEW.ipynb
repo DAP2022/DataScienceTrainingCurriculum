{
  "nbformat": 4,
  "nbformat_minor": 0,
  "metadata": {
    "colab": {
      "provenance": []
    },
    "kernelspec": {
      "name": "python3",
      "display_name": "Python 3"
    },
    "language_info": {
      "name": "python"
    }
  },
  "cells": [
    {
      "cell_type": "markdown",
      "source": [
        "#  Summary of previous notebook\n",
        "1. Data types and their associated methods\n",
        "    * Strings, float, integer, lists\n",
        "    * format: variable_name.method()\n",
        "    * special tricks such as variable_name.[tab key] will bring up method options for data type of variable_name   \n",
        "2. Special manipulations with strings, ie. slicing, escape characters\n",
        "\n",
        "# Summary of this notebook:\n",
        "1. Lists\n",
        "2. Tuples\n",
        "\n",
        "# Reminder: Debugging strategies\n",
        "## We have already used common debugging strategies:\n",
        "----------------\n",
        "1. print statements\n",
        "2. googling error terms\n",
        "3. COMMENTING OUR CODE!\n",
        "   \n",
        "## We haven't used yet:\n",
        "1. Assertions\n",
        "2. LLM?\n",
        "3. Others?\n",
        "\n",
        "# 1. Lists are a bit like strings...but mutable.\n",
        "--------\n",
        "1. Homogeneous data types\n",
        "2. Access individual values\n",
        "    * Remember: counting starts at 0\n",
        "3. POINTERS.\n",
        "\n",
        "#### [Pointers](https://xkcd.com/138)"
      ],
      "metadata": {
        "id": "7n-Evh9ToGGW"
      }
    },
    {
      "cell_type": "code",
      "execution_count": null,
      "metadata": {
        "id": "saBVW6EKn78v"
      },
      "outputs": [],
      "source": [
        "# very, very short review on slicing\n",
        "myDog=\"CHIHUAHUA\"\n",
        "#function: len()\n",
        "#method: variable_name.method_name()\n",
        "#() versus []\n",
        "print(len(myDog))\n",
        "# [inclusive lower index: exclusive upper index]\n",
        "print(myDog[-3:])\n",
        "print(myDog[:3])\n",
        "print(myDog[-1])\n",
        "print(myDog[3:])\n",
        "# ----------------------------------------\n",
        "#print(list_name[lowerbound:upperbound:increment]\n",
        "# ----------------------------------------\n",
        "# another format: list_name(lower,upper]\n",
        "print(myDog[2::3])\n",
        "print(myDog[2::-2])"
      ]
    },
    {
      "cell_type": "markdown",
      "source": [
        "# Lists (and loops)\n",
        "\n",
        "Programming is particularly useful for repetitive processing of data sets that have multiple pieces of information (ie. not just one sequence but multiple sequences - an even unknown number of sequences).\n",
        "\n",
        "** WE COUNT FROM 0 **\n",
        "\n",
        "## Lists\n",
        "\n",
        "* Built-in **data type** which hold a *flexible* number of pieces of related information that are *homogenous* - the same type (such as strings or numbers although you can also have lists of lists which would allow you to combine different data types)\n",
        "* Allow us to store **many** elements in a **single variable**\n",
        "        * Similar to strings in how they are indexed\n",
        "            * Start counting at '0'\n",
        "        * Use square brackets: []\n",
        "* Lists do not have to be of a fixed length!\n",
        "* **mutable**\n",
        "    * Lists are objects which share similarities to strings but, unlike strings, lists are mutable (they can be changed after they are created). This is because lists are actually full of pointers to objects (strings point to the actual character)\n",
        "    * they have methods (and this should make you happy since they are supposed to have methods as they are mutable!)\n",
        "    \n",
        "* You will sometimes need to create a list that is initially empty: empty_list=[]\n",
        "* _Assignment_ to lists:\n",
        "        list_name=[item_1,item_2]\n",
        "\n",
        "## Check in with pythontutor.org\n",
        "How are lists stored in comparison to strings and integers?\n",
        "\n",
        "## Loops (covered in Module 4)\n",
        "* Repetition with variation\n",
        "* Allows us to process **lists** or **other iterable objects**  one element at a time"
      ],
      "metadata": {
        "id": "p9s52xFTozxx"
      }
    },
    {
      "cell_type": "markdown",
      "source": [
        "## More about lists\n",
        "*Access individual values in a list by:*\n",
        "\n",
        "        1. Using [number]\n",
        "            * list_name[0], list_name[1], etc\n",
        "            \n",
        "        2. Using[-1]\n",
        "             * Last element (if you don’t know how long a list is this is very useful)\n",
        "             \n",
        "        3. .index() method\n",
        "            * See next cell for example\n",
        "            * you need to use () instead of [] <-- if you forget this, you will raise an exception (and then you will almost certainly have to google the exception to figure out what went wrong)\n",
        "            \n",
        "        4. Access a portion of a list\n",
        "            * Specify a range of elements from list using the format: [initial inclusive num: exclusive last num]\n",
        "            * This method doesn't overwrite or modify original list!\n",
        "            * examples:\n",
        "                    1. item_list[0:2] <-- access first and second item. NB: if you want to access last item\n",
        "                       ie. in this example, include item at index 2, you need to write it as:\n",
        "                            * item_list[0:n+1]\n",
        "                    2. item_list[3:] <-- access fourth up to the last item\n",
        "                    3. item_list[:5] <-- access the first five items"
      ],
      "metadata": {
        "id": "huAPN6t_pFfz"
      }
    },
    {
      "cell_type": "code",
      "source": [
        "# you could write your sequence as a list, for instance, but strings make more sense\n",
        "# lists can be made up of any data types, not just letters, so they are more flexible than strings.\n",
        "SeqAsList=['A','T','C','G','A','T','C','G','A','T','C','G','A','T','C']\n",
        "# remember the SeqAsList.tab to see methods for list data type\n",
        "#SeqAsList."
      ],
      "metadata": {
        "id": "rd6Muru7pHLJ"
      },
      "execution_count": null,
      "outputs": []
    },
    {
      "cell_type": "code",
      "source": [
        "# DON'T RUN THIS CELL YET!\n",
        "# Here is a basic example that we will build on:\n",
        "# List of great apes\n",
        "apes=[\"Gorilla gorilla\", \"Homo sapiens\",\"Pan troglodytes\"]\n",
        "# WHAT WILL THIS DO?\n",
        "print(\"The first Primate is \"+apes[0])\n",
        "print(\"The second Primate is \"+apes[1])\n",
        "print(\"The third Primate is \"+apes[2])\n",
        "\n",
        "# how to combine string with variable, two ways:\n",
        "#print(\"The first Primate is \",apes[0:2])\n",
        "#print(\"The first Primate is \"+str(apes[0:2]))\n",
        "\n",
        "#if you don’t know which element Homo sapiens is but you know that it is part of the list\n",
        "# Note: we are parking the results into a new variable\n",
        "primate_index=apes.index(\"Homo sapiens\")\n",
        "# What value does primate_index now hold? 1\n",
        "print(primate_index)\n",
        "\n",
        "#if you want the first two elements\n",
        "first_couple=apes[0:2]\n",
        "print(first_couple)"
      ],
      "metadata": {
        "id": "ZDNxME83pLB0"
      },
      "execution_count": null,
      "outputs": []
    },
    {
      "cell_type": "markdown",
      "source": [
        "Why do you need lists?\n",
        "* No fixed length so you can add items to the end of the list with .append()\n",
        "* you can use len() to get the length of the list\n",
        "* concatenate two lists together with + (just like you can do with strings)\n",
        "\n",
        "Unlike strings (which are immutable), you can modify a list:\n",
        " * Once you have a list, you can easily replace one item for another (see next cell)"
      ],
      "metadata": {
        "id": "EspJMrjrpPhv"
      }
    },
    {
      "cell_type": "code",
      "source": [
        "# Take a moment to try to finish the code: Replace item_3 with item_3b in the following list:\n",
        "list_items=[\"item_1\",\"item_2\", \"item_3\"]\n"
      ],
      "metadata": {
        "id": "yliUjGQGpQTV"
      },
      "execution_count": null,
      "outputs": []
    },
    {
      "cell_type": "markdown",
      "source": [
        "__Some Useful list methods for adding to existing lists:__\n",
        "\n",
        "BEWARE: They each do slightly different things even they are ways of adding to a list\n",
        "\n",
        "1. .append(\"new_item\") <-- adds **one** element object to the end of an existing list (the added element could be a list itself)\n",
        "2. .extend()<-- similar to append **but adding a second list to the end of an existing list will mean that you add each element from the second list one at a time**\n",
        "3. \\+ <-- concatenate, similar to extend\n",
        "4. .join()<-- connects strings in a list but you need to use a connector like \",\". Technically, it takes an 'iterable' (iterables can be interated over like strings or lists) and it needs to put string that was just created from a list into a string like so:\n",
        "** this is a tiny bit tricky because you are using NO separator for joining so you  use an empty string indicated by \"\". Note that this is functionally similar to creating an empty list and then filling it up**\n",
        "list_dummy=['D','O','G']\n",
        "print(\"\".join(list_dummy))\n",
        "5. .insert(number, \"new_item\")\n",
        "Warning: it is prudent to determine the length of an existing list before adding to it with the len(list_name) function"
      ],
      "metadata": {
        "id": "qfWdRNS4pTQz"
      }
    },
    {
      "cell_type": "code",
      "execution_count": null,
      "metadata": {
        "id": "c8e08af4-3f4b-4cff-b338-a94837b73613"
      },
      "outputs": [],
      "source": [
        "# .join is a bit tricky because it is utilized with a bizarre syntax so here is an example\n",
        "list_dummy=['D','O','G']\n",
        "list_dummy.append('y')\n",
        "print(list_dummy)\n",
        "print(\"*\".join(list_dummy))\n",
        "print(\" \".join(list_dummy))\n",
        "print(\"-\".join(list_dummy))\n",
        "print(len(list_dummy))\n",
        "list_dummy.insert(2,'g')\n",
        "print(list_dummy)"
      ]
    },
    {
      "cell_type": "code",
      "execution_count": null,
      "metadata": {
        "id": "9e4f9f74-c271-4242-96ac-ceeaf8a3036a"
      },
      "outputs": [],
      "source": [
        "#Demonstrated are a few ways of adding items to a list and HOW THEY DIFFER:\n",
        "# ------------------------------\n",
        "#concatenate operator\n",
        "L=[\"M\",\"O\",\"U\",\"S\",\"E\"]\n",
        "L=L+[8,9]\n",
        "print(L)\n",
        "print(\"***********\")\n",
        "#now we will set up a new list and use .extend method\n",
        "L2=[1,2,3]\n",
        "# ------------------------\n",
        "# Usually I want you to practice good programming hygiene and assign the results of the\n",
        "# method to a new variable. However, important note:\n",
        "#  .extend and .append return None so, in case you try it,\n",
        "# it is incorrect to assign the results of these methods to a new variable, like so:\n",
        "\n",
        "#L3=L2.extend([4,5])\n",
        "#print(L3)\n",
        "\n",
        "# in fact, you can un-hash the above two lines and see what gets printed out. I'll wait.\n",
        "# --------------------------\n",
        "L2.extend([4,5])\n",
        "print(\"Extend: \",L2)\n",
        "\n",
        "# concatenate\n",
        "L5= L+L2\n",
        "print(\"Concatenate: \",L5)\n",
        "\n",
        "#finally we will compare these two methods with .append method\n",
        "L4=[10,11,12]\n",
        "L4.append([13,14,15])\n",
        "print(\"append: \",L4)\n",
        "print(\"With append, what is the position where the entire list is added: \", L4.index([13,14,15]))\n",
        "print(\"~~~~~~~~\")\n",
        "print(\"So all three items are added as ONE element: \", L4[3])\n"
      ]
    },
    {
      "cell_type": "code",
      "execution_count": null,
      "metadata": {
        "id": "1b8a9161-534a-47f5-9cbc-d4401fd72d00",
        "outputId": "a8dbde88-ce71-478d-f31f-3ff9c82a34f5"
      },
      "outputs": [
        {
          "name": "stdout",
          "output_type": "stream",
          "text": [
            "The first Primate is: Homo sapiens\n",
            "The second Primate is: Pan troglodytes\n",
            "The third Primate is: Gorilla gorilla\n",
            "********************\n",
            "0\n",
            "----------\n",
            "************************************\n",
            "['Homo sapiens', 'Pan troglodytes', 'Gorilla gorilla', 'Pan paniscus']\n",
            "['Homo sapiens', 'Pan troglodytes', 'Macaca arctoides', 'Gorilla gorilla', 'Pan paniscus']\n",
            "['Homo sapiens', 'Pan troglodytes', 'Hylobates agilis', 'Gorilla gorilla', 'Pan paniscus']\n",
            "~~~~~~~~~~~~~~~~~~~~\n",
            "['Homo sapiens', 'Pan troglodytes', 'Hylobates agilis', 'Gorilla gorilla', 'Pan paniscus', 'Papio ursinus', 'Macaca arctoides']\n",
            "5 apes\n",
            "2 monkeys\n",
            "7 primates\n"
          ]
        }
      ],
      "source": [
        "apes = [\"Homo sapiens\", \"Pan troglodytes\", \"Gorilla gorilla\"]\n",
        "\n",
        "print(\"The first Primate is: \"+apes[0])\n",
        "print(\"The second Primate is: \"+apes[1])\n",
        "print(\"The third Primate is: \"+apes[2])\n",
        "\n",
        "#what if you don't know which element Homo sapiens is but you know that it is a member\n",
        "# of the list?\n",
        "print(\"*\"*20)\n",
        "primate_index=apes.index(\"Homo sapiens\")\n",
        "print(primate_index)\n",
        "# look at the beautiful print statements that orient me in the program. Excellent for\n",
        "# trouble shooting and following along!\n",
        "print(\"-\"*10)\n",
        "#now you are adding an additional primate by appending it\n",
        "apes.append(\"Pan paniscus\")\n",
        "print(\"************************************\")\n",
        "print(apes)\n",
        "\n",
        "#this list is increasingly poorly named since it is now a bunch of primates and not apes.\n",
        "#apes.insert(len(apes),\"Macaca arctoides\")\n",
        "apes.insert(2,\"Macaca arctoides\")\n",
        "print(apes)\n",
        "\n",
        "#replace the Macaca with Hylobates agilis\n",
        "apes[2]=\"Hylobates agilis\"\n",
        "print(apes)\n",
        "\n",
        "#add two lists together\n",
        "monkeys=[\"Papio ursinus\",\"Macaca arctoides\"]\n",
        "primates=apes+monkeys\n",
        "print(\"~\"*20)\n",
        "print(primates)\n",
        "print(str(len(apes))+\" apes\")\n",
        "print(str(len(monkeys))+\" monkeys\")\n",
        "print(str(len(primates))+\" primates\")"
      ]
    },
    {
      "cell_type": "markdown",
      "source": [
        "__Some Useful list methods for removing items from existing lists:__\n",
        "Once again, some subtle differences between these methods...\n",
        "\n",
        "1. .remove(\"old_item\") <-- removes **first** matching item *if it finds it*\n",
        "2. .pop(index)<-- removes item at index and returns it to you (so you could assign it to a variable, if you wanted to double check that it should be deleted)\n",
        "3. del(list_name[index]) <-- not a method but it removes item at index but does not return it to you. It supports slicing syntax so you can delete everything above a set index in a list\n",
        "4. .clear() <- removes all items from a list"
      ],
      "metadata": {
        "id": "ufJmamXqpmhX"
      }
    },
    {
      "cell_type": "code",
      "execution_count": null,
      "metadata": {
        "id": "5a165e95-ae19-4c9a-a684-d08f272050f8"
      },
      "outputs": [],
      "source": [
        "#demonstrates the seemingly subtle differences between the above two methods and one command:\n",
        "n=[1,3,5,7,7,9,11,13,15]\n",
        "\n",
        "print(\"Here's our list: \", n)\n",
        "# OR convert it to a string so we can concatenate it in a print statement\n",
        "# print(\"Here's our list: \" +str(n))\n",
        "print(\"Let's investigate the standard ways of removing items from lists: \")\n",
        "print(\"First, .pop\")\n",
        "print(\"-----------\")\n",
        "#what will this print? Will there be a return variable when using .pop method?\n",
        "remove_pop = n.pop()\n",
        "print(\"Does the .pop method return anything? or is it just None? \"+ str(remove_pop))\n",
        "# Instead of popping off the last element, you can specify the element\n",
        "remove_pop_1 = n.pop(1)\n",
        "print(remove_pop_1)\n",
        "\n",
        "#Now print n\n",
        "print(\"What does the list look like now?\")\n",
        "print(n)\n",
        "print(\"*******************************************\")\n",
        "print(\"Okay. Now, use .remove\")\n",
        "print(\"-----------\")\n",
        "rem_remove =n.remove(7)\n",
        "print(\"Does the .remove method return anything? or is it just None? \"+str(rem_remove))\n",
        "print(\"What does the list look like now?\")\n",
        "# the remove function should remove ONLY THE FIRST 7 THAT IT ENCOUNTERS SO THERE SHOULD STILL BE ONE PRESENT\n",
        "print(n)\n",
        "print(\"Finally, the del function \")\n",
        "print(\"-----------\")\n",
        "del(n[0])\n",
        "print(\"What does the list look like now?\")\n",
        "#What should be printed?\n",
        "print(n)\n",
        "#Slice\n",
        "del(n[3:])\n",
        "print(\"What does the list look like now?\")\n",
        "#What should be printed?\n",
        "print(n)"
      ]
    },
    {
      "cell_type": "markdown",
      "source": [
        "Some other useful list methods:\n",
        "https://docs.python.org/3/tutorial/datastructures.html\n",
        "\n",
        "1. .index(element) <- returns the index of an element\n",
        "2. list_name[-1] <- returns the last element of a list\n",
        "3. .reverse()<- reverses list but changes the variable that they are used on\n",
        "4. .sort(key, reverse = True or False) <- sorts list but changes the variable that they are used on\n",
        "5. .count()<- counts how many are present in a list\n",
        "we will also see other useful complex data later (like lists of dictionaries or lists of tuples) but, for now, we can also have a list of lists:\n",
        "\n",
        "[[1,2,3],[4,5,6],[7,8],9]"
      ],
      "metadata": {
        "id": "JmDQw-7ZptL3"
      }
    },
    {
      "cell_type": "code",
      "execution_count": null,
      "metadata": {
        "id": "2a90f01b-116f-4b44-af8d-ec97c099b6f7",
        "outputId": "9055f74a-2d74-48fc-97ea-c059785d2ab7"
      },
      "outputs": [
        {
          "name": "stdout",
          "output_type": "stream",
          "text": [
            "Our initial list is: ['Kingdom', 'Phylum', 'Class', 'order', 'family', 'genus', 'species']\n",
            "~~~~~~~~\n",
            "Let's see what happens when we reverse this list\n",
            "['species', 'genus', 'family', 'order', 'Class', 'Phylum', 'Kingdom']\n",
            "*******\n",
            "What has happened? The original list has been modified!\n",
            "['species', 'genus', 'family', 'order', 'Class', 'Phylum', 'Kingdom']\n",
            "..............\n",
            "What about sort? Does that also modify the list?\n",
            "by using .sort(), the original hierarchy list has been modified\n",
            "['Class', 'Kingdom', 'Phylum', 'family', 'genus', 'order', 'species']\n",
            "~~~~~~~~~ reverse = True ~~~~~~~~~~~\n",
            "['species', 'order', 'genus', 'family', 'Phylum', 'Kingdom', 'Class']\n",
            "****** Another example of slicing *******\n",
            "['species', 'order', 'genus', 'family', 'Phylum', 'Kingdom']\n"
          ]
        }
      ],
      "source": [
        "hierarchy=[\"Kingdom\",\"Phylum\",\"Class\",\"order\",\"family\",\"genus\",\"species\"]\n",
        "print(\"Our initial list is: \"+str(hierarchy))\n",
        "print(\"~~~~~~~~\")\n",
        "print(\"Let's see what happens when we reverse this list\")\n",
        "hierarchy.reverse()\n",
        "print(hierarchy)\n",
        "print(\"*******\")\n",
        "print(\"What has happened? The original list has been modified!\")\n",
        "print(hierarchy)\n",
        "print(\"..............\")\n",
        "print(\"What about sort? Does that also modify the list?\")\n",
        "hierarchy.sort()\n",
        "print(\"by using .sort(), the original hierarchy list has been modified\")\n",
        "print(hierarchy)\n",
        "print(\"~~~~~~~~~ reverse = True ~~~~~~~~~~~\")\n",
        "hierarchy.sort(reverse=True)\n",
        "print(hierarchy)\n",
        "print(\"****** Another example of slicing *******\")\n",
        "# Does this give you what you expect? replace -1, with -2\n",
        "# try moving the -1 to [-1:] and [-1:0] to see what prints out\n",
        "print(hierarchy[:-1])"
      ]
    },
    {
      "cell_type": "code",
      "execution_count": null,
      "metadata": {
        "id": "e69a9af0-106f-40aa-aaa3-8c3afd13f816"
      },
      "outputs": [],
      "source": [
        "# Simple example I stole this from codeacademy more than a dozen years ago\n",
        "# and cut it down to demonstrate lists\n",
        "# The list of animals is stored in one list variable, zoo_animals.\n",
        "# This makes it easier to keep track of then if all the animals were separate variables\n",
        "\n",
        "zoo_animals = [\"pangolin\", \"cassowary\", \"sloth\",\"platypus\"]\n",
        "print(id(zoo_animals))\n",
        "# Here is a primative loop. We have not yet learned about condition/criteria so don't worry about 'if' yet.\n",
        "if len(zoo_animals) > 3:\n",
        "    print(\"The first animal at the zoo is the \" + zoo_animals[0])\n",
        "    print(id(zoo_animals[0]))\n",
        "    print(\"The second animal at the zoo is the \" + zoo_animals[1])\n",
        "    print(id(zoo_animals[1]))\n",
        "    print(\"The third animal at the zoo is the \" + zoo_animals[2])\n",
        "    print(id(zoo_animals[2]))\n",
        "    print(\"The fourth animal at the zoo is the \" + zoo_animals[3])\n",
        "    print(id(zoo_animals[3]))\n",
        "print(zoo_animals.index(\"cassowary\"))\n",
        "# how would we add a Manatee?\n",
        "# could we add two elements, a Manatee and a Narwhal, simultaneously?"
      ]
    },
    {
      "cell_type": "markdown",
      "source": [
        "# In Class Questions!\n",
        "\n",
        "1. (2 minutes) Mixed_list=[\"why\", \"was\", 6, \"afraid\", \"of\", 7,\"?\"]\n",
        "Make up your own 'mixed' list (note that while this not verboten, we usually use lists with homogeneous data types - it isn't good programming hygiene to mix our data types in a list).\n",
        "\n",
        "2. (3 minutes) Can you make a \"list of lists\"?\n",
        "\n",
        "3. (5 minutes) a. Add a fifth animal to the zoo above.\n",
        "   b. Replace the sloth with a capybara.\n",
        "   \n",
        "4. (10 minutes) BATTLESHIP! Can you use lists to build a battleship board? A battleship board is 5 X 5 full of \"O\"s. For now, just built the board, we will expand on this example (which was stolen from a Code Academy example) as we learn about for loops.\n",
        "   \n",
        "5. (10 minutes) *Pseudocode question:* We all know that there is degeneracy in the universal genetic code. This means that every amino acid has one or more nucleotide codons. https://en.wikipedia.org/wiki/Codon_degeneracy\n",
        "How can a nucleotide string be fed into a program where the codons are translated using a list?"
      ],
      "metadata": {
        "id": "95BgLRmtp2zV"
      }
    },
    {
      "cell_type": "code",
      "execution_count": null,
      "metadata": {
        "id": "aebe27af-e1fd-4fbd-8653-14d82336a080",
        "outputId": "9af02dd1-ab84-490e-a6ed-63933be79c32"
      },
      "outputs": [
        {
          "name": "stdout",
          "output_type": "stream",
          "text": [
            "['why', 'was', 6, 'afraid', 'of', 7, '?']\n"
          ]
        }
      ],
      "source": [
        "# Question 1\n",
        "# A list of mixed items would be called heterogeneous. As you can see, Python will allow you to create this hideous creation, but you shouldn't.\n"
      ]
    },
    {
      "cell_type": "code",
      "execution_count": null,
      "metadata": {
        "id": "f3965690-cc52-4fdb-8316-09cb437a20ae",
        "outputId": "a6020556-7538-454f-f992-eb485d0b901f"
      },
      "outputs": [
        {
          "name": "stdout",
          "output_type": "stream",
          "text": [
            "[[1, 1, 1, 1], [1, 1, 1], [1, 1]]\n"
          ]
        }
      ],
      "source": [
        "# questions 2\n"
      ]
    },
    {
      "cell_type": "code",
      "execution_count": null,
      "metadata": {
        "id": "a393b360-0734-4d0f-935c-489ab7479ab0",
        "outputId": "9d526e5d-3d73-41b6-818e-aa7a49d22d57"
      },
      "outputs": [
        {
          "name": "stdout",
          "output_type": "stream",
          "text": [
            "['pangolin', 'cassowary', 'sloth', 'platypus', 'Eurasier']\n",
            "2\n",
            "['pangolin', 'cassowary', 'Capybara', 'platypus', 'Eurasier']\n"
          ]
        }
      ],
      "source": [
        "#Question 3\n"
      ]
    },
    {
      "cell_type": "code",
      "execution_count": null,
      "metadata": {
        "id": "1f574c1c-9fcb-4f5b-be2d-ec505311c730"
      },
      "outputs": [],
      "source": [
        "#Question 4"
      ]
    },
    {
      "cell_type": "code",
      "execution_count": null,
      "metadata": {
        "id": "65623f02-e18f-4358-8518-1989a0ab8ac8"
      },
      "outputs": [],
      "source": []
    },
    {
      "cell_type": "code",
      "execution_count": null,
      "metadata": {
        "id": "cb4e5b50-9660-44b4-9b6f-a5a658535281"
      },
      "outputs": [],
      "source": [
        "# list of lists by creating an empty board list and filling it.\n"
      ]
    },
    {
      "cell_type": "markdown",
      "metadata": {
        "id": "47f5aee6-789c-4343-befa-dd604d56b903"
      },
      "source": [
        "# Pseudocode question:  \n",
        "\n",
        "We know that there is degeneracy in the universal genetic code. This means that every amino acid has one or more nucleotide codons. https://en.wikipedia.org/wiki/Codon_degeneracy\n",
        "How can a nucleotide string be fed into a program where the codons are translated using a list?\n",
        "--------------\n",
        "\n",
        "Answer:\n"
      ]
    },
    {
      "cell_type": "markdown",
      "source": [],
      "metadata": {
        "id": "L9tkl2wrqTFi"
      }
    },
    {
      "cell_type": "markdown",
      "source": [
        "# Tuples!\n"
      ],
      "metadata": {
        "id": "KBSI9YkFrMua"
      }
    },
    {
      "cell_type": "markdown",
      "metadata": {
        "id": "66bsL7f4rE2a"
      },
      "source": [
        "## What is a tuple?\n",
        "* Another built-in data type\n",
        "* Tuples can be thought of as an immutable list\n",
        "* Like lists: multiple elements, you can iterate over elements and you retrieve a particular element by using []\n",
        "* Unlike lists: use () to define them\n",
        "* Immutability means that once you have assigned a tuple, you cannot change any of the elements!\n",
        "\n",
        "      * This may seem a little odd but it can be great for troubleshooting a program to know that an element hasn’t changed\n",
        "      \n",
        "\n",
        "## Why have an immutable data structure?\n",
        "* Fancy reasons such as optimization or trouble shooting code\n",
        "    * faster than searching lists\n",
        "* Mostly because…**it allows tuples to be as keys to a dictionary (which a list cannot do)**\n",
        "<div class=\"alert alert-block alert-warning\">\n",
        "EXAMPLE\n",
        "\n",
        "        x={(“CCA”,”CCC”,”CCG”,”CCT”):”Pro”}<-- fine (because the key is an immutable data type, a tuple)\n",
        "    \n",
        "        x={[“CCA”,”CCC”,”CCG”,”CCT”]:”Pro”}<-- NOT FINE. WILL RAISE EXCEPTION B/C key is mutable – list--data type so it can’t be a key of a dictionary\n",
        "\n",
        "* Using a tuple is sort of a type of safe coding – like “write protected”\n",
        "* Tuples are usually used with HETERGENEOUS data (elements of different types of data) and where the position  of the element tells you something about the data. THINK OF AN INDIVIDUAL ROW IN AN EXCEL SPREADSHEET - DIFFERENT TYPES OF INFORMATION STORED AT DIFFERENT POSITIONS\n",
        "            * ie. Tuple of three elements: sequence, accession number, genetic code – you would always want these elements to be the same order!\n",
        "            * Gene sequences are often found within tuples due to their immutable nature. This immutability ensures that once the elements are assigned, they cannot be changed!\n",
        "  \n",
        "<div class=\"alert alert-block alert-warning\">\n",
        "EXAMPLE\n",
        "\n",
        "    #tuples where each element contains, in the #following order: sequence, accession number, #identification code\n",
        "            tuple_1=(“atgctga”,”ABC123”, 1)\n",
        "            tuple_2=(“tcgcgcg”,”DEF456”, 1)\n",
        "\n",
        "\n",
        "### Immutable data types cannot be changed once they are created.\n",
        "* this is very much unlike a list which can be changed\n",
        "* This means you cannot append, swap, sort etc\n",
        "\n",
        "        * tuples don't have methods! You CAN still use count(), len() functions on them (since these don't modify the tuple), but no methods that change the tuple.\n",
        "        \n",
        "        * tuples CAN be sliced, however.\n",
        "        \n",
        "        * tuples CAN be converted to a list (and lists can be converted to tuples)\n",
        "        \n",
        "        * Technically, by the way, we have already seen an immutable data type: Strings!\n",
        "     \n",
        "     EXAMPLE:\n",
        "              S=\"spam\"\n",
        "              S[1]=\"c\"\n",
        "              \n",
        "              this should raise an exception because once set you shouldn't be able to overwrite any of the characters in \"spam\".\n",
        "             \n",
        "             * STRINGS ARE IMMUTABLE - AFTER ALL, STRINGS CAN BE CHANGED- THEY HAVE METHODS!"
      ]
    },
    {
      "cell_type": "code",
      "execution_count": null,
      "metadata": {
        "id": "BWlddpUBrE2b",
        "outputId": "e0c4f38f-648a-4465-9a07-9f6832f5af3f"
      },
      "outputs": [
        {
          "ename": "TypeError",
          "evalue": "'str' object does not support item assignment",
          "output_type": "error",
          "traceback": [
            "\u001b[0;31m---------------------------------------------------------------------------\u001b[0m",
            "\u001b[0;31mTypeError\u001b[0m                                 Traceback (most recent call last)",
            "\u001b[0;32m<ipython-input-10-303a5e5023d7>\u001b[0m in \u001b[0;36m<module>\u001b[0;34m\u001b[0m\n\u001b[1;32m      1\u001b[0m \u001b[0;31m# you can't change a string, remember:\u001b[0m\u001b[0;34m\u001b[0m\u001b[0;34m\u001b[0m\u001b[0;34m\u001b[0m\u001b[0m\n\u001b[1;32m      2\u001b[0m \u001b[0mS\u001b[0m\u001b[0;34m=\u001b[0m\u001b[0;34m\"spam\"\u001b[0m\u001b[0;34m\u001b[0m\u001b[0;34m\u001b[0m\u001b[0m\n\u001b[0;32m----> 3\u001b[0;31m \u001b[0mS\u001b[0m\u001b[0;34m[\u001b[0m\u001b[0;36m1\u001b[0m\u001b[0;34m]\u001b[0m\u001b[0;34m=\u001b[0m\u001b[0;34m\"c\"\u001b[0m\u001b[0;34m\u001b[0m\u001b[0;34m\u001b[0m\u001b[0m\n\u001b[0m",
            "\u001b[0;31mTypeError\u001b[0m: 'str' object does not support item assignment"
          ]
        }
      ],
      "source": [
        "# you can't change a string, remember. Trying to do so throws an exception:\n",
        "S=\"spam\"\n",
        "S[1]=\"c\""
      ]
    },
    {
      "cell_type": "markdown",
      "metadata": {
        "id": "sfaLxUXzrE2c"
      },
      "source": [
        " # An example of a genomic tuple.\n",
        "\n",
        " This is how genomic information might be used (it is - of course - simplified)."
      ]
    },
    {
      "cell_type": "code",
      "execution_count": null,
      "metadata": {
        "id": "KtY69g30rE2c",
        "outputId": "5fff647d-87fe-4c8c-92d0-f39f72aaf0fa"
      },
      "outputs": [
        {
          "name": "stdout",
          "output_type": "stream",
          "text": [
            "Here's the entire tuple:  ('atgctga', 'ABC123', 1)\n",
            "Here's the entire tuple:  ('tcgcgc', 'DEF456', 1)\n",
            "Here is the sequence:  atgctga  of  ABC123  and it is :  7  nt longs\n",
            "Here is the sequence:  tcgcgc  of  DEF456  and it is :  6  nt longs\n",
            "atgctga\n"
          ]
        }
      ],
      "source": [
        "tuple_1=(\"atgctga\",\"ABC123\", 1)\n",
        "tuple_2=(\"tcgcgc\",\"DEF456\",1)\n",
        "# combine into nested tuple\n",
        "tuple_3=(tuple_1,tuple_2)\n",
        "\n",
        "# you can iterate over the tuple\n",
        "for item in tuple_3:\n",
        "    print(\"Here's the entire tuple: \",item)\n",
        "\n",
        "# even though we aren't using the third item in each tuple, we still need to put a third item in as iterator.\n",
        "for seq, name, loc in tuple_3:\n",
        "    print(\"Here is the sequence: \", seq, \" of \", name, \" and it is : \", len(seq), \" nt longs\")\n",
        "\n",
        "# we can slice out an individual element\n",
        "print(tuple_3[0][0])"
      ]
    },
    {
      "cell_type": "markdown",
      "metadata": {
        "id": "I7hya3O9rE2d"
      },
      "source": [
        "# In Class Question:\n",
        "grades = [(\"Elsa\",(90,89,95)),(\"John\", (91, 88, 94)),(\"Terry\", (80, 100, 90))]\n",
        "* How would we take this list of tuples and iterate through each item?\n",
        "* Can calculate the average score for each student?"
      ]
    },
    {
      "cell_type": "code",
      "execution_count": null,
      "metadata": {
        "id": "LbeD7EtrrE2d",
        "outputId": "ea8ab69e-99c7-428b-ad3c-bbd5e3e845ea"
      },
      "outputs": [
        {
          "name": "stdout",
          "output_type": "stream",
          "text": [
            "Here is the total tuple:  ('Elsa', (90, 89, 95))\n",
            "Here is the name of the learner:  Elsa\n",
            "Here are the scores:  (90, 89, 95)\n",
            "91.33333333333334\n",
            "Here is the total tuple:  ('John', (91, 88, 94))\n",
            "Here is the name of the learner:  John\n",
            "Here are the scores:  (91, 88, 94)\n",
            "91.0\n",
            "Here is the total tuple:  ('Terry', (80, 100, 90))\n",
            "Here is the name of the learner:  Terry\n",
            "Here are the scores:  (80, 100, 90)\n",
            "90.0\n"
          ]
        }
      ],
      "source": [
        "# Question\n",
        "grades = [(\"Elsa\",(90,89,95)),(\"John\", (91, 88, 94)),(\"Terry\", (80, 100, 90))]\n"
      ]
    },
    {
      "cell_type": "markdown",
      "source": [
        "* Summary of tuples\n",
        "    * IMMUTABLE\n",
        "    * can act as KEYS for dictionaries\n",
        "    * DO NOT HAVE METHODS BECAUSE THEY ARE IMMUTABLE (yes, strings continue to be weird)\n",
        "\n",
        "\n",
        "\n"
      ],
      "metadata": {
        "id": "Qkt8Ln0DrljP"
      }
    }
  ]
}